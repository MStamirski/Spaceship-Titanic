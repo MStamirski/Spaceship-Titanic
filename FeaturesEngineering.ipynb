{
  "nbformat": 4,
  "nbformat_minor": 0,
  "metadata": {
    "colab": {
      "provenance": [],
      "authorship_tag": "ABX9TyOLiSTsP6pic1G/fNlPEfhb",
      "include_colab_link": true
    },
    "kernelspec": {
      "name": "python3",
      "display_name": "Python 3"
    },
    "language_info": {
      "name": "python"
    }
  },
  "cells": [
    {
      "cell_type": "markdown",
      "metadata": {
        "id": "view-in-github",
        "colab_type": "text"
      },
      "source": [
        "<a href=\"https://colab.research.google.com/github/MStamirski/Spaceship-Titanic/blob/main/FeaturesEngineering.ipynb\" target=\"_parent\"><img src=\"https://colab.research.google.com/assets/colab-badge.svg\" alt=\"Open In Colab\"/></a>"
      ]
    },
    {
      "cell_type": "code",
      "source": [
        "!pip install category_encoders"
      ],
      "metadata": {
        "id": "E5sllz7zYQhn"
      },
      "execution_count": null,
      "outputs": []
    },
    {
      "cell_type": "code",
      "source": [
        "import pandas as pd\n",
        "import numpy as np\n",
        "import category_encoders as ce"
      ],
      "metadata": {
        "id": "hvvG04iyYGMW"
      },
      "execution_count": null,
      "outputs": []
    },
    {
      "cell_type": "code",
      "source": [
        "def read_data(filename):\n",
        "  df = pd.read_csv(filename+\".csv\")\n",
        "  return df"
      ],
      "metadata": {
        "id": "6z-wFL7DJguS"
      },
      "execution_count": null,
      "outputs": []
    },
    {
      "cell_type": "code",
      "source": [
        "def data_cleaning(df):\n",
        "\n",
        "  df['HomePlanet'].fillna('Unknown', inplace=True)\n",
        "\n",
        "  df['CryoSleep']=df['CryoSleep'].apply(lambda x: 'True' if (x and not pd.isna(x)) else x)\n",
        "  df['CryoSleep']=df['CryoSleep'].apply(lambda x: 'False' if not x else x)\n",
        "  df['CryoSleep'].fillna('Unknown', inplace=True)\n",
        "\n",
        "  df['Cabin'].fillna('0/000/0', inplace=True)\n",
        "\n",
        "  df['Destination'].fillna('Unknown', inplace=True)\n",
        "\n",
        "  df['Age'].fillna(24, inplace=True)   # mode = 24\n",
        "  df['Age']=df['Age'].apply(lambda x: 24 if x==0 else x)\n",
        "\n",
        "  df['VIP']=df['VIP'].apply(lambda x: 'True' if (x and not pd.isna(x)) else x)\n",
        "  df['VIP']=df['VIP'].apply(lambda x: 'False' if not x else x)\n",
        "  df['VIP'].fillna('Unknown', inplace=True)\n",
        "\n",
        "  df['RoomService'].fillna(0, inplace=True)\n",
        "\n",
        "  df['FoodCourt'].fillna(0, inplace=True)\n",
        "\n",
        "  df['ShoppingMall'].fillna(0, inplace=True)\n",
        "\n",
        "  df['Spa'].fillna(0, inplace=True)\n",
        "\n",
        "  df['VRDeck'].fillna(0, inplace=True)\n",
        "\n",
        "  return df"
      ],
      "metadata": {
        "id": "UGG_aKyDJytq"
      },
      "execution_count": null,
      "outputs": []
    },
    {
      "cell_type": "code",
      "source": [
        "def calculate_deciles(col):\n",
        "  return [np.quantile(col,q/100) for q in range(10, 101, 10)]\n",
        "\n",
        "def get_decile(x, deciles):\n",
        "  for dec_nr, dec_val in enumerate(deciles):\n",
        "    decile = dec_nr\n",
        "    if x <= dec_val:\n",
        "      break\n",
        "  return decile + 1"
      ],
      "metadata": {
        "id": "kvMoYZCqz2f1"
      },
      "execution_count": null,
      "outputs": []
    },
    {
      "cell_type": "code",
      "source": [
        "def features_extraction(df):\n",
        "\n",
        "  df['Cabin_deck']=df['Cabin'].apply(lambda x: x[:1])\n",
        "  df['Cabin_side']=df['Cabin'].apply(lambda x: x[-1:])\n",
        "  df['Cabin_num/100']=df['Cabin'].apply(lambda x: int(round(int(x[2:-2])/100,0)))\n",
        "\n",
        "  df['Cabin_persons']=df['Cabin'].apply(lambda x: df['Cabin'].value_counts()[x])\n",
        "\n",
        "  deciles = calculate_deciles(df['Age'])\n",
        "  df['Age_deciles'] = df['Age'].apply(lambda x: get_decile(x, deciles))\n",
        "\n",
        "  deciles = calculate_deciles(df['RoomService'])\n",
        "  df['RService_deciles'] = df['RoomService'].apply(lambda x: get_decile(x, deciles))\n",
        "\n",
        "  deciles = calculate_deciles(df['FoodCourt'])\n",
        "  df['FCourt_deciles'] = df['FoodCourt'].apply(lambda x: get_decile(x, deciles))\n",
        "\n",
        "  deciles = calculate_deciles(df['ShoppingMall'])\n",
        "  df['ShMall_deciles'] = df['ShoppingMall'].apply(lambda x: get_decile(x, deciles))\n",
        "\n",
        "  deciles = calculate_deciles(df['Spa'])\n",
        "  df['Spa_deciles'] = df['Spa'].apply(lambda x: get_decile(x, deciles))\n",
        "\n",
        "  deciles = calculate_deciles(df['VRDeck'])\n",
        "  df['VRD_deciles'] = df['VRDeck'].apply(lambda x: get_decile(x, deciles))\n",
        "\n",
        "  df.drop(columns=['Name', 'Cabin', 'Age', 'RoomService','FoodCourt', 'ShoppingMall', 'Spa', 'VRDeck'], inplace=True)\n",
        "\n",
        "  return df"
      ],
      "metadata": {
        "id": "01Uw_lsJKbTR"
      },
      "execution_count": null,
      "outputs": []
    },
    {
      "cell_type": "code",
      "source": [
        "def get_features(filename):\n",
        "  df = read_data(filename)\n",
        "  df = data_cleaning(df)\n",
        "  df = features_extraction(df)\n",
        "  return df"
      ],
      "metadata": {
        "id": "LfUv5yhGZHpG"
      },
      "execution_count": null,
      "outputs": []
    },
    {
      "cell_type": "code",
      "source": [
        "def categories_one_hot_encoding(df):\n",
        "  dataset = df.copy()\n",
        "  cols = ['HomePlanet', 'CryoSleep', 'Destination', 'VIP', 'Cabin_deck', 'Cabin_side', 'Cabin_num/100', 'Cabin_persons', 'Age_deciles', 'RService_deciles', 'FCourt_deciles', 'ShMall_deciles', 'Spa_deciles', 'VRD_deciles']\n",
        "  dataset = pd.get_dummies(dataset, columns=cols)\n",
        "  return dataset"
      ],
      "metadata": {
        "id": "ow_aT9BymLuE"
      },
      "execution_count": null,
      "outputs": []
    },
    {
      "cell_type": "code",
      "source": [
        "def calculate_targets(dataset, col):\n",
        "  targets = {}\n",
        "  classes = dataset[col].unique().tolist()\n",
        "  for cls in classes:\n",
        "    targets[cls] = len( dataset[ (dataset[col]==cls) & (dataset['Transported']==True) ] ) / len(dataset[dataset[col]==cls])\n",
        "  return targets\n",
        "\n",
        "def categories_target_encoding(df):\n",
        "  dataset = df.copy()\n",
        "  cols = ['HomePlanet', 'CryoSleep', 'Destination', 'VIP', 'Cabin_deck', 'Cabin_side', 'Cabin_num/100', 'Cabin_persons', 'Age_deciles', 'RService_deciles', 'FCourt_deciles', 'ShMall_deciles', 'Spa_deciles', 'VRD_deciles']\n",
        "  for col in cols:\n",
        "    targets = calculate_targets(dataset, col)\n",
        "    dataset[col+'_transformed'] = dataset[col].apply(lambda x: targets[x])\n",
        "  dataset.drop(columns=cols, inplace=True)\n",
        "  return dataset"
      ],
      "metadata": {
        "id": "8lx7MQs3mTKz"
      },
      "execution_count": null,
      "outputs": []
    },
    {
      "cell_type": "code",
      "source": [
        "def categories_leave_one_out_encoding(df):\n",
        "  dataset = df.copy()\n",
        "  cols = ['HomePlanet', 'CryoSleep', 'Destination', 'VIP', 'Cabin_deck', 'Cabin_side', 'Cabin_num/100', 'Cabin_persons', 'Age_deciles', 'RService_deciles', 'FCourt_deciles', 'ShMall_deciles', 'Spa_deciles', 'VRD_deciles']\n",
        "  loo_encoder = ce.LeaveOneOutEncoder(sigma=0.05)\n",
        "  transformed = loo_encoder.fit_transform(dataset[cols].astype(str), dataset['Transported'])\n",
        "  \n",
        "  newcols = {}\n",
        "  for col in cols:\n",
        "    newcols[col] = col+'_transformed'\n",
        "  transformed.rename(columns=newcols, inplace=True)\n",
        "\n",
        "  dataset = dataset[['PassengerId', 'Transported']].join(transformed)\n",
        "  return dataset"
      ],
      "metadata": {
        "id": "t7KGREi_7Rvx"
      },
      "execution_count": null,
      "outputs": []
    }
  ]
}