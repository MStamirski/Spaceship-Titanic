{
  "nbformat": 4,
  "nbformat_minor": 0,
  "metadata": {
    "colab": {
      "provenance": [],
      "toc_visible": true,
      "authorship_tag": "ABX9TyOgHlB+L5LMWGa0V8Aaq5/T",
      "include_colab_link": true
    },
    "kernelspec": {
      "name": "python3",
      "display_name": "Python 3"
    },
    "language_info": {
      "name": "python"
    },
    "gpuClass": "standard",
    "accelerator": "GPU"
  },
  "cells": [
    {
      "cell_type": "markdown",
      "metadata": {
        "id": "view-in-github",
        "colab_type": "text"
      },
      "source": [
        "<a href=\"https://colab.research.google.com/github/MStamirski/Spaceship-Titanic/blob/main/Model_CatBoost.ipynb\" target=\"_parent\"><img src=\"https://colab.research.google.com/assets/colab-badge.svg\" alt=\"Open In Colab\"/></a>"
      ]
    },
    {
      "cell_type": "markdown",
      "source": [
        "# Preparation"
      ],
      "metadata": {
        "id": "fXZ2j2_EOOGs"
      }
    },
    {
      "cell_type": "code",
      "source": [
        "from google.colab import drive\n",
        "drive.mount(\"/content/drive\")\n",
        "%cd \"/content/drive/MyDrive/Colab_Notebooks/SDA_upskill/Spaceship\""
      ],
      "metadata": {
        "id": "Iag1nNbVX-i7"
      },
      "execution_count": null,
      "outputs": []
    },
    {
      "cell_type": "code",
      "source": [
        "!pip install catboost"
      ],
      "metadata": {
        "id": "lm6gsHBX9KL7"
      },
      "execution_count": null,
      "outputs": []
    },
    {
      "cell_type": "markdown",
      "source": [
        "# Model with parameters"
      ],
      "metadata": {
        "id": "S1NuaT-4OXUT"
      }
    },
    {
      "cell_type": "code",
      "source": [
        "import catboost\n",
        "from sklearn.metrics import accuracy_score"
      ],
      "metadata": {
        "id": "2TVsFi2W9Uma"
      },
      "execution_count": null,
      "outputs": []
    },
    {
      "cell_type": "code",
      "source": [
        "model = catboost.CatBoostClassifier(verbose=False)"
      ],
      "metadata": {
        "id": "WjLIgdT39bnz"
      },
      "execution_count": null,
      "outputs": []
    },
    {
      "cell_type": "code",
      "source": [
        "def objective(trial):\n",
        "\n",
        "    model = catboost.CatBoostClassifier(\n",
        "        iterations=trial.suggest_int(\"iterations\", 100, 1000),\n",
        "        learning_rate=trial.suggest_float(\"learning_rate\", 1e-3, 1e-1, log=True),\n",
        "        depth=trial.suggest_int(\"depth\", 4, 10),\n",
        "        l2_leaf_reg=trial.suggest_float(\"l2_leaf_reg\", 1e-8, 100.0, log=True),\n",
        "        bootstrap_type=trial.suggest_categorical(\"bootstrap_type\", [\"Bayesian\"]),\n",
        "        random_strength=trial.suggest_float(\"random_strength\", 1e-8, 10.0, log=True),\n",
        "        bagging_temperature=trial.suggest_float(\"bagging_temperature\", 0.0, 10.0),\n",
        "        od_type=trial.suggest_categorical(\"od_type\", [\"IncToDec\", \"Iter\"]),\n",
        "        od_wait=trial.suggest_int(\"od_wait\", 10, 50),\n",
        "        verbose=False\n",
        "    )\n",
        "\n",
        "    model.fit(X_train, y_train)\n",
        "    y_pred = model.predict(X_val)\n",
        "    accuracy = accuracy_score(y_val, y_pred)\n",
        "\n",
        "    return accuracy"
      ],
      "metadata": {
        "id": "DGywz2Vy9eJ7"
      },
      "execution_count": null,
      "outputs": []
    },
    {
      "cell_type": "markdown",
      "source": [
        "# Features datasets"
      ],
      "metadata": {
        "id": "uikVcl7mOnNz"
      }
    },
    {
      "cell_type": "code",
      "source": [
        "!pip install import-ipynb"
      ],
      "metadata": {
        "id": "mV0iITmRYA_r"
      },
      "execution_count": null,
      "outputs": []
    },
    {
      "cell_type": "code",
      "source": [
        "import import_ipynb"
      ],
      "metadata": {
        "id": "NVkS0sr-W2B8"
      },
      "execution_count": null,
      "outputs": []
    },
    {
      "cell_type": "code",
      "source": [
        "from FeaturesEngineering import get_features, categories_one_hot_encoding, categories_target_encoding, categories_leave_one_out_encoding"
      ],
      "metadata": {
        "id": "QTP0FMcj8kZT"
      },
      "execution_count": null,
      "outputs": []
    },
    {
      "cell_type": "code",
      "source": [
        "df = get_features('train')"
      ],
      "metadata": {
        "id": "6NHdVfHUajlt"
      },
      "execution_count": null,
      "outputs": []
    },
    {
      "cell_type": "code",
      "source": [
        "df['Transported'] = df['Transported'].apply(lambda x: 1 if x else 0) # otherwise CatBoost throws error"
      ],
      "metadata": {
        "id": "dOl7TyAQbTal"
      },
      "execution_count": null,
      "outputs": []
    },
    {
      "cell_type": "code",
      "source": [
        "df_ohe = categories_one_hot_encoding(df)\n",
        "df_te = categories_target_encoding(df)\n",
        "df_looe = categories_leave_one_out_encoding(df)"
      ],
      "metadata": {
        "id": "d0bCa6RVbJoX"
      },
      "execution_count": null,
      "outputs": []
    },
    {
      "cell_type": "markdown",
      "source": [
        "# Initial verification"
      ],
      "metadata": {
        "id": "h3H9fFXgOuOj"
      }
    },
    {
      "cell_type": "code",
      "source": [
        "from Optimization import verify_feature_dataset, get_subsets, model_optimization, test_tuned_model"
      ],
      "metadata": {
        "id": "djmNjVOt9oor"
      },
      "execution_count": null,
      "outputs": []
    },
    {
      "cell_type": "code",
      "source": [
        "acc_ohe_ini = verify_feature_dataset(df_ohe, model)"
      ],
      "metadata": {
        "colab": {
          "base_uri": "https://localhost:8080/"
        },
        "id": "pVj-AfkSmkqv",
        "outputId": "ba1500db-7e5a-40ae-a05e-3650719019c8"
      },
      "execution_count": null,
      "outputs": [
        {
          "output_type": "stream",
          "name": "stdout",
          "text": [
            "Accuracy: 78.79601226993866%\n"
          ]
        }
      ]
    },
    {
      "cell_type": "code",
      "source": [
        "acc_te_ini = verify_feature_dataset(df_te, model)"
      ],
      "metadata": {
        "colab": {
          "base_uri": "https://localhost:8080/"
        },
        "id": "4OXZFQd4mtIH",
        "outputId": "fc9fd5f9-ef7e-46b3-9426-9aad1af68c28"
      },
      "execution_count": null,
      "outputs": [
        {
          "output_type": "stream",
          "name": "stdout",
          "text": [
            "Accuracy: 78.75766871165644%\n"
          ]
        }
      ]
    },
    {
      "cell_type": "code",
      "source": [
        "acc_looe_ini = verify_feature_dataset(df_looe, model)"
      ],
      "metadata": {
        "colab": {
          "base_uri": "https://localhost:8080/"
        },
        "id": "kE1tf0yqmweP",
        "outputId": "7f37cc0d-ba74-4c3c-f59a-c7c59da27bbe"
      },
      "execution_count": null,
      "outputs": [
        {
          "output_type": "stream",
          "name": "stdout",
          "text": [
            "Accuracy: 77.30061349693251%\n"
          ]
        }
      ]
    },
    {
      "cell_type": "markdown",
      "source": [
        "# Parameters tuning"
      ],
      "metadata": {
        "id": "5Kwn4oYYO8c0"
      }
    },
    {
      "cell_type": "code",
      "source": [
        "from optuna.samplers import TPESampler\n",
        "sampler = TPESampler(seed=1)"
      ],
      "metadata": {
        "id": "zPL6Rwy-XXKP"
      },
      "execution_count": null,
      "outputs": []
    },
    {
      "cell_type": "code",
      "source": [
        "X_train, X_val, X_test, y_train, y_val, y_test = get_subsets(df_ohe)\n",
        "params = model_optimization(20, objective, samp=sampler)\n",
        "model = catboost.CatBoostClassifier(**params, verbose=False)\n",
        "result_ohe_tuned = test_tuned_model(model, X_train, y_train, X_test, y_test)"
      ],
      "metadata": {
        "id": "wg4cmVW72h3X",
        "colab": {
          "base_uri": "https://localhost:8080/"
        },
        "outputId": "02d6e39e-240a-4e05-f3ae-eae78a30e796"
      },
      "execution_count": null,
      "outputs": [
        {
          "output_type": "stream",
          "name": "stderr",
          "text": [
            "\u001b[32m[I 2023-04-08 19:25:12,443]\u001b[0m A new study created in memory with name: no-name-9fffdb36-4cf6-4417-adea-762f1d64f0eb\u001b[0m\n",
            "\u001b[32m[I 2023-04-08 19:25:13,474]\u001b[0m Trial 0 finished with value: 0.8080517613227893 and parameters: {'iterations': 475, 'learning_rate': 0.027583475549166746, 'depth': 4, 'l2_leaf_reg': 1.0551779964424746e-05, 'bootstrap_type': 'Bayesian', 'random_strength': 2.0931628460945333e-07, 'bagging_temperature': 0.923385947687978, 'od_type': 'Iter', 'od_wait': 26}. Best is trial 0 with value: 0.8080517613227893.\u001b[0m\n",
            "\u001b[32m[I 2023-04-08 19:25:16,283]\u001b[0m Trial 1 finished with value: 0.798705966930266 and parameters: {'iterations': 585, 'learning_rate': 0.006892694481137703, 'depth': 8, 'l2_leaf_reg': 1.10795595820296e-06, 'bootstrap_type': 'Bayesian', 'random_strength': 0.7999391045172093, 'bagging_temperature': 0.27387593197926163, 'od_type': 'IncToDec', 'od_wait': 32}. Best is trial 0 with value: 0.8080517613227893.\u001b[0m\n",
            "\u001b[32m[I 2023-04-08 19:25:17,933]\u001b[0m Trial 2 finished with value: 0.7620416966211359 and parameters: {'iterations': 226, 'learning_rate': 0.002490020818620744, 'depth': 9, 'l2_leaf_reg': 48.15215820395775, 'bootstrap_type': 'Bayesian', 'random_strength': 6.6193844201488494e-06, 'bagging_temperature': 6.923226156693141, 'od_type': 'Iter', 'od_wait': 13}. Best is trial 0 with value: 0.8080517613227893.\u001b[0m\n",
            "\u001b[32m[I 2023-04-08 19:25:19,707]\u001b[0m Trial 3 finished with value: 0.7598849748382459 and parameters: {'iterations': 135, 'learning_rate': 0.002186053765545967, 'depth': 10, 'l2_leaf_reg': 9.62649829692002e-08, 'bootstrap_type': 'Bayesian', 'random_strength': 6.165504584878686e-05, 'bagging_temperature': 9.57889530150502, 'od_type': 'Iter', 'od_wait': 22}. Best is trial 0 with value: 0.8080517613227893.\u001b[0m\n",
            "\u001b[32m[I 2023-04-08 19:25:22,962]\u001b[0m Trial 4 finished with value: 0.7936736161035226 and parameters: {'iterations': 718, 'learning_rate': 0.0466929533152365, 'depth': 4, 'l2_leaf_reg': 0.31728033064508887, 'bootstrap_type': 'Bayesian', 'random_strength': 7.938707489172784, 'bagging_temperature': 7.481656543798394, 'od_type': 'Iter', 'od_wait': 14}. Best is trial 0 with value: 0.8080517613227893.\u001b[0m\n",
            "\u001b[32m[I 2023-04-08 19:25:24,610]\u001b[0m Trial 5 finished with value: 0.7807332854061826 and parameters: {'iterations': 503, 'learning_rate': 0.06564339077069614, 'depth': 6, 'l2_leaf_reg': 7.546635702360232e-06, 'bootstrap_type': 'Bayesian', 'random_strength': 1.4799844388224288e-07, 'bagging_temperature': 0.19366957870297075, 'od_type': 'IncToDec', 'od_wait': 20}. Best is trial 0 with value: 0.8080517613227893.\u001b[0m\n",
            "\u001b[32m[I 2023-04-08 19:25:27,230]\u001b[0m Trial 6 finished with value: 0.7649173256649893 and parameters: {'iterations': 542, 'learning_rate': 0.001278571708054608, 'depth': 8, 'l2_leaf_reg': 2.9328222947799687e-07, 'bootstrap_type': 'Bayesian', 'random_strength': 0.0020125646126523387, 'bagging_temperature': 6.997583600209312, 'od_type': 'Iter', 'od_wait': 38}. Best is trial 0 with value: 0.8080517613227893.\u001b[0m\n",
            "\u001b[32m[I 2023-04-08 19:25:29,023]\u001b[0m Trial 7 finished with value: 0.7505391804457225 and parameters: {'iterations': 473, 'learning_rate': 0.0012586556158866136, 'depth': 7, 'l2_leaf_reg': 0.043445665307147247, 'bootstrap_type': 'Bayesian', 'random_strength': 0.00043052860159544285, 'bagging_temperature': 9.445947559908133, 'od_type': 'Iter', 'od_wait': 15}. Best is trial 0 with value: 0.8080517613227893.\u001b[0m\n",
            "\u001b[32m[I 2023-04-08 19:25:29,703]\u001b[0m Trial 8 finished with value: 0.7958303378864127 and parameters: {'iterations': 225, 'learning_rate': 0.04118912607048067, 'depth': 6, 'l2_leaf_reg': 4.503415011735204e-07, 'bootstrap_type': 'Bayesian', 'random_strength': 2.226266870634716, 'bagging_temperature': 3.477658597455066, 'od_type': 'IncToDec', 'od_wait': 46}. Best is trial 0 with value: 0.8080517613227893.\u001b[0m\n",
            "\u001b[32m[I 2023-04-08 19:25:31,642]\u001b[0m Trial 9 finished with value: 0.7886412652767792 and parameters: {'iterations': 661, 'learning_rate': 0.03176031989459053, 'depth': 6, 'l2_leaf_reg': 5.003557761128302e-06, 'bootstrap_type': 'Bayesian', 'random_strength': 1.1560482583788434, 'bagging_temperature': 4.280911898712949, 'od_type': 'IncToDec', 'od_wait': 35}. Best is trial 0 with value: 0.8080517613227893.\u001b[0m\n",
            "\u001b[32m[I 2023-04-08 19:25:34,056]\u001b[0m Trial 10 finished with value: 0.8058950395398994 and parameters: {'iterations': 970, 'learning_rate': 0.01714562034516145, 'depth': 4, 'l2_leaf_reg': 0.0002900609004470471, 'bootstrap_type': 'Bayesian', 'random_strength': 1.2236490295288341e-08, 'bagging_temperature': 2.405395599417547, 'od_type': 'Iter', 'od_wait': 25}. Best is trial 0 with value: 0.8080517613227893.\u001b[0m\n",
            "\u001b[32m[I 2023-04-08 19:25:37,885]\u001b[0m Trial 11 finished with value: 0.809489575844716 and parameters: {'iterations': 906, 'learning_rate': 0.0192665824000967, 'depth': 4, 'l2_leaf_reg': 0.00020979075425099598, 'bootstrap_type': 'Bayesian', 'random_strength': 4.7913336454146464e-08, 'bagging_temperature': 2.211499214434934, 'od_type': 'Iter', 'od_wait': 26}. Best is trial 11 with value: 0.809489575844716.\u001b[0m\n",
            "\u001b[32m[I 2023-04-08 19:25:39,886]\u001b[0m Trial 12 finished with value: 0.7951114306254493 and parameters: {'iterations': 925, 'learning_rate': 0.09107586871366562, 'depth': 4, 'l2_leaf_reg': 0.00018177100241853966, 'bootstrap_type': 'Bayesian', 'random_strength': 5.168515236206332e-07, 'bagging_temperature': 1.7913839788554722, 'od_type': 'Iter', 'od_wait': 28}. Best is trial 11 with value: 0.809489575844716.\u001b[0m\n",
            "\u001b[32m[I 2023-04-08 19:25:41,882]\u001b[0m Trial 13 finished with value: 0.798705966930266 and parameters: {'iterations': 823, 'learning_rate': 0.016065222361710863, 'depth': 5, 'l2_leaf_reg': 3.6617889755068334e-05, 'bootstrap_type': 'Bayesian', 'random_strength': 1.2112248579557767e-08, 'bagging_temperature': 1.9234238856531214, 'od_type': 'Iter', 'od_wait': 42}. Best is trial 11 with value: 0.809489575844716.\u001b[0m\n",
            "\u001b[32m[I 2023-04-08 19:25:42,875]\u001b[0m Trial 14 finished with value: 0.792235801581596 and parameters: {'iterations': 365, 'learning_rate': 0.023131830090006446, 'depth': 5, 'l2_leaf_reg': 2.017872090371477e-08, 'bootstrap_type': 'Bayesian', 'random_strength': 7.165925206553992e-07, 'bagging_temperature': 3.1519423885469005, 'od_type': 'Iter', 'od_wait': 29}. Best is trial 11 with value: 0.809489575844716.\u001b[0m\n",
            "\u001b[32m[I 2023-04-08 19:25:43,818]\u001b[0m Trial 15 finished with value: 0.7972681524083394 and parameters: {'iterations': 362, 'learning_rate': 0.009566008353138488, 'depth': 5, 'l2_leaf_reg': 0.00268829878506128, 'bootstrap_type': 'Bayesian', 'random_strength': 7.591322155626793e-06, 'bagging_temperature': 1.2272793520819039, 'od_type': 'Iter', 'od_wait': 21}. Best is trial 11 with value: 0.809489575844716.\u001b[0m\n",
            "\u001b[32m[I 2023-04-08 19:25:45,534]\u001b[0m Trial 16 finished with value: 0.805176132278936 and parameters: {'iterations': 787, 'learning_rate': 0.023592820639260468, 'depth': 4, 'l2_leaf_reg': 2.0386174011287558e-05, 'bootstrap_type': 'Bayesian', 'random_strength': 7.262002425495046e-08, 'bagging_temperature': 1.0624904028200532, 'od_type': 'Iter', 'od_wait': 34}. Best is trial 11 with value: 0.809489575844716.\u001b[0m\n",
            "\u001b[32m[I 2023-04-08 19:25:46,557]\u001b[0m Trial 17 finished with value: 0.7886412652767792 and parameters: {'iterations': 389, 'learning_rate': 0.007189338977832782, 'depth': 5, 'l2_leaf_reg': 0.0027940388277911685, 'bootstrap_type': 'Bayesian', 'random_strength': 1.0254385319683213e-08, 'bagging_temperature': 2.9409041743269846, 'od_type': 'Iter', 'od_wait': 25}. Best is trial 11 with value: 0.809489575844716.\u001b[0m\n",
            "\u001b[32m[I 2023-04-08 19:25:50,766]\u001b[0m Trial 18 finished with value: 0.7915168943206327 and parameters: {'iterations': 641, 'learning_rate': 0.013381365463068657, 'depth': 7, 'l2_leaf_reg': 8.915910205077293e-05, 'bootstrap_type': 'Bayesian', 'random_strength': 1.9204459434102953e-06, 'bagging_temperature': 4.580505442809283, 'od_type': 'IncToDec', 'od_wait': 18}. Best is trial 11 with value: 0.809489575844716.\u001b[0m\n",
            "\u001b[32m[I 2023-04-08 19:25:53,709]\u001b[0m Trial 19 finished with value: 0.7757009345794392 and parameters: {'iterations': 889, 'learning_rate': 0.05357686437686157, 'depth': 6, 'l2_leaf_reg': 1.0244501620767256e-08, 'bootstrap_type': 'Bayesian', 'random_strength': 7.430256063085817e-08, 'bagging_temperature': 0.953658533257745, 'od_type': 'Iter', 'od_wait': 39}. Best is trial 11 with value: 0.809489575844716.\u001b[0m\n"
          ]
        },
        {
          "output_type": "stream",
          "name": "stdout",
          "text": [
            "\n",
            "==============================================\n",
            "Number of finished trials: 20\n",
            "Best trial:\n",
            "Value: 0.809489575844716\n",
            "  Params: \n",
            "    iterations: 906\n",
            "    learning_rate: 0.0192665824000967\n",
            "    depth: 4\n",
            "    l2_leaf_reg: 0.00020979075425099598\n",
            "    bootstrap_type: Bayesian\n",
            "    random_strength: 4.7913336454146464e-08\n",
            "    bagging_temperature: 2.211499214434934\n",
            "    od_type: Iter\n",
            "    od_wait: 26\n",
            "==============================================\n",
            "\n",
            "Accuracy after tuning: 78.66589994249568%\n",
            "\n",
            "Classification report\n",
            "              precision    recall  f1-score   support\n",
            "\n",
            "           0       0.80      0.77      0.78       861\n",
            "           1       0.78      0.81      0.79       878\n",
            "\n",
            "    accuracy                           0.79      1739\n",
            "   macro avg       0.79      0.79      0.79      1739\n",
            "weighted avg       0.79      0.79      0.79      1739\n",
            "\n",
            "\n",
            "Confusion matrix\n",
            "[[659 202]\n",
            " [169 709]]\n",
            "==============================================\n",
            "\n",
            "All features number: 90, Selected features number: 25\n",
            "Selected_features:\n",
            "\n",
            "HomePlanet_Earth\n",
            "HomePlanet_Europa\n",
            "CryoSleep_False\n",
            "CryoSleep_True\n",
            "Cabin_deck_C\n",
            "Cabin_deck_E\n",
            "Cabin_deck_F\n",
            "Cabin_deck_G\n",
            "Cabin_side_P\n",
            "Cabin_side_S\n",
            "Cabin_num/100_9\n",
            "Cabin_num/100_10\n",
            "RService_deciles_1\n",
            "RService_deciles_9\n",
            "RService_deciles_10\n",
            "FCourt_deciles_9\n",
            "FCourt_deciles_10\n",
            "ShMall_deciles_10\n",
            "Spa_deciles_1\n",
            "Spa_deciles_9\n",
            "Spa_deciles_10\n",
            "VRD_deciles_1\n",
            "VRD_deciles_7\n",
            "VRD_deciles_9\n",
            "VRD_deciles_10\n"
          ]
        }
      ]
    },
    {
      "cell_type": "code",
      "source": [
        "X_train, X_val, X_test, y_train, y_val, y_test = get_subsets(df_te)\n",
        "params = model_optimization(20, objective, samp=sampler)\n",
        "model = catboost.CatBoostClassifier(**params, verbose=False)\n",
        "result_te_tuned = test_tuned_model(model, X_train, y_train, X_test, y_test)"
      ],
      "metadata": {
        "colab": {
          "base_uri": "https://localhost:8080/"
        },
        "id": "6aksOw3eSGpP",
        "outputId": "76204761-9c55-4581-bdd3-e0e1a4af5b74"
      },
      "execution_count": null,
      "outputs": [
        {
          "output_type": "stream",
          "name": "stderr",
          "text": [
            "\u001b[32m[I 2023-04-08 19:25:57,485]\u001b[0m A new study created in memory with name: no-name-ed4ff92e-797f-4edb-a524-e1294ffdf0da\u001b[0m\n",
            "\u001b[32m[I 2023-04-08 19:25:58,054]\u001b[0m Trial 0 finished with value: 0.7936736161035226 and parameters: {'iterations': 203, 'learning_rate': 0.0792462129989754, 'depth': 7, 'l2_leaf_reg': 0.006079895907372734, 'bootstrap_type': 'Bayesian', 'random_strength': 4.712281485061178e-05, 'bagging_temperature': 2.3702698024302773, 'od_type': 'IncToDec', 'od_wait': 10}. Best is trial 0 with value: 0.7936736161035226.\u001b[0m\n",
            "\u001b[32m[I 2023-04-08 19:25:59,665]\u001b[0m Trial 1 finished with value: 0.7742631200575126 and parameters: {'iterations': 656, 'learning_rate': 0.004500800919479376, 'depth': 7, 'l2_leaf_reg': 7.234707764374606, 'bootstrap_type': 'Bayesian', 'random_strength': 1.6422067769778728e-05, 'bagging_temperature': 9.085351509197992, 'od_type': 'IncToDec', 'od_wait': 48}. Best is trial 0 with value: 0.7936736161035226.\u001b[0m\n",
            "\u001b[32m[I 2023-04-08 19:26:01,127]\u001b[0m Trial 2 finished with value: 0.792235801581596 and parameters: {'iterations': 722, 'learning_rate': 0.09877469581360704, 'depth': 5, 'l2_leaf_reg': 2.3515677540946038e-07, 'bootstrap_type': 'Bayesian', 'random_strength': 2.4737691393844554, 'bagging_temperature': 6.9681816148990015, 'od_type': 'Iter', 'od_wait': 40}. Best is trial 0 with value: 0.7936736161035226.\u001b[0m\n",
            "\u001b[32m[I 2023-04-08 19:26:04,586]\u001b[0m Trial 3 finished with value: 0.8058950395398994 and parameters: {'iterations': 931, 'learning_rate': 0.026488021317107736, 'depth': 4, 'l2_leaf_reg': 1.5805248860991158e-08, 'bootstrap_type': 'Bayesian', 'random_strength': 1.7214677137755465e-08, 'bagging_temperature': 0.28306488020794607, 'od_type': 'Iter', 'od_wait': 32}. Best is trial 3 with value: 0.8058950395398994.\u001b[0m\n",
            "\u001b[32m[I 2023-04-08 19:26:06,191]\u001b[0m Trial 4 finished with value: 0.7951114306254493 and parameters: {'iterations': 598, 'learning_rate': 0.048312752908278314, 'depth': 4, 'l2_leaf_reg': 6.192083299724066e-06, 'bootstrap_type': 'Bayesian', 'random_strength': 0.0018699648500327957, 'bagging_temperature': 9.695957483196745, 'od_type': 'IncToDec', 'od_wait': 42}. Best is trial 3 with value: 0.8058950395398994.\u001b[0m\n",
            "\u001b[32m[I 2023-04-08 19:26:06,905]\u001b[0m Trial 5 finished with value: 0.792235801581596 and parameters: {'iterations': 309, 'learning_rate': 0.04113489482611688, 'depth': 6, 'l2_leaf_reg': 4.319351481213324, 'bootstrap_type': 'Bayesian', 'random_strength': 0.05297790553880328, 'bagging_temperature': 5.562402339904189, 'od_type': 'IncToDec', 'od_wait': 14}. Best is trial 3 with value: 0.8058950395398994.\u001b[0m\n",
            "\u001b[32m[I 2023-04-08 19:26:07,118]\u001b[0m Trial 6 finished with value: 0.7757009345794392 and parameters: {'iterations': 140, 'learning_rate': 0.0016405454180502023, 'depth': 5, 'l2_leaf_reg': 0.134862064547771, 'bootstrap_type': 'Bayesian', 'random_strength': 0.001090066111976454, 'bagging_temperature': 0.12555980159115854, 'od_type': 'Iter', 'od_wait': 33}. Best is trial 3 with value: 0.8058950395398994.\u001b[0m\n",
            "\u001b[32m[I 2023-04-08 19:26:08,033]\u001b[0m Trial 7 finished with value: 0.7641984184040259 and parameters: {'iterations': 283, 'learning_rate': 0.0031963291031457974, 'depth': 9, 'l2_leaf_reg': 9.00108392634349e-07, 'bootstrap_type': 'Bayesian', 'random_strength': 0.0017069875180915316, 'bagging_temperature': 9.700199890883123, 'od_type': 'IncToDec', 'od_wait': 30}. Best is trial 3 with value: 0.8058950395398994.\u001b[0m\n",
            "\u001b[32m[I 2023-04-08 19:26:09,356]\u001b[0m Trial 8 finished with value: 0.7972681524083394 and parameters: {'iterations': 658, 'learning_rate': 0.04549480407863464, 'depth': 5, 'l2_leaf_reg': 1.533776296581576e-08, 'bootstrap_type': 'Bayesian', 'random_strength': 4.267753168752572e-08, 'bagging_temperature': 4.8634511093703185, 'od_type': 'IncToDec', 'od_wait': 23}. Best is trial 3 with value: 0.8058950395398994.\u001b[0m\n",
            "\u001b[32m[I 2023-04-08 19:26:11,595]\u001b[0m Trial 9 finished with value: 0.7872034507548527 and parameters: {'iterations': 990, 'learning_rate': 0.014437448181853366, 'depth': 6, 'l2_leaf_reg': 0.003232080664925789, 'bootstrap_type': 'Bayesian', 'random_strength': 0.051051661169711944, 'bagging_temperature': 6.6923289345318455, 'od_type': 'IncToDec', 'od_wait': 25}. Best is trial 3 with value: 0.8058950395398994.\u001b[0m\n",
            "\u001b[32m[I 2023-04-08 19:26:15,292]\u001b[0m Trial 10 finished with value: 0.7735442127965493 and parameters: {'iterations': 948, 'learning_rate': 0.014467750500092812, 'depth': 10, 'l2_leaf_reg': 2.800859335481257e-05, 'bootstrap_type': 'Bayesian', 'random_strength': 1.1589663494447903e-08, 'bagging_temperature': 0.10131719232486258, 'od_type': 'Iter', 'od_wait': 18}. Best is trial 3 with value: 0.8058950395398994.\u001b[0m\n",
            "\u001b[32m[I 2023-04-08 19:26:18,163]\u001b[0m Trial 11 finished with value: 0.8023005032350827 and parameters: {'iterations': 810, 'learning_rate': 0.02913201362125604, 'depth': 4, 'l2_leaf_reg': 1.2239491717922508e-08, 'bootstrap_type': 'Bayesian', 'random_strength': 1.3955581094992581e-08, 'bagging_temperature': 3.306970730145716, 'od_type': 'Iter', 'od_wait': 23}. Best is trial 3 with value: 0.8058950395398994.\u001b[0m\n",
            "\u001b[32m[I 2023-04-08 19:26:20,574]\u001b[0m Trial 12 finished with value: 0.8015815959741194 and parameters: {'iterations': 854, 'learning_rate': 0.023213208193673264, 'depth': 4, 'l2_leaf_reg': 5.1885906656787774e-08, 'bootstrap_type': 'Bayesian', 'random_strength': 4.08742958039133e-07, 'bagging_temperature': 2.2144362382582763, 'od_type': 'Iter', 'od_wait': 33}. Best is trial 3 with value: 0.8058950395398994.\u001b[0m\n",
            "\u001b[32m[I 2023-04-08 19:26:22,121]\u001b[0m Trial 13 finished with value: 0.8015815959741194 and parameters: {'iterations': 808, 'learning_rate': 0.023164115377488338, 'depth': 4, 'l2_leaf_reg': 1.3835887294416305e-08, 'bootstrap_type': 'Bayesian', 'random_strength': 4.7098295922545496e-07, 'bagging_temperature': 2.6526294519426967, 'od_type': 'Iter', 'od_wait': 27}. Best is trial 3 with value: 0.8058950395398994.\u001b[0m\n",
            "\u001b[32m[I 2023-04-08 19:26:23,359]\u001b[0m Trial 14 finished with value: 0.798705966930266 and parameters: {'iterations': 447, 'learning_rate': 0.008449200990107266, 'depth': 8, 'l2_leaf_reg': 4.038634085098604e-05, 'bootstrap_type': 'Bayesian', 'random_strength': 1.0250198097971764e-08, 'bagging_temperature': 1.5103026603417937, 'od_type': 'Iter', 'od_wait': 38}. Best is trial 3 with value: 0.8058950395398994.\u001b[0m\n",
            "\u001b[32m[I 2023-04-08 19:26:24,881]\u001b[0m Trial 15 finished with value: 0.798705966930266 and parameters: {'iterations': 809, 'learning_rate': 0.026834698062134316, 'depth': 4, 'l2_leaf_reg': 5.861291296021946e-07, 'bootstrap_type': 'Bayesian', 'random_strength': 3.143730762231591e-07, 'bagging_temperature': 3.6934207320880015, 'od_type': 'Iter', 'od_wait': 21}. Best is trial 3 with value: 0.8058950395398994.\u001b[0m\n",
            "\u001b[32m[I 2023-04-08 19:26:26,014]\u001b[0m Trial 16 finished with value: 0.8001437814521927 and parameters: {'iterations': 493, 'learning_rate': 0.008398519192800496, 'depth': 6, 'l2_leaf_reg': 2.2247296187446133e-07, 'bootstrap_type': 'Bayesian', 'random_strength': 3.4730303248966504e-06, 'bagging_temperature': 1.154577790011211, 'od_type': 'Iter', 'od_wait': 18}. Best is trial 3 with value: 0.8058950395398994.\u001b[0m\n",
            "\u001b[32m[I 2023-04-08 19:26:27,783]\u001b[0m Trial 17 finished with value: 0.7951114306254493 and parameters: {'iterations': 891, 'learning_rate': 0.013335273923630066, 'depth': 5, 'l2_leaf_reg': 1.2131705248918986e-08, 'bootstrap_type': 'Bayesian', 'random_strength': 9.49680959709574e-08, 'bagging_temperature': 3.4232135960947376, 'od_type': 'Iter', 'od_wait': 35}. Best is trial 3 with value: 0.8058950395398994.\u001b[0m\n",
            "\u001b[32m[I 2023-04-08 19:26:30,993]\u001b[0m Trial 18 finished with value: 0.7670740474478792 and parameters: {'iterations': 735, 'learning_rate': 0.06731271426508682, 'depth': 8, 'l2_leaf_reg': 4.154719164321617e-06, 'bootstrap_type': 'Bayesian', 'random_strength': 2.0906783467397755e-06, 'bagging_temperature': 1.056974532195532, 'od_type': 'Iter', 'od_wait': 29}. Best is trial 3 with value: 0.8058950395398994.\u001b[0m\n",
            "\u001b[32m[I 2023-04-08 19:26:34,749]\u001b[0m Trial 19 finished with value: 0.785765636232926 and parameters: {'iterations': 996, 'learning_rate': 0.03301903679196882, 'depth': 6, 'l2_leaf_reg': 0.00018069638083850333, 'bootstrap_type': 'Bayesian', 'random_strength': 6.404826114174731e-08, 'bagging_temperature': 3.712131590474272, 'od_type': 'Iter', 'od_wait': 50}. Best is trial 3 with value: 0.8058950395398994.\u001b[0m\n"
          ]
        },
        {
          "output_type": "stream",
          "name": "stdout",
          "text": [
            "\n",
            "==============================================\n",
            "Number of finished trials: 20\n",
            "Best trial:\n",
            "Value: 0.8058950395398994\n",
            "  Params: \n",
            "    iterations: 931\n",
            "    learning_rate: 0.026488021317107736\n",
            "    depth: 4\n",
            "    l2_leaf_reg: 1.5805248860991158e-08\n",
            "    bootstrap_type: Bayesian\n",
            "    random_strength: 1.7214677137755465e-08\n",
            "    bagging_temperature: 0.28306488020794607\n",
            "    od_type: Iter\n",
            "    od_wait: 32\n",
            "==============================================\n",
            "\n",
            "Accuracy after tuning: 79.12593444508337%\n",
            "\n",
            "Classification report\n",
            "              precision    recall  f1-score   support\n",
            "\n",
            "           0       0.80      0.77      0.79       861\n",
            "           1       0.78      0.81      0.80       878\n",
            "\n",
            "    accuracy                           0.79      1739\n",
            "   macro avg       0.79      0.79      0.79      1739\n",
            "weighted avg       0.79      0.79      0.79      1739\n",
            "\n",
            "\n",
            "Confusion matrix\n",
            "[[665 196]\n",
            " [167 711]]\n",
            "==============================================\n",
            "\n",
            "All features number: 14, Selected features number: 6\n",
            "Selected_features:\n",
            "\n",
            "HomePlanet_transformed\n",
            "Cabin_deck_transformed\n",
            "Cabin_num/100_transformed\n",
            "RService_deciles_transformed\n",
            "Spa_deciles_transformed\n",
            "VRD_deciles_transformed\n"
          ]
        }
      ]
    },
    {
      "cell_type": "code",
      "source": [
        "X_train, X_val, X_test, y_train, y_val, y_test = get_subsets(df_looe)\n",
        "params = model_optimization(20, objective, samp=sampler)\n",
        "model = catboost.CatBoostClassifier(**params, verbose=False)\n",
        "result_looe_tuned = test_tuned_model(model, X_train, y_train, X_test, y_test)"
      ],
      "metadata": {
        "colab": {
          "base_uri": "https://localhost:8080/"
        },
        "id": "guCNo3j-SJ2-",
        "outputId": "0fe57ff9-168c-4b2a-a6a4-d03fc8492dd7"
      },
      "execution_count": null,
      "outputs": [
        {
          "output_type": "stream",
          "name": "stderr",
          "text": [
            "\u001b[32m[I 2023-04-08 19:26:38,223]\u001b[0m A new study created in memory with name: no-name-cc8824b8-9993-42fc-8a6f-46fb01320208\u001b[0m\n",
            "\u001b[32m[I 2023-04-08 19:26:53,127]\u001b[0m Trial 0 finished with value: 0.7555715312724659 and parameters: {'iterations': 667, 'learning_rate': 0.002632376589458986, 'depth': 9, 'l2_leaf_reg': 4.627695912122567e-08, 'bootstrap_type': 'Bayesian', 'random_strength': 2.2020941703793847e-06, 'bagging_temperature': 8.047545637433455, 'od_type': 'Iter', 'od_wait': 31}. Best is trial 0 with value: 0.7555715312724659.\u001b[0m\n",
            "\u001b[32m[I 2023-04-08 19:26:55,692]\u001b[0m Trial 1 finished with value: 0.7526959022286125 and parameters: {'iterations': 933, 'learning_rate': 0.0033619677334531975, 'depth': 4, 'l2_leaf_reg': 0.22421240280673352, 'bootstrap_type': 'Bayesian', 'random_strength': 0.08904350893401006, 'bagging_temperature': 9.07815852503524, 'od_type': 'IncToDec', 'od_wait': 19}. Best is trial 0 with value: 0.7555715312724659.\u001b[0m\n",
            "\u001b[32m[I 2023-04-08 19:27:20,271]\u001b[0m Trial 2 finished with value: 0.7548526240115025 and parameters: {'iterations': 655, 'learning_rate': 0.07907380572782882, 'depth': 10, 'l2_leaf_reg': 0.0036858009865846117, 'bootstrap_type': 'Bayesian', 'random_strength': 1.7396310391054446, 'bagging_temperature': 6.415662089463376, 'od_type': 'Iter', 'od_wait': 34}. Best is trial 0 with value: 0.7555715312724659.\u001b[0m\n",
            "\u001b[32m[I 2023-04-08 19:27:43,044]\u001b[0m Trial 3 finished with value: 0.7699496764917325 and parameters: {'iterations': 595, 'learning_rate': 0.07118079814598767, 'depth': 10, 'l2_leaf_reg': 8.887019420854914e-05, 'bootstrap_type': 'Bayesian', 'random_strength': 4.67049332755516, 'bagging_temperature': 1.7395566668046436, 'od_type': 'Iter', 'od_wait': 30}. Best is trial 3 with value: 0.7699496764917325.\u001b[0m\n",
            "\u001b[32m[I 2023-04-08 19:27:45,422]\u001b[0m Trial 4 finished with value: 0.7792954708842559 and parameters: {'iterations': 119, 'learning_rate': 0.07869378282605217, 'depth': 9, 'l2_leaf_reg': 1.4131550258869519e-08, 'bootstrap_type': 'Bayesian', 'random_strength': 3.8527098226884923e-07, 'bagging_temperature': 3.3206357436683698, 'od_type': 'Iter', 'od_wait': 24}. Best is trial 4 with value: 0.7792954708842559.\u001b[0m\n",
            "\u001b[32m[I 2023-04-08 19:28:19,039]\u001b[0m Trial 5 finished with value: 0.7677929547088426 and parameters: {'iterations': 947, 'learning_rate': 0.014589095255172204, 'depth': 10, 'l2_leaf_reg': 2.8012021687897146, 'bootstrap_type': 'Bayesian', 'random_strength': 1.4077672847755156, 'bagging_temperature': 4.598802658168069, 'od_type': 'Iter', 'od_wait': 21}. Best is trial 4 with value: 0.7792954708842559.\u001b[0m\n",
            "\u001b[32m[I 2023-04-08 19:28:21,293]\u001b[0m Trial 6 finished with value: 0.7620416966211359 and parameters: {'iterations': 541, 'learning_rate': 0.015784128769059047, 'depth': 4, 'l2_leaf_reg': 0.008606252464502062, 'bootstrap_type': 'Bayesian', 'random_strength': 7.999947573315117e-05, 'bagging_temperature': 8.073605288848414, 'od_type': 'Iter', 'od_wait': 33}. Best is trial 4 with value: 0.7792954708842559.\u001b[0m\n",
            "\u001b[32m[I 2023-04-08 19:28:25,658]\u001b[0m Trial 7 finished with value: 0.7570093457943925 and parameters: {'iterations': 265, 'learning_rate': 0.037658105488016604, 'depth': 8, 'l2_leaf_reg': 3.4601324286442565e-08, 'bootstrap_type': 'Bayesian', 'random_strength': 6.049829287400917e-05, 'bagging_temperature': 6.790688365654296, 'od_type': 'IncToDec', 'od_wait': 50}. Best is trial 4 with value: 0.7792954708842559.\u001b[0m\n",
            "\u001b[32m[I 2023-04-08 19:28:30,432]\u001b[0m Trial 8 finished with value: 0.7692307692307693 and parameters: {'iterations': 439, 'learning_rate': 0.0886272097679769, 'depth': 8, 'l2_leaf_reg': 1.9429341414248709, 'bootstrap_type': 'Bayesian', 'random_strength': 0.0014873170014693398, 'bagging_temperature': 6.2807619830735035, 'od_type': 'Iter', 'od_wait': 40}. Best is trial 4 with value: 0.7792954708842559.\u001b[0m\n",
            "\u001b[32m[I 2023-04-08 19:28:41,970]\u001b[0m Trial 9 finished with value: 0.7634795111430626 and parameters: {'iterations': 873, 'learning_rate': 0.032371615768282486, 'depth': 8, 'l2_leaf_reg': 4.41361351229529, 'bootstrap_type': 'Bayesian', 'random_strength': 8.019161714113933e-06, 'bagging_temperature': 6.707887907875873, 'od_type': 'IncToDec', 'od_wait': 26}. Best is trial 4 with value: 0.7792954708842559.\u001b[0m\n",
            "\u001b[32m[I 2023-04-08 19:28:42,490]\u001b[0m Trial 10 finished with value: 0.7663551401869159 and parameters: {'iterations': 114, 'learning_rate': 0.0011254241622408857, 'depth': 6, 'l2_leaf_reg': 4.21855372081001e-06, 'bootstrap_type': 'Bayesian', 'random_strength': 1.0453157860529348e-08, 'bagging_temperature': 0.12452190045717604, 'od_type': 'IncToDec', 'od_wait': 10}. Best is trial 4 with value: 0.7792954708842559.\u001b[0m\n",
            "\u001b[32m[I 2023-04-08 19:28:56,870]\u001b[0m Trial 11 finished with value: 0.7620416966211359 and parameters: {'iterations': 395, 'learning_rate': 0.08837300939393992, 'depth': 10, 'l2_leaf_reg': 2.0264345984220343e-05, 'bootstrap_type': 'Bayesian', 'random_strength': 8.117911213454397, 'bagging_temperature': 2.6052113455825534, 'od_type': 'Iter', 'od_wait': 21}. Best is trial 4 with value: 0.7792954708842559.\u001b[0m\n",
            "\u001b[32m[I 2023-04-08 19:28:57,455]\u001b[0m Trial 12 finished with value: 0.7792954708842559 and parameters: {'iterations': 132, 'learning_rate': 0.03702366084368274, 'depth': 6, 'l2_leaf_reg': 2.7675060121157105e-05, 'bootstrap_type': 'Bayesian', 'random_strength': 0.011900484813125018, 'bagging_temperature': 2.9114173000209806, 'od_type': 'Iter', 'od_wait': 41}. Best is trial 4 with value: 0.7792954708842559.\u001b[0m\n",
            "\u001b[32m[I 2023-04-08 19:28:57,938]\u001b[0m Trial 13 finished with value: 0.7685118619698059 and parameters: {'iterations': 103, 'learning_rate': 0.03314297812754533, 'depth': 6, 'l2_leaf_reg': 3.289426370945874e-07, 'bootstrap_type': 'Bayesian', 'random_strength': 0.003387405778116046, 'bagging_temperature': 4.00474630253315, 'od_type': 'Iter', 'od_wait': 45}. Best is trial 4 with value: 0.7792954708842559.\u001b[0m\n",
            "\u001b[32m[I 2023-04-08 19:28:59,129]\u001b[0m Trial 14 finished with value: 0.7886412652767792 and parameters: {'iterations': 241, 'learning_rate': 0.04661404511513248, 'depth': 6, 'l2_leaf_reg': 1.0612016111464591e-06, 'bootstrap_type': 'Bayesian', 'random_strength': 0.00832252456244437, 'bagging_temperature': 3.023929581123987, 'od_type': 'Iter', 'od_wait': 40}. Best is trial 14 with value: 0.7886412652767792.\u001b[0m\n",
            "\u001b[32m[I 2023-04-08 19:29:00,852]\u001b[0m Trial 15 finished with value: 0.7742631200575126 and parameters: {'iterations': 240, 'learning_rate': 0.020224208725909944, 'depth': 7, 'l2_leaf_reg': 1.1738840230546742e-08, 'bootstrap_type': 'Bayesian', 'random_strength': 3.503313594935859e-07, 'bagging_temperature': 3.855604784128921, 'od_type': 'Iter', 'od_wait': 13}. Best is trial 14 with value: 0.7886412652767792.\u001b[0m\n",
            "\u001b[32m[I 2023-04-08 19:29:04,810]\u001b[0m Trial 16 finished with value: 0.785765636232926 and parameters: {'iterations': 272, 'learning_rate': 0.008183482279088834, 'depth': 7, 'l2_leaf_reg': 2.072380874196341e-06, 'bootstrap_type': 'Bayesian', 'random_strength': 0.00044550139469685837, 'bagging_temperature': 1.4303833203569352, 'od_type': 'Iter', 'od_wait': 39}. Best is trial 14 with value: 0.7886412652767792.\u001b[0m\n",
            "\u001b[32m[I 2023-04-08 19:29:06,319]\u001b[0m Trial 17 finished with value: 0.7864845434938893 and parameters: {'iterations': 300, 'learning_rate': 0.007819640650793701, 'depth': 5, 'l2_leaf_reg': 7.445504926252742e-07, 'bootstrap_type': 'Bayesian', 'random_strength': 0.0391394985601187, 'bagging_temperature': 1.372575343020829, 'od_type': 'Iter', 'od_wait': 39}. Best is trial 14 with value: 0.7886412652767792.\u001b[0m\n",
            "\u001b[32m[I 2023-04-08 19:29:07,663]\u001b[0m Trial 18 finished with value: 0.7656362329259525 and parameters: {'iterations': 371, 'learning_rate': 0.008560384834449876, 'depth': 5, 'l2_leaf_reg': 5.260281071665093e-07, 'bootstrap_type': 'Bayesian', 'random_strength': 0.0826321399426379, 'bagging_temperature': 5.036200573144648, 'od_type': 'IncToDec', 'od_wait': 47}. Best is trial 14 with value: 0.7886412652767792.\u001b[0m\n",
            "\u001b[32m[I 2023-04-08 19:29:09,416]\u001b[0m Trial 19 finished with value: 0.7886412652767792 and parameters: {'iterations': 478, 'learning_rate': 0.005848979306115894, 'depth': 5, 'l2_leaf_reg': 0.00044317201103736187, 'bootstrap_type': 'Bayesian', 'random_strength': 0.026953943707931905, 'bagging_temperature': 0.4890878222969941, 'od_type': 'Iter', 'od_wait': 36}. Best is trial 14 with value: 0.7886412652767792.\u001b[0m\n"
          ]
        },
        {
          "output_type": "stream",
          "name": "stdout",
          "text": [
            "\n",
            "==============================================\n",
            "Number of finished trials: 20\n",
            "Best trial:\n",
            "Value: 0.7886412652767792\n",
            "  Params: \n",
            "    iterations: 241\n",
            "    learning_rate: 0.04661404511513248\n",
            "    depth: 6\n",
            "    l2_leaf_reg: 1.0612016111464591e-06\n",
            "    bootstrap_type: Bayesian\n",
            "    random_strength: 0.00832252456244437\n",
            "    bagging_temperature: 3.023929581123987\n",
            "    od_type: Iter\n",
            "    od_wait: 40\n",
            "==============================================\n",
            "\n",
            "Accuracy after tuning: 76.36572742955721%\n",
            "\n",
            "Classification report\n",
            "              precision    recall  f1-score   support\n",
            "\n",
            "           0       0.76      0.76      0.76       861\n",
            "           1       0.76      0.77      0.77       878\n",
            "\n",
            "    accuracy                           0.76      1739\n",
            "   macro avg       0.76      0.76      0.76      1739\n",
            "weighted avg       0.76      0.76      0.76      1739\n",
            "\n",
            "\n",
            "Confusion matrix\n",
            "[[653 208]\n",
            " [203 675]]\n",
            "==============================================\n",
            "\n",
            "All features number: 14, Selected features number: 7\n",
            "Selected_features:\n",
            "\n",
            "HomePlanet_transformed\n",
            "CryoSleep_transformed\n",
            "Cabin_deck_transformed\n",
            "Cabin_num/100_transformed\n",
            "RService_deciles_transformed\n",
            "Spa_deciles_transformed\n",
            "VRD_deciles_transformed\n"
          ]
        }
      ]
    },
    {
      "cell_type": "markdown",
      "source": [
        "# Save results"
      ],
      "metadata": {
        "id": "iesZ2BSqPSWk"
      }
    },
    {
      "cell_type": "code",
      "source": [
        "data = []\n",
        "data.append(['CatBoostClassifier', 'OHE', acc_ohe_ini, result_ohe_tuned[0], str(result_ohe_tuned[1])+\" / 90\"])\n",
        "data.append(['CatBoostClassifier', 'TE', acc_te_ini, result_te_tuned[0], str(result_te_tuned[1])+\" / 14\"])\n",
        "data.append(['CatBoostClassifier', 'LOOE', acc_looe_ini, result_looe_tuned[0], str(result_looe_tuned[1])+\" / 14\"])"
      ],
      "metadata": {
        "id": "lrWGTnBrUDAi"
      },
      "execution_count": null,
      "outputs": []
    },
    {
      "cell_type": "code",
      "source": [
        "import csv\n",
        "from os.path import exists\n",
        "resfile = 'spaceship_results.csv'"
      ],
      "metadata": {
        "id": "TKNiqJ94UU0D"
      },
      "execution_count": null,
      "outputs": []
    },
    {
      "cell_type": "code",
      "source": [
        "if exists(resfile):\n",
        "  f = open(resfile, 'a')\n",
        "  writer = csv.writer(f)\n",
        "else:\n",
        "  header = ['Model', 'Categories_encoding', 'Initial_accuracy', 'Tuned_Accuracy', 'Important_Features']\n",
        "  f = open(resfile, 'w', newline='')\n",
        "  writer = csv.writer(f)\n",
        "  writer.writerow(header)\n",
        "\n",
        "writer.writerows(data)\n",
        "f.close()"
      ],
      "metadata": {
        "id": "bWg7jIWkUXiT"
      },
      "execution_count": null,
      "outputs": []
    }
  ]
}