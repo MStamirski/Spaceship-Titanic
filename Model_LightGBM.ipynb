{
  "nbformat": 4,
  "nbformat_minor": 0,
  "metadata": {
    "colab": {
      "provenance": [],
      "toc_visible": true,
      "authorship_tag": "ABX9TyMlkrfOvSJFWKV3T5dpuXfE",
      "include_colab_link": true
    },
    "kernelspec": {
      "name": "python3",
      "display_name": "Python 3"
    },
    "language_info": {
      "name": "python"
    },
    "gpuClass": "standard"
  },
  "cells": [
    {
      "cell_type": "markdown",
      "metadata": {
        "id": "view-in-github",
        "colab_type": "text"
      },
      "source": [
        "<a href=\"https://colab.research.google.com/github/MStamirski/Spaceship-Titanic/blob/main/Model_LightGBM.ipynb\" target=\"_parent\"><img src=\"https://colab.research.google.com/assets/colab-badge.svg\" alt=\"Open In Colab\"/></a>"
      ]
    },
    {
      "cell_type": "markdown",
      "source": [
        "# Preparation"
      ],
      "metadata": {
        "id": "fXZ2j2_EOOGs"
      }
    },
    {
      "cell_type": "code",
      "source": [
        "from google.colab import drive\n",
        "drive.mount(\"/content/drive\")\n",
        "%cd \"/content/drive/MyDrive/Colab_Notebooks/SDA_upskill/Spaceship\""
      ],
      "metadata": {
        "id": "Iag1nNbVX-i7"
      },
      "execution_count": null,
      "outputs": []
    },
    {
      "cell_type": "code",
      "source": [
        "!pip install lightgbm"
      ],
      "metadata": {
        "id": "lm6gsHBX9KL7"
      },
      "execution_count": null,
      "outputs": []
    },
    {
      "cell_type": "markdown",
      "source": [
        "# Model with parameters"
      ],
      "metadata": {
        "id": "S1NuaT-4OXUT"
      }
    },
    {
      "cell_type": "code",
      "source": [
        "import lightgbm as lgb\n",
        "from sklearn.metrics import accuracy_score"
      ],
      "metadata": {
        "id": "2TVsFi2W9Uma"
      },
      "execution_count": null,
      "outputs": []
    },
    {
      "cell_type": "code",
      "source": [
        "model = lgb.LGBMClassifier()"
      ],
      "metadata": {
        "id": "WjLIgdT39bnz"
      },
      "execution_count": null,
      "outputs": []
    },
    {
      "cell_type": "code",
      "source": [
        "def objective(trial):\n",
        "\n",
        "    params = {\n",
        "        \"boosting_type\": \"gbdt\",\n",
        "        \"lambda_l1\": trial.suggest_float(\"lambda_l1\", 1e-8, 10.0, log=True),\n",
        "        \"lambda_l2\": trial.suggest_float(\"lambda_l2\", 1e-8, 10.0, log=True),\n",
        "        \"num_leaves\": trial.suggest_int(\"num_leaves\", 2, 256),\n",
        "        \"feature_fraction\": trial.suggest_float(\"feature_fraction\", 0.4, 1.0),\n",
        "        \"bagging_fraction\": trial.suggest_float(\"bagging_fraction\", 0.4, 1.0),\n",
        "        \"bagging_freq\": trial.suggest_int(\"bagging_freq\", 1, 7),\n",
        "        \"min_child_samples\": trial.suggest_int(\"min_child_samples\", 5, 100)\n",
        "    }\n",
        "\n",
        "    optuna_model = lgb.LGBMClassifier(**params)\n",
        "    optuna_model.fit(X_train, y_train)\n",
        "\n",
        "    y_pred = optuna_model.predict(X_val)\n",
        "    accuracy = accuracy_score(y_val, y_pred)\n",
        "\n",
        "    return accuracy"
      ],
      "metadata": {
        "id": "DGywz2Vy9eJ7"
      },
      "execution_count": null,
      "outputs": []
    },
    {
      "cell_type": "markdown",
      "source": [
        "# Features datasets"
      ],
      "metadata": {
        "id": "uikVcl7mOnNz"
      }
    },
    {
      "cell_type": "code",
      "source": [
        "!pip install import-ipynb"
      ],
      "metadata": {
        "id": "mV0iITmRYA_r"
      },
      "execution_count": null,
      "outputs": []
    },
    {
      "cell_type": "code",
      "source": [
        "import import_ipynb"
      ],
      "metadata": {
        "id": "NVkS0sr-W2B8"
      },
      "execution_count": null,
      "outputs": []
    },
    {
      "cell_type": "code",
      "source": [
        "from FeaturesEngineering import get_features, categories_one_hot_encoding, categories_target_encoding, categories_leave_one_out_encoding"
      ],
      "metadata": {
        "id": "QTP0FMcj8kZT"
      },
      "execution_count": null,
      "outputs": []
    },
    {
      "cell_type": "code",
      "source": [
        "df = get_features('train')\n",
        "df_ohe = categories_one_hot_encoding(df)\n",
        "df_te = categories_target_encoding(df)\n",
        "df_looe = categories_leave_one_out_encoding(df)"
      ],
      "metadata": {
        "id": "d0bCa6RVbJoX"
      },
      "execution_count": null,
      "outputs": []
    },
    {
      "cell_type": "markdown",
      "source": [
        "# Initial verification"
      ],
      "metadata": {
        "id": "h3H9fFXgOuOj"
      }
    },
    {
      "cell_type": "code",
      "source": [
        "from Optimization import verify_feature_dataset, get_subsets, model_optimization, test_tuned_model"
      ],
      "metadata": {
        "id": "djmNjVOt9oor"
      },
      "execution_count": null,
      "outputs": []
    },
    {
      "cell_type": "code",
      "source": [
        "acc_ohe_ini = verify_feature_dataset(df_ohe, model)"
      ],
      "metadata": {
        "colab": {
          "base_uri": "https://localhost:8080/"
        },
        "id": "pVj-AfkSmkqv",
        "outputId": "325699ce-1624-44bd-9f40-4f19e0901d85"
      },
      "execution_count": null,
      "outputs": [
        {
          "output_type": "stream",
          "name": "stdout",
          "text": [
            "Accuracy: 78.18251533742331%\n"
          ]
        }
      ]
    },
    {
      "cell_type": "code",
      "source": [
        "acc_te_ini = verify_feature_dataset(df_te, model)"
      ],
      "metadata": {
        "colab": {
          "base_uri": "https://localhost:8080/"
        },
        "id": "4OXZFQd4mtIH",
        "outputId": "733a77b5-72b2-4c0f-a8b5-e8fb98e5ad45"
      },
      "execution_count": null,
      "outputs": [
        {
          "output_type": "stream",
          "name": "stdout",
          "text": [
            "Accuracy: 78.94938650306749%\n"
          ]
        }
      ]
    },
    {
      "cell_type": "code",
      "source": [
        "acc_looe_ini = verify_feature_dataset(df_looe, model)"
      ],
      "metadata": {
        "colab": {
          "base_uri": "https://localhost:8080/"
        },
        "id": "kE1tf0yqmweP",
        "outputId": "ab545334-af21-40fc-fb39-362bb7f60bac"
      },
      "execution_count": null,
      "outputs": [
        {
          "output_type": "stream",
          "name": "stdout",
          "text": [
            "Accuracy: 77.03220858895705%\n"
          ]
        }
      ]
    },
    {
      "cell_type": "markdown",
      "source": [
        "# Parameters tuning"
      ],
      "metadata": {
        "id": "5Kwn4oYYO8c0"
      }
    },
    {
      "cell_type": "code",
      "source": [
        "from optuna.samplers import TPESampler\n",
        "sampler = TPESampler(seed=1)"
      ],
      "metadata": {
        "id": "toJBQQHOnH1B"
      },
      "execution_count": null,
      "outputs": []
    },
    {
      "cell_type": "code",
      "source": [
        "X_train, X_val, X_test, y_train, y_val, y_test = get_subsets(df_ohe)\n",
        "params = model_optimization(20, objective, samp=sampler)"
      ],
      "metadata": {
        "colab": {
          "base_uri": "https://localhost:8080/"
        },
        "id": "wg4cmVW72h3X",
        "outputId": "e64238f8-28bd-4074-ca2c-5880d4ef594e"
      },
      "execution_count": null,
      "outputs": [
        {
          "output_type": "stream",
          "name": "stderr",
          "text": [
            "\u001b[32m[I 2023-04-08 19:15:18,201]\u001b[0m A new study created in memory with name: no-name-7be131df-b924-4231-93eb-f482d693ef47\u001b[0m\n",
            "\u001b[32m[I 2023-04-08 19:15:18,311]\u001b[0m Trial 0 finished with value: 0.7757009345794392 and parameters: {'lambda_l1': 5.6649755830282306e-05, 'lambda_l2': 0.030403280126677572, 'num_leaves': 2, 'feature_fraction': 0.5813995435791038, 'bagging_fraction': 0.48805353449026784, 'bagging_freq': 1, 'min_child_samples': 22}. Best is trial 0 with value: 0.7757009345794392.\u001b[0m\n"
          ]
        },
        {
          "output_type": "stream",
          "name": "stdout",
          "text": [
            "[LightGBM] [Warning] lambda_l1 is set=5.6649755830282306e-05, reg_alpha=0.0 will be ignored. Current value: lambda_l1=5.6649755830282306e-05\n",
            "[LightGBM] [Warning] feature_fraction is set=0.5813995435791038, colsample_bytree=1.0 will be ignored. Current value: feature_fraction=0.5813995435791038\n",
            "[LightGBM] [Warning] bagging_freq is set=1, subsample_freq=0 will be ignored. Current value: bagging_freq=1\n",
            "[LightGBM] [Warning] lambda_l2 is set=0.030403280126677572, reg_lambda=0.0 will be ignored. Current value: lambda_l2=0.030403280126677572\n",
            "[LightGBM] [Warning] bagging_fraction is set=0.48805353449026784, subsample=1.0 will be ignored. Current value: bagging_fraction=0.48805353449026784\n",
            "[LightGBM] [Warning] lambda_l1 is set=1.2883876209377052e-05, reg_alpha=0.0 will be ignored. Current value: lambda_l1=1.2883876209377052e-05\n",
            "[LightGBM] [Warning] feature_fraction is set=0.6515167086419769, colsample_bytree=1.0 will be ignored. Current value: feature_fraction=0.6515167086419769\n",
            "[LightGBM] [Warning] bagging_freq is set=2, subsample_freq=0 will be ignored. Current value: bagging_freq=2\n",
            "[LightGBM] [Warning] lambda_l2 is set=3.72312200494449e-05, reg_lambda=0.0 will be ignored. Current value: lambda_l2=3.72312200494449e-05\n",
            "[LightGBM] [Warning] bagging_fraction is set=0.8111317002380557, subsample=1.0 will be ignored. Current value: bagging_fraction=0.8111317002380557\n"
          ]
        },
        {
          "output_type": "stream",
          "name": "stderr",
          "text": [
            "\u001b[32m[I 2023-04-08 19:15:19,113]\u001b[0m Trial 1 finished with value: 0.805176132278936 and parameters: {'lambda_l1': 1.2883876209377052e-05, 'lambda_l2': 3.72312200494449e-05, 'num_leaves': 139, 'feature_fraction': 0.6515167086419769, 'bagging_fraction': 0.8111317002380557, 'bagging_freq': 2, 'min_child_samples': 89}. Best is trial 1 with value: 0.805176132278936.\u001b[0m\n"
          ]
        },
        {
          "output_type": "stream",
          "name": "stdout",
          "text": [
            "[LightGBM] [Warning] lambda_l1 is set=1.763958399884789e-08, reg_alpha=0.0 will be ignored. Current value: lambda_l1=1.763958399884789e-08\n",
            "[LightGBM] [Warning] feature_fraction is set=0.735213897067451, colsample_bytree=1.0 will be ignored. Current value: feature_fraction=0.735213897067451\n",
            "[LightGBM] [Warning] bagging_freq is set=2, subsample_freq=0 will be ignored. Current value: bagging_freq=2\n",
            "[LightGBM] [Warning] lambda_l2 is set=0.010819509974097813, reg_lambda=0.0 will be ignored. Current value: lambda_l2=0.010819509974097813\n",
            "[LightGBM] [Warning] bagging_fraction is set=0.4842321631571403, subsample=1.0 will be ignored. Current value: bagging_fraction=0.4842321631571403\n"
          ]
        },
        {
          "output_type": "stream",
          "name": "stderr",
          "text": [
            "\u001b[32m[I 2023-04-08 19:15:21,201]\u001b[0m Trial 2 finished with value: 0.8037383177570093 and parameters: {'lambda_l1': 1.763958399884789e-08, 'lambda_l2': 0.010819509974097813, 'num_leaves': 108, 'feature_fraction': 0.735213897067451, 'bagging_fraction': 0.4842321631571403, 'bagging_freq': 2, 'min_child_samples': 81}. Best is trial 1 with value: 0.805176132278936.\u001b[0m\n"
          ]
        },
        {
          "output_type": "stream",
          "name": "stdout",
          "text": [
            "[LightGBM] [Warning] lambda_l1 is set=5.180291295699627, reg_alpha=0.0 will be ignored. Current value: lambda_l1=5.180291295699627\n",
            "[LightGBM] [Warning] feature_fraction is set=0.9258334913776229, colsample_bytree=1.0 will be ignored. Current value: feature_fraction=0.9258334913776229\n",
            "[LightGBM] [Warning] bagging_freq is set=1, subsample_freq=0 will be ignored. Current value: bagging_freq=1\n",
            "[LightGBM] [Warning] lambda_l2 is set=6.6193844201488494e-06, reg_lambda=0.0 will be ignored. Current value: lambda_l2=6.6193844201488494e-06\n",
            "[LightGBM] [Warning] bagging_fraction is set=0.9367639981023084, subsample=1.0 will be ignored. Current value: bagging_fraction=0.9367639981023084\n"
          ]
        },
        {
          "output_type": "stream",
          "name": "stderr",
          "text": [
            "\u001b[32m[I 2023-04-08 19:15:21,746]\u001b[0m Trial 3 finished with value: 0.8123652048885693 and parameters: {'lambda_l1': 5.180291295699627, 'lambda_l2': 6.6193844201488494e-06, 'num_leaves': 178, 'feature_fraction': 0.9258334913776229, 'bagging_fraction': 0.9367639981023084, 'bagging_freq': 1, 'min_child_samples': 8}. Best is trial 3 with value: 0.8123652048885693.\u001b[0m\n"
          ]
        },
        {
          "output_type": "stream",
          "name": "stdout",
          "text": [
            "[LightGBM] [Warning] lambda_l1 is set=3.376554594427989e-07, reg_alpha=0.0 will be ignored. Current value: lambda_l1=3.376554594427989e-07\n",
            "[LightGBM] [Warning] feature_fraction is set=0.6526645750030313, colsample_bytree=1.0 will be ignored. Current value: feature_fraction=0.6526645750030313\n",
            "[LightGBM] [Warning] bagging_freq is set=4, subsample_freq=0 will be ignored. Current value: bagging_freq=4\n",
            "[LightGBM] [Warning] lambda_l2 is set=0.8003547575557912, reg_lambda=0.0 will be ignored. Current value: lambda_l2=0.8003547575557912\n",
            "[LightGBM] [Warning] bagging_fraction is set=0.9747337180903012, subsample=1.0 will be ignored. Current value: bagging_fraction=0.9747337180903012\n"
          ]
        },
        {
          "output_type": "stream",
          "name": "stderr",
          "text": [
            "\u001b[32m[I 2023-04-08 19:15:22,346]\u001b[0m Trial 4 finished with value: 0.8080517613227893 and parameters: {'lambda_l1': 3.376554594427989e-07, 'lambda_l2': 0.8003547575557912, 'num_leaves': 27, 'feature_fraction': 0.6526645750030313, 'bagging_fraction': 0.9747337180903012, 'bagging_freq': 4, 'min_child_samples': 71}. Best is trial 3 with value: 0.8123652048885693.\u001b[0m\n"
          ]
        },
        {
          "output_type": "stream",
          "name": "stdout",
          "text": [
            "[LightGBM] [Warning] lambda_l1 is set=6.912588094940543e-06, reg_alpha=0.0 will be ignored. Current value: lambda_l1=6.912588094940543e-06\n",
            "[LightGBM] [Warning] feature_fraction is set=0.4109729664065151, colsample_bytree=1.0 will be ignored. Current value: feature_fraction=0.4109729664065151\n",
            "[LightGBM] [Warning] bagging_freq is set=7, subsample_freq=0 will be ignored. Current value: bagging_freq=7\n",
            "[LightGBM] [Warning] lambda_l2 is set=0.015083716080906013, reg_lambda=0.0 will be ignored. Current value: lambda_l2=0.015083716080906013\n",
            "[LightGBM] [Warning] bagging_fraction is set=0.8500865889669804, subsample=1.0 will be ignored. Current value: bagging_fraction=0.8500865889669804\n"
          ]
        },
        {
          "output_type": "stream",
          "name": "stderr",
          "text": [
            "\u001b[32m[I 2023-04-08 19:15:23,815]\u001b[0m Trial 5 finished with value: 0.8023005032350827 and parameters: {'lambda_l1': 6.912588094940543e-06, 'lambda_l2': 0.015083716080906013, 'num_leaves': 214, 'feature_fraction': 0.4109729664065151, 'bagging_fraction': 0.8500865889669804, 'bagging_freq': 7, 'min_child_samples': 76}. Best is trial 3 with value: 0.8123652048885693.\u001b[0m\n"
          ]
        },
        {
          "output_type": "stream",
          "name": "stdout",
          "text": [
            "[LightGBM] [Warning] lambda_l1 is set=3.341919070318744e-06, reg_alpha=0.0 will be ignored. Current value: lambda_l1=3.341919070318744e-06\n",
            "[LightGBM] [Warning] feature_fraction is set=0.6687361157055431, colsample_bytree=1.0 will be ignored. Current value: feature_fraction=0.6687361157055431\n",
            "[LightGBM] [Warning] bagging_freq is set=3, subsample_freq=0 will be ignored. Current value: bagging_freq=3\n",
            "[LightGBM] [Warning] lambda_l2 is set=0.12691529280491062, reg_lambda=0.0 will be ignored. Current value: lambda_l2=0.12691529280491062\n",
            "[LightGBM] [Warning] bagging_fraction is set=0.9451573018558573, subsample=1.0 will be ignored. Current value: bagging_fraction=0.9451573018558573\n"
          ]
        },
        {
          "output_type": "stream",
          "name": "stderr",
          "text": [
            "\u001b[32m[I 2023-04-08 19:15:24,385]\u001b[0m Trial 6 finished with value: 0.8080517613227893 and parameters: {'lambda_l1': 3.341919070318744e-06, 'lambda_l2': 0.12691529280491062, 'num_leaves': 28, 'feature_fraction': 0.6687361157055431, 'bagging_fraction': 0.9451573018558573, 'bagging_freq': 3, 'min_child_samples': 32}. Best is trial 3 with value: 0.8123652048885693.\u001b[0m\n"
          ]
        },
        {
          "output_type": "stream",
          "name": "stdout",
          "text": [
            "[LightGBM] [Warning] lambda_l1 is set=1.4799844388224288e-07, reg_alpha=0.0 will be ignored. Current value: lambda_l1=1.4799844388224288e-07\n",
            "[LightGBM] [Warning] feature_fraction is set=0.5269768696000354, colsample_bytree=1.0 will be ignored. Current value: feature_fraction=0.5269768696000354\n",
            "[LightGBM] [Warning] bagging_freq is set=4, subsample_freq=0 will be ignored. Current value: bagging_freq=4\n",
            "[LightGBM] [Warning] lambda_l2 is set=1.493834966470408e-08, reg_lambda=0.0 will be ignored. Current value: lambda_l2=1.493834966470408e-08\n",
            "[LightGBM] [Warning] bagging_fraction is set=0.5593279956233357, subsample=1.0 will be ignored. Current value: bagging_fraction=0.5593279956233357\n"
          ]
        },
        {
          "output_type": "stream",
          "name": "stderr",
          "text": [
            "\u001b[32m[I 2023-04-08 19:15:28,056]\u001b[0m Trial 7 finished with value: 0.7951114306254493 and parameters: {'lambda_l1': 1.4799844388224288e-07, 'lambda_l2': 1.493834966470408e-08, 'num_leaves': 175, 'feature_fraction': 0.5269768696000354, 'bagging_fraction': 0.5593279956233357, 'bagging_freq': 4, 'min_child_samples': 10}. Best is trial 3 with value: 0.8123652048885693.\u001b[0m\n"
          ]
        },
        {
          "output_type": "stream",
          "name": "stdout",
          "text": [
            "[LightGBM] [Warning] lambda_l1 is set=0.0014691239860705116, reg_alpha=0.0 will be ignored. Current value: lambda_l1=0.0014691239860705116\n",
            "[LightGBM] [Warning] feature_fraction is set=0.8198550160125587, colsample_bytree=1.0 will be ignored. Current value: feature_fraction=0.8198550160125587\n",
            "[LightGBM] [Warning] bagging_freq is set=3, subsample_freq=0 will be ignored. Current value: bagging_freq=3\n",
            "[LightGBM] [Warning] lambda_l2 is set=2.091978294467618e-07, reg_lambda=0.0 will be ignored. Current value: lambda_l2=2.091978294467618e-07\n",
            "[LightGBM] [Warning] bagging_fraction is set=0.46140065729669555, subsample=1.0 will be ignored. Current value: bagging_fraction=0.46140065729669555\n"
          ]
        },
        {
          "output_type": "stream",
          "name": "stderr",
          "text": [
            "\u001b[32m[I 2023-04-08 19:15:29,836]\u001b[0m Trial 8 finished with value: 0.805176132278936 and parameters: {'lambda_l1': 0.0014691239860705116, 'lambda_l2': 2.091978294467618e-07, 'num_leaves': 152, 'feature_fraction': 0.8198550160125587, 'bagging_fraction': 0.46140065729669555, 'bagging_freq': 3, 'min_child_samples': 71}. Best is trial 3 with value: 0.8123652048885693.\u001b[0m\n"
          ]
        },
        {
          "output_type": "stream",
          "name": "stdout",
          "text": [
            "[LightGBM] [Warning] lambda_l1 is set=5.340887446119036e-05, reg_alpha=0.0 will be ignored. Current value: lambda_l1=5.340887446119036e-05\n",
            "[LightGBM] [Warning] feature_fraction is set=0.7982767871318732, colsample_bytree=1.0 will be ignored. Current value: feature_fraction=0.7982767871318732\n",
            "[LightGBM] [Warning] bagging_freq is set=7, subsample_freq=0 will be ignored. Current value: bagging_freq=7\n",
            "[LightGBM] [Warning] lambda_l2 is set=2.8156659603215856e-08, reg_lambda=0.0 will be ignored. Current value: lambda_l2=2.8156659603215856e-08\n",
            "[LightGBM] [Warning] bagging_fraction is set=0.7089334672349852, subsample=1.0 will be ignored. Current value: bagging_fraction=0.7089334672349852\n"
          ]
        },
        {
          "output_type": "stream",
          "name": "stderr",
          "text": [
            "\u001b[32m[I 2023-04-08 19:15:31,352]\u001b[0m Trial 9 finished with value: 0.8080517613227893 and parameters: {'lambda_l1': 5.340887446119036e-05, 'lambda_l2': 2.8156659603215856e-08, 'num_leaves': 138, 'feature_fraction': 0.7982767871318732, 'bagging_fraction': 0.7089334672349852, 'bagging_freq': 7, 'min_child_samples': 61}. Best is trial 3 with value: 0.8123652048885693.\u001b[0m\n"
          ]
        },
        {
          "output_type": "stream",
          "name": "stdout",
          "text": [
            "[LightGBM] [Warning] lambda_l1 is set=8.712643539939922, reg_alpha=0.0 will be ignored. Current value: lambda_l1=8.712643539939922\n",
            "[LightGBM] [Warning] feature_fraction is set=0.9925937090708492, colsample_bytree=1.0 will be ignored. Current value: feature_fraction=0.9925937090708492\n",
            "[LightGBM] [Warning] bagging_freq is set=6, subsample_freq=0 will be ignored. Current value: bagging_freq=6\n",
            "[LightGBM] [Warning] lambda_l2 is set=1.549083458183585e-05, reg_lambda=0.0 will be ignored. Current value: lambda_l2=1.549083458183585e-05\n",
            "[LightGBM] [Warning] bagging_fraction is set=0.6768889197383504, subsample=1.0 will be ignored. Current value: bagging_fraction=0.6768889197383504\n"
          ]
        },
        {
          "output_type": "stream",
          "name": "stderr",
          "text": [
            "\u001b[32m[I 2023-04-08 19:15:32,265]\u001b[0m Trial 10 finished with value: 0.8015815959741194 and parameters: {'lambda_l1': 8.712643539939922, 'lambda_l2': 1.549083458183585e-05, 'num_leaves': 248, 'feature_fraction': 0.9925937090708492, 'bagging_fraction': 0.6768889197383504, 'bagging_freq': 6, 'min_child_samples': 43}. Best is trial 3 with value: 0.8123652048885693.\u001b[0m\n"
          ]
        },
        {
          "output_type": "stream",
          "name": "stdout",
          "text": [
            "[LightGBM] [Warning] lambda_l1 is set=0.02188304077492897, reg_alpha=0.0 will be ignored. Current value: lambda_l1=0.02188304077492897\n",
            "[LightGBM] [Warning] feature_fraction is set=0.9643954701119819, colsample_bytree=1.0 will be ignored. Current value: feature_fraction=0.9643954701119819\n",
            "[LightGBM] [Warning] bagging_freq is set=5, subsample_freq=0 will be ignored. Current value: bagging_freq=5\n",
            "[LightGBM] [Warning] lambda_l2 is set=1.1380260878706794, reg_lambda=0.0 will be ignored. Current value: lambda_l2=1.1380260878706794\n",
            "[LightGBM] [Warning] bagging_fraction is set=0.9817232796912836, subsample=1.0 will be ignored. Current value: bagging_fraction=0.9817232796912836\n"
          ]
        },
        {
          "output_type": "stream",
          "name": "stderr",
          "text": [
            "\u001b[32m[I 2023-04-08 19:15:33,304]\u001b[0m Trial 11 finished with value: 0.8080517613227893 and parameters: {'lambda_l1': 0.02188304077492897, 'lambda_l2': 1.1380260878706794, 'num_leaves': 67, 'feature_fraction': 0.9643954701119819, 'bagging_fraction': 0.9817232796912836, 'bagging_freq': 5, 'min_child_samples': 53}. Best is trial 3 with value: 0.8123652048885693.\u001b[0m\n"
          ]
        },
        {
          "output_type": "stream",
          "name": "stdout",
          "text": [
            "[LightGBM] [Warning] lambda_l1 is set=2.195652566262263, reg_alpha=0.0 will be ignored. Current value: lambda_l1=2.195652566262263\n",
            "[LightGBM] [Warning] feature_fraction is set=0.8834122861669267, colsample_bytree=1.0 will be ignored. Current value: feature_fraction=0.8834122861669267\n",
            "[LightGBM] [Warning] bagging_freq is set=1, subsample_freq=0 will be ignored. Current value: bagging_freq=1\n",
            "[LightGBM] [Warning] lambda_l2 is set=6.423737310936281, reg_lambda=0.0 will be ignored. Current value: lambda_l2=6.423737310936281\n",
            "[LightGBM] [Warning] bagging_fraction is set=0.996775506576717, subsample=1.0 will be ignored. Current value: bagging_fraction=0.996775506576717\n"
          ]
        },
        {
          "output_type": "stream",
          "name": "stderr",
          "text": [
            "\u001b[32m[I 2023-04-08 19:15:33,965]\u001b[0m Trial 12 finished with value: 0.8080517613227893 and parameters: {'lambda_l1': 2.195652566262263, 'lambda_l2': 6.423737310936281, 'num_leaves': 87, 'feature_fraction': 0.8834122861669267, 'bagging_fraction': 0.996775506576717, 'bagging_freq': 1, 'min_child_samples': 98}. Best is trial 3 with value: 0.8123652048885693.\u001b[0m\n"
          ]
        },
        {
          "output_type": "stream",
          "name": "stdout",
          "text": [
            "[LightGBM] [Warning] lambda_l1 is set=0.05932616793504327, reg_alpha=0.0 will be ignored. Current value: lambda_l1=0.05932616793504327\n",
            "[LightGBM] [Warning] feature_fraction is set=0.8782196400387425, colsample_bytree=1.0 will be ignored. Current value: feature_fraction=0.8782196400387425\n",
            "[LightGBM] [Warning] bagging_freq is set=5, subsample_freq=0 will be ignored. Current value: bagging_freq=5\n",
            "[LightGBM] [Warning] lambda_l2 is set=0.0006907393317806886, reg_lambda=0.0 will be ignored. Current value: lambda_l2=0.0006907393317806886\n",
            "[LightGBM] [Warning] bagging_fraction is set=0.8916085583286862, subsample=1.0 will be ignored. Current value: bagging_fraction=0.8916085583286862\n"
          ]
        },
        {
          "output_type": "stream",
          "name": "stderr",
          "text": [
            "\u001b[32m[I 2023-04-08 19:15:39,356]\u001b[0m Trial 13 finished with value: 0.803019410496046 and parameters: {'lambda_l1': 0.05932616793504327, 'lambda_l2': 0.0006907393317806886, 'num_leaves': 194, 'feature_fraction': 0.8782196400387425, 'bagging_fraction': 0.8916085583286862, 'bagging_freq': 5, 'min_child_samples': 40}. Best is trial 3 with value: 0.8123652048885693.\u001b[0m\n"
          ]
        },
        {
          "output_type": "stream",
          "name": "stdout",
          "text": [
            "[LightGBM] [Warning] lambda_l1 is set=0.0014140905655246048, reg_alpha=0.0 will be ignored. Current value: lambda_l1=0.0014140905655246048\n",
            "[LightGBM] [Warning] feature_fraction is set=0.7429055342955537, colsample_bytree=1.0 will be ignored. Current value: feature_fraction=0.7429055342955537\n",
            "[LightGBM] [Warning] bagging_freq is set=4, subsample_freq=0 will be ignored. Current value: bagging_freq=4\n",
            "[LightGBM] [Warning] lambda_l2 is set=0.0006433268192134389, reg_lambda=0.0 will be ignored. Current value: lambda_l2=0.0006433268192134389\n",
            "[LightGBM] [Warning] bagging_fraction is set=0.9082747796615125, subsample=1.0 will be ignored. Current value: bagging_fraction=0.9082747796615125\n"
          ]
        },
        {
          "output_type": "stream",
          "name": "stderr",
          "text": [
            "\u001b[32m[I 2023-04-08 19:15:41,592]\u001b[0m Trial 14 finished with value: 0.7979870596693026 and parameters: {'lambda_l1': 0.0014140905655246048, 'lambda_l2': 0.0006433268192134389, 'num_leaves': 55, 'feature_fraction': 0.7429055342955537, 'bagging_fraction': 0.9082747796615125, 'bagging_freq': 4, 'min_child_samples': 64}. Best is trial 3 with value: 0.8123652048885693.\u001b[0m\n"
          ]
        },
        {
          "output_type": "stream",
          "name": "stdout",
          "text": [
            "[LightGBM] [Warning] lambda_l1 is set=4.7018778691238357e-07, reg_alpha=0.0 will be ignored. Current value: lambda_l1=4.7018778691238357e-07\n",
            "[LightGBM] [Warning] feature_fraction is set=0.6137149364143296, colsample_bytree=1.0 will be ignored. Current value: feature_fraction=0.6137149364143296\n",
            "[LightGBM] [Warning] bagging_freq is set=2, subsample_freq=0 will be ignored. Current value: bagging_freq=2\n",
            "[LightGBM] [Warning] lambda_l2 is set=1.2383774907200228e-06, reg_lambda=0.0 will be ignored. Current value: lambda_l2=1.2383774907200228e-06\n",
            "[LightGBM] [Warning] bagging_fraction is set=0.9989651471399537, subsample=1.0 will be ignored. Current value: bagging_fraction=0.9989651471399537\n"
          ]
        },
        {
          "output_type": "stream",
          "name": "stderr",
          "text": [
            "\u001b[32m[I 2023-04-08 19:15:45,895]\u001b[0m Trial 15 finished with value: 0.7864845434938893 and parameters: {'lambda_l1': 4.7018778691238357e-07, 'lambda_l2': 1.2383774907200228e-06, 'num_leaves': 230, 'feature_fraction': 0.6137149364143296, 'bagging_fraction': 0.9989651471399537, 'bagging_freq': 2, 'min_child_samples': 6}. Best is trial 3 with value: 0.8123652048885693.\u001b[0m\n"
          ]
        },
        {
          "output_type": "stream",
          "name": "stdout",
          "text": [
            "[LightGBM] [Warning] lambda_l1 is set=0.4160822459679812, reg_alpha=0.0 will be ignored. Current value: lambda_l1=0.4160822459679812\n",
            "[LightGBM] [Warning] feature_fraction is set=0.7418959549242107, colsample_bytree=1.0 will be ignored. Current value: feature_fraction=0.7418959549242107\n",
            "[LightGBM] [Warning] bagging_freq is set=3, subsample_freq=0 will be ignored. Current value: bagging_freq=3\n",
            "[LightGBM] [Warning] lambda_l2 is set=2.4109339979461693e-05, reg_lambda=0.0 will be ignored. Current value: lambda_l2=2.4109339979461693e-05\n",
            "[LightGBM] [Warning] bagging_fraction is set=0.8163982412288103, subsample=1.0 will be ignored. Current value: bagging_fraction=0.8163982412288103\n"
          ]
        },
        {
          "output_type": "stream",
          "name": "stderr",
          "text": [
            "\u001b[32m[I 2023-04-08 19:15:46,465]\u001b[0m Trial 16 finished with value: 0.8037383177570093 and parameters: {'lambda_l1': 0.4160822459679812, 'lambda_l2': 2.4109339979461693e-05, 'num_leaves': 178, 'feature_fraction': 0.7418959549242107, 'bagging_fraction': 0.8163982412288103, 'bagging_freq': 3, 'min_child_samples': 21}. Best is trial 3 with value: 0.8123652048885693.\u001b[0m\n"
          ]
        },
        {
          "output_type": "stream",
          "name": "stdout",
          "text": [
            "[LightGBM] [Warning] lambda_l1 is set=0.0002921275560269595, reg_alpha=0.0 will be ignored. Current value: lambda_l1=0.0002921275560269595\n",
            "[LightGBM] [Warning] feature_fraction is set=0.918791290057132, colsample_bytree=1.0 will be ignored. Current value: feature_fraction=0.918791290057132\n",
            "[LightGBM] [Warning] bagging_freq is set=5, subsample_freq=0 will be ignored. Current value: bagging_freq=5\n",
            "[LightGBM] [Warning] lambda_l2 is set=0.4505582970336609, reg_lambda=0.0 will be ignored. Current value: lambda_l2=0.4505582970336609\n",
            "[LightGBM] [Warning] bagging_fraction is set=0.9101690807113071, subsample=1.0 will be ignored. Current value: bagging_fraction=0.9101690807113071\n"
          ]
        },
        {
          "output_type": "stream",
          "name": "stderr",
          "text": [
            "\u001b[32m[I 2023-04-08 19:15:46,827]\u001b[0m Trial 17 finished with value: 0.8037383177570093 and parameters: {'lambda_l1': 0.0002921275560269595, 'lambda_l2': 0.4505582970336609, 'num_leaves': 91, 'feature_fraction': 0.918791290057132, 'bagging_fraction': 0.9101690807113071, 'bagging_freq': 5, 'min_child_samples': 53}. Best is trial 3 with value: 0.8123652048885693.\u001b[0m\n",
            "\u001b[32m[I 2023-04-08 19:15:46,961]\u001b[0m Trial 18 finished with value: 0.8058950395398994 and parameters: {'lambda_l1': 0.012148220538081511, 'lambda_l2': 0.002353473009545225, 'num_leaves': 4, 'feature_fraction': 0.837250628796929, 'bagging_fraction': 0.8598022393299446, 'bagging_freq': 1, 'min_child_samples': 86}. Best is trial 3 with value: 0.8123652048885693.\u001b[0m\n"
          ]
        },
        {
          "output_type": "stream",
          "name": "stdout",
          "text": [
            "[LightGBM] [Warning] lambda_l1 is set=0.012148220538081511, reg_alpha=0.0 will be ignored. Current value: lambda_l1=0.012148220538081511\n",
            "[LightGBM] [Warning] feature_fraction is set=0.837250628796929, colsample_bytree=1.0 will be ignored. Current value: feature_fraction=0.837250628796929\n",
            "[LightGBM] [Warning] bagging_freq is set=1, subsample_freq=0 will be ignored. Current value: bagging_freq=1\n",
            "[LightGBM] [Warning] lambda_l2 is set=0.002353473009545225, reg_lambda=0.0 will be ignored. Current value: lambda_l2=0.002353473009545225\n",
            "[LightGBM] [Warning] bagging_fraction is set=0.8598022393299446, subsample=1.0 will be ignored. Current value: bagging_fraction=0.8598022393299446\n",
            "[LightGBM] [Warning] lambda_l1 is set=0.3031698611293977, reg_alpha=0.0 will be ignored. Current value: lambda_l1=0.3031698611293977\n",
            "[LightGBM] [Warning] feature_fraction is set=0.772600092505302, colsample_bytree=1.0 will be ignored. Current value: feature_fraction=0.772600092505302\n",
            "[LightGBM] [Warning] bagging_freq is set=4, subsample_freq=0 will be ignored. Current value: bagging_freq=4\n",
            "[LightGBM] [Warning] lambda_l2 is set=8.221430169867247, reg_lambda=0.0 will be ignored. Current value: lambda_l2=8.221430169867247\n",
            "[LightGBM] [Warning] bagging_fraction is set=0.772612216280748, subsample=1.0 will be ignored. Current value: bagging_fraction=0.772612216280748\n"
          ]
        },
        {
          "output_type": "stream",
          "name": "stderr",
          "text": [
            "\u001b[32m[I 2023-04-08 19:15:47,203]\u001b[0m Trial 19 finished with value: 0.805176132278936 and parameters: {'lambda_l1': 0.3031698611293977, 'lambda_l2': 8.221430169867247, 'num_leaves': 110, 'feature_fraction': 0.772600092505302, 'bagging_fraction': 0.772612216280748, 'bagging_freq': 4, 'min_child_samples': 65}. Best is trial 3 with value: 0.8123652048885693.\u001b[0m\n"
          ]
        },
        {
          "output_type": "stream",
          "name": "stdout",
          "text": [
            "\n",
            "==============================================\n",
            "Number of finished trials: 20\n",
            "Best trial:\n",
            "Value: 0.8123652048885693\n",
            "  Params: \n",
            "    lambda_l1: 5.180291295699627\n",
            "    lambda_l2: 6.6193844201488494e-06\n",
            "    num_leaves: 178\n",
            "    feature_fraction: 0.9258334913776229\n",
            "    bagging_fraction: 0.9367639981023084\n",
            "    bagging_freq: 1\n",
            "    min_child_samples: 8\n",
            "==============================================\n"
          ]
        }
      ]
    },
    {
      "cell_type": "code",
      "source": [
        "model = lgb.LGBMClassifier(**params)\n",
        "result_ohe_tuned = test_tuned_model(model, X_train, y_train, X_test, y_test)"
      ],
      "metadata": {
        "colab": {
          "base_uri": "https://localhost:8080/"
        },
        "id": "JgWmh4QnMOM8",
        "outputId": "7cbc6be2-38dc-4c7b-d249-8815a4d5976f"
      },
      "execution_count": null,
      "outputs": [
        {
          "output_type": "stream",
          "name": "stdout",
          "text": [
            "[LightGBM] [Warning] lambda_l1 is set=5.180291295699627, reg_alpha=0.0 will be ignored. Current value: lambda_l1=5.180291295699627\n",
            "[LightGBM] [Warning] feature_fraction is set=0.9258334913776229, colsample_bytree=1.0 will be ignored. Current value: feature_fraction=0.9258334913776229\n",
            "[LightGBM] [Warning] bagging_freq is set=1, subsample_freq=0 will be ignored. Current value: bagging_freq=1\n",
            "[LightGBM] [Warning] lambda_l2 is set=6.6193844201488494e-06, reg_lambda=0.0 will be ignored. Current value: lambda_l2=6.6193844201488494e-06\n",
            "[LightGBM] [Warning] bagging_fraction is set=0.9367639981023084, subsample=1.0 will be ignored. Current value: bagging_fraction=0.9367639981023084\n",
            "\n",
            "Accuracy after tuning: 79.12593444508337%\n",
            "\n",
            "Classification report\n",
            "              precision    recall  f1-score   support\n",
            "\n",
            "       False       0.80      0.77      0.79       861\n",
            "        True       0.78      0.81      0.80       878\n",
            "\n",
            "    accuracy                           0.79      1739\n",
            "   macro avg       0.79      0.79      0.79      1739\n",
            "weighted avg       0.79      0.79      0.79      1739\n",
            "\n",
            "\n",
            "Confusion matrix\n",
            "[[663 198]\n",
            " [165 713]]\n",
            "==============================================\n",
            "[LightGBM] [Warning] lambda_l1 is set=5.180291295699627, reg_alpha=0.0 will be ignored. Current value: lambda_l1=5.180291295699627\n",
            "[LightGBM] [Warning] feature_fraction is set=0.9258334913776229, colsample_bytree=1.0 will be ignored. Current value: feature_fraction=0.9258334913776229\n",
            "[LightGBM] [Warning] bagging_freq is set=1, subsample_freq=0 will be ignored. Current value: bagging_freq=1\n",
            "[LightGBM] [Warning] lambda_l2 is set=6.6193844201488494e-06, reg_lambda=0.0 will be ignored. Current value: lambda_l2=6.6193844201488494e-06\n",
            "[LightGBM] [Warning] bagging_fraction is set=0.9367639981023084, subsample=1.0 will be ignored. Current value: bagging_fraction=0.9367639981023084\n",
            "\n",
            "All features number: 90, Selected features number: 40\n",
            "Selected_features:\n",
            "\n",
            "HomePlanet_Earth\n",
            "HomePlanet_Europa\n",
            "CryoSleep_False\n",
            "Destination_55 Cancri e\n",
            "Destination_TRAPPIST-1e\n",
            "Cabin_deck_C\n",
            "Cabin_deck_D\n",
            "Cabin_deck_E\n",
            "Cabin_deck_F\n",
            "Cabin_deck_G\n",
            "Cabin_side_P\n",
            "Cabin_side_S\n",
            "Cabin_num/100_0\n",
            "Cabin_num/100_3\n",
            "Cabin_num/100_4\n",
            "Cabin_num/100_6\n",
            "Cabin_num/100_8\n",
            "Cabin_num/100_9\n",
            "Cabin_num/100_10\n",
            "Cabin_num/100_11\n",
            "Cabin_num/100_14\n",
            "Age_deciles_4\n",
            "Age_deciles_5\n",
            "Age_deciles_7\n",
            "RService_deciles_1\n",
            "RService_deciles_9\n",
            "RService_deciles_10\n",
            "FCourt_deciles_7\n",
            "FCourt_deciles_9\n",
            "FCourt_deciles_10\n",
            "ShMall_deciles_8\n",
            "ShMall_deciles_10\n",
            "Spa_deciles_1\n",
            "Spa_deciles_7\n",
            "Spa_deciles_9\n",
            "Spa_deciles_10\n",
            "VRD_deciles_1\n",
            "VRD_deciles_7\n",
            "VRD_deciles_9\n",
            "VRD_deciles_10\n"
          ]
        }
      ]
    },
    {
      "cell_type": "code",
      "source": [
        "X_train, X_val, X_test, y_train, y_val, y_test = get_subsets(df_te)\n",
        "params = model_optimization(20, objective, samp=sampler)"
      ],
      "metadata": {
        "colab": {
          "base_uri": "https://localhost:8080/"
        },
        "id": "CnyZTpMp-px6",
        "outputId": "5b8bd5a6-0419-477b-b50a-e04f0238aaa6"
      },
      "execution_count": null,
      "outputs": [
        {
          "output_type": "stream",
          "name": "stderr",
          "text": [
            "\u001b[32m[I 2023-04-08 19:15:47,650]\u001b[0m A new study created in memory with name: no-name-31964fbf-c35f-4951-bf14-21a8a2d3e070\u001b[0m\n",
            "\u001b[32m[I 2023-04-08 19:15:47,807]\u001b[0m Trial 0 finished with value: 0.800862688713156 and parameters: {'lambda_l1': 1.3508814484493448, 'lambda_l2': 1.7269204695427844e-07, 'num_leaves': 37, 'feature_fraction': 0.8844347732257143, 'bagging_fraction': 0.6386061021913202, 'bagging_freq': 2, 'min_child_samples': 94}. Best is trial 0 with value: 0.800862688713156.\u001b[0m\n"
          ]
        },
        {
          "output_type": "stream",
          "name": "stdout",
          "text": [
            "[LightGBM] [Warning] lambda_l1 is set=1.3486297561351885e-05, reg_alpha=0.0 will be ignored. Current value: lambda_l1=1.3486297561351885e-05\n",
            "[LightGBM] [Warning] feature_fraction is set=0.9299836547234859, colsample_bytree=1.0 will be ignored. Current value: feature_fraction=0.9299836547234859\n",
            "[LightGBM] [Warning] bagging_freq is set=6, subsample_freq=0 will be ignored. Current value: bagging_freq=6\n",
            "[LightGBM] [Warning] lambda_l2 is set=0.05718852932029385, reg_lambda=0.0 will be ignored. Current value: lambda_l2=0.05718852932029385\n",
            "[LightGBM] [Warning] bagging_fraction is set=0.7742033242333654, subsample=1.0 will be ignored. Current value: bagging_fraction=0.7742033242333654\n"
          ]
        },
        {
          "output_type": "stream",
          "name": "stderr",
          "text": [
            "\u001b[32m[I 2023-04-08 19:15:48,116]\u001b[0m Trial 1 finished with value: 0.800862688713156 and parameters: {'lambda_l1': 1.3486297561351885e-05, 'lambda_l2': 0.05718852932029385, 'num_leaves': 187, 'feature_fraction': 0.9299836547234859, 'bagging_fraction': 0.7742033242333654, 'bagging_freq': 6, 'min_child_samples': 38}. Best is trial 0 with value: 0.800862688713156.\u001b[0m\n"
          ]
        },
        {
          "output_type": "stream",
          "name": "stdout",
          "text": [
            "[LightGBM] [Warning] lambda_l1 is set=2.6875157982766948e-06, reg_alpha=0.0 will be ignored. Current value: lambda_l1=2.6875157982766948e-06\n",
            "[LightGBM] [Warning] feature_fraction is set=0.9789040282890313, colsample_bytree=1.0 will be ignored. Current value: feature_fraction=0.9789040282890313\n",
            "[LightGBM] [Warning] bagging_freq is set=5, subsample_freq=0 will be ignored. Current value: bagging_freq=5\n",
            "[LightGBM] [Warning] lambda_l2 is set=1.1560482583788434, reg_lambda=0.0 will be ignored. Current value: lambda_l2=1.1560482583788434\n",
            "[LightGBM] [Warning] bagging_fraction is set=0.7980648986910688, subsample=1.0 will be ignored. Current value: bagging_fraction=0.7980648986910688\n"
          ]
        },
        {
          "output_type": "stream",
          "name": "stderr",
          "text": [
            "\u001b[32m[I 2023-04-08 19:15:48,808]\u001b[0m Trial 2 finished with value: 0.794392523364486 and parameters: {'lambda_l1': 2.6875157982766948e-06, 'lambda_l2': 1.1560482583788434, 'num_leaves': 111, 'feature_fraction': 0.9789040282890313, 'bagging_fraction': 0.7980648986910688, 'bagging_freq': 5, 'min_child_samples': 16}. Best is trial 0 with value: 0.800862688713156.\u001b[0m\n"
          ]
        },
        {
          "output_type": "stream",
          "name": "stdout",
          "text": [
            "[LightGBM] [Warning] lambda_l1 is set=3.510777677785371, reg_alpha=0.0 will be ignored. Current value: lambda_l1=3.510777677785371\n",
            "[LightGBM] [Warning] feature_fraction is set=0.6448820816567687, colsample_bytree=1.0 will be ignored. Current value: feature_fraction=0.6448820816567687\n",
            "[LightGBM] [Warning] bagging_freq is set=7, subsample_freq=0 will be ignored. Current value: bagging_freq=7\n",
            "[LightGBM] [Warning] lambda_l2 is set=0.00011199772508910995, reg_lambda=0.0 will be ignored. Current value: lambda_l2=0.00011199772508910995\n",
            "[LightGBM] [Warning] bagging_fraction is set=0.5422161881458166, subsample=1.0 will be ignored. Current value: bagging_fraction=0.5422161881458166\n"
          ]
        },
        {
          "output_type": "stream",
          "name": "stderr",
          "text": [
            "\u001b[32m[I 2023-04-08 19:15:49,704]\u001b[0m Trial 3 finished with value: 0.798705966930266 and parameters: {'lambda_l1': 3.510777677785371, 'lambda_l2': 0.00011199772508910995, 'num_leaves': 149, 'feature_fraction': 0.6448820816567687, 'bagging_fraction': 0.5422161881458166, 'bagging_freq': 7, 'min_child_samples': 60}. Best is trial 0 with value: 0.800862688713156.\u001b[0m\n"
          ]
        },
        {
          "output_type": "stream",
          "name": "stdout",
          "text": [
            "[LightGBM] [Warning] lambda_l1 is set=1.0612872414677476e-08, reg_alpha=0.0 will be ignored. Current value: lambda_l1=1.0612872414677476e-08\n",
            "[LightGBM] [Warning] feature_fraction is set=0.7162348613545656, colsample_bytree=1.0 will be ignored. Current value: feature_fraction=0.7162348613545656\n",
            "[LightGBM] [Warning] bagging_freq is set=3, subsample_freq=0 will be ignored. Current value: bagging_freq=3\n",
            "[LightGBM] [Warning] lambda_l2 is set=0.0035834737096036534, reg_lambda=0.0 will be ignored. Current value: lambda_l2=0.0035834737096036534\n",
            "[LightGBM] [Warning] bagging_fraction is set=0.9315652595864647, subsample=1.0 will be ignored. Current value: bagging_fraction=0.9315652595864647\n"
          ]
        },
        {
          "output_type": "stream",
          "name": "stderr",
          "text": [
            "\u001b[32m[I 2023-04-08 19:15:51,478]\u001b[0m Trial 4 finished with value: 0.803019410496046 and parameters: {'lambda_l1': 1.0612872414677476e-08, 'lambda_l2': 0.0035834737096036534, 'num_leaves': 85, 'feature_fraction': 0.7162348613545656, 'bagging_fraction': 0.9315652595864647, 'bagging_freq': 3, 'min_child_samples': 92}. Best is trial 4 with value: 0.803019410496046.\u001b[0m\n"
          ]
        },
        {
          "output_type": "stream",
          "name": "stdout",
          "text": [
            "[LightGBM] [Warning] lambda_l1 is set=0.004076064447663881, reg_alpha=0.0 will be ignored. Current value: lambda_l1=0.004076064447663881\n",
            "[LightGBM] [Warning] feature_fraction is set=0.8145381505101543, colsample_bytree=1.0 will be ignored. Current value: feature_fraction=0.8145381505101543\n",
            "[LightGBM] [Warning] bagging_freq is set=2, subsample_freq=0 will be ignored. Current value: bagging_freq=2\n",
            "[LightGBM] [Warning] lambda_l2 is set=1.3880054955129728e-08, reg_lambda=0.0 will be ignored. Current value: lambda_l2=1.3880054955129728e-08\n",
            "[LightGBM] [Warning] bagging_fraction is set=0.9983937102708883, subsample=1.0 will be ignored. Current value: bagging_fraction=0.9983937102708883\n"
          ]
        },
        {
          "output_type": "stream",
          "name": "stderr",
          "text": [
            "\u001b[32m[I 2023-04-08 19:15:52,877]\u001b[0m Trial 5 finished with value: 0.7850467289719626 and parameters: {'lambda_l1': 0.004076064447663881, 'lambda_l2': 1.3880054955129728e-08, 'num_leaves': 239, 'feature_fraction': 0.8145381505101543, 'bagging_fraction': 0.9983937102708883, 'bagging_freq': 2, 'min_child_samples': 18}. Best is trial 4 with value: 0.803019410496046.\u001b[0m\n",
            "\u001b[32m[I 2023-04-08 19:15:53,068]\u001b[0m Trial 6 finished with value: 0.7972681524083394 and parameters: {'lambda_l1': 2.4737691393844554, 'lambda_l2': 0.018679422849155414, 'num_leaves': 18, 'feature_fraction': 0.8532778315614798, 'bagging_fraction': 0.8523257130767479, 'bagging_freq': 7, 'min_child_samples': 73}. Best is trial 4 with value: 0.803019410496046.\u001b[0m\n"
          ]
        },
        {
          "output_type": "stream",
          "name": "stdout",
          "text": [
            "[LightGBM] [Warning] lambda_l1 is set=2.4737691393844554, reg_alpha=0.0 will be ignored. Current value: lambda_l1=2.4737691393844554\n",
            "[LightGBM] [Warning] feature_fraction is set=0.8532778315614798, colsample_bytree=1.0 will be ignored. Current value: feature_fraction=0.8532778315614798\n",
            "[LightGBM] [Warning] bagging_freq is set=7, subsample_freq=0 will be ignored. Current value: bagging_freq=7\n",
            "[LightGBM] [Warning] lambda_l2 is set=0.018679422849155414, reg_lambda=0.0 will be ignored. Current value: lambda_l2=0.018679422849155414\n",
            "[LightGBM] [Warning] bagging_fraction is set=0.8523257130767479, subsample=1.0 will be ignored. Current value: bagging_fraction=0.8523257130767479\n",
            "[LightGBM] [Warning] lambda_l1 is set=1.3135259518964455e-07, reg_alpha=0.0 will be ignored. Current value: lambda_l1=1.3135259518964455e-07\n",
            "[LightGBM] [Warning] feature_fraction is set=0.4169838928124768, colsample_bytree=1.0 will be ignored. Current value: feature_fraction=0.4169838928124768\n",
            "[LightGBM] [Warning] bagging_freq is set=7, subsample_freq=0 will be ignored. Current value: bagging_freq=7\n",
            "[LightGBM] [Warning] lambda_l2 is set=1.5098062003276678e-08, reg_lambda=0.0 will be ignored. Current value: lambda_l2=1.5098062003276678e-08\n",
            "[LightGBM] [Warning] bagging_fraction is set=0.5477266405618275, subsample=1.0 will be ignored. Current value: bagging_fraction=0.5477266405618275\n"
          ]
        },
        {
          "output_type": "stream",
          "name": "stderr",
          "text": [
            "\u001b[32m[I 2023-04-08 19:15:53,172]\u001b[0m Trial 7 finished with value: 0.798705966930266 and parameters: {'lambda_l1': 1.3135259518964455e-07, 'lambda_l2': 1.5098062003276678e-08, 'num_leaves': 8, 'feature_fraction': 0.4169838928124768, 'bagging_fraction': 0.5477266405618275, 'bagging_freq': 7, 'min_child_samples': 56}. Best is trial 4 with value: 0.803019410496046.\u001b[0m\n",
            "\u001b[32m[I 2023-04-08 19:15:53,360]\u001b[0m Trial 8 finished with value: 0.7979870596693026 and parameters: {'lambda_l1': 0.0009449260201027949, 'lambda_l2': 0.3786849376628258, 'num_leaves': 33, 'feature_fraction': 0.5675102074066837, 'bagging_fraction': 0.7514555628749727, 'bagging_freq': 7, 'min_child_samples': 58}. Best is trial 4 with value: 0.803019410496046.\u001b[0m\n"
          ]
        },
        {
          "output_type": "stream",
          "name": "stdout",
          "text": [
            "[LightGBM] [Warning] lambda_l1 is set=0.0009449260201027949, reg_alpha=0.0 will be ignored. Current value: lambda_l1=0.0009449260201027949\n",
            "[LightGBM] [Warning] feature_fraction is set=0.5675102074066837, colsample_bytree=1.0 will be ignored. Current value: feature_fraction=0.5675102074066837\n",
            "[LightGBM] [Warning] bagging_freq is set=7, subsample_freq=0 will be ignored. Current value: bagging_freq=7\n",
            "[LightGBM] [Warning] lambda_l2 is set=0.3786849376628258, reg_lambda=0.0 will be ignored. Current value: lambda_l2=0.3786849376628258\n",
            "[LightGBM] [Warning] bagging_fraction is set=0.7514555628749727, subsample=1.0 will be ignored. Current value: bagging_fraction=0.7514555628749727\n",
            "[LightGBM] [Warning] lambda_l1 is set=1.4717213981231934e-08, reg_alpha=0.0 will be ignored. Current value: lambda_l1=1.4717213981231934e-08\n",
            "[LightGBM] [Warning] feature_fraction is set=0.8842631173712675, colsample_bytree=1.0 will be ignored. Current value: feature_fraction=0.8842631173712675\n",
            "[LightGBM] [Warning] bagging_freq is set=7, subsample_freq=0 will be ignored. Current value: bagging_freq=7\n",
            "[LightGBM] [Warning] lambda_l2 is set=0.16058096155247428, reg_lambda=0.0 will be ignored. Current value: lambda_l2=0.16058096155247428\n",
            "[LightGBM] [Warning] bagging_fraction is set=0.632716386438503, subsample=1.0 will be ignored. Current value: bagging_fraction=0.632716386438503\n"
          ]
        },
        {
          "output_type": "stream",
          "name": "stderr",
          "text": [
            "\u001b[32m[I 2023-04-08 19:15:53,539]\u001b[0m Trial 9 finished with value: 0.7951114306254493 and parameters: {'lambda_l1': 1.4717213981231934e-08, 'lambda_l2': 0.16058096155247428, 'num_leaves': 61, 'feature_fraction': 0.8842631173712675, 'bagging_fraction': 0.632716386438503, 'bagging_freq': 7, 'min_child_samples': 76}. Best is trial 4 with value: 0.803019410496046.\u001b[0m\n",
            "\u001b[32m[I 2023-04-08 19:15:53,719]\u001b[0m Trial 10 finished with value: 0.7958303378864127 and parameters: {'lambda_l1': 1.710207903954888e-08, 'lambda_l2': 0.00022973279844881492, 'num_leaves': 100, 'feature_fraction': 0.7425004717497646, 'bagging_fraction': 0.4000632675583052, 'bagging_freq': 3, 'min_child_samples': 98}. Best is trial 4 with value: 0.803019410496046.\u001b[0m\n"
          ]
        },
        {
          "output_type": "stream",
          "name": "stdout",
          "text": [
            "[LightGBM] [Warning] lambda_l1 is set=1.710207903954888e-08, reg_alpha=0.0 will be ignored. Current value: lambda_l1=1.710207903954888e-08\n",
            "[LightGBM] [Warning] feature_fraction is set=0.7425004717497646, colsample_bytree=1.0 will be ignored. Current value: feature_fraction=0.7425004717497646\n",
            "[LightGBM] [Warning] bagging_freq is set=3, subsample_freq=0 will be ignored. Current value: bagging_freq=3\n",
            "[LightGBM] [Warning] lambda_l2 is set=0.00022973279844881492, reg_lambda=0.0 will be ignored. Current value: lambda_l2=0.00022973279844881492\n",
            "[LightGBM] [Warning] bagging_fraction is set=0.4000632675583052, subsample=1.0 will be ignored. Current value: bagging_fraction=0.4000632675583052\n",
            "[LightGBM] [Warning] lambda_l1 is set=0.03690331630276406, reg_alpha=0.0 will be ignored. Current value: lambda_l1=0.03690331630276406\n",
            "[LightGBM] [Warning] feature_fraction is set=0.7658164138178464, colsample_bytree=1.0 will be ignored. Current value: feature_fraction=0.7658164138178464\n",
            "[LightGBM] [Warning] bagging_freq is set=1, subsample_freq=0 will be ignored. Current value: bagging_freq=1\n",
            "[LightGBM] [Warning] lambda_l2 is set=1.7861910801078849e-06, reg_lambda=0.0 will be ignored. Current value: lambda_l2=1.7861910801078849e-06\n",
            "[LightGBM] [Warning] bagging_fraction is set=0.9174120039694148, subsample=1.0 will be ignored. Current value: bagging_fraction=0.9174120039694148\n"
          ]
        },
        {
          "output_type": "stream",
          "name": "stderr",
          "text": [
            "\u001b[32m[I 2023-04-08 19:15:53,928]\u001b[0m Trial 11 finished with value: 0.8058950395398994 and parameters: {'lambda_l1': 0.03690331630276406, 'lambda_l2': 1.7861910801078849e-06, 'num_leaves': 65, 'feature_fraction': 0.7658164138178464, 'bagging_fraction': 0.9174120039694148, 'bagging_freq': 1, 'min_child_samples': 94}. Best is trial 11 with value: 0.8058950395398994.\u001b[0m\n",
            "\u001b[32m[I 2023-04-08 19:15:54,135]\u001b[0m Trial 12 finished with value: 0.8044572250179727 and parameters: {'lambda_l1': 0.012039636731088692, 'lambda_l2': 6.652237646956939e-06, 'num_leaves': 78, 'feature_fraction': 0.7412127480019319, 'bagging_fraction': 0.940753657243913, 'bagging_freq': 1, 'min_child_samples': 84}. Best is trial 11 with value: 0.8058950395398994.\u001b[0m\n"
          ]
        },
        {
          "output_type": "stream",
          "name": "stdout",
          "text": [
            "[LightGBM] [Warning] lambda_l1 is set=0.012039636731088692, reg_alpha=0.0 will be ignored. Current value: lambda_l1=0.012039636731088692\n",
            "[LightGBM] [Warning] feature_fraction is set=0.7412127480019319, colsample_bytree=1.0 will be ignored. Current value: feature_fraction=0.7412127480019319\n",
            "[LightGBM] [Warning] bagging_freq is set=1, subsample_freq=0 will be ignored. Current value: bagging_freq=1\n",
            "[LightGBM] [Warning] lambda_l2 is set=6.652237646956939e-06, reg_lambda=0.0 will be ignored. Current value: lambda_l2=6.652237646956939e-06\n",
            "[LightGBM] [Warning] bagging_fraction is set=0.940753657243913, subsample=1.0 will be ignored. Current value: bagging_fraction=0.940753657243913\n"
          ]
        },
        {
          "output_type": "stream",
          "name": "stderr",
          "text": [
            "\u001b[32m[I 2023-04-08 19:15:54,376]\u001b[0m Trial 13 finished with value: 0.8037383177570093 and parameters: {'lambda_l1': 0.04157373612083644, 'lambda_l2': 5.544016431939428e-06, 'num_leaves': 147, 'feature_fraction': 0.7767294482208248, 'bagging_fraction': 0.922260883467722, 'bagging_freq': 1, 'min_child_samples': 79}. Best is trial 11 with value: 0.8058950395398994.\u001b[0m\n"
          ]
        },
        {
          "output_type": "stream",
          "name": "stdout",
          "text": [
            "[LightGBM] [Warning] lambda_l1 is set=0.04157373612083644, reg_alpha=0.0 will be ignored. Current value: lambda_l1=0.04157373612083644\n",
            "[LightGBM] [Warning] feature_fraction is set=0.7767294482208248, colsample_bytree=1.0 will be ignored. Current value: feature_fraction=0.7767294482208248\n",
            "[LightGBM] [Warning] bagging_freq is set=1, subsample_freq=0 will be ignored. Current value: bagging_freq=1\n",
            "[LightGBM] [Warning] lambda_l2 is set=5.544016431939428e-06, reg_lambda=0.0 will be ignored. Current value: lambda_l2=5.544016431939428e-06\n",
            "[LightGBM] [Warning] bagging_fraction is set=0.922260883467722, subsample=1.0 will be ignored. Current value: bagging_fraction=0.922260883467722\n"
          ]
        },
        {
          "output_type": "stream",
          "name": "stderr",
          "text": [
            "\u001b[32m[I 2023-04-08 19:15:54,603]\u001b[0m Trial 14 finished with value: 0.8087706685837527 and parameters: {'lambda_l1': 0.021139466940639787, 'lambda_l2': 7.846489121019732e-06, 'num_leaves': 63, 'feature_fraction': 0.6622556022515516, 'bagging_fraction': 0.9874066124989476, 'bagging_freq': 1, 'min_child_samples': 83}. Best is trial 14 with value: 0.8087706685837527.\u001b[0m\n"
          ]
        },
        {
          "output_type": "stream",
          "name": "stdout",
          "text": [
            "[LightGBM] [Warning] lambda_l1 is set=0.021139466940639787, reg_alpha=0.0 will be ignored. Current value: lambda_l1=0.021139466940639787\n",
            "[LightGBM] [Warning] feature_fraction is set=0.6622556022515516, colsample_bytree=1.0 will be ignored. Current value: feature_fraction=0.6622556022515516\n",
            "[LightGBM] [Warning] bagging_freq is set=1, subsample_freq=0 will be ignored. Current value: bagging_freq=1\n",
            "[LightGBM] [Warning] lambda_l2 is set=7.846489121019732e-06, reg_lambda=0.0 will be ignored. Current value: lambda_l2=7.846489121019732e-06\n",
            "[LightGBM] [Warning] bagging_fraction is set=0.9874066124989476, subsample=1.0 will be ignored. Current value: bagging_fraction=0.9874066124989476\n",
            "[LightGBM] [Warning] lambda_l1 is set=0.07297591725797659, reg_alpha=0.0 will be ignored. Current value: lambda_l1=0.07297591725797659\n",
            "[LightGBM] [Warning] feature_fraction is set=0.6468491359491065, colsample_bytree=1.0 will be ignored. Current value: feature_fraction=0.6468491359491065\n",
            "[LightGBM] [Warning] bagging_freq is set=4, subsample_freq=0 will be ignored. Current value: bagging_freq=4\n",
            "[LightGBM] [Warning] lambda_l2 is set=5.235125397987929e-06, reg_lambda=0.0 will be ignored. Current value: lambda_l2=5.235125397987929e-06\n",
            "[LightGBM] [Warning] bagging_fraction is set=0.8570657721884546, subsample=1.0 will be ignored. Current value: bagging_fraction=0.8570657721884546\n"
          ]
        },
        {
          "output_type": "stream",
          "name": "stderr",
          "text": [
            "\u001b[32m[I 2023-04-08 19:15:54,912]\u001b[0m Trial 15 finished with value: 0.800862688713156 and parameters: {'lambda_l1': 0.07297591725797659, 'lambda_l2': 5.235125397987929e-06, 'num_leaves': 61, 'feature_fraction': 0.6468491359491065, 'bagging_fraction': 0.8570657721884546, 'bagging_freq': 4, 'min_child_samples': 41}. Best is trial 14 with value: 0.8087706685837527.\u001b[0m\n"
          ]
        },
        {
          "output_type": "stream",
          "name": "stdout",
          "text": [
            "[LightGBM] [Warning] lambda_l1 is set=0.00018362798598981086, reg_alpha=0.0 will be ignored. Current value: lambda_l1=0.00018362798598981086\n",
            "[LightGBM] [Warning] feature_fraction is set=0.6539182335158303, colsample_bytree=1.0 will be ignored. Current value: feature_fraction=0.6539182335158303\n",
            "[LightGBM] [Warning] bagging_freq is set=2, subsample_freq=0 will be ignored. Current value: bagging_freq=2\n",
            "[LightGBM] [Warning] lambda_l2 is set=6.376158958255017e-07, reg_lambda=0.0 will be ignored. Current value: lambda_l2=6.376158958255017e-07\n",
            "[LightGBM] [Warning] bagging_fraction is set=0.9710121999514061, subsample=1.0 will be ignored. Current value: bagging_fraction=0.9710121999514061\n"
          ]
        },
        {
          "output_type": "stream",
          "name": "stderr",
          "text": [
            "\u001b[32m[I 2023-04-08 19:15:55,197]\u001b[0m Trial 16 finished with value: 0.8080517613227893 and parameters: {'lambda_l1': 0.00018362798598981086, 'lambda_l2': 6.376158958255017e-07, 'num_leaves': 128, 'feature_fraction': 0.6539182335158303, 'bagging_fraction': 0.9710121999514061, 'bagging_freq': 2, 'min_child_samples': 68}. Best is trial 14 with value: 0.8087706685837527.\u001b[0m\n"
          ]
        },
        {
          "output_type": "stream",
          "name": "stdout",
          "text": [
            "[LightGBM] [Warning] lambda_l1 is set=0.00023547171008895986, reg_alpha=0.0 will be ignored. Current value: lambda_l1=0.00023547171008895986\n",
            "[LightGBM] [Warning] feature_fraction is set=0.5559025186081251, colsample_bytree=1.0 will be ignored. Current value: feature_fraction=0.5559025186081251\n",
            "[LightGBM] [Warning] bagging_freq is set=2, subsample_freq=0 will be ignored. Current value: bagging_freq=2\n",
            "[LightGBM] [Warning] lambda_l2 is set=4.8091773408054164e-05, reg_lambda=0.0 will be ignored. Current value: lambda_l2=4.8091773408054164e-05\n",
            "[LightGBM] [Warning] bagging_fraction is set=0.9699393104221425, subsample=1.0 will be ignored. Current value: bagging_fraction=0.9699393104221425\n"
          ]
        },
        {
          "output_type": "stream",
          "name": "stderr",
          "text": [
            "\u001b[32m[I 2023-04-08 19:15:55,505]\u001b[0m Trial 17 finished with value: 0.8058950395398994 and parameters: {'lambda_l1': 0.00023547171008895986, 'lambda_l2': 4.8091773408054164e-05, 'num_leaves': 179, 'feature_fraction': 0.5559025186081251, 'bagging_fraction': 0.9699393104221425, 'bagging_freq': 2, 'min_child_samples': 68}. Best is trial 14 with value: 0.8087706685837527.\u001b[0m\n"
          ]
        },
        {
          "output_type": "stream",
          "name": "stdout",
          "text": [
            "[LightGBM] [Warning] lambda_l1 is set=9.251468143597606e-05, reg_alpha=0.0 will be ignored. Current value: lambda_l1=9.251468143597606e-05\n",
            "[LightGBM] [Warning] feature_fraction is set=0.6772608157082901, colsample_bytree=1.0 will be ignored. Current value: feature_fraction=0.6772608157082901\n",
            "[LightGBM] [Warning] bagging_freq is set=3, subsample_freq=0 will be ignored. Current value: bagging_freq=3\n",
            "[LightGBM] [Warning] lambda_l2 is set=5.722463159817255e-07, reg_lambda=0.0 will be ignored. Current value: lambda_l2=5.722463159817255e-07\n",
            "[LightGBM] [Warning] bagging_fraction is set=0.8637854440611954, subsample=1.0 will be ignored. Current value: bagging_fraction=0.8637854440611954\n"
          ]
        },
        {
          "output_type": "stream",
          "name": "stderr",
          "text": [
            "\u001b[32m[I 2023-04-08 19:15:55,841]\u001b[0m Trial 18 finished with value: 0.798705966930266 and parameters: {'lambda_l1': 9.251468143597606e-05, 'lambda_l2': 5.722463159817255e-07, 'num_leaves': 123, 'feature_fraction': 0.6772608157082901, 'bagging_fraction': 0.8637854440611954, 'bagging_freq': 3, 'min_child_samples': 44}. Best is trial 14 with value: 0.8087706685837527.\u001b[0m\n"
          ]
        },
        {
          "output_type": "stream",
          "name": "stdout",
          "text": [
            "[LightGBM] [Warning] lambda_l1 is set=0.0006384568018630738, reg_alpha=0.0 will be ignored. Current value: lambda_l1=0.0006384568018630738\n",
            "[LightGBM] [Warning] feature_fraction is set=0.5935572310318713, colsample_bytree=1.0 will be ignored. Current value: feature_fraction=0.5935572310318713\n",
            "[LightGBM] [Warning] bagging_freq is set=4, subsample_freq=0 will be ignored. Current value: bagging_freq=4\n",
            "[LightGBM] [Warning] lambda_l2 is set=0.00269718929214816, reg_lambda=0.0 will be ignored. Current value: lambda_l2=0.00269718929214816\n",
            "[LightGBM] [Warning] bagging_fraction is set=0.9768655891718595, subsample=1.0 will be ignored. Current value: bagging_fraction=0.9768655891718595\n"
          ]
        },
        {
          "output_type": "stream",
          "name": "stderr",
          "text": [
            "\u001b[32m[I 2023-04-08 19:15:56,114]\u001b[0m Trial 19 finished with value: 0.807332854061826 and parameters: {'lambda_l1': 0.0006384568018630738, 'lambda_l2': 0.00269718929214816, 'num_leaves': 225, 'feature_fraction': 0.5935572310318713, 'bagging_fraction': 0.9768655891718595, 'bagging_freq': 4, 'min_child_samples': 65}. Best is trial 14 with value: 0.8087706685837527.\u001b[0m\n"
          ]
        },
        {
          "output_type": "stream",
          "name": "stdout",
          "text": [
            "\n",
            "==============================================\n",
            "Number of finished trials: 20\n",
            "Best trial:\n",
            "Value: 0.8087706685837527\n",
            "  Params: \n",
            "    lambda_l1: 0.021139466940639787\n",
            "    lambda_l2: 7.846489121019732e-06\n",
            "    num_leaves: 63\n",
            "    feature_fraction: 0.6622556022515516\n",
            "    bagging_fraction: 0.9874066124989476\n",
            "    bagging_freq: 1\n",
            "    min_child_samples: 83\n",
            "==============================================\n"
          ]
        }
      ]
    },
    {
      "cell_type": "code",
      "source": [
        "model = lgb.LGBMClassifier(**params)\n",
        "result_te_tuned = test_tuned_model(model, X_train, y_train, X_test, y_test)"
      ],
      "metadata": {
        "colab": {
          "base_uri": "https://localhost:8080/"
        },
        "id": "LlYCfG9mMUlP",
        "outputId": "0612f294-0993-4d33-ec8c-1c1346d41cc3"
      },
      "execution_count": null,
      "outputs": [
        {
          "output_type": "stream",
          "name": "stdout",
          "text": [
            "[LightGBM] [Warning] lambda_l1 is set=0.021139466940639787, reg_alpha=0.0 will be ignored. Current value: lambda_l1=0.021139466940639787\n",
            "[LightGBM] [Warning] feature_fraction is set=0.6622556022515516, colsample_bytree=1.0 will be ignored. Current value: feature_fraction=0.6622556022515516\n",
            "[LightGBM] [Warning] bagging_freq is set=1, subsample_freq=0 will be ignored. Current value: bagging_freq=1\n",
            "[LightGBM] [Warning] lambda_l2 is set=7.846489121019732e-06, reg_lambda=0.0 will be ignored. Current value: lambda_l2=7.846489121019732e-06\n",
            "[LightGBM] [Warning] bagging_fraction is set=0.9874066124989476, subsample=1.0 will be ignored. Current value: bagging_fraction=0.9874066124989476\n",
            "\n",
            "Accuracy after tuning: 78.83841288096608%\n",
            "\n",
            "Classification report\n",
            "              precision    recall  f1-score   support\n",
            "\n",
            "       False       0.79      0.79      0.79       861\n",
            "        True       0.79      0.79      0.79       878\n",
            "\n",
            "    accuracy                           0.79      1739\n",
            "   macro avg       0.79      0.79      0.79      1739\n",
            "weighted avg       0.79      0.79      0.79      1739\n",
            "\n",
            "\n",
            "Confusion matrix\n",
            "[[678 183]\n",
            " [185 693]]\n",
            "==============================================\n",
            "[LightGBM] [Warning] lambda_l1 is set=0.021139466940639787, reg_alpha=0.0 will be ignored. Current value: lambda_l1=0.021139466940639787\n",
            "[LightGBM] [Warning] feature_fraction is set=0.6622556022515516, colsample_bytree=1.0 will be ignored. Current value: feature_fraction=0.6622556022515516\n",
            "[LightGBM] [Warning] bagging_freq is set=1, subsample_freq=0 will be ignored. Current value: bagging_freq=1\n",
            "[LightGBM] [Warning] lambda_l2 is set=7.846489121019732e-06, reg_lambda=0.0 will be ignored. Current value: lambda_l2=7.846489121019732e-06\n",
            "[LightGBM] [Warning] bagging_fraction is set=0.9874066124989476, subsample=1.0 will be ignored. Current value: bagging_fraction=0.9874066124989476\n",
            "\n",
            "All features number: 14, Selected features number: 4\n",
            "Selected_features:\n",
            "\n",
            "Cabin_deck_transformed\n",
            "Cabin_side_transformed\n",
            "Cabin_num/100_transformed\n",
            "Age_deciles_transformed\n"
          ]
        }
      ]
    },
    {
      "cell_type": "code",
      "source": [
        "X_train, X_val, X_test, y_train, y_val, y_test = get_subsets(df_looe)\n",
        "params = model_optimization(20, objective, samp=sampler)"
      ],
      "metadata": {
        "colab": {
          "base_uri": "https://localhost:8080/"
        },
        "id": "nTteeR5_CqJA",
        "outputId": "141f1413-5d45-490e-b491-dcb6755f78ec"
      },
      "execution_count": null,
      "outputs": [
        {
          "output_type": "stream",
          "name": "stderr",
          "text": [
            "\u001b[32m[I 2023-04-08 19:15:56,539]\u001b[0m A new study created in memory with name: no-name-c2b612b9-5cb9-492e-a805-94ad636d7336\u001b[0m\n",
            "\u001b[32m[I 2023-04-08 19:15:56,754]\u001b[0m Trial 0 finished with value: 0.7814521926671459 and parameters: {'lambda_l1': 0.0010142899116384612, 'lambda_l2': 1.690818655548677e-07, 'num_leaves': 17, 'feature_fraction': 0.4728060734444424, 'bagging_fraction': 0.42673112712685707, 'bagging_freq': 1, 'min_child_samples': 26}. Best is trial 0 with value: 0.7814521926671459.\u001b[0m\n",
            "\u001b[32m[I 2023-04-08 19:15:56,853]\u001b[0m Trial 1 finished with value: 0.7915168943206327 and parameters: {'lambda_l1': 0.026115649029146128, 'lambda_l2': 0.001090066111976454, 'num_leaves': 5, 'feature_fraction': 0.4431845678136921, 'bagging_fraction': 0.9803657980001632, 'bagging_freq': 4, 'min_child_samples': 24}. Best is trial 1 with value: 0.7915168943206327.\u001b[0m\n"
          ]
        },
        {
          "output_type": "stream",
          "name": "stdout",
          "text": [
            "[LightGBM] [Warning] lambda_l1 is set=0.026115649029146128, reg_alpha=0.0 will be ignored. Current value: lambda_l1=0.026115649029146128\n",
            "[LightGBM] [Warning] feature_fraction is set=0.4431845678136921, colsample_bytree=1.0 will be ignored. Current value: feature_fraction=0.4431845678136921\n",
            "[LightGBM] [Warning] bagging_freq is set=4, subsample_freq=0 will be ignored. Current value: bagging_freq=4\n",
            "[LightGBM] [Warning] lambda_l2 is set=0.001090066111976454, reg_lambda=0.0 will be ignored. Current value: lambda_l2=0.001090066111976454\n",
            "[LightGBM] [Warning] bagging_fraction is set=0.9803657980001632, subsample=1.0 will be ignored. Current value: bagging_fraction=0.9803657980001632\n",
            "[LightGBM] [Warning] lambda_l1 is set=1.8660861996646596e-06, reg_alpha=0.0 will be ignored. Current value: lambda_l1=1.8660861996646596e-06\n",
            "[LightGBM] [Warning] feature_fraction is set=0.7488153563639547, colsample_bytree=1.0 will be ignored. Current value: feature_fraction=0.7488153563639547\n",
            "[LightGBM] [Warning] bagging_freq is set=6, subsample_freq=0 will be ignored. Current value: bagging_freq=6\n",
            "[LightGBM] [Warning] lambda_l2 is set=0.04948034130913776, reg_lambda=0.0 will be ignored. Current value: lambda_l2=0.04948034130913776\n",
            "[LightGBM] [Warning] bagging_fraction is set=0.9820119934529874, subsample=1.0 will be ignored. Current value: bagging_fraction=0.9820119934529874\n"
          ]
        },
        {
          "output_type": "stream",
          "name": "stderr",
          "text": [
            "\u001b[32m[I 2023-04-08 19:15:57,274]\u001b[0m Trial 2 finished with value: 0.7828900071890726 and parameters: {'lambda_l1': 1.8660861996646596e-06, 'lambda_l2': 0.04948034130913776, 'num_leaves': 51, 'feature_fraction': 0.7488153563639547, 'bagging_fraction': 0.9820119934529874, 'bagging_freq': 6, 'min_child_samples': 28}. Best is trial 1 with value: 0.7915168943206327.\u001b[0m\n"
          ]
        },
        {
          "output_type": "stream",
          "name": "stdout",
          "text": [
            "[LightGBM] [Warning] lambda_l1 is set=0.00027792488102483314, reg_alpha=0.0 will be ignored. Current value: lambda_l1=0.00027792488102483314\n",
            "[LightGBM] [Warning] feature_fraction is set=0.4940748367876506, colsample_bytree=1.0 will be ignored. Current value: feature_fraction=0.4940748367876506\n",
            "[LightGBM] [Warning] bagging_freq is set=1, subsample_freq=0 will be ignored. Current value: bagging_freq=1\n",
            "[LightGBM] [Warning] lambda_l2 is set=0.003798406718422058, reg_lambda=0.0 will be ignored. Current value: lambda_l2=0.003798406718422058\n",
            "[LightGBM] [Warning] bagging_fraction is set=0.4111457213064457, subsample=1.0 will be ignored. Current value: bagging_fraction=0.4111457213064457\n"
          ]
        },
        {
          "output_type": "stream",
          "name": "stderr",
          "text": [
            "\u001b[32m[I 2023-04-08 19:15:57,513]\u001b[0m Trial 3 finished with value: 0.7828900071890726 and parameters: {'lambda_l1': 0.00027792488102483314, 'lambda_l2': 0.003798406718422058, 'num_leaves': 213, 'feature_fraction': 0.4940748367876506, 'bagging_fraction': 0.4111457213064457, 'bagging_freq': 1, 'min_child_samples': 51}. Best is trial 1 with value: 0.7915168943206327.\u001b[0m\n"
          ]
        },
        {
          "output_type": "stream",
          "name": "stdout",
          "text": [
            "[LightGBM] [Warning] lambda_l1 is set=0.0028639481750884796, reg_alpha=0.0 will be ignored. Current value: lambda_l1=0.0028639481750884796\n",
            "[LightGBM] [Warning] feature_fraction is set=0.9931696926474693, colsample_bytree=1.0 will be ignored. Current value: feature_fraction=0.9931696926474693\n",
            "[LightGBM] [Warning] bagging_freq is set=3, subsample_freq=0 will be ignored. Current value: bagging_freq=3\n",
            "[LightGBM] [Warning] lambda_l2 is set=0.0013172340052502289, reg_lambda=0.0 will be ignored. Current value: lambda_l2=0.0013172340052502289\n",
            "[LightGBM] [Warning] bagging_fraction is set=0.7478471315474782, subsample=1.0 will be ignored. Current value: bagging_fraction=0.7478471315474782\n"
          ]
        },
        {
          "output_type": "stream",
          "name": "stderr",
          "text": [
            "\u001b[32m[I 2023-04-08 19:15:57,970]\u001b[0m Trial 4 finished with value: 0.7677929547088426 and parameters: {'lambda_l1': 0.0028639481750884796, 'lambda_l2': 0.0013172340052502289, 'num_leaves': 82, 'feature_fraction': 0.9931696926474693, 'bagging_fraction': 0.7478471315474782, 'bagging_freq': 3, 'min_child_samples': 57}. Best is trial 1 with value: 0.7915168943206327.\u001b[0m\n"
          ]
        },
        {
          "output_type": "stream",
          "name": "stdout",
          "text": [
            "[LightGBM] [Warning] lambda_l1 is set=0.051051661169711944, reg_alpha=0.0 will be ignored. Current value: lambda_l1=0.051051661169711944\n",
            "[LightGBM] [Warning] feature_fraction is set=0.43980090065706495, colsample_bytree=1.0 will be ignored. Current value: feature_fraction=0.43980090065706495\n",
            "[LightGBM] [Warning] bagging_freq is set=5, subsample_freq=0 will be ignored. Current value: bagging_freq=5\n",
            "[LightGBM] [Warning] lambda_l2 is set=0.01054620092199292, reg_lambda=0.0 will be ignored. Current value: lambda_l2=0.01054620092199292\n",
            "[LightGBM] [Warning] bagging_fraction is set=0.6220505187484637, subsample=1.0 will be ignored. Current value: bagging_fraction=0.6220505187484637\n"
          ]
        },
        {
          "output_type": "stream",
          "name": "stderr",
          "text": [
            "\u001b[32m[I 2023-04-08 19:15:58,353]\u001b[0m Trial 5 finished with value: 0.7692307692307693 and parameters: {'lambda_l1': 0.051051661169711944, 'lambda_l2': 0.01054620092199292, 'num_leaves': 69, 'feature_fraction': 0.43980090065706495, 'bagging_fraction': 0.6220505187484637, 'bagging_freq': 5, 'min_child_samples': 25}. Best is trial 1 with value: 0.7915168943206327.\u001b[0m\n"
          ]
        },
        {
          "output_type": "stream",
          "name": "stdout",
          "text": [
            "[LightGBM] [Warning] lambda_l1 is set=0.059538787171203415, reg_alpha=0.0 will be ignored. Current value: lambda_l1=0.059538787171203415\n",
            "[LightGBM] [Warning] feature_fraction is set=0.8828527382460072, colsample_bytree=1.0 will be ignored. Current value: feature_fraction=0.8828527382460072\n",
            "[LightGBM] [Warning] bagging_freq is set=5, subsample_freq=0 will be ignored. Current value: bagging_freq=5\n",
            "[LightGBM] [Warning] lambda_l2 is set=3.9703457871994557e-08, reg_lambda=0.0 will be ignored. Current value: lambda_l2=3.9703457871994557e-08\n",
            "[LightGBM] [Warning] bagging_fraction is set=0.5160605695739966, subsample=1.0 will be ignored. Current value: bagging_fraction=0.5160605695739966\n"
          ]
        },
        {
          "output_type": "stream",
          "name": "stderr",
          "text": [
            "\u001b[32m[I 2023-04-08 19:15:58,702]\u001b[0m Trial 6 finished with value: 0.7757009345794392 and parameters: {'lambda_l1': 0.059538787171203415, 'lambda_l2': 3.9703457871994557e-08, 'num_leaves': 68, 'feature_fraction': 0.8828527382460072, 'bagging_fraction': 0.5160605695739966, 'bagging_freq': 5, 'min_child_samples': 55}. Best is trial 1 with value: 0.7915168943206327.\u001b[0m\n"
          ]
        },
        {
          "output_type": "stream",
          "name": "stdout",
          "text": [
            "[LightGBM] [Warning] lambda_l1 is set=2.105095164203584, reg_alpha=0.0 will be ignored. Current value: lambda_l1=2.105095164203584\n",
            "[LightGBM] [Warning] feature_fraction is set=0.8410395779732016, colsample_bytree=1.0 will be ignored. Current value: feature_fraction=0.8410395779732016\n",
            "[LightGBM] [Warning] bagging_freq is set=7, subsample_freq=0 will be ignored. Current value: bagging_freq=7\n",
            "[LightGBM] [Warning] lambda_l2 is set=2.3424532621925857e-06, reg_lambda=0.0 will be ignored. Current value: lambda_l2=2.3424532621925857e-06\n",
            "[LightGBM] [Warning] bagging_fraction is set=0.8633068177259481, subsample=1.0 will be ignored. Current value: bagging_fraction=0.8633068177259481\n"
          ]
        },
        {
          "output_type": "stream",
          "name": "stderr",
          "text": [
            "\u001b[32m[I 2023-04-08 19:15:58,971]\u001b[0m Trial 7 finished with value: 0.785765636232926 and parameters: {'lambda_l1': 2.105095164203584, 'lambda_l2': 2.3424532621925857e-06, 'num_leaves': 18, 'feature_fraction': 0.8410395779732016, 'bagging_fraction': 0.8633068177259481, 'bagging_freq': 7, 'min_child_samples': 94}. Best is trial 1 with value: 0.7915168943206327.\u001b[0m\n"
          ]
        },
        {
          "output_type": "stream",
          "name": "stdout",
          "text": [
            "[LightGBM] [Warning] lambda_l1 is set=1.3352548274436844e-08, reg_alpha=0.0 will be ignored. Current value: lambda_l1=1.3352548274436844e-08\n",
            "[LightGBM] [Warning] feature_fraction is set=0.9694097924125699, colsample_bytree=1.0 will be ignored. Current value: feature_fraction=0.9694097924125699\n",
            "[LightGBM] [Warning] bagging_freq is set=4, subsample_freq=0 will be ignored. Current value: bagging_freq=4\n",
            "[LightGBM] [Warning] lambda_l2 is set=1.2860527283566704e-06, reg_lambda=0.0 will be ignored. Current value: lambda_l2=1.2860527283566704e-06\n",
            "[LightGBM] [Warning] bagging_fraction is set=0.9701056715482478, subsample=1.0 will be ignored. Current value: bagging_fraction=0.9701056715482478\n"
          ]
        },
        {
          "output_type": "stream",
          "name": "stderr",
          "text": [
            "\u001b[32m[I 2023-04-08 19:15:59,414]\u001b[0m Trial 8 finished with value: 0.7757009345794392 and parameters: {'lambda_l1': 1.3352548274436844e-08, 'lambda_l2': 1.2860527283566704e-06, 'num_leaves': 159, 'feature_fraction': 0.9694097924125699, 'bagging_fraction': 0.9701056715482478, 'bagging_freq': 4, 'min_child_samples': 92}. Best is trial 1 with value: 0.7915168943206327.\u001b[0m\n"
          ]
        },
        {
          "output_type": "stream",
          "name": "stdout",
          "text": [
            "[LightGBM] [Warning] lambda_l1 is set=0.0059442337679175535, reg_alpha=0.0 will be ignored. Current value: lambda_l1=0.0059442337679175535\n",
            "[LightGBM] [Warning] feature_fraction is set=0.762586289751984, colsample_bytree=1.0 will be ignored. Current value: feature_fraction=0.762586289751984\n",
            "[LightGBM] [Warning] bagging_freq is set=7, subsample_freq=0 will be ignored. Current value: bagging_freq=7\n",
            "[LightGBM] [Warning] lambda_l2 is set=3.2364539145853725e-05, reg_lambda=0.0 will be ignored. Current value: lambda_l2=3.2364539145853725e-05\n",
            "[LightGBM] [Warning] bagging_fraction is set=0.7297287529051375, subsample=1.0 will be ignored. Current value: bagging_fraction=0.7297287529051375\n"
          ]
        },
        {
          "output_type": "stream",
          "name": "stderr",
          "text": [
            "\u001b[32m[I 2023-04-08 19:15:59,717]\u001b[0m Trial 9 finished with value: 0.7800143781452192 and parameters: {'lambda_l1': 0.0059442337679175535, 'lambda_l2': 3.2364539145853725e-05, 'num_leaves': 125, 'feature_fraction': 0.762586289751984, 'bagging_fraction': 0.7297287529051375, 'bagging_freq': 7, 'min_child_samples': 93}. Best is trial 1 with value: 0.7915168943206327.\u001b[0m\n"
          ]
        },
        {
          "output_type": "stream",
          "name": "stdout",
          "text": [
            "[LightGBM] [Warning] lambda_l1 is set=1.6295269055018433, reg_alpha=0.0 will be ignored. Current value: lambda_l1=1.6295269055018433\n",
            "[LightGBM] [Warning] feature_fraction is set=0.5997075513769773, colsample_bytree=1.0 will be ignored. Current value: feature_fraction=0.5997075513769773\n",
            "[LightGBM] [Warning] bagging_freq is set=3, subsample_freq=0 will be ignored. Current value: bagging_freq=3\n",
            "[LightGBM] [Warning] lambda_l2 is set=3.3731699094708314, reg_lambda=0.0 will be ignored. Current value: lambda_l2=3.3731699094708314\n",
            "[LightGBM] [Warning] bagging_fraction is set=0.8644456085862976, subsample=1.0 will be ignored. Current value: bagging_fraction=0.8644456085862976\n"
          ]
        },
        {
          "output_type": "stream",
          "name": "stderr",
          "text": [
            "\u001b[32m[I 2023-04-08 19:16:00,648]\u001b[0m Trial 10 finished with value: 0.7821710999281093 and parameters: {'lambda_l1': 1.6295269055018433, 'lambda_l2': 3.3731699094708314, 'num_leaves': 249, 'feature_fraction': 0.5997075513769773, 'bagging_fraction': 0.8644456085862976, 'bagging_freq': 3, 'min_child_samples': 7}. Best is trial 1 with value: 0.7915168943206327.\u001b[0m\n",
            "\u001b[32m[I 2023-04-08 19:16:00,832]\u001b[0m Trial 11 finished with value: 0.7936736161035226 and parameters: {'lambda_l1': 9.772906213555897, 'lambda_l2': 3.461773950137805e-05, 'num_leaves': 9, 'feature_fraction': 0.6282789521745081, 'bagging_fraction': 0.8815908214390611, 'bagging_freq': 7, 'min_child_samples': 76}. Best is trial 11 with value: 0.7936736161035226.\u001b[0m\n"
          ]
        },
        {
          "output_type": "stream",
          "name": "stdout",
          "text": [
            "[LightGBM] [Warning] lambda_l1 is set=9.772906213555897, reg_alpha=0.0 will be ignored. Current value: lambda_l1=9.772906213555897\n",
            "[LightGBM] [Warning] feature_fraction is set=0.6282789521745081, colsample_bytree=1.0 will be ignored. Current value: feature_fraction=0.6282789521745081\n",
            "[LightGBM] [Warning] bagging_freq is set=7, subsample_freq=0 will be ignored. Current value: bagging_freq=7\n",
            "[LightGBM] [Warning] lambda_l2 is set=3.461773950137805e-05, reg_lambda=0.0 will be ignored. Current value: lambda_l2=3.461773950137805e-05\n",
            "[LightGBM] [Warning] bagging_fraction is set=0.8815908214390611, subsample=1.0 will be ignored. Current value: bagging_fraction=0.8815908214390611\n",
            "[LightGBM] [Warning] lambda_l1 is set=5.19575779015331, reg_alpha=0.0 will be ignored. Current value: lambda_l1=5.19575779015331\n",
            "[LightGBM] [Warning] feature_fraction is set=0.6088759897514149, colsample_bytree=1.0 will be ignored. Current value: feature_fraction=0.6088759897514149\n",
            "[LightGBM] [Warning] bagging_freq is set=3, subsample_freq=0 will be ignored. Current value: bagging_freq=3\n",
            "[LightGBM] [Warning] lambda_l2 is set=6.780387409454993e-05, reg_lambda=0.0 will be ignored. Current value: lambda_l2=6.780387409454993e-05\n",
            "[LightGBM] [Warning] bagging_fraction is set=0.8836734089008191, subsample=1.0 will be ignored. Current value: bagging_fraction=0.8836734089008191\n"
          ]
        },
        {
          "output_type": "stream",
          "name": "stderr",
          "text": [
            "\u001b[32m[I 2023-04-08 19:16:00,957]\u001b[0m Trial 12 finished with value: 0.7749820273184759 and parameters: {'lambda_l1': 5.19575779015331, 'lambda_l2': 6.780387409454993e-05, 'num_leaves': 2, 'feature_fraction': 0.6088759897514149, 'bagging_fraction': 0.8836734089008191, 'bagging_freq': 3, 'min_child_samples': 75}. Best is trial 11 with value: 0.7936736161035226.\u001b[0m\n"
          ]
        },
        {
          "output_type": "stream",
          "name": "stdout",
          "text": [
            "[LightGBM] [Warning] lambda_l1 is set=8.17816922635577, reg_alpha=0.0 will be ignored. Current value: lambda_l1=8.17816922635577\n",
            "[LightGBM] [Warning] feature_fraction is set=0.40128316726889884, colsample_bytree=1.0 will be ignored. Current value: feature_fraction=0.40128316726889884\n",
            "[LightGBM] [Warning] bagging_freq is set=5, subsample_freq=0 will be ignored. Current value: bagging_freq=5\n",
            "[LightGBM] [Warning] lambda_l2 is set=9.806935699148325e-05, reg_lambda=0.0 will be ignored. Current value: lambda_l2=9.806935699148325e-05\n",
            "[LightGBM] [Warning] bagging_fraction is set=0.9821275674795433, subsample=1.0 will be ignored. Current value: bagging_fraction=0.9821275674795433\n"
          ]
        },
        {
          "output_type": "stream",
          "name": "stderr",
          "text": [
            "\u001b[32m[I 2023-04-08 19:16:01,207]\u001b[0m Trial 13 finished with value: 0.785765636232926 and parameters: {'lambda_l1': 8.17816922635577, 'lambda_l2': 9.806935699148325e-05, 'num_leaves': 131, 'feature_fraction': 0.40128316726889884, 'bagging_fraction': 0.9821275674795433, 'bagging_freq': 5, 'min_child_samples': 75}. Best is trial 11 with value: 0.7936736161035226.\u001b[0m\n"
          ]
        },
        {
          "output_type": "stream",
          "name": "stdout",
          "text": [
            "[LightGBM] [Warning] lambda_l1 is set=0.2674979141296675, reg_alpha=0.0 will be ignored. Current value: lambda_l1=0.2674979141296675\n",
            "[LightGBM] [Warning] feature_fraction is set=0.5660904187505842, colsample_bytree=1.0 will be ignored. Current value: feature_fraction=0.5660904187505842\n",
            "[LightGBM] [Warning] bagging_freq is set=4, subsample_freq=0 will be ignored. Current value: bagging_freq=4\n",
            "[LightGBM] [Warning] lambda_l2 is set=0.00045006506524657825, reg_lambda=0.0 will be ignored. Current value: lambda_l2=0.00045006506524657825\n",
            "[LightGBM] [Warning] bagging_fraction is set=0.7996114082980238, subsample=1.0 will be ignored. Current value: bagging_fraction=0.7996114082980238\n"
          ]
        },
        {
          "output_type": "stream",
          "name": "stderr",
          "text": [
            "\u001b[32m[I 2023-04-08 19:16:01,536]\u001b[0m Trial 14 finished with value: 0.7778576563623293 and parameters: {'lambda_l1': 0.2674979141296675, 'lambda_l2': 0.00045006506524657825, 'num_leaves': 35, 'feature_fraction': 0.5660904187505842, 'bagging_fraction': 0.7996114082980238, 'bagging_freq': 4, 'min_child_samples': 41}. Best is trial 11 with value: 0.7936736161035226.\u001b[0m\n"
          ]
        },
        {
          "output_type": "stream",
          "name": "stdout",
          "text": [
            "[LightGBM] [Warning] lambda_l1 is set=0.27410843411812313, reg_alpha=0.0 will be ignored. Current value: lambda_l1=0.27410843411812313\n",
            "[LightGBM] [Warning] feature_fraction is set=0.6678126108576247, colsample_bytree=1.0 will be ignored. Current value: feature_fraction=0.6678126108576247\n",
            "[LightGBM] [Warning] bagging_freq is set=6, subsample_freq=0 will be ignored. Current value: bagging_freq=6\n",
            "[LightGBM] [Warning] lambda_l2 is set=9.230642863390291e-06, reg_lambda=0.0 will be ignored. Current value: lambda_l2=9.230642863390291e-06\n",
            "[LightGBM] [Warning] bagging_fraction is set=0.9032251276770884, subsample=1.0 will be ignored. Current value: bagging_fraction=0.9032251276770884\n"
          ]
        },
        {
          "output_type": "stream",
          "name": "stderr",
          "text": [
            "\u001b[32m[I 2023-04-08 19:16:01,967]\u001b[0m Trial 15 finished with value: 0.7699496764917325 and parameters: {'lambda_l1': 0.27410843411812313, 'lambda_l2': 9.230642863390291e-06, 'num_leaves': 111, 'feature_fraction': 0.6678126108576247, 'bagging_fraction': 0.9032251276770884, 'bagging_freq': 6, 'min_child_samples': 72}. Best is trial 11 with value: 0.7936736161035226.\u001b[0m\n"
          ]
        },
        {
          "output_type": "stream",
          "name": "stdout",
          "text": [
            "[LightGBM] [Warning] lambda_l1 is set=0.02443178325346628, reg_alpha=0.0 will be ignored. Current value: lambda_l1=0.02443178325346628\n",
            "[LightGBM] [Warning] feature_fraction is set=0.5264935561348706, colsample_bytree=1.0 will be ignored. Current value: feature_fraction=0.5264935561348706\n",
            "[LightGBM] [Warning] bagging_freq is set=6, subsample_freq=0 will be ignored. Current value: bagging_freq=6\n",
            "[LightGBM] [Warning] lambda_l2 is set=0.00033928016698265315, reg_lambda=0.0 will be ignored. Current value: lambda_l2=0.00033928016698265315\n",
            "[LightGBM] [Warning] bagging_fraction is set=0.8216496104752591, subsample=1.0 will be ignored. Current value: bagging_fraction=0.8216496104752591\n"
          ]
        },
        {
          "output_type": "stream",
          "name": "stderr",
          "text": [
            "\u001b[32m[I 2023-04-08 19:16:06,152]\u001b[0m Trial 16 finished with value: 0.783608914450036 and parameters: {'lambda_l1': 0.02443178325346628, 'lambda_l2': 0.00033928016698265315, 'num_leaves': 185, 'feature_fraction': 0.5264935561348706, 'bagging_fraction': 0.8216496104752591, 'bagging_freq': 6, 'min_child_samples': 5}. Best is trial 11 with value: 0.7936736161035226.\u001b[0m\n"
          ]
        },
        {
          "output_type": "stream",
          "name": "stdout",
          "text": [
            "[LightGBM] [Warning] lambda_l1 is set=0.00020562874554551846, reg_alpha=0.0 will be ignored. Current value: lambda_l1=0.00020562874554551846\n",
            "[LightGBM] [Warning] feature_fraction is set=0.5343474439353354, colsample_bytree=1.0 will be ignored. Current value: feature_fraction=0.5343474439353354\n",
            "[LightGBM] [Warning] bagging_freq is set=3, subsample_freq=0 will be ignored. Current value: bagging_freq=3\n",
            "[LightGBM] [Warning] lambda_l2 is set=6.3309043719365335e-06, reg_lambda=0.0 will be ignored. Current value: lambda_l2=6.3309043719365335e-06\n",
            "[LightGBM] [Warning] bagging_fraction is set=0.9267718770669064, subsample=1.0 will be ignored. Current value: bagging_fraction=0.9267718770669064\n"
          ]
        },
        {
          "output_type": "stream",
          "name": "stderr",
          "text": [
            "\u001b[32m[I 2023-04-08 19:16:06,712]\u001b[0m Trial 17 finished with value: 0.7785765636232926 and parameters: {'lambda_l1': 0.00020562874554551846, 'lambda_l2': 6.3309043719365335e-06, 'num_leaves': 91, 'feature_fraction': 0.5343474439353354, 'bagging_fraction': 0.9267718770669064, 'bagging_freq': 3, 'min_child_samples': 67}. Best is trial 11 with value: 0.7936736161035226.\u001b[0m\n"
          ]
        },
        {
          "output_type": "stream",
          "name": "stdout",
          "text": [
            "[LightGBM] [Warning] lambda_l1 is set=0.43393824018590366, reg_alpha=0.0 will be ignored. Current value: lambda_l1=0.43393824018590366\n",
            "[LightGBM] [Warning] feature_fraction is set=0.6725212485489659, colsample_bytree=1.0 will be ignored. Current value: feature_fraction=0.6725212485489659\n",
            "[LightGBM] [Warning] bagging_freq is set=2, subsample_freq=0 will be ignored. Current value: bagging_freq=2\n",
            "[LightGBM] [Warning] lambda_l2 is set=1.4121264626764952e-08, reg_lambda=0.0 will be ignored. Current value: lambda_l2=1.4121264626764952e-08\n",
            "[LightGBM] [Warning] bagging_fraction is set=0.9310473687985822, subsample=1.0 will be ignored. Current value: bagging_fraction=0.9310473687985822\n"
          ]
        },
        {
          "output_type": "stream",
          "name": "stderr",
          "text": [
            "\u001b[32m[I 2023-04-08 19:16:07,150]\u001b[0m Trial 18 finished with value: 0.7792954708842559 and parameters: {'lambda_l1': 0.43393824018590366, 'lambda_l2': 1.4121264626764952e-08, 'num_leaves': 44, 'feature_fraction': 0.6725212485489659, 'bagging_fraction': 0.9310473687985822, 'bagging_freq': 2, 'min_child_samples': 41}. Best is trial 11 with value: 0.7936736161035226.\u001b[0m\n"
          ]
        },
        {
          "output_type": "stream",
          "name": "stdout",
          "text": [
            "[LightGBM] [Warning] lambda_l1 is set=0.794633568568987, reg_alpha=0.0 will be ignored. Current value: lambda_l1=0.794633568568987\n",
            "[LightGBM] [Warning] feature_fraction is set=0.414562480994978, colsample_bytree=1.0 will be ignored. Current value: feature_fraction=0.414562480994978\n",
            "[LightGBM] [Warning] bagging_freq is set=4, subsample_freq=0 will be ignored. Current value: bagging_freq=4\n",
            "[LightGBM] [Warning] lambda_l2 is set=0.07156452471571594, reg_lambda=0.0 will be ignored. Current value: lambda_l2=0.07156452471571594\n",
            "[LightGBM] [Warning] bagging_fraction is set=0.8179053739827917, subsample=1.0 will be ignored. Current value: bagging_fraction=0.8179053739827917\n"
          ]
        },
        {
          "output_type": "stream",
          "name": "stderr",
          "text": [
            "\u001b[32m[I 2023-04-08 19:16:07,410]\u001b[0m Trial 19 finished with value: 0.7742631200575126 and parameters: {'lambda_l1': 0.794633568568987, 'lambda_l2': 0.07156452471571594, 'num_leaves': 30, 'feature_fraction': 0.414562480994978, 'bagging_fraction': 0.8179053739827917, 'bagging_freq': 4, 'min_child_samples': 83}. Best is trial 11 with value: 0.7936736161035226.\u001b[0m\n"
          ]
        },
        {
          "output_type": "stream",
          "name": "stdout",
          "text": [
            "\n",
            "==============================================\n",
            "Number of finished trials: 20\n",
            "Best trial:\n",
            "Value: 0.7936736161035226\n",
            "  Params: \n",
            "    lambda_l1: 9.772906213555897\n",
            "    lambda_l2: 3.461773950137805e-05\n",
            "    num_leaves: 9\n",
            "    feature_fraction: 0.6282789521745081\n",
            "    bagging_fraction: 0.8815908214390611\n",
            "    bagging_freq: 7\n",
            "    min_child_samples: 76\n",
            "==============================================\n"
          ]
        }
      ]
    },
    {
      "cell_type": "code",
      "source": [
        "model = lgb.LGBMClassifier(**params)\n",
        "result_looe_tuned = test_tuned_model(model, X_train, y_train, X_test, y_test)"
      ],
      "metadata": {
        "colab": {
          "base_uri": "https://localhost:8080/"
        },
        "id": "TU6_2bV3MZaX",
        "outputId": "2f4f15b8-f5fe-4071-f641-c86ed75b77a2"
      },
      "execution_count": null,
      "outputs": [
        {
          "output_type": "stream",
          "name": "stdout",
          "text": [
            "[LightGBM] [Warning] lambda_l1 is set=9.772906213555897, reg_alpha=0.0 will be ignored. Current value: lambda_l1=9.772906213555897\n",
            "[LightGBM] [Warning] feature_fraction is set=0.6282789521745081, colsample_bytree=1.0 will be ignored. Current value: feature_fraction=0.6282789521745081\n",
            "[LightGBM] [Warning] bagging_freq is set=7, subsample_freq=0 will be ignored. Current value: bagging_freq=7\n",
            "[LightGBM] [Warning] lambda_l2 is set=3.461773950137805e-05, reg_lambda=0.0 will be ignored. Current value: lambda_l2=3.461773950137805e-05\n",
            "[LightGBM] [Warning] bagging_fraction is set=0.8815908214390611, subsample=1.0 will be ignored. Current value: bagging_fraction=0.8815908214390611\n",
            "\n",
            "Accuracy after tuning: 78.26336975273146%\n",
            "\n",
            "Classification report\n",
            "              precision    recall  f1-score   support\n",
            "\n",
            "       False       0.80      0.75      0.77       861\n",
            "        True       0.77      0.81      0.79       878\n",
            "\n",
            "    accuracy                           0.78      1739\n",
            "   macro avg       0.78      0.78      0.78      1739\n",
            "weighted avg       0.78      0.78      0.78      1739\n",
            "\n",
            "\n",
            "Confusion matrix\n",
            "[[649 212]\n",
            " [166 712]]\n",
            "==============================================\n",
            "[LightGBM] [Warning] lambda_l1 is set=9.772906213555897, reg_alpha=0.0 will be ignored. Current value: lambda_l1=9.772906213555897\n",
            "[LightGBM] [Warning] feature_fraction is set=0.6282789521745081, colsample_bytree=1.0 will be ignored. Current value: feature_fraction=0.6282789521745081\n",
            "[LightGBM] [Warning] bagging_freq is set=7, subsample_freq=0 will be ignored. Current value: bagging_freq=7\n",
            "[LightGBM] [Warning] lambda_l2 is set=3.461773950137805e-05, reg_lambda=0.0 will be ignored. Current value: lambda_l2=3.461773950137805e-05\n",
            "[LightGBM] [Warning] bagging_fraction is set=0.8815908214390611, subsample=1.0 will be ignored. Current value: bagging_fraction=0.8815908214390611\n",
            "\n",
            "All features number: 14, Selected features number: 8\n",
            "Selected_features:\n",
            "\n",
            "HomePlanet_transformed\n",
            "Cabin_deck_transformed\n",
            "Cabin_side_transformed\n",
            "Cabin_num/100_transformed\n",
            "RService_deciles_transformed\n",
            "FCourt_deciles_transformed\n",
            "Spa_deciles_transformed\n",
            "VRD_deciles_transformed\n"
          ]
        }
      ]
    },
    {
      "cell_type": "markdown",
      "source": [
        "# Save results"
      ],
      "metadata": {
        "id": "iesZ2BSqPSWk"
      }
    },
    {
      "cell_type": "code",
      "source": [
        "data = []\n",
        "data.append(['LightGBM', 'OHE', acc_ohe_ini, result_ohe_tuned[0], str(result_ohe_tuned[1])+\" / 90\"])\n",
        "data.append(['LightGBM', 'TE', acc_te_ini, result_te_tuned[0], str(result_te_tuned[1])+\" / 14\"])\n",
        "data.append(['LightGBM', 'LOOE', acc_looe_ini, result_looe_tuned[0], str(result_looe_tuned[1])+\" / 14\"])"
      ],
      "metadata": {
        "id": "Lrf7lBYHRk0s"
      },
      "execution_count": null,
      "outputs": []
    },
    {
      "cell_type": "code",
      "source": [
        "import csv\n",
        "from os.path import exists\n",
        "resfile = 'spaceship_results.csv'"
      ],
      "metadata": {
        "id": "LO6x9xTqRuPs"
      },
      "execution_count": null,
      "outputs": []
    },
    {
      "cell_type": "code",
      "source": [
        "if exists(resfile):\n",
        "  f = open(resfile, 'a')\n",
        "  writer = csv.writer(f)\n",
        "else:\n",
        "  header = ['Model', 'Categories_encoding', 'Initial_accuracy', 'Tuned_Accuracy', 'Important_Features']\n",
        "  f = open(resfile, 'w', newline='')\n",
        "  writer = csv.writer(f)\n",
        "  writer.writerow(header)\n",
        "\n",
        "writer.writerows(data)\n",
        "f.close()"
      ],
      "metadata": {
        "id": "5mpQlaubRykl"
      },
      "execution_count": null,
      "outputs": []
    }
  ]
}