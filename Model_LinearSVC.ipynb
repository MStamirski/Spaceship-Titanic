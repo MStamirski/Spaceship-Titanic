{
  "nbformat": 4,
  "nbformat_minor": 0,
  "metadata": {
    "colab": {
      "provenance": [],
      "toc_visible": true,
      "authorship_tag": "ABX9TyPv5Zer5tawdD6Pq/Vaulgw",
      "include_colab_link": true
    },
    "kernelspec": {
      "name": "python3",
      "display_name": "Python 3"
    },
    "language_info": {
      "name": "python"
    },
    "gpuClass": "standard",
    "accelerator": "GPU"
  },
  "cells": [
    {
      "cell_type": "markdown",
      "metadata": {
        "id": "view-in-github",
        "colab_type": "text"
      },
      "source": [
        "<a href=\"https://colab.research.google.com/github/MStamirski/Spaceship-Titanic/blob/main/Model_LinearSVC.ipynb\" target=\"_parent\"><img src=\"https://colab.research.google.com/assets/colab-badge.svg\" alt=\"Open In Colab\"/></a>"
      ]
    },
    {
      "cell_type": "markdown",
      "source": [
        "# Preparation"
      ],
      "metadata": {
        "id": "fXZ2j2_EOOGs"
      }
    },
    {
      "cell_type": "code",
      "source": [
        "from google.colab import drive\n",
        "drive.mount(\"/content/drive\")\n",
        "%cd \"/content/drive/MyDrive/Colab_Notebooks/SDA_upskill/Spaceship\""
      ],
      "metadata": {
        "id": "Iag1nNbVX-i7"
      },
      "execution_count": null,
      "outputs": []
    },
    {
      "cell_type": "markdown",
      "source": [
        "# Model with parameters"
      ],
      "metadata": {
        "id": "S1NuaT-4OXUT"
      }
    },
    {
      "cell_type": "code",
      "source": [
        "from sklearn.svm import LinearSVC\n",
        "from sklearn.metrics import accuracy_score"
      ],
      "metadata": {
        "id": "2TVsFi2W9Uma"
      },
      "execution_count": null,
      "outputs": []
    },
    {
      "cell_type": "code",
      "source": [
        "import warnings\n",
        "warnings.filterwarnings(\"ignore\")"
      ],
      "metadata": {
        "id": "LXmiPNeijuY5"
      },
      "execution_count": null,
      "outputs": []
    },
    {
      "cell_type": "code",
      "source": [
        "model = LinearSVC()"
      ],
      "metadata": {
        "id": "WjLIgdT39bnz"
      },
      "execution_count": null,
      "outputs": []
    },
    {
      "cell_type": "code",
      "source": [
        "def objective(trial):\n",
        "\n",
        "  par_c = trial.suggest_float('par_c', 1e-10, 1e10, log=True)\n",
        "\n",
        "  optuna_model = LinearSVC(C=par_c)\n",
        "  optuna_model.fit(X_train, y_train)\n",
        "\n",
        "  y_pred = optuna_model.predict(X_val)\n",
        "  accuracy = accuracy_score(y_val, y_pred)\n",
        "\n",
        "  return accuracy"
      ],
      "metadata": {
        "id": "DGywz2Vy9eJ7"
      },
      "execution_count": null,
      "outputs": []
    },
    {
      "cell_type": "markdown",
      "source": [
        "# Features datasets"
      ],
      "metadata": {
        "id": "uikVcl7mOnNz"
      }
    },
    {
      "cell_type": "code",
      "source": [
        "!pip install import-ipynb"
      ],
      "metadata": {
        "id": "mV0iITmRYA_r"
      },
      "execution_count": null,
      "outputs": []
    },
    {
      "cell_type": "code",
      "source": [
        "import import_ipynb"
      ],
      "metadata": {
        "id": "NVkS0sr-W2B8"
      },
      "execution_count": null,
      "outputs": []
    },
    {
      "cell_type": "code",
      "source": [
        "from FeaturesEngineering import get_features, categories_one_hot_encoding, categories_target_encoding, categories_leave_one_out_encoding"
      ],
      "metadata": {
        "id": "QTP0FMcj8kZT"
      },
      "execution_count": null,
      "outputs": []
    },
    {
      "cell_type": "code",
      "source": [
        "df = get_features('train')\n",
        "df_ohe = categories_one_hot_encoding(df)\n",
        "df_te = categories_target_encoding(df)\n",
        "df_looe = categories_leave_one_out_encoding(df)"
      ],
      "metadata": {
        "id": "d0bCa6RVbJoX"
      },
      "execution_count": null,
      "outputs": []
    },
    {
      "cell_type": "markdown",
      "source": [
        "# Initial verification"
      ],
      "metadata": {
        "id": "h3H9fFXgOuOj"
      }
    },
    {
      "cell_type": "code",
      "source": [
        "from Optimization import verify_feature_dataset, get_subsets, model_optimization, test_tuned_model"
      ],
      "metadata": {
        "id": "djmNjVOt9oor"
      },
      "execution_count": null,
      "outputs": []
    },
    {
      "cell_type": "code",
      "source": [
        "acc_ohe_ini = verify_feature_dataset(df_ohe, model)"
      ],
      "metadata": {
        "colab": {
          "base_uri": "https://localhost:8080/"
        },
        "id": "pVj-AfkSmkqv",
        "outputId": "225b4fe5-97ca-4669-e4e3-4a317d763cfe"
      },
      "execution_count": null,
      "outputs": [
        {
          "output_type": "stream",
          "name": "stdout",
          "text": [
            "Accuracy: 77.37730061349694%\n"
          ]
        }
      ]
    },
    {
      "cell_type": "code",
      "source": [
        "acc_te_ini = verify_feature_dataset(df_te, model)"
      ],
      "metadata": {
        "colab": {
          "base_uri": "https://localhost:8080/"
        },
        "id": "4OXZFQd4mtIH",
        "outputId": "9632791b-c4c2-45cd-d7f3-0f65ff3c1eae"
      },
      "execution_count": null,
      "outputs": [
        {
          "output_type": "stream",
          "name": "stdout",
          "text": [
            "Accuracy: 76.07361963190185%\n"
          ]
        }
      ]
    },
    {
      "cell_type": "code",
      "source": [
        "acc_looe_ini = verify_feature_dataset(df_looe, model)"
      ],
      "metadata": {
        "colab": {
          "base_uri": "https://localhost:8080/"
        },
        "id": "kE1tf0yqmweP",
        "outputId": "a46907db-72f2-4f98-e325-55a8b091e6b9"
      },
      "execution_count": null,
      "outputs": [
        {
          "output_type": "stream",
          "name": "stdout",
          "text": [
            "Accuracy: 75.72852760736197%\n"
          ]
        }
      ]
    },
    {
      "cell_type": "markdown",
      "source": [
        "# Parameters tuning"
      ],
      "metadata": {
        "id": "5Kwn4oYYO8c0"
      }
    },
    {
      "cell_type": "code",
      "source": [
        "X_train, X_val, X_test, y_train, y_val, y_test = get_subsets(df_ohe)\n",
        "params = model_optimization(100, objective)\n",
        "model = LinearSVC(C=params['par_c'])\n",
        "result_ohe_tuned = test_tuned_model(model, X_train, y_train, X_test, y_test)"
      ],
      "metadata": {
        "id": "wg4cmVW72h3X",
        "colab": {
          "base_uri": "https://localhost:8080/"
        },
        "outputId": "8b92b6e2-9da8-42f7-9ca5-88cc69af04f0"
      },
      "execution_count": null,
      "outputs": [
        {
          "output_type": "stream",
          "name": "stderr",
          "text": [
            "\u001b[32m[I 2023-04-08 18:39:08,104]\u001b[0m A new study created in memory with name: no-name-07417fe1-8776-426a-8b26-980966043546\u001b[0m\n",
            "\u001b[32m[I 2023-04-08 18:39:09,000]\u001b[0m Trial 0 finished with value: 0.6678648454349388 and parameters: {'par_c': 7593.6243810489705}. Best is trial 0 with value: 0.6678648454349388.\u001b[0m\n",
            "\u001b[32m[I 2023-04-08 18:39:09,027]\u001b[0m Trial 1 finished with value: 0.798705966930266 and parameters: {'par_c': 0.0067182088129346985}. Best is trial 1 with value: 0.798705966930266.\u001b[0m\n",
            "\u001b[32m[I 2023-04-08 18:39:09,534]\u001b[0m Trial 2 finished with value: 0.7455068296189792 and parameters: {'par_c': 178953.60041702475}. Best is trial 1 with value: 0.798705966930266.\u001b[0m\n",
            "\u001b[32m[I 2023-04-08 18:39:09,993]\u001b[0m Trial 3 finished with value: 0.5204888569374551 and parameters: {'par_c': 6371243.654292144}. Best is trial 1 with value: 0.798705966930266.\u001b[0m\n",
            "\u001b[32m[I 2023-04-08 18:39:10,457]\u001b[0m Trial 4 finished with value: 0.6966211358734723 and parameters: {'par_c': 10018333.03885293}. Best is trial 1 with value: 0.798705966930266.\u001b[0m\n",
            "\u001b[32m[I 2023-04-08 18:39:10,922]\u001b[0m Trial 5 finished with value: 0.7433501078360891 and parameters: {'par_c': 99212.68318459715}. Best is trial 1 with value: 0.798705966930266.\u001b[0m\n",
            "\u001b[32m[I 2023-04-08 18:39:11,513]\u001b[0m Trial 6 finished with value: 0.7268152408339325 and parameters: {'par_c': 1148251875.7577295}. Best is trial 1 with value: 0.798705966930266.\u001b[0m\n",
            "\u001b[32m[I 2023-04-08 18:39:11,539]\u001b[0m Trial 7 finished with value: 0.7721063982746226 and parameters: {'par_c': 0.0002773044634792029}. Best is trial 1 with value: 0.798705966930266.\u001b[0m\n",
            "\u001b[32m[I 2023-04-08 18:39:11,560]\u001b[0m Trial 8 finished with value: 0.7440690150970525 and parameters: {'par_c': 4.429049004874217e-06}. Best is trial 1 with value: 0.798705966930266.\u001b[0m\n",
            "\u001b[32m[I 2023-04-08 18:39:12,323]\u001b[0m Trial 9 finished with value: 0.7361610352264558 and parameters: {'par_c': 33901.09157257447}. Best is trial 1 with value: 0.798705966930266.\u001b[0m\n",
            "\u001b[32m[I 2023-04-08 18:39:12,376]\u001b[0m Trial 10 finished with value: 0.7081236520488857 and parameters: {'par_c': 5.613985571083589e-09}. Best is trial 1 with value: 0.798705966930266.\u001b[0m\n",
            "\u001b[32m[I 2023-04-08 18:39:12,438]\u001b[0m Trial 11 finished with value: 0.7972681524083394 and parameters: {'par_c': 0.007907803869800594}. Best is trial 1 with value: 0.798705966930266.\u001b[0m\n",
            "\u001b[32m[I 2023-04-08 18:39:12,556]\u001b[0m Trial 12 finished with value: 0.794392523364486 and parameters: {'par_c': 0.18494881684033307}. Best is trial 1 with value: 0.798705966930266.\u001b[0m\n",
            "\u001b[32m[I 2023-04-08 18:39:12,644]\u001b[0m Trial 13 finished with value: 0.7958303378864127 and parameters: {'par_c': 0.08404207260792756}. Best is trial 1 with value: 0.798705966930266.\u001b[0m\n",
            "\u001b[32m[I 2023-04-08 18:39:13,273]\u001b[0m Trial 14 finished with value: 0.794392523364486 and parameters: {'par_c': 8.770455619855797}. Best is trial 1 with value: 0.798705966930266.\u001b[0m\n",
            "\u001b[32m[I 2023-04-08 18:39:13,335]\u001b[0m Trial 15 finished with value: 0.7627606038820992 and parameters: {'par_c': 0.00014209377360592653}. Best is trial 1 with value: 0.798705966930266.\u001b[0m\n",
            "\u001b[32m[I 2023-04-08 18:39:14,006]\u001b[0m Trial 16 finished with value: 0.6240115025161754 and parameters: {'par_c': 189.90812231682187}. Best is trial 1 with value: 0.798705966930266.\u001b[0m\n",
            "\u001b[32m[I 2023-04-08 18:39:14,077]\u001b[0m Trial 17 finished with value: 0.798705966930266 and parameters: {'par_c': 0.014198997678471806}. Best is trial 1 with value: 0.798705966930266.\u001b[0m\n",
            "\u001b[32m[I 2023-04-08 18:39:14,713]\u001b[0m Trial 18 finished with value: 0.792235801581596 and parameters: {'par_c': 5.602694241571925}. Best is trial 1 with value: 0.798705966930266.\u001b[0m\n",
            "\u001b[32m[I 2023-04-08 18:39:14,766]\u001b[0m Trial 19 finished with value: 0.7117181883537024 and parameters: {'par_c': 2.8754709524386455e-07}. Best is trial 1 with value: 0.798705966930266.\u001b[0m\n",
            "\u001b[32m[I 2023-04-08 18:39:14,814]\u001b[0m Trial 20 finished with value: 0.7081236520488857 and parameters: {'par_c': 2.2148351193960543e-10}. Best is trial 1 with value: 0.798705966930266.\u001b[0m\n",
            "\u001b[32m[I 2023-04-08 18:39:14,878]\u001b[0m Trial 21 finished with value: 0.798705966930266 and parameters: {'par_c': 0.012287534458016475}. Best is trial 1 with value: 0.798705966930266.\u001b[0m\n",
            "\u001b[32m[I 2023-04-08 18:39:14,940]\u001b[0m Trial 22 finished with value: 0.796549245147376 and parameters: {'par_c': 0.002540888444493826}. Best is trial 1 with value: 0.798705966930266.\u001b[0m\n",
            "\u001b[32m[I 2023-04-08 18:39:15,038]\u001b[0m Trial 23 finished with value: 0.794392523364486 and parameters: {'par_c': 0.1282865534930957}. Best is trial 1 with value: 0.798705966930266.\u001b[0m\n",
            "\u001b[32m[I 2023-04-08 18:39:15,083]\u001b[0m Trial 24 finished with value: 0.7570093457943925 and parameters: {'par_c': 3.8459408592882516e-05}. Best is trial 1 with value: 0.798705966930266.\u001b[0m\n",
            "\u001b[32m[I 2023-04-08 18:39:15,131]\u001b[0m Trial 25 finished with value: 0.796549245147376 and parameters: {'par_c': 0.0043867425624305526}. Best is trial 1 with value: 0.798705966930266.\u001b[0m\n",
            "\u001b[32m[I 2023-04-08 18:39:15,676]\u001b[0m Trial 26 finished with value: 0.7915168943206327 and parameters: {'par_c': 5.7978079948496575}. Best is trial 1 with value: 0.798705966930266.\u001b[0m\n",
            "\u001b[32m[I 2023-04-08 18:39:15,704]\u001b[0m Trial 27 finished with value: 0.732566498921639 and parameters: {'par_c': 2.6297193283097708e-06}. Best is trial 1 with value: 0.798705966930266.\u001b[0m\n",
            "\u001b[32m[I 2023-04-08 18:39:15,735]\u001b[0m Trial 28 finished with value: 0.7994248741912293 and parameters: {'par_c': 0.00593102224699834}. Best is trial 28 with value: 0.7994248741912293.\u001b[0m\n",
            "\u001b[32m[I 2023-04-08 18:39:16,394]\u001b[0m Trial 29 finished with value: 0.7656362329259525 and parameters: {'par_c': 66.7499965354134}. Best is trial 28 with value: 0.7994248741912293.\u001b[0m\n",
            "\u001b[32m[I 2023-04-08 18:39:16,581]\u001b[0m Trial 30 finished with value: 0.7929547088425594 and parameters: {'par_c': 0.3531106812990813}. Best is trial 28 with value: 0.7994248741912293.\u001b[0m\n",
            "\u001b[32m[I 2023-04-08 18:39:16,622]\u001b[0m Trial 31 finished with value: 0.7979870596693026 and parameters: {'par_c': 0.01108875136553561}. Best is trial 28 with value: 0.7994248741912293.\u001b[0m\n",
            "\u001b[32m[I 2023-04-08 18:39:16,683]\u001b[0m Trial 32 finished with value: 0.796549245147376 and parameters: {'par_c': 0.002667049900811603}. Best is trial 28 with value: 0.7994248741912293.\u001b[0m\n",
            "\u001b[32m[I 2023-04-08 18:39:16,743]\u001b[0m Trial 33 finished with value: 0.7706685837526959 and parameters: {'par_c': 0.00022939417754840735}. Best is trial 28 with value: 0.7994248741912293.\u001b[0m\n",
            "\u001b[32m[I 2023-04-08 18:39:17,493]\u001b[0m Trial 34 finished with value: 0.7289719626168224 and parameters: {'par_c': 911.2215499232873}. Best is trial 28 with value: 0.7994248741912293.\u001b[0m\n",
            "\u001b[32m[I 2023-04-08 18:39:17,799]\u001b[0m Trial 35 finished with value: 0.7929547088425594 and parameters: {'par_c': 0.5880162544691081}. Best is trial 28 with value: 0.7994248741912293.\u001b[0m\n",
            "\u001b[32m[I 2023-04-08 18:39:17,897]\u001b[0m Trial 36 finished with value: 0.7951114306254493 and parameters: {'par_c': 0.03813030487286568}. Best is trial 28 with value: 0.7994248741912293.\u001b[0m\n",
            "\u001b[32m[I 2023-04-08 18:39:17,943]\u001b[0m Trial 37 finished with value: 0.7850467289719626 and parameters: {'par_c': 0.000667906234070657}. Best is trial 28 with value: 0.7994248741912293.\u001b[0m\n",
            "\u001b[32m[I 2023-04-08 18:39:17,976]\u001b[0m Trial 38 finished with value: 0.7548526240115025 and parameters: {'par_c': 3.1150887412179464e-05}. Best is trial 28 with value: 0.7994248741912293.\u001b[0m\n",
            "\u001b[32m[I 2023-04-08 18:39:18,014]\u001b[0m Trial 39 finished with value: 0.7951114306254493 and parameters: {'par_c': 0.02378530535520445}. Best is trial 28 with value: 0.7994248741912293.\u001b[0m\n",
            "\u001b[32m[I 2023-04-08 18:39:18,319]\u001b[0m Trial 40 finished with value: 0.7929547088425594 and parameters: {'par_c': 0.909584324637645}. Best is trial 28 with value: 0.7994248741912293.\u001b[0m\n",
            "\u001b[32m[I 2023-04-08 18:39:18,354]\u001b[0m Trial 41 finished with value: 0.7972681524083394 and parameters: {'par_c': 0.008876785757045922}. Best is trial 28 with value: 0.7994248741912293.\u001b[0m\n",
            "\u001b[32m[I 2023-04-08 18:39:18,414]\u001b[0m Trial 42 finished with value: 0.7850467289719626 and parameters: {'par_c': 0.0008311538995590169}. Best is trial 28 with value: 0.7994248741912293.\u001b[0m\n",
            "\u001b[32m[I 2023-04-08 18:39:18,493]\u001b[0m Trial 43 finished with value: 0.796549245147376 and parameters: {'par_c': 0.016697692962603327}. Best is trial 28 with value: 0.7994248741912293.\u001b[0m\n",
            "\u001b[32m[I 2023-04-08 18:39:18,581]\u001b[0m Trial 44 finished with value: 0.7951114306254493 and parameters: {'par_c': 0.06398831856858159}. Best is trial 28 with value: 0.7994248741912293.\u001b[0m\n",
            "\u001b[32m[I 2023-04-08 18:39:19,031]\u001b[0m Trial 45 finished with value: 0.792235801581596 and parameters: {'par_c': 1.6039710583366114}. Best is trial 28 with value: 0.7994248741912293.\u001b[0m\n",
            "\u001b[32m[I 2023-04-08 18:39:19,096]\u001b[0m Trial 46 finished with value: 0.7821710999281093 and parameters: {'par_c': 0.0005028133835047749}. Best is trial 28 with value: 0.7994248741912293.\u001b[0m\n",
            "\u001b[32m[I 2023-04-08 18:39:19,160]\u001b[0m Trial 47 finished with value: 0.7994248741912293 and parameters: {'par_c': 0.004961405756388041}. Best is trial 28 with value: 0.7994248741912293.\u001b[0m\n",
            "\u001b[32m[I 2023-04-08 18:39:19,219]\u001b[0m Trial 48 finished with value: 0.7541337167505392 and parameters: {'par_c': 3.0364781038842907e-05}. Best is trial 28 with value: 0.7994248741912293.\u001b[0m\n",
            "\u001b[32m[I 2023-04-08 18:39:19,363]\u001b[0m Trial 49 finished with value: 0.794392523364486 and parameters: {'par_c': 0.1511796053876717}. Best is trial 28 with value: 0.7994248741912293.\u001b[0m\n",
            "\u001b[32m[I 2023-04-08 18:39:19,420]\u001b[0m Trial 50 finished with value: 0.7332854061826024 and parameters: {'par_c': 2.7308099596538743e-06}. Best is trial 28 with value: 0.7994248741912293.\u001b[0m\n",
            "\u001b[32m[I 2023-04-08 18:39:19,482]\u001b[0m Trial 51 finished with value: 0.7958303378864127 and parameters: {'par_c': 0.003727865089637981}. Best is trial 28 with value: 0.7994248741912293.\u001b[0m\n",
            "\u001b[32m[I 2023-04-08 18:39:19,554]\u001b[0m Trial 52 finished with value: 0.7979870596693026 and parameters: {'par_c': 0.014749480629378572}. Best is trial 28 with value: 0.7994248741912293.\u001b[0m\n",
            "\u001b[32m[I 2023-04-08 18:39:19,615]\u001b[0m Trial 53 finished with value: 0.7951114306254493 and parameters: {'par_c': 0.0015546790095849505}. Best is trial 28 with value: 0.7994248741912293.\u001b[0m\n",
            "\u001b[32m[I 2023-04-08 18:39:19,700]\u001b[0m Trial 54 finished with value: 0.7958303378864127 and parameters: {'par_c': 0.04335927810801442}. Best is trial 28 with value: 0.7994248741912293.\u001b[0m\n",
            "\u001b[32m[I 2023-04-08 18:39:19,757]\u001b[0m Trial 55 finished with value: 0.7656362329259525 and parameters: {'par_c': 0.0001602928567986388}. Best is trial 28 with value: 0.7994248741912293.\u001b[0m\n",
            "\u001b[32m[I 2023-04-08 18:39:19,908]\u001b[0m Trial 56 finished with value: 0.794392523364486 and parameters: {'par_c': 0.24441046755163093}. Best is trial 28 with value: 0.7994248741912293.\u001b[0m\n",
            "\u001b[32m[I 2023-04-08 18:39:19,970]\u001b[0m Trial 57 finished with value: 0.7979870596693026 and parameters: {'par_c': 0.00302105029562497}. Best is trial 28 with value: 0.7994248741912293.\u001b[0m\n",
            "\u001b[32m[I 2023-04-08 18:39:20,826]\u001b[0m Trial 58 finished with value: 0.792235801581596 and parameters: {'par_c': 2.0143232761263805}. Best is trial 28 with value: 0.7994248741912293.\u001b[0m\n",
            "\u001b[32m[I 2023-04-08 18:39:21,680]\u001b[0m Trial 59 finished with value: 0.7907979870596693 and parameters: {'par_c': 13.097811918123147}. Best is trial 28 with value: 0.7994248741912293.\u001b[0m\n",
            "\u001b[32m[I 2023-04-08 18:39:21,749]\u001b[0m Trial 60 finished with value: 0.796549245147376 and parameters: {'par_c': 0.017671367115339627}. Best is trial 28 with value: 0.7994248741912293.\u001b[0m\n",
            "\u001b[32m[I 2023-04-08 18:39:21,785]\u001b[0m Trial 61 finished with value: 0.7979870596693026 and parameters: {'par_c': 0.010463293286837837}. Best is trial 28 with value: 0.7994248741912293.\u001b[0m\n",
            "\u001b[32m[I 2023-04-08 18:39:21,848]\u001b[0m Trial 62 finished with value: 0.7951114306254493 and parameters: {'par_c': 0.09940725709770487}. Best is trial 28 with value: 0.7994248741912293.\u001b[0m\n",
            "\u001b[32m[I 2023-04-08 18:39:21,904]\u001b[0m Trial 63 finished with value: 0.7864845434938893 and parameters: {'par_c': 0.0010845498434030624}. Best is trial 28 with value: 0.7994248741912293.\u001b[0m\n",
            "\u001b[32m[I 2023-04-08 18:39:21,941]\u001b[0m Trial 64 finished with value: 0.7620416966211359 and parameters: {'par_c': 0.00012352384175435643}. Best is trial 28 with value: 0.7994248741912293.\u001b[0m\n",
            "\u001b[32m[I 2023-04-08 18:39:21,990]\u001b[0m Trial 65 finished with value: 0.7979870596693026 and parameters: {'par_c': 0.01012942418355076}. Best is trial 28 with value: 0.7994248741912293.\u001b[0m\n",
            "\u001b[32m[I 2023-04-08 18:39:22,123]\u001b[0m Trial 66 finished with value: 0.7936736161035226 and parameters: {'par_c': 0.2639329486951401}. Best is trial 28 with value: 0.7994248741912293.\u001b[0m\n",
            "\u001b[32m[I 2023-04-08 18:39:22,216]\u001b[0m Trial 67 finished with value: 0.796549245147376 and parameters: {'par_c': 0.0038891416503151256}. Best is trial 28 with value: 0.7994248741912293.\u001b[0m\n",
            "\u001b[32m[I 2023-04-08 18:39:22,359]\u001b[0m Trial 68 finished with value: 0.7951114306254493 and parameters: {'par_c': 0.09018550297947654}. Best is trial 28 with value: 0.7994248741912293.\u001b[0m\n",
            "\u001b[32m[I 2023-04-08 18:39:22,596]\u001b[0m Trial 69 finished with value: 0.7929547088425594 and parameters: {'par_c': 0.5925383833142861}. Best is trial 28 with value: 0.7994248741912293.\u001b[0m\n",
            "\u001b[32m[I 2023-04-08 18:39:22,634]\u001b[0m Trial 70 finished with value: 0.7850467289719626 and parameters: {'par_c': 0.0008662388787325611}. Best is trial 28 with value: 0.7994248741912293.\u001b[0m\n",
            "\u001b[32m[I 2023-04-08 18:39:22,676]\u001b[0m Trial 71 finished with value: 0.7972681524083394 and parameters: {'par_c': 0.0036333694448714023}. Best is trial 28 with value: 0.7994248741912293.\u001b[0m\n",
            "\u001b[32m[I 2023-04-08 18:39:22,715]\u001b[0m Trial 72 finished with value: 0.7958303378864127 and parameters: {'par_c': 0.0443315572407184}. Best is trial 28 with value: 0.7994248741912293.\u001b[0m\n",
            "\u001b[32m[I 2023-04-08 18:39:22,782]\u001b[0m Trial 73 finished with value: 0.7721063982746226 and parameters: {'par_c': 0.0002745294062609191}. Best is trial 28 with value: 0.7994248741912293.\u001b[0m\n",
            "\u001b[32m[I 2023-04-08 18:39:22,823]\u001b[0m Trial 74 finished with value: 0.798705966930266 and parameters: {'par_c': 0.007128887248458697}. Best is trial 28 with value: 0.7994248741912293.\u001b[0m\n",
            "\u001b[32m[I 2023-04-08 18:39:22,862]\u001b[0m Trial 75 finished with value: 0.796549245147376 and parameters: {'par_c': 0.020030393124801118}. Best is trial 28 with value: 0.7994248741912293.\u001b[0m\n",
            "\u001b[32m[I 2023-04-08 18:39:22,894]\u001b[0m Trial 76 finished with value: 0.7591660675772826 and parameters: {'par_c': 6.6736875368535e-05}. Best is trial 28 with value: 0.7994248741912293.\u001b[0m\n",
            "\u001b[32m[I 2023-04-08 18:39:22,964]\u001b[0m Trial 77 finished with value: 0.7447879223580158 and parameters: {'par_c': 1.2000477740512669e-05}. Best is trial 28 with value: 0.7994248741912293.\u001b[0m\n",
            "\u001b[32m[I 2023-04-08 18:39:23,007]\u001b[0m Trial 78 finished with value: 0.7843278217109992 and parameters: {'par_c': 0.0006480570639533237}. Best is trial 28 with value: 0.7994248741912293.\u001b[0m\n",
            "\u001b[32m[I 2023-04-08 18:39:23,051]\u001b[0m Trial 79 finished with value: 0.7972681524083394 and parameters: {'par_c': 0.008347936601047797}. Best is trial 28 with value: 0.7994248741912293.\u001b[0m\n",
            "\u001b[32m[I 2023-04-08 18:39:23,097]\u001b[0m Trial 80 finished with value: 0.7951114306254493 and parameters: {'par_c': 0.03782790562986745}. Best is trial 28 with value: 0.7994248741912293.\u001b[0m\n",
            "\u001b[32m[I 2023-04-08 18:39:23,173]\u001b[0m Trial 81 finished with value: 0.7951114306254493 and parameters: {'par_c': 0.0022743539471635427}. Best is trial 28 with value: 0.7994248741912293.\u001b[0m\n",
            "\u001b[32m[I 2023-04-08 18:39:23,239]\u001b[0m Trial 82 finished with value: 0.7929547088425594 and parameters: {'par_c': 0.0018666768083695337}. Best is trial 28 with value: 0.7994248741912293.\u001b[0m\n",
            "\u001b[32m[I 2023-04-08 18:39:23,335]\u001b[0m Trial 83 finished with value: 0.7728253055355859 and parameters: {'par_c': 0.0002851650546624853}. Best is trial 28 with value: 0.7994248741912293.\u001b[0m\n",
            "\u001b[32m[I 2023-04-08 18:39:23,373]\u001b[0m Trial 84 finished with value: 0.798705966930266 and parameters: {'par_c': 0.0071343072679475}. Best is trial 28 with value: 0.7994248741912293.\u001b[0m\n",
            "\u001b[32m[I 2023-04-08 18:39:23,448]\u001b[0m Trial 85 finished with value: 0.7951114306254493 and parameters: {'par_c': 0.09751534598786547}. Best is trial 28 with value: 0.7994248741912293.\u001b[0m\n",
            "\u001b[32m[I 2023-04-08 18:39:23,490]\u001b[0m Trial 86 finished with value: 0.798705966930266 and parameters: {'par_c': 0.012298742896949641}. Best is trial 28 with value: 0.7994248741912293.\u001b[0m\n",
            "\u001b[32m[I 2023-04-08 18:39:23,602]\u001b[0m Trial 87 finished with value: 0.7929547088425594 and parameters: {'par_c': 0.3228334348001368}. Best is trial 28 with value: 0.7994248741912293.\u001b[0m\n",
            "\u001b[32m[I 2023-04-08 18:39:23,686]\u001b[0m Trial 88 finished with value: 0.798705966930266 and parameters: {'par_c': 0.005169558425515331}. Best is trial 28 with value: 0.7994248741912293.\u001b[0m\n",
            "\u001b[32m[I 2023-04-08 18:39:23,723]\u001b[0m Trial 89 finished with value: 0.7814521926671459 and parameters: {'par_c': 0.0005620489182601853}. Best is trial 28 with value: 0.7994248741912293.\u001b[0m\n",
            "\u001b[32m[I 2023-04-08 18:39:23,788]\u001b[0m Trial 90 finished with value: 0.7598849748382459 and parameters: {'par_c': 9.122339953787076e-05}. Best is trial 28 with value: 0.7994248741912293.\u001b[0m\n",
            "\u001b[32m[I 2023-04-08 18:39:23,825]\u001b[0m Trial 91 finished with value: 0.7994248741912293 and parameters: {'par_c': 0.0057449527693298474}. Best is trial 28 with value: 0.7994248741912293.\u001b[0m\n",
            "\u001b[32m[I 2023-04-08 18:39:23,873]\u001b[0m Trial 92 finished with value: 0.798705966930266 and parameters: {'par_c': 0.005568790347406296}. Best is trial 28 with value: 0.7994248741912293.\u001b[0m\n",
            "\u001b[32m[I 2023-04-08 18:39:23,963]\u001b[0m Trial 93 finished with value: 0.7951114306254493 and parameters: {'par_c': 0.038180906216179526}. Best is trial 28 with value: 0.7994248741912293.\u001b[0m\n",
            "\u001b[32m[I 2023-04-08 18:39:24,041]\u001b[0m Trial 94 finished with value: 0.7864845434938893 and parameters: {'par_c': 0.0010157306271935654}. Best is trial 28 with value: 0.7994248741912293.\u001b[0m\n",
            "\u001b[32m[I 2023-04-08 18:39:24,086]\u001b[0m Trial 95 finished with value: 0.798705966930266 and parameters: {'par_c': 0.005640798317253883}. Best is trial 28 with value: 0.7994248741912293.\u001b[0m\n",
            "\u001b[32m[I 2023-04-08 18:39:24,146]\u001b[0m Trial 96 finished with value: 0.794392523364486 and parameters: {'par_c': 0.1673635062796584}. Best is trial 28 with value: 0.7994248741912293.\u001b[0m\n",
            "\u001b[32m[I 2023-04-08 18:39:24,217]\u001b[0m Trial 97 finished with value: 0.794392523364486 and parameters: {'par_c': 0.02699536727250382}. Best is trial 28 with value: 0.7994248741912293.\u001b[0m\n",
            "\u001b[32m[I 2023-04-08 18:39:24,315]\u001b[0m Trial 98 finished with value: 0.7936736161035226 and parameters: {'par_c': 0.0016495551541019255}. Best is trial 28 with value: 0.7994248741912293.\u001b[0m\n",
            "\u001b[32m[I 2023-04-08 18:39:24,792]\u001b[0m Trial 99 finished with value: 0.792235801581596 and parameters: {'par_c': 1.2896331052776928}. Best is trial 28 with value: 0.7994248741912293.\u001b[0m\n"
          ]
        },
        {
          "output_type": "stream",
          "name": "stdout",
          "text": [
            "\n",
            "==============================================\n",
            "Number of finished trials: 100\n",
            "Best trial:\n",
            "Value: 0.7994248741912293\n",
            "  Params: \n",
            "    par_c: 0.00593102224699834\n",
            "==============================================\n",
            "\n",
            "Accuracy after tuning: 77.57331799884992%\n",
            "\n",
            "Classification report\n",
            "              precision    recall  f1-score   support\n",
            "\n",
            "       False       0.79      0.74      0.77       861\n",
            "        True       0.76      0.81      0.78       878\n",
            "\n",
            "    accuracy                           0.78      1739\n",
            "   macro avg       0.78      0.78      0.78      1739\n",
            "weighted avg       0.78      0.78      0.78      1739\n",
            "\n",
            "\n",
            "Confusion matrix\n",
            "[[641 220]\n",
            " [170 708]]\n",
            "==============================================\n",
            "\n",
            "All features number: 90, Selected features number: 32\n",
            "Selected_features:\n",
            "\n",
            "HomePlanet_Earth\n",
            "HomePlanet_Europa\n",
            "CryoSleep_False\n",
            "CryoSleep_True\n",
            "Cabin_deck_C\n",
            "Cabin_deck_G\n",
            "Cabin_side_P\n",
            "Cabin_num/100_3\n",
            "Cabin_num/100_4\n",
            "Cabin_num/100_8\n",
            "Cabin_num/100_9\n",
            "Cabin_num/100_10\n",
            "Cabin_num/100_11\n",
            "RService_deciles_1\n",
            "RService_deciles_7\n",
            "RService_deciles_8\n",
            "RService_deciles_9\n",
            "RService_deciles_10\n",
            "FCourt_deciles_7\n",
            "FCourt_deciles_8\n",
            "FCourt_deciles_10\n",
            "ShMall_deciles_8\n",
            "ShMall_deciles_10\n",
            "Spa_deciles_1\n",
            "Spa_deciles_7\n",
            "Spa_deciles_8\n",
            "Spa_deciles_9\n",
            "Spa_deciles_10\n",
            "VRD_deciles_1\n",
            "VRD_deciles_7\n",
            "VRD_deciles_9\n",
            "VRD_deciles_10\n"
          ]
        }
      ]
    },
    {
      "cell_type": "code",
      "source": [
        "X_train, X_val, X_test, y_train, y_val, y_test = get_subsets(df_te)\n",
        "params = model_optimization(100, objective)\n",
        "model = LinearSVC(C=params['par_c'])\n",
        "result_te_tuned = test_tuned_model(model, X_train, y_train, X_test, y_test)"
      ],
      "metadata": {
        "colab": {
          "base_uri": "https://localhost:8080/"
        },
        "id": "6aksOw3eSGpP",
        "outputId": "8aadcc94-b94f-4fb3-cae1-db4a832c231f"
      },
      "execution_count": null,
      "outputs": [
        {
          "output_type": "stream",
          "name": "stderr",
          "text": [
            "\u001b[32m[I 2023-04-08 18:39:25,095]\u001b[0m A new study created in memory with name: no-name-f9f79ac3-346f-48b5-9530-0a8dddf7f3a9\u001b[0m\n",
            "\u001b[32m[I 2023-04-08 18:39:25,174]\u001b[0m Trial 0 finished with value: 0.7692307692307693 and parameters: {'par_c': 0.17165155021089723}. Best is trial 0 with value: 0.7692307692307693.\u001b[0m\n",
            "\u001b[32m[I 2023-04-08 18:39:25,292]\u001b[0m Trial 1 finished with value: 0.7706685837526959 and parameters: {'par_c': 0.3267143160552438}. Best is trial 1 with value: 0.7706685837526959.\u001b[0m\n",
            "\u001b[32m[I 2023-04-08 18:39:26,041]\u001b[0m Trial 2 finished with value: 0.7742631200575126 and parameters: {'par_c': 4.933821740398624}. Best is trial 2 with value: 0.7742631200575126.\u001b[0m\n",
            "\u001b[32m[I 2023-04-08 18:39:26,782]\u001b[0m Trial 3 finished with value: 0.6326383896477354 and parameters: {'par_c': 455.32286412140814}. Best is trial 2 with value: 0.7742631200575126.\u001b[0m\n",
            "\u001b[32m[I 2023-04-08 18:39:26,809]\u001b[0m Trial 4 finished with value: 0.4996405463695183 and parameters: {'par_c': 2.2717223609337107e-06}. Best is trial 2 with value: 0.7742631200575126.\u001b[0m\n",
            "\u001b[32m[I 2023-04-08 18:39:26,833]\u001b[0m Trial 5 finished with value: 0.4996405463695183 and parameters: {'par_c': 2.5444863272282614e-06}. Best is trial 2 with value: 0.7742631200575126.\u001b[0m\n",
            "\u001b[32m[I 2023-04-08 18:39:27,477]\u001b[0m Trial 6 finished with value: 0.5003594536304816 and parameters: {'par_c': 75862.3493656272}. Best is trial 2 with value: 0.7742631200575126.\u001b[0m\n",
            "\u001b[32m[I 2023-04-08 18:39:28,097]\u001b[0m Trial 7 finished with value: 0.4996405463695183 and parameters: {'par_c': 253000.76433933352}. Best is trial 2 with value: 0.7742631200575126.\u001b[0m\n",
            "\u001b[32m[I 2023-04-08 18:39:28,120]\u001b[0m Trial 8 finished with value: 0.4996405463695183 and parameters: {'par_c': 2.992331716741124e-08}. Best is trial 2 with value: 0.7742631200575126.\u001b[0m\n",
            "\u001b[32m[I 2023-04-08 18:39:28,141]\u001b[0m Trial 9 finished with value: 0.4996405463695183 and parameters: {'par_c': 8.311400651953216e-10}. Best is trial 2 with value: 0.7742631200575126.\u001b[0m\n",
            "\u001b[32m[I 2023-04-08 18:39:29,094]\u001b[0m Trial 10 finished with value: 0.6290438533429188 and parameters: {'par_c': 976261507.5280783}. Best is trial 2 with value: 0.7742631200575126.\u001b[0m\n",
            "\u001b[32m[I 2023-04-08 18:39:29,119]\u001b[0m Trial 11 finished with value: 0.7483824586628325 and parameters: {'par_c': 0.011589615387583465}. Best is trial 2 with value: 0.7742631200575126.\u001b[0m\n",
            "\u001b[32m[I 2023-04-08 18:39:29,156]\u001b[0m Trial 12 finished with value: 0.7476635514018691 and parameters: {'par_c': 0.0050098274709142465}. Best is trial 2 with value: 0.7742631200575126.\u001b[0m\n",
            "\u001b[32m[I 2023-04-08 18:39:29,719]\u001b[0m Trial 13 finished with value: 0.7749820273184759 and parameters: {'par_c': 16.63710131735602}. Best is trial 13 with value: 0.7749820273184759.\u001b[0m\n",
            "\u001b[32m[I 2023-04-08 18:39:30,194]\u001b[0m Trial 14 finished with value: 0.7095614665708123 and parameters: {'par_c': 521.7496527222676}. Best is trial 13 with value: 0.7749820273184759.\u001b[0m\n",
            "\u001b[32m[I 2023-04-08 18:39:30,655]\u001b[0m Trial 15 finished with value: 0.7627606038820992 and parameters: {'par_c': 60.35317941917519}. Best is trial 13 with value: 0.7749820273184759.\u001b[0m\n",
            "\u001b[32m[I 2023-04-08 18:39:30,677]\u001b[0m Trial 16 finished with value: 0.7483824586628325 and parameters: {'par_c': 0.0006184616348948842}. Best is trial 13 with value: 0.7749820273184759.\u001b[0m\n",
            "\u001b[32m[I 2023-04-08 18:39:30,861]\u001b[0m Trial 17 finished with value: 0.7742631200575126 and parameters: {'par_c': 2.6263720590540336}. Best is trial 13 with value: 0.7749820273184759.\u001b[0m\n",
            "\u001b[32m[I 2023-04-08 18:39:30,881]\u001b[0m Trial 18 finished with value: 0.7498202731847592 and parameters: {'par_c': 0.0005650550312835568}. Best is trial 13 with value: 0.7749820273184759.\u001b[0m\n",
            "\u001b[32m[I 2023-04-08 18:39:31,153]\u001b[0m Trial 19 finished with value: 0.7742631200575126 and parameters: {'par_c': 3.9745587432350162}. Best is trial 13 with value: 0.7749820273184759.\u001b[0m\n",
            "\u001b[32m[I 2023-04-08 18:39:31,627]\u001b[0m Trial 20 finished with value: 0.5478073328540618 and parameters: {'par_c': 91150.6052241059}. Best is trial 13 with value: 0.7749820273184759.\u001b[0m\n",
            "\u001b[32m[I 2023-04-08 18:39:32,169]\u001b[0m Trial 21 finished with value: 0.7749820273184759 and parameters: {'par_c': 8.897091302051976}. Best is trial 13 with value: 0.7749820273184759.\u001b[0m\n",
            "\u001b[32m[I 2023-04-08 18:39:32,836]\u001b[0m Trial 22 finished with value: 0.7742631200575126 and parameters: {'par_c': 41.02492895326135}. Best is trial 13 with value: 0.7749820273184759.\u001b[0m\n",
            "\u001b[32m[I 2023-04-08 18:39:33,627]\u001b[0m Trial 23 finished with value: 0.7419122933141624 and parameters: {'par_c': 2607.8401750198577}. Best is trial 13 with value: 0.7749820273184759.\u001b[0m\n",
            "\u001b[32m[I 2023-04-08 18:39:33,688]\u001b[0m Trial 24 finished with value: 0.7692307692307693 and parameters: {'par_c': 0.1030386038539036}. Best is trial 13 with value: 0.7749820273184759.\u001b[0m\n",
            "\u001b[32m[I 2023-04-08 18:39:34,422]\u001b[0m Trial 25 finished with value: 0.7749820273184759 and parameters: {'par_c': 11.140015856985045}. Best is trial 13 with value: 0.7749820273184759.\u001b[0m\n",
            "\u001b[32m[I 2023-04-08 18:39:35,231]\u001b[0m Trial 26 finished with value: 0.7311286843997125 and parameters: {'par_c': 6812.418382736092}. Best is trial 13 with value: 0.7749820273184759.\u001b[0m\n",
            "\u001b[32m[I 2023-04-08 18:39:36,002]\u001b[0m Trial 27 finished with value: 0.7641984184040259 and parameters: {'par_c': 42.930524070127916}. Best is trial 13 with value: 0.7749820273184759.\u001b[0m\n",
            "\u001b[32m[I 2023-04-08 18:39:36,102]\u001b[0m Trial 28 finished with value: 0.7577282530553558 and parameters: {'par_c': 0.025906724306468856}. Best is trial 13 with value: 0.7749820273184759.\u001b[0m\n",
            "\u001b[32m[I 2023-04-08 18:39:36,226]\u001b[0m Trial 29 finished with value: 0.7706685837526959 and parameters: {'par_c': 0.3829545444653402}. Best is trial 13 with value: 0.7749820273184759.\u001b[0m\n",
            "\u001b[32m[I 2023-04-08 18:39:37,016]\u001b[0m Trial 30 finished with value: 0.5442127965492451 and parameters: {'par_c': 11144316.528629322}. Best is trial 13 with value: 0.7749820273184759.\u001b[0m\n",
            "\u001b[32m[I 2023-04-08 18:39:37,524]\u001b[0m Trial 31 finished with value: 0.7742631200575126 and parameters: {'par_c': 4.334925263379258}. Best is trial 13 with value: 0.7749820273184759.\u001b[0m\n",
            "\u001b[32m[I 2023-04-08 18:39:37,620]\u001b[0m Trial 32 finished with value: 0.7706685837526959 and parameters: {'par_c': 0.3115388058307723}. Best is trial 13 with value: 0.7749820273184759.\u001b[0m\n",
            "\u001b[32m[I 2023-04-08 18:39:38,496]\u001b[0m Trial 33 finished with value: 0.7742631200575126 and parameters: {'par_c': 22.10830861703498}. Best is trial 13 with value: 0.7749820273184759.\u001b[0m\n",
            "\u001b[32m[I 2023-04-08 18:39:39,462]\u001b[0m Trial 34 finished with value: 0.5420560747663551 and parameters: {'par_c': 423.92917872073406}. Best is trial 13 with value: 0.7749820273184759.\u001b[0m\n",
            "\u001b[32m[I 2023-04-08 18:39:39,848]\u001b[0m Trial 35 finished with value: 0.7742631200575126 and parameters: {'par_c': 1.4906965430484824}. Best is trial 13 with value: 0.7749820273184759.\u001b[0m\n",
            "\u001b[32m[I 2023-04-08 18:39:39,940]\u001b[0m Trial 36 finished with value: 0.7699496764917325 and parameters: {'par_c': 0.12295381670342076}. Best is trial 13 with value: 0.7749820273184759.\u001b[0m\n",
            "\u001b[32m[I 2023-04-08 18:39:41,865]\u001b[0m Trial 37 finished with value: 0.4996405463695183 and parameters: {'par_c': 7190.26973668777}. Best is trial 13 with value: 0.7749820273184759.\u001b[0m\n",
            "\u001b[32m[I 2023-04-08 18:39:43,363]\u001b[0m Trial 38 finished with value: 0.6513299784327822 and parameters: {'par_c': 426.4920362251135}. Best is trial 13 with value: 0.7749820273184759.\u001b[0m\n",
            "\u001b[32m[I 2023-04-08 18:39:44,005]\u001b[0m Trial 39 finished with value: 0.7749820273184759 and parameters: {'par_c': 9.567840579250548}. Best is trial 13 with value: 0.7749820273184759.\u001b[0m\n",
            "\u001b[32m[I 2023-04-08 18:39:44,098]\u001b[0m Trial 40 finished with value: 0.7721063982746226 and parameters: {'par_c': 1.00948166670734}. Best is trial 13 with value: 0.7749820273184759.\u001b[0m\n",
            "\u001b[32m[I 2023-04-08 18:39:44,539]\u001b[0m Trial 41 finished with value: 0.7749820273184759 and parameters: {'par_c': 10.325249905869153}. Best is trial 13 with value: 0.7749820273184759.\u001b[0m\n",
            "\u001b[32m[I 2023-04-08 18:39:44,986]\u001b[0m Trial 42 finished with value: 0.7735442127965493 and parameters: {'par_c': 17.10165725893478}. Best is trial 13 with value: 0.7749820273184759.\u001b[0m\n",
            "\u001b[32m[I 2023-04-08 18:39:45,423]\u001b[0m Trial 43 finished with value: 0.7749820273184759 and parameters: {'par_c': 9.460802176108198}. Best is trial 13 with value: 0.7749820273184759.\u001b[0m\n",
            "\u001b[32m[I 2023-04-08 18:39:45,879]\u001b[0m Trial 44 finished with value: 0.7656362329259525 and parameters: {'par_c': 276.3638848811705}. Best is trial 13 with value: 0.7749820273184759.\u001b[0m\n",
            "\u001b[32m[I 2023-04-08 18:39:45,942]\u001b[0m Trial 45 finished with value: 0.7713874910136592 and parameters: {'par_c': 0.4936399324403229}. Best is trial 13 with value: 0.7749820273184759.\u001b[0m\n",
            "\u001b[32m[I 2023-04-08 18:39:45,967]\u001b[0m Trial 46 finished with value: 0.7620416966211359 and parameters: {'par_c': 0.03895311918625722}. Best is trial 13 with value: 0.7749820273184759.\u001b[0m\n",
            "\u001b[32m[I 2023-04-08 18:39:46,421]\u001b[0m Trial 47 finished with value: 0.7620416966211359 and parameters: {'par_c': 89.52774698215744}. Best is trial 13 with value: 0.7749820273184759.\u001b[0m\n",
            "\u001b[32m[I 2023-04-08 18:39:46,902]\u001b[0m Trial 48 finished with value: 0.5938173975557153 and parameters: {'par_c': 1445.9117792188115}. Best is trial 13 with value: 0.7749820273184759.\u001b[0m\n",
            "\u001b[32m[I 2023-04-08 18:39:46,928]\u001b[0m Trial 49 finished with value: 0.7455068296189792 and parameters: {'par_c': 0.0034796988456972807}. Best is trial 13 with value: 0.7749820273184759.\u001b[0m\n",
            "\u001b[32m[I 2023-04-08 18:39:47,394]\u001b[0m Trial 50 finished with value: 0.702372393961179 and parameters: {'par_c': 19603.590547651318}. Best is trial 13 with value: 0.7749820273184759.\u001b[0m\n",
            "\u001b[32m[I 2023-04-08 18:39:47,840]\u001b[0m Trial 51 finished with value: 0.7749820273184759 and parameters: {'par_c': 7.730058322843716}. Best is trial 13 with value: 0.7749820273184759.\u001b[0m\n",
            "\u001b[32m[I 2023-04-08 18:39:48,302]\u001b[0m Trial 52 finished with value: 0.7498202731847592 and parameters: {'par_c': 146.68088849768725}. Best is trial 13 with value: 0.7749820273184759.\u001b[0m\n",
            "\u001b[32m[I 2023-04-08 18:39:48,635]\u001b[0m Trial 53 finished with value: 0.7742631200575126 and parameters: {'par_c': 5.412856309839004}. Best is trial 13 with value: 0.7749820273184759.\u001b[0m\n",
            "\u001b[32m[I 2023-04-08 18:39:48,809]\u001b[0m Trial 54 finished with value: 0.7742631200575126 and parameters: {'par_c': 1.5742608150930892}. Best is trial 13 with value: 0.7749820273184759.\u001b[0m\n",
            "\u001b[32m[I 2023-04-08 18:39:49,267]\u001b[0m Trial 55 finished with value: 0.7721063982746226 and parameters: {'par_c': 25.78381105126375}. Best is trial 13 with value: 0.7749820273184759.\u001b[0m\n",
            "\u001b[32m[I 2023-04-08 18:39:49,739]\u001b[0m Trial 56 finished with value: 0.7613227893601725 and parameters: {'par_c': 82.15972650018743}. Best is trial 13 with value: 0.7749820273184759.\u001b[0m\n",
            "\u001b[32m[I 2023-04-08 18:39:50,193]\u001b[0m Trial 57 finished with value: 0.7670740474478792 and parameters: {'par_c': 882.4530360638934}. Best is trial 13 with value: 0.7749820273184759.\u001b[0m\n",
            "\u001b[32m[I 2023-04-08 18:39:50,636]\u001b[0m Trial 58 finished with value: 0.7749820273184759 and parameters: {'par_c': 11.517980685445567}. Best is trial 13 with value: 0.7749820273184759.\u001b[0m\n",
            "\u001b[32m[I 2023-04-08 18:39:50,706]\u001b[0m Trial 59 finished with value: 0.7735442127965493 and parameters: {'par_c': 0.6943095652138455}. Best is trial 13 with value: 0.7749820273184759.\u001b[0m\n",
            "\u001b[32m[I 2023-04-08 18:39:51,156]\u001b[0m Trial 60 finished with value: 0.7670740474478792 and parameters: {'par_c': 1505.1548942424506}. Best is trial 13 with value: 0.7749820273184759.\u001b[0m\n",
            "\u001b[32m[I 2023-04-08 18:39:51,601]\u001b[0m Trial 61 finished with value: 0.7749820273184759 and parameters: {'par_c': 6.889958006207493}. Best is trial 13 with value: 0.7749820273184759.\u001b[0m\n",
            "\u001b[32m[I 2023-04-08 18:39:52,062]\u001b[0m Trial 62 finished with value: 0.7598849748382459 and parameters: {'par_c': 127.41695551075892}. Best is trial 13 with value: 0.7749820273184759.\u001b[0m\n",
            "\u001b[32m[I 2023-04-08 18:39:52,349]\u001b[0m Trial 63 finished with value: 0.7742631200575126 and parameters: {'par_c': 4.627237928070788}. Best is trial 13 with value: 0.7749820273184759.\u001b[0m\n",
            "\u001b[32m[I 2023-04-08 18:39:52,386]\u001b[0m Trial 64 finished with value: 0.7699496764917325 and parameters: {'par_c': 0.1434353524276236}. Best is trial 13 with value: 0.7749820273184759.\u001b[0m\n",
            "\u001b[32m[I 2023-04-08 18:39:52,862]\u001b[0m Trial 65 finished with value: 0.7728253055355859 and parameters: {'par_c': 19.58776784376121}. Best is trial 13 with value: 0.7749820273184759.\u001b[0m\n",
            "\u001b[32m[I 2023-04-08 18:39:53,001]\u001b[0m Trial 66 finished with value: 0.7742631200575126 and parameters: {'par_c': 1.4776826434685644}. Best is trial 13 with value: 0.7749820273184759.\u001b[0m\n",
            "\u001b[32m[I 2023-04-08 18:39:53,032]\u001b[0m Trial 67 finished with value: 0.7620416966211359 and parameters: {'par_c': 0.052675917790404744}. Best is trial 13 with value: 0.7749820273184759.\u001b[0m\n",
            "\u001b[32m[I 2023-04-08 18:39:53,074]\u001b[0m Trial 68 finished with value: 0.7706685837526959 and parameters: {'par_c': 0.2276696939571784}. Best is trial 13 with value: 0.7749820273184759.\u001b[0m\n",
            "\u001b[32m[I 2023-04-08 18:39:53,529]\u001b[0m Trial 69 finished with value: 0.7455068296189792 and parameters: {'par_c': 64.05042557784708}. Best is trial 13 with value: 0.7749820273184759.\u001b[0m\n",
            "\u001b[32m[I 2023-04-08 18:39:53,999]\u001b[0m Trial 70 finished with value: 0.7749820273184759 and parameters: {'par_c': 6.2457622446311}. Best is trial 13 with value: 0.7749820273184759.\u001b[0m\n",
            "\u001b[32m[I 2023-04-08 18:39:54,622]\u001b[0m Trial 71 finished with value: 0.7749820273184759 and parameters: {'par_c': 14.330946313986479}. Best is trial 13 with value: 0.7749820273184759.\u001b[0m\n",
            "\u001b[32m[I 2023-04-08 18:39:54,820]\u001b[0m Trial 72 finished with value: 0.7742631200575126 and parameters: {'par_c': 1.506014165446583}. Best is trial 13 with value: 0.7749820273184759.\u001b[0m\n",
            "\u001b[32m[I 2023-04-08 18:39:55,492]\u001b[0m Trial 73 finished with value: 0.6901509705248023 and parameters: {'par_c': 276.4589355296553}. Best is trial 13 with value: 0.7749820273184759.\u001b[0m\n",
            "\u001b[32m[I 2023-04-08 18:39:56,143]\u001b[0m Trial 74 finished with value: 0.7749820273184759 and parameters: {'par_c': 40.58587866195578}. Best is trial 13 with value: 0.7749820273184759.\u001b[0m\n",
            "\u001b[32m[I 2023-04-08 18:39:56,774]\u001b[0m Trial 75 finished with value: 0.7749820273184759 and parameters: {'par_c': 8.732394839665407}. Best is trial 13 with value: 0.7749820273184759.\u001b[0m\n",
            "\u001b[32m[I 2023-04-08 18:39:56,892]\u001b[0m Trial 76 finished with value: 0.7713874910136592 and parameters: {'par_c': 0.4949951693323371}. Best is trial 13 with value: 0.7749820273184759.\u001b[0m\n",
            "\u001b[32m[I 2023-04-08 18:39:57,152]\u001b[0m Trial 77 finished with value: 0.7735442127965493 and parameters: {'par_c': 2.271057576763041}. Best is trial 13 with value: 0.7749820273184759.\u001b[0m\n",
            "\u001b[32m[I 2023-04-08 18:39:57,846]\u001b[0m Trial 78 finished with value: 0.7462257368799425 and parameters: {'par_c': 226.61632609223253}. Best is trial 13 with value: 0.7749820273184759.\u001b[0m\n",
            "\u001b[32m[I 2023-04-08 18:39:58,379]\u001b[0m Trial 79 finished with value: 0.7735442127965493 and parameters: {'par_c': 17.288816607069023}. Best is trial 13 with value: 0.7749820273184759.\u001b[0m\n",
            "\u001b[32m[I 2023-04-08 18:39:58,419]\u001b[0m Trial 80 finished with value: 0.7699496764917325 and parameters: {'par_c': 0.18601664274407556}. Best is trial 13 with value: 0.7749820273184759.\u001b[0m\n",
            "\u001b[32m[I 2023-04-08 18:39:58,837]\u001b[0m Trial 81 finished with value: 0.7749820273184759 and parameters: {'par_c': 6.899183678793816}. Best is trial 13 with value: 0.7749820273184759.\u001b[0m\n",
            "\u001b[32m[I 2023-04-08 18:39:59,302]\u001b[0m Trial 82 finished with value: 0.7433501078360891 and parameters: {'par_c': 61.62171210811646}. Best is trial 13 with value: 0.7749820273184759.\u001b[0m\n",
            "\u001b[32m[I 2023-04-08 18:39:59,694]\u001b[0m Trial 83 finished with value: 0.7742631200575126 and parameters: {'par_c': 4.380750980670842}. Best is trial 13 with value: 0.7749820273184759.\u001b[0m\n",
            "\u001b[32m[I 2023-04-08 18:40:00,167]\u001b[0m Trial 84 finished with value: 0.7347232207045291 and parameters: {'par_c': 680.7244566641446}. Best is trial 13 with value: 0.7749820273184759.\u001b[0m\n",
            "\u001b[32m[I 2023-04-08 18:40:00,241]\u001b[0m Trial 85 finished with value: 0.7735442127965493 and parameters: {'par_c': 0.7347269614559125}. Best is trial 13 with value: 0.7749820273184759.\u001b[0m\n",
            "\u001b[32m[I 2023-04-08 18:40:00,686]\u001b[0m Trial 86 finished with value: 0.7749820273184759 and parameters: {'par_c': 14.547000409402655}. Best is trial 13 with value: 0.7749820273184759.\u001b[0m\n",
            "\u001b[32m[I 2023-04-08 18:40:01,152]\u001b[0m Trial 87 finished with value: 0.6089144500359454 and parameters: {'par_c': 3740.581402978063}. Best is trial 13 with value: 0.7749820273184759.\u001b[0m\n",
            "\u001b[32m[I 2023-04-08 18:40:01,611]\u001b[0m Trial 88 finished with value: 0.7555715312724659 and parameters: {'par_c': 133.82183221090114}. Best is trial 13 with value: 0.7749820273184759.\u001b[0m\n",
            "\u001b[32m[I 2023-04-08 18:40:01,772]\u001b[0m Trial 89 finished with value: 0.7742631200575126 and parameters: {'par_c': 2.134084541653991}. Best is trial 13 with value: 0.7749820273184759.\u001b[0m\n",
            "\u001b[32m[I 2023-04-08 18:40:01,803]\u001b[0m Trial 90 finished with value: 0.7692307692307693 and parameters: {'par_c': 0.09092769855349493}. Best is trial 13 with value: 0.7749820273184759.\u001b[0m\n",
            "\u001b[32m[I 2023-04-08 18:40:02,252]\u001b[0m Trial 91 finished with value: 0.7749820273184759 and parameters: {'par_c': 7.402551016636684}. Best is trial 13 with value: 0.7749820273184759.\u001b[0m\n",
            "\u001b[32m[I 2023-04-08 18:40:02,715]\u001b[0m Trial 92 finished with value: 0.7735442127965493 and parameters: {'par_c': 36.86625601247539}. Best is trial 13 with value: 0.7749820273184759.\u001b[0m\n",
            "\u001b[32m[I 2023-04-08 18:40:02,998]\u001b[0m Trial 93 finished with value: 0.7742631200575126 and parameters: {'par_c': 4.303551963384227}. Best is trial 13 with value: 0.7749820273184759.\u001b[0m\n",
            "\u001b[32m[I 2023-04-08 18:40:03,075]\u001b[0m Trial 94 finished with value: 0.7735442127965493 and parameters: {'par_c': 0.7546770337223364}. Best is trial 13 with value: 0.7749820273184759.\u001b[0m\n",
            "\u001b[32m[I 2023-04-08 18:40:03,535]\u001b[0m Trial 95 finished with value: 0.7749820273184759 and parameters: {'par_c': 11.992991840514389}. Best is trial 13 with value: 0.7749820273184759.\u001b[0m\n",
            "\u001b[32m[I 2023-04-08 18:40:03,992]\u001b[0m Trial 96 finished with value: 0.6290438533429188 and parameters: {'par_c': 645.5254707640271}. Best is trial 13 with value: 0.7749820273184759.\u001b[0m\n",
            "\u001b[32m[I 2023-04-08 18:40:04,437]\u001b[0m Trial 97 finished with value: 0.7713874910136592 and parameters: {'par_c': 37.87432496129916}. Best is trial 13 with value: 0.7749820273184759.\u001b[0m\n",
            "\u001b[32m[I 2023-04-08 18:40:04,486]\u001b[0m Trial 98 finished with value: 0.7706685837526959 and parameters: {'par_c': 0.40147201268044}. Best is trial 13 with value: 0.7749820273184759.\u001b[0m\n",
            "\u001b[32m[I 2023-04-08 18:40:04,806]\u001b[0m Trial 99 finished with value: 0.7742631200575126 and parameters: {'par_c': 3.163781127230832}. Best is trial 13 with value: 0.7749820273184759.\u001b[0m\n"
          ]
        },
        {
          "output_type": "stream",
          "name": "stdout",
          "text": [
            "\n",
            "==============================================\n",
            "Number of finished trials: 100\n",
            "Best trial:\n",
            "Value: 0.7749820273184759\n",
            "  Params: \n",
            "    par_c: 16.63710131735602\n",
            "==============================================\n",
            "\n",
            "Accuracy after tuning: 76.25071880391029%\n",
            "\n",
            "Classification report\n",
            "              precision    recall  f1-score   support\n",
            "\n",
            "       False       0.76      0.76      0.76       861\n",
            "        True       0.77      0.76      0.76       878\n",
            "\n",
            "    accuracy                           0.76      1739\n",
            "   macro avg       0.76      0.76      0.76      1739\n",
            "weighted avg       0.76      0.76      0.76      1739\n",
            "\n",
            "\n",
            "Confusion matrix\n",
            "[[657 204]\n",
            " [209 669]]\n",
            "==============================================\n",
            "\n",
            "All features number: 14, Selected features number: 8\n",
            "Selected_features:\n",
            "\n",
            "HomePlanet_transformed\n",
            "Destination_transformed\n",
            "VIP_transformed\n",
            "Cabin_side_transformed\n",
            "Cabin_num/100_transformed\n",
            "RService_deciles_transformed\n",
            "Spa_deciles_transformed\n",
            "VRD_deciles_transformed\n"
          ]
        }
      ]
    },
    {
      "cell_type": "code",
      "source": [
        "X_train, X_val, X_test, y_train, y_val, y_test = get_subsets(df_looe)\n",
        "params = model_optimization(100, objective)\n",
        "model = LinearSVC(C=params['par_c'])\n",
        "result_looe_tuned = test_tuned_model(model, X_train, y_train, X_test, y_test)"
      ],
      "metadata": {
        "colab": {
          "base_uri": "https://localhost:8080/"
        },
        "id": "guCNo3j-SJ2-",
        "outputId": "54ef9169-d171-42a7-cf3a-f29d0049791c"
      },
      "execution_count": null,
      "outputs": [
        {
          "output_type": "stream",
          "name": "stderr",
          "text": [
            "\u001b[32m[I 2023-04-08 18:40:05,720]\u001b[0m A new study created in memory with name: no-name-6d3fb797-cb79-450a-bf75-3cd7ac31c4ac\u001b[0m\n",
            "\u001b[32m[I 2023-04-08 18:40:06,149]\u001b[0m Trial 0 finished with value: 0.5125808770668584 and parameters: {'par_c': 1566564805.4624257}. Best is trial 0 with value: 0.5125808770668584.\u001b[0m\n",
            "\u001b[32m[I 2023-04-08 18:40:06,612]\u001b[0m Trial 1 finished with value: 0.586628324946082 and parameters: {'par_c': 8071.152978466635}. Best is trial 1 with value: 0.586628324946082.\u001b[0m\n",
            "\u001b[32m[I 2023-04-08 18:40:07,056]\u001b[0m Trial 2 finished with value: 0.7699496764917325 and parameters: {'par_c': 8.252923498375232}. Best is trial 2 with value: 0.7699496764917325.\u001b[0m\n",
            "\u001b[32m[I 2023-04-08 18:40:07,091]\u001b[0m Trial 3 finished with value: 0.7706685837526959 and parameters: {'par_c': 0.14800078018471557}. Best is trial 3 with value: 0.7706685837526959.\u001b[0m\n",
            "\u001b[32m[I 2023-04-08 18:40:07,551]\u001b[0m Trial 4 finished with value: 0.5384615384615384 and parameters: {'par_c': 21892.553592677625}. Best is trial 3 with value: 0.7706685837526959.\u001b[0m\n",
            "\u001b[32m[I 2023-04-08 18:40:07,561]\u001b[0m Trial 5 finished with value: 0.4996405463695183 and parameters: {'par_c': 3.2453344626937228e-09}. Best is trial 3 with value: 0.7706685837526959.\u001b[0m\n",
            "\u001b[32m[I 2023-04-08 18:40:07,691]\u001b[0m Trial 6 finished with value: 0.7699496764917325 and parameters: {'par_c': 1.642116350047593}. Best is trial 3 with value: 0.7706685837526959.\u001b[0m\n",
            "\u001b[32m[I 2023-04-08 18:40:07,701]\u001b[0m Trial 7 finished with value: 0.4996405463695183 and parameters: {'par_c': 5.045105580421719e-10}. Best is trial 3 with value: 0.7706685837526959.\u001b[0m\n",
            "\u001b[32m[I 2023-04-08 18:40:08,218]\u001b[0m Trial 8 finished with value: 0.4996405463695183 and parameters: {'par_c': 4908727662.341744}. Best is trial 3 with value: 0.7706685837526959.\u001b[0m\n",
            "\u001b[32m[I 2023-04-08 18:40:08,236]\u001b[0m Trial 9 finished with value: 0.4996405463695183 and parameters: {'par_c': 6.274693971678267e-07}. Best is trial 3 with value: 0.7706685837526959.\u001b[0m\n",
            "\u001b[32m[I 2023-04-08 18:40:08,257]\u001b[0m Trial 10 finished with value: 0.4996405463695183 and parameters: {'par_c': 2.6738203871326725e-05}. Best is trial 3 with value: 0.7706685837526959.\u001b[0m\n",
            "\u001b[32m[I 2023-04-08 18:40:08,291]\u001b[0m Trial 11 finished with value: 0.7570093457943925 and parameters: {'par_c': 0.019231737580861427}. Best is trial 3 with value: 0.7706685837526959.\u001b[0m\n",
            "\u001b[32m[I 2023-04-08 18:40:08,352]\u001b[0m Trial 12 finished with value: 0.7685118619698059 and parameters: {'par_c': 0.11855651499576973}. Best is trial 3 with value: 0.7706685837526959.\u001b[0m\n",
            "\u001b[32m[I 2023-04-08 18:40:09,047]\u001b[0m Trial 13 finished with value: 0.7598849748382459 and parameters: {'par_c': 55.12007077289783}. Best is trial 3 with value: 0.7706685837526959.\u001b[0m\n",
            "\u001b[32m[I 2023-04-08 18:40:09,097]\u001b[0m Trial 14 finished with value: 0.7476635514018691 and parameters: {'par_c': 0.0007372878115626244}. Best is trial 3 with value: 0.7706685837526959.\u001b[0m\n",
            "\u001b[32m[I 2023-04-08 18:40:09,746]\u001b[0m Trial 15 finished with value: 0.7649173256649893 and parameters: {'par_c': 85.99847089423588}. Best is trial 3 with value: 0.7706685837526959.\u001b[0m\n",
            "\u001b[32m[I 2023-04-08 18:40:09,770]\u001b[0m Trial 16 finished with value: 0.7462257368799425 and parameters: {'par_c': 0.0005116513706303217}. Best is trial 3 with value: 0.7706685837526959.\u001b[0m\n",
            "\u001b[32m[I 2023-04-08 18:40:09,794]\u001b[0m Trial 17 finished with value: 0.4996405463695183 and parameters: {'par_c': 1.2059508034752201e-06}. Best is trial 3 with value: 0.7706685837526959.\u001b[0m\n",
            "\u001b[32m[I 2023-04-08 18:40:09,950]\u001b[0m Trial 18 finished with value: 0.7692307692307693 and parameters: {'par_c': 1.3976028754567684}. Best is trial 3 with value: 0.7706685837526959.\u001b[0m\n",
            "\u001b[32m[I 2023-04-08 18:40:09,993]\u001b[0m Trial 19 finished with value: 0.7512580877066858 and parameters: {'par_c': 0.010648009065696717}. Best is trial 3 with value: 0.7706685837526959.\u001b[0m\n",
            "\u001b[32m[I 2023-04-08 18:40:10,701]\u001b[0m Trial 20 finished with value: 0.6103522645578721 and parameters: {'par_c': 429796.44138409995}. Best is trial 3 with value: 0.7706685837526959.\u001b[0m\n",
            "\u001b[32m[I 2023-04-08 18:40:11,316]\u001b[0m Trial 21 finished with value: 0.7699496764917325 and parameters: {'par_c': 4.598408915320024}. Best is trial 3 with value: 0.7706685837526959.\u001b[0m\n",
            "\u001b[32m[I 2023-04-08 18:40:11,404]\u001b[0m Trial 22 finished with value: 0.7713874910136592 and parameters: {'par_c': 0.19879649765143043}. Best is trial 22 with value: 0.7713874910136592.\u001b[0m\n",
            "\u001b[32m[I 2023-04-08 18:40:11,462]\u001b[0m Trial 23 finished with value: 0.7656362329259525 and parameters: {'par_c': 0.05171667375346728}. Best is trial 22 with value: 0.7713874910136592.\u001b[0m\n",
            "\u001b[32m[I 2023-04-08 18:40:12,170]\u001b[0m Trial 24 finished with value: 0.7692307692307693 and parameters: {'par_c': 54.170599252830336}. Best is trial 22 with value: 0.7713874910136592.\u001b[0m\n",
            "\u001b[32m[I 2023-04-08 18:40:12,219]\u001b[0m Trial 25 finished with value: 0.7455068296189792 and parameters: {'par_c': 0.0003870068690310964}. Best is trial 22 with value: 0.7713874910136592.\u001b[0m\n",
            "\u001b[32m[I 2023-04-08 18:40:12,276]\u001b[0m Trial 26 finished with value: 0.7692307692307693 and parameters: {'par_c': 0.13497944008271728}. Best is trial 22 with value: 0.7713874910136592.\u001b[0m\n",
            "\u001b[32m[I 2023-04-08 18:40:12,743]\u001b[0m Trial 27 finished with value: 0.728253055355859 and parameters: {'par_c': 884.1688536490609}. Best is trial 22 with value: 0.7713874910136592.\u001b[0m\n",
            "\u001b[32m[I 2023-04-08 18:40:13,155]\u001b[0m Trial 28 finished with value: 0.7699496764917325 and parameters: {'par_c': 4.089007107630122}. Best is trial 22 with value: 0.7713874910136592.\u001b[0m\n",
            "\u001b[32m[I 2023-04-08 18:40:13,612]\u001b[0m Trial 29 finished with value: 0.5003594536304816 and parameters: {'par_c': 2566619.8719361858}. Best is trial 22 with value: 0.7713874910136592.\u001b[0m\n",
            "\u001b[32m[I 2023-04-08 18:40:13,636]\u001b[0m Trial 30 finished with value: 0.7455068296189792 and parameters: {'par_c': 0.0045881916728240674}. Best is trial 22 with value: 0.7713874910136592.\u001b[0m\n",
            "\u001b[32m[I 2023-04-08 18:40:13,747]\u001b[0m Trial 31 finished with value: 0.7699496764917325 and parameters: {'par_c': 0.7960576891989961}. Best is trial 22 with value: 0.7713874910136592.\u001b[0m\n",
            "\u001b[32m[I 2023-04-08 18:40:13,819]\u001b[0m Trial 32 finished with value: 0.7713874910136592 and parameters: {'par_c': 0.5816007532676343}. Best is trial 22 with value: 0.7713874910136592.\u001b[0m\n",
            "\u001b[32m[I 2023-04-08 18:40:14,290]\u001b[0m Trial 33 finished with value: 0.5880661394680087 and parameters: {'par_c': 1234.065928434171}. Best is trial 22 with value: 0.7713874910136592.\u001b[0m\n",
            "\u001b[32m[I 2023-04-08 18:40:14,334]\u001b[0m Trial 34 finished with value: 0.7721063982746226 and parameters: {'par_c': 0.22185911251902798}. Best is trial 34 with value: 0.7721063982746226.\u001b[0m\n",
            "\u001b[32m[I 2023-04-08 18:40:14,380]\u001b[0m Trial 35 finished with value: 0.7721063982746226 and parameters: {'par_c': 0.31127089541197683}. Best is trial 34 with value: 0.7721063982746226.\u001b[0m\n",
            "\u001b[32m[I 2023-04-08 18:40:14,452]\u001b[0m Trial 36 finished with value: 0.7699496764917325 and parameters: {'par_c': 0.6557119830603819}. Best is trial 34 with value: 0.7721063982746226.\u001b[0m\n",
            "\u001b[32m[I 2023-04-08 18:40:14,476]\u001b[0m Trial 37 finished with value: 0.7476635514018691 and parameters: {'par_c': 0.006712408348400688}. Best is trial 34 with value: 0.7721063982746226.\u001b[0m\n",
            "\u001b[32m[I 2023-04-08 18:40:14,925]\u001b[0m Trial 38 finished with value: 0.7670740474478792 and parameters: {'par_c': 50.63177499142105}. Best is trial 34 with value: 0.7721063982746226.\u001b[0m\n",
            "\u001b[32m[I 2023-04-08 18:40:14,958]\u001b[0m Trial 39 finished with value: 0.7706685837526959 and parameters: {'par_c': 0.15986256313291405}. Best is trial 34 with value: 0.7721063982746226.\u001b[0m\n",
            "\u001b[32m[I 2023-04-08 18:40:15,401]\u001b[0m Trial 40 finished with value: 0.7699496764917325 and parameters: {'par_c': 10.866168464384}. Best is trial 34 with value: 0.7721063982746226.\u001b[0m\n",
            "\u001b[32m[I 2023-04-08 18:40:15,447]\u001b[0m Trial 41 finished with value: 0.7728253055355859 and parameters: {'par_c': 0.286712025483484}. Best is trial 41 with value: 0.7728253055355859.\u001b[0m\n",
            "\u001b[32m[I 2023-04-08 18:40:15,500]\u001b[0m Trial 42 finished with value: 0.7721063982746226 and parameters: {'par_c': 0.3969862643238511}. Best is trial 41 with value: 0.7728253055355859.\u001b[0m\n",
            "\u001b[32m[I 2023-04-08 18:40:15,530]\u001b[0m Trial 43 finished with value: 0.7613227893601725 and parameters: {'par_c': 0.0251051465146509}. Best is trial 41 with value: 0.7728253055355859.\u001b[0m\n",
            "\u001b[32m[I 2023-04-08 18:40:15,578]\u001b[0m Trial 44 finished with value: 0.7721063982746226 and parameters: {'par_c': 0.3149435151232914}. Best is trial 41 with value: 0.7728253055355859.\u001b[0m\n",
            "\u001b[32m[I 2023-04-08 18:40:16,022]\u001b[0m Trial 45 finished with value: 0.7699496764917325 and parameters: {'par_c': 5.447257319653534}. Best is trial 41 with value: 0.7728253055355859.\u001b[0m\n",
            "\u001b[32m[I 2023-04-08 18:40:16,044]\u001b[0m Trial 46 finished with value: 0.7447879223580158 and parameters: {'par_c': 0.0015994905834672646}. Best is trial 41 with value: 0.7728253055355859.\u001b[0m\n",
            "\u001b[32m[I 2023-04-08 18:40:16,067]\u001b[0m Trial 47 finished with value: 0.7620416966211359 and parameters: {'par_c': 0.0263263152734851}. Best is trial 41 with value: 0.7728253055355859.\u001b[0m\n",
            "\u001b[32m[I 2023-04-08 18:40:16,090]\u001b[0m Trial 48 finished with value: 0.5830337886412653 and parameters: {'par_c': 0.00012326895416693952}. Best is trial 41 with value: 0.7728253055355859.\u001b[0m\n",
            "\u001b[32m[I 2023-04-08 18:40:16,118]\u001b[0m Trial 49 finished with value: 0.7447879223580158 and parameters: {'par_c': 0.0032979167622042707}. Best is trial 41 with value: 0.7728253055355859.\u001b[0m\n",
            "\u001b[32m[I 2023-04-08 18:40:16,140]\u001b[0m Trial 50 finished with value: 0.4996405463695183 and parameters: {'par_c': 3.9844499285555696e-05}. Best is trial 41 with value: 0.7728253055355859.\u001b[0m\n",
            "\u001b[32m[I 2023-04-08 18:40:16,177]\u001b[0m Trial 51 finished with value: 0.7713874910136592 and parameters: {'par_c': 0.1966338986202893}. Best is trial 41 with value: 0.7728253055355859.\u001b[0m\n",
            "\u001b[32m[I 2023-04-08 18:40:16,205]\u001b[0m Trial 52 finished with value: 0.7677929547088426 and parameters: {'par_c': 0.0744618351769298}. Best is trial 41 with value: 0.7728253055355859.\u001b[0m\n",
            "\u001b[32m[I 2023-04-08 18:40:16,264]\u001b[0m Trial 53 finished with value: 0.7721063982746226 and parameters: {'par_c': 0.4549884429508472}. Best is trial 41 with value: 0.7728253055355859.\u001b[0m\n",
            "\u001b[32m[I 2023-04-08 18:40:16,411]\u001b[0m Trial 54 finished with value: 0.7699496764917325 and parameters: {'par_c': 1.0756337687849433}. Best is trial 41 with value: 0.7728253055355859.\u001b[0m\n",
            "\u001b[32m[I 2023-04-08 18:40:16,858]\u001b[0m Trial 55 finished with value: 0.7699496764917325 and parameters: {'par_c': 13.744519025042836}. Best is trial 41 with value: 0.7728253055355859.\u001b[0m\n",
            "\u001b[32m[I 2023-04-08 18:40:16,883]\u001b[0m Trial 56 finished with value: 0.7570093457943925 and parameters: {'par_c': 0.019450080761359668}. Best is trial 41 with value: 0.7728253055355859.\u001b[0m\n",
            "\u001b[32m[I 2023-04-08 18:40:16,907]\u001b[0m Trial 57 finished with value: 0.7447879223580158 and parameters: {'par_c': 0.0030433993960905592}. Best is trial 41 with value: 0.7728253055355859.\u001b[0m\n",
            "\u001b[32m[I 2023-04-08 18:40:17,046]\u001b[0m Trial 58 finished with value: 0.7699496764917325 and parameters: {'par_c': 1.6417434814453906}. Best is trial 41 with value: 0.7728253055355859.\u001b[0m\n",
            "\u001b[32m[I 2023-04-08 18:40:17,092]\u001b[0m Trial 59 finished with value: 0.7721063982746226 and parameters: {'par_c': 0.3133475940727155}. Best is trial 41 with value: 0.7728253055355859.\u001b[0m\n",
            "\u001b[32m[I 2023-04-08 18:40:17,123]\u001b[0m Trial 60 finished with value: 0.7663551401869159 and parameters: {'par_c': 0.054187339841584144}. Best is trial 41 with value: 0.7728253055355859.\u001b[0m\n",
            "\u001b[32m[I 2023-04-08 18:40:17,173]\u001b[0m Trial 61 finished with value: 0.7721063982746226 and parameters: {'par_c': 0.3565089519474838}. Best is trial 41 with value: 0.7728253055355859.\u001b[0m\n",
            "\u001b[32m[I 2023-04-08 18:40:17,339]\u001b[0m Trial 62 finished with value: 0.7706685837526959 and parameters: {'par_c': 2.0809545127343965}. Best is trial 41 with value: 0.7728253055355859.\u001b[0m\n",
            "\u001b[32m[I 2023-04-08 18:40:17,799]\u001b[0m Trial 63 finished with value: 0.7699496764917325 and parameters: {'par_c': 13.680703714002588}. Best is trial 41 with value: 0.7728253055355859.\u001b[0m\n",
            "\u001b[32m[I 2023-04-08 18:40:17,826]\u001b[0m Trial 64 finished with value: 0.7591660675772826 and parameters: {'par_c': 0.020679759691691734}. Best is trial 41 with value: 0.7728253055355859.\u001b[0m\n",
            "\u001b[32m[I 2023-04-08 18:40:17,883]\u001b[0m Trial 65 finished with value: 0.7721063982746226 and parameters: {'par_c': 0.44470918112610097}. Best is trial 41 with value: 0.7728253055355859.\u001b[0m\n",
            "\u001b[32m[I 2023-04-08 18:40:17,908]\u001b[0m Trial 66 finished with value: 0.7469446441409058 and parameters: {'par_c': 0.0012703718297822262}. Best is trial 41 with value: 0.7728253055355859.\u001b[0m\n",
            "\u001b[32m[I 2023-04-08 18:40:17,941]\u001b[0m Trial 67 finished with value: 0.7685118619698059 and parameters: {'par_c': 0.06704766039868613}. Best is trial 41 with value: 0.7728253055355859.\u001b[0m\n",
            "\u001b[32m[I 2023-04-08 18:40:18,413]\u001b[0m Trial 68 finished with value: 0.719626168224299 and parameters: {'par_c': 146.63291957467388}. Best is trial 41 with value: 0.7728253055355859.\u001b[0m\n",
            "\u001b[32m[I 2023-04-08 18:40:18,438]\u001b[0m Trial 69 finished with value: 0.7476635514018691 and parameters: {'par_c': 0.008456819892907565}. Best is trial 41 with value: 0.7728253055355859.\u001b[0m\n",
            "\u001b[32m[I 2023-04-08 18:40:18,743]\u001b[0m Trial 70 finished with value: 0.7706685837526959 and parameters: {'par_c': 3.0131449965583683}. Best is trial 41 with value: 0.7728253055355859.\u001b[0m\n",
            "\u001b[32m[I 2023-04-08 18:40:18,786]\u001b[0m Trial 71 finished with value: 0.7728253055355859 and parameters: {'par_c': 0.2812594512884806}. Best is trial 41 with value: 0.7728253055355859.\u001b[0m\n",
            "\u001b[32m[I 2023-04-08 18:40:18,838]\u001b[0m Trial 72 finished with value: 0.7721063982746226 and parameters: {'par_c': 0.4104024706154663}. Best is trial 41 with value: 0.7728253055355859.\u001b[0m\n",
            "\u001b[32m[I 2023-04-08 18:40:18,886]\u001b[0m Trial 73 finished with value: 0.7670740474478792 and parameters: {'par_c': 0.0799459714592024}. Best is trial 41 with value: 0.7728253055355859.\u001b[0m\n",
            "\u001b[32m[I 2023-04-08 18:40:19,024]\u001b[0m Trial 74 finished with value: 0.7699496764917325 and parameters: {'par_c': 1.6755276022204078}. Best is trial 41 with value: 0.7728253055355859.\u001b[0m\n",
            "\u001b[32m[I 2023-04-08 18:40:19,059]\u001b[0m Trial 75 finished with value: 0.7713874910136592 and parameters: {'par_c': 0.17631507705411853}. Best is trial 41 with value: 0.7728253055355859.\u001b[0m\n",
            "\u001b[32m[I 2023-04-08 18:40:19,498]\u001b[0m Trial 76 finished with value: 0.7699496764917325 and parameters: {'par_c': 8.497065864767128}. Best is trial 41 with value: 0.7728253055355859.\u001b[0m\n",
            "\u001b[32m[I 2023-04-08 18:40:19,521]\u001b[0m Trial 77 finished with value: 0.7512580877066858 and parameters: {'par_c': 0.01085028979358641}. Best is trial 41 with value: 0.7728253055355859.\u001b[0m\n",
            "\u001b[32m[I 2023-04-08 18:40:19,972]\u001b[0m Trial 78 finished with value: 0.7699496764917325 and parameters: {'par_c': 21.799367821355418}. Best is trial 41 with value: 0.7728253055355859.\u001b[0m\n",
            "\u001b[32m[I 2023-04-08 18:40:20,048]\u001b[0m Trial 79 finished with value: 0.7699496764917325 and parameters: {'par_c': 0.7236084384327196}. Best is trial 41 with value: 0.7728253055355859.\u001b[0m\n",
            "\u001b[32m[I 2023-04-08 18:40:20,388]\u001b[0m Trial 80 finished with value: 0.7699496764917325 and parameters: {'par_c': 5.312419304197568}. Best is trial 41 with value: 0.7728253055355859.\u001b[0m\n",
            "\u001b[32m[I 2023-04-08 18:40:20,444]\u001b[0m Trial 81 finished with value: 0.7721063982746226 and parameters: {'par_c': 0.4493592118118003}. Best is trial 41 with value: 0.7728253055355859.\u001b[0m\n",
            "\u001b[32m[I 2023-04-08 18:40:20,492]\u001b[0m Trial 82 finished with value: 0.7721063982746226 and parameters: {'par_c': 0.30366627856927847}. Best is trial 41 with value: 0.7728253055355859.\u001b[0m\n",
            "\u001b[32m[I 2023-04-08 18:40:20,522]\u001b[0m Trial 83 finished with value: 0.7670740474478792 and parameters: {'par_c': 0.0551176236130418}. Best is trial 41 with value: 0.7728253055355859.\u001b[0m\n",
            "\u001b[32m[I 2023-04-08 18:40:20,563]\u001b[0m Trial 84 finished with value: 0.7713874910136592 and parameters: {'par_c': 0.20322493083970264}. Best is trial 41 with value: 0.7728253055355859.\u001b[0m\n",
            "\u001b[32m[I 2023-04-08 18:40:20,712]\u001b[0m Trial 85 finished with value: 0.7699496764917325 and parameters: {'par_c': 1.8256350316975005}. Best is trial 41 with value: 0.7728253055355859.\u001b[0m\n",
            "\u001b[32m[I 2023-04-08 18:40:20,738]\u001b[0m Trial 86 finished with value: 0.7476635514018691 and parameters: {'par_c': 0.007692017282954867}. Best is trial 41 with value: 0.7728253055355859.\u001b[0m\n",
            "\u001b[32m[I 2023-04-08 18:40:20,768]\u001b[0m Trial 87 finished with value: 0.7649173256649893 and parameters: {'par_c': 0.038002811600315385}. Best is trial 41 with value: 0.7728253055355859.\u001b[0m\n",
            "\u001b[32m[I 2023-04-08 18:40:20,801]\u001b[0m Trial 88 finished with value: 0.7692307692307693 and parameters: {'par_c': 0.13227733337929046}. Best is trial 41 with value: 0.7728253055355859.\u001b[0m\n",
            "\u001b[32m[I 2023-04-08 18:40:20,888]\u001b[0m Trial 89 finished with value: 0.7699496764917325 and parameters: {'par_c': 0.8830987908759768}. Best is trial 41 with value: 0.7728253055355859.\u001b[0m\n",
            "\u001b[32m[I 2023-04-08 18:40:21,137]\u001b[0m Trial 90 finished with value: 0.7699496764917325 and parameters: {'par_c': 3.7290906308562746}. Best is trial 41 with value: 0.7728253055355859.\u001b[0m\n",
            "\u001b[32m[I 2023-04-08 18:40:21,191]\u001b[0m Trial 91 finished with value: 0.7721063982746226 and parameters: {'par_c': 0.4207431834048276}. Best is trial 41 with value: 0.7728253055355859.\u001b[0m\n",
            "\u001b[32m[I 2023-04-08 18:40:21,650]\u001b[0m Trial 92 finished with value: 0.7685118619698059 and parameters: {'par_c': 32.332390010013526}. Best is trial 41 with value: 0.7728253055355859.\u001b[0m\n",
            "\u001b[32m[I 2023-04-08 18:40:21,676]\u001b[0m Trial 93 finished with value: 0.7570093457943925 and parameters: {'par_c': 0.015979436764807675}. Best is trial 41 with value: 0.7728253055355859.\u001b[0m\n",
            "\u001b[32m[I 2023-04-08 18:40:21,721]\u001b[0m Trial 94 finished with value: 0.7728253055355859 and parameters: {'par_c': 0.2867542771054442}. Best is trial 41 with value: 0.7728253055355859.\u001b[0m\n",
            "\u001b[32m[I 2023-04-08 18:40:21,756]\u001b[0m Trial 95 finished with value: 0.7692307692307693 and parameters: {'par_c': 0.13020883130729508}. Best is trial 41 with value: 0.7728253055355859.\u001b[0m\n",
            "\u001b[32m[I 2023-04-08 18:40:21,780]\u001b[0m Trial 96 finished with value: 0.7447879223580158 and parameters: {'par_c': 0.0032399153132887945}. Best is trial 41 with value: 0.7728253055355859.\u001b[0m\n",
            "\u001b[32m[I 2023-04-08 18:40:21,807]\u001b[0m Trial 97 finished with value: 0.7641984184040259 and parameters: {'par_c': 0.033736689572055945}. Best is trial 41 with value: 0.7728253055355859.\u001b[0m\n",
            "\u001b[32m[I 2023-04-08 18:40:22,179]\u001b[0m Trial 98 finished with value: 0.7699496764917325 and parameters: {'par_c': 5.0289351831277305}. Best is trial 41 with value: 0.7728253055355859.\u001b[0m\n",
            "\u001b[32m[I 2023-04-08 18:40:22,220]\u001b[0m Trial 99 finished with value: 0.7721063982746226 and parameters: {'par_c': 0.23310179908610767}. Best is trial 41 with value: 0.7728253055355859.\u001b[0m\n"
          ]
        },
        {
          "output_type": "stream",
          "name": "stdout",
          "text": [
            "\n",
            "==============================================\n",
            "Number of finished trials: 100\n",
            "Best trial:\n",
            "Value: 0.7728253055355859\n",
            "  Params: \n",
            "    par_c: 0.286712025483484\n",
            "==============================================\n",
            "\n",
            "Accuracy after tuning: 76.19321449108683%\n",
            "\n",
            "Classification report\n",
            "              precision    recall  f1-score   support\n",
            "\n",
            "       False       0.75      0.77      0.76       861\n",
            "        True       0.77      0.75      0.76       878\n",
            "\n",
            "    accuracy                           0.76      1739\n",
            "   macro avg       0.76      0.76      0.76      1739\n",
            "weighted avg       0.76      0.76      0.76      1739\n",
            "\n",
            "\n",
            "Confusion matrix\n",
            "[[667 194]\n",
            " [220 658]]\n",
            "==============================================\n",
            "\n",
            "All features number: 14, Selected features number: 6\n",
            "Selected_features:\n",
            "\n",
            "HomePlanet_transformed\n",
            "Cabin_side_transformed\n",
            "Cabin_num/100_transformed\n",
            "RService_deciles_transformed\n",
            "Spa_deciles_transformed\n",
            "VRD_deciles_transformed\n"
          ]
        }
      ]
    },
    {
      "cell_type": "markdown",
      "source": [
        "# Save results"
      ],
      "metadata": {
        "id": "FiD6kQGiHrOy"
      }
    },
    {
      "cell_type": "code",
      "source": [
        "data = []\n",
        "data.append(['LinearSVC', 'OHE', acc_ohe_ini, result_ohe_tuned[0], str(result_ohe_tuned[1])+\" / 90\"])\n",
        "data.append(['LinearSVC', 'TE', acc_te_ini, result_te_tuned[0], str(result_te_tuned[1])+\" / 14\"])\n",
        "data.append(['LinearSVC', 'LOOE', acc_looe_ini, result_looe_tuned[0], str(result_looe_tuned[1])+\" / 14\"])"
      ],
      "metadata": {
        "id": "b7MKbt58HteZ"
      },
      "execution_count": null,
      "outputs": []
    },
    {
      "cell_type": "code",
      "source": [
        "import csv\n",
        "from os.path import exists\n",
        "resfile = 'spaceship_results.csv'"
      ],
      "metadata": {
        "id": "neYfh24YH6LA"
      },
      "execution_count": null,
      "outputs": []
    },
    {
      "cell_type": "code",
      "source": [
        "if exists(resfile):\n",
        "  f = open(resfile, 'a')\n",
        "  writer = csv.writer(f)\n",
        "else:\n",
        "  header = ['Model', 'Categories_encoding', 'Initial_accuracy', 'Tuned_Accuracy', 'Important_Features']\n",
        "  f = open(resfile, 'w', newline='')\n",
        "  writer = csv.writer(f)\n",
        "  writer.writerow(header)\n",
        "\n",
        "writer.writerows(data)\n",
        "f.close()"
      ],
      "metadata": {
        "id": "f4IMg8wPH804"
      },
      "execution_count": null,
      "outputs": []
    }
  ]
}