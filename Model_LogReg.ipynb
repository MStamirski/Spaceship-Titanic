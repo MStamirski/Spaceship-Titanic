{
  "nbformat": 4,
  "nbformat_minor": 0,
  "metadata": {
    "colab": {
      "provenance": [],
      "toc_visible": true,
      "authorship_tag": "ABX9TyMbhXKW9R978JlEEe/3+zkz",
      "include_colab_link": true
    },
    "kernelspec": {
      "name": "python3",
      "display_name": "Python 3"
    },
    "language_info": {
      "name": "python"
    },
    "gpuClass": "standard",
    "accelerator": "GPU"
  },
  "cells": [
    {
      "cell_type": "markdown",
      "metadata": {
        "id": "view-in-github",
        "colab_type": "text"
      },
      "source": [
        "<a href=\"https://colab.research.google.com/github/MStamirski/Spaceship-Titanic/blob/main/Model_LogReg.ipynb\" target=\"_parent\"><img src=\"https://colab.research.google.com/assets/colab-badge.svg\" alt=\"Open In Colab\"/></a>"
      ]
    },
    {
      "cell_type": "markdown",
      "source": [
        "# Preparation"
      ],
      "metadata": {
        "id": "fXZ2j2_EOOGs"
      }
    },
    {
      "cell_type": "code",
      "source": [
        "from google.colab import drive\n",
        "drive.mount(\"/content/drive\")\n",
        "%cd \"/content/drive/MyDrive/Colab_Notebooks/SDA_upskill/Spaceship\""
      ],
      "metadata": {
        "id": "Iag1nNbVX-i7"
      },
      "execution_count": null,
      "outputs": []
    },
    {
      "cell_type": "markdown",
      "source": [
        "# Model with parameters"
      ],
      "metadata": {
        "id": "S1NuaT-4OXUT"
      }
    },
    {
      "cell_type": "code",
      "source": [
        "from sklearn.linear_model import LogisticRegression\n",
        "from sklearn.metrics import accuracy_score"
      ],
      "metadata": {
        "id": "2TVsFi2W9Uma"
      },
      "execution_count": null,
      "outputs": []
    },
    {
      "cell_type": "code",
      "source": [
        "import warnings\n",
        "warnings.filterwarnings(\"ignore\")"
      ],
      "metadata": {
        "id": "LXmiPNeijuY5"
      },
      "execution_count": null,
      "outputs": []
    },
    {
      "cell_type": "code",
      "source": [
        "model = LogisticRegression(max_iter = 100)"
      ],
      "metadata": {
        "id": "WjLIgdT39bnz"
      },
      "execution_count": null,
      "outputs": []
    },
    {
      "cell_type": "code",
      "source": [
        "def objective(trial):\n",
        "\n",
        "  logreg_c = trial.suggest_float('logreg_c', 1e-10, 1e10, log=True)\n",
        "\n",
        "  optuna_model = LogisticRegression(C=logreg_c)\n",
        "  optuna_model.fit(X_train, y_train)\n",
        "\n",
        "  y_pred = optuna_model.predict(X_val)\n",
        "  accuracy = accuracy_score(y_val, y_pred)\n",
        "\n",
        "  return accuracy"
      ],
      "metadata": {
        "id": "DGywz2Vy9eJ7"
      },
      "execution_count": null,
      "outputs": []
    },
    {
      "cell_type": "markdown",
      "source": [
        "# Features datasets"
      ],
      "metadata": {
        "id": "uikVcl7mOnNz"
      }
    },
    {
      "cell_type": "code",
      "source": [
        "!pip install import-ipynb"
      ],
      "metadata": {
        "id": "mV0iITmRYA_r"
      },
      "execution_count": null,
      "outputs": []
    },
    {
      "cell_type": "code",
      "source": [
        "import import_ipynb"
      ],
      "metadata": {
        "id": "NVkS0sr-W2B8"
      },
      "execution_count": null,
      "outputs": []
    },
    {
      "cell_type": "code",
      "source": [
        "from FeaturesEngineering import get_features, categories_one_hot_encoding, categories_target_encoding, categories_leave_one_out_encoding"
      ],
      "metadata": {
        "id": "QTP0FMcj8kZT"
      },
      "execution_count": null,
      "outputs": []
    },
    {
      "cell_type": "code",
      "source": [
        "df = get_features('train')\n",
        "df_ohe = categories_one_hot_encoding(df)\n",
        "df_te = categories_target_encoding(df)\n",
        "df_looe = categories_leave_one_out_encoding(df)"
      ],
      "metadata": {
        "id": "d0bCa6RVbJoX"
      },
      "execution_count": null,
      "outputs": []
    },
    {
      "cell_type": "markdown",
      "source": [
        "# Initial verification"
      ],
      "metadata": {
        "id": "h3H9fFXgOuOj"
      }
    },
    {
      "cell_type": "code",
      "source": [
        "from Optimization import verify_feature_dataset, get_subsets, model_optimization, test_tuned_model"
      ],
      "metadata": {
        "id": "djmNjVOt9oor"
      },
      "execution_count": null,
      "outputs": []
    },
    {
      "cell_type": "code",
      "source": [
        "acc_ohe_ini = verify_feature_dataset(df_ohe, model)"
      ],
      "metadata": {
        "colab": {
          "base_uri": "https://localhost:8080/"
        },
        "id": "pVj-AfkSmkqv",
        "outputId": "ded0bd4a-b609-42e0-8dbc-558ab0be5eac"
      },
      "execution_count": null,
      "outputs": [
        {
          "output_type": "stream",
          "name": "stdout",
          "text": [
            "Accuracy: 77.45398773006134%\n"
          ]
        }
      ]
    },
    {
      "cell_type": "code",
      "source": [
        "acc_te_ini = verify_feature_dataset(df_te, model)"
      ],
      "metadata": {
        "colab": {
          "base_uri": "https://localhost:8080/"
        },
        "id": "4OXZFQd4mtIH",
        "outputId": "8d32a025-c93f-4e3a-9fd0-e9865ec8b4e5"
      },
      "execution_count": null,
      "outputs": [
        {
          "output_type": "stream",
          "name": "stdout",
          "text": [
            "Accuracy: 76.11196319018406%\n"
          ]
        }
      ]
    },
    {
      "cell_type": "code",
      "source": [
        "acc_looe_ini = verify_feature_dataset(df_looe, model)"
      ],
      "metadata": {
        "colab": {
          "base_uri": "https://localhost:8080/"
        },
        "id": "kE1tf0yqmweP",
        "outputId": "98908f01-e376-4c75-ffcc-d87da3b001a3"
      },
      "execution_count": null,
      "outputs": [
        {
          "output_type": "stream",
          "name": "stdout",
          "text": [
            "Accuracy: 75.76687116564416%\n"
          ]
        }
      ]
    },
    {
      "cell_type": "markdown",
      "source": [
        "# Parameters tuning"
      ],
      "metadata": {
        "id": "5Kwn4oYYO8c0"
      }
    },
    {
      "cell_type": "code",
      "source": [
        "X_train, X_val, X_test, y_train, y_val, y_test = get_subsets(df_ohe)\n",
        "params = model_optimization(100, objective)\n",
        "model = LogisticRegression(C=params['logreg_c'])\n",
        "result_ohe_tuned = test_tuned_model(model, X_train, y_train, X_test, y_test)"
      ],
      "metadata": {
        "id": "wg4cmVW72h3X",
        "colab": {
          "base_uri": "https://localhost:8080/"
        },
        "outputId": "73795bfd-0b17-47f2-f3fe-030f299da0aa"
      },
      "execution_count": null,
      "outputs": [
        {
          "output_type": "stream",
          "name": "stderr",
          "text": [
            "\u001b[32m[I 2023-04-08 18:47:04,766]\u001b[0m A new study created in memory with name: no-name-d7611f13-b91f-4a82-a4ac-b1f2174611a6\u001b[0m\n",
            "\u001b[32m[I 2023-04-08 18:47:04,839]\u001b[0m Trial 0 finished with value: 0.4996405463695183 and parameters: {'logreg_c': 1.0497801206477555e-06}. Best is trial 0 with value: 0.4996405463695183.\u001b[0m\n",
            "\u001b[32m[I 2023-04-08 18:47:04,896]\u001b[0m Trial 1 finished with value: 0.4996405463695183 and parameters: {'logreg_c': 1.7623800946617488e-08}. Best is trial 0 with value: 0.4996405463695183.\u001b[0m\n",
            "\u001b[32m[I 2023-04-08 18:47:04,963]\u001b[0m Trial 2 finished with value: 0.4996405463695183 and parameters: {'logreg_c': 2.7853163861265793e-07}. Best is trial 0 with value: 0.4996405463695183.\u001b[0m\n",
            "\u001b[32m[I 2023-04-08 18:47:05,181]\u001b[0m Trial 3 finished with value: 0.792235801581596 and parameters: {'logreg_c': 280668771.5240519}. Best is trial 3 with value: 0.792235801581596.\u001b[0m\n",
            "\u001b[32m[I 2023-04-08 18:47:05,296]\u001b[0m Trial 4 finished with value: 0.792235801581596 and parameters: {'logreg_c': 1698672675.8630095}. Best is trial 3 with value: 0.792235801581596.\u001b[0m\n",
            "\u001b[32m[I 2023-04-08 18:47:05,425]\u001b[0m Trial 5 finished with value: 0.792235801581596 and parameters: {'logreg_c': 28.837310800012713}. Best is trial 3 with value: 0.792235801581596.\u001b[0m\n",
            "\u001b[32m[I 2023-04-08 18:47:05,451]\u001b[0m Trial 6 finished with value: 0.7591660675772826 and parameters: {'logreg_c': 0.0009419044021244541}. Best is trial 3 with value: 0.792235801581596.\u001b[0m\n",
            "\u001b[32m[I 2023-04-08 18:47:05,564]\u001b[0m Trial 7 finished with value: 0.792235801581596 and parameters: {'logreg_c': 2371.2025445908043}. Best is trial 3 with value: 0.792235801581596.\u001b[0m\n",
            "\u001b[32m[I 2023-04-08 18:47:05,593]\u001b[0m Trial 8 finished with value: 0.4996405463695183 and parameters: {'logreg_c': 6.8282770151162135e-09}. Best is trial 3 with value: 0.792235801581596.\u001b[0m\n",
            "\u001b[32m[I 2023-04-08 18:47:05,626]\u001b[0m Trial 9 finished with value: 0.4996405463695183 and parameters: {'logreg_c': 6.992001814093159e-07}. Best is trial 3 with value: 0.792235801581596.\u001b[0m\n",
            "\u001b[32m[I 2023-04-08 18:47:05,779]\u001b[0m Trial 10 finished with value: 0.792235801581596 and parameters: {'logreg_c': 2466289297.331595}. Best is trial 3 with value: 0.792235801581596.\u001b[0m\n",
            "\u001b[32m[I 2023-04-08 18:47:05,912]\u001b[0m Trial 11 finished with value: 0.792235801581596 and parameters: {'logreg_c': 1629809044.6864617}. Best is trial 3 with value: 0.792235801581596.\u001b[0m\n",
            "\u001b[32m[I 2023-04-08 18:47:06,049]\u001b[0m Trial 12 finished with value: 0.792235801581596 and parameters: {'logreg_c': 3757040.3285143804}. Best is trial 3 with value: 0.792235801581596.\u001b[0m\n",
            "\u001b[32m[I 2023-04-08 18:47:06,190]\u001b[0m Trial 13 finished with value: 0.792235801581596 and parameters: {'logreg_c': 496064.87395244394}. Best is trial 3 with value: 0.792235801581596.\u001b[0m\n",
            "\u001b[32m[I 2023-04-08 18:47:06,402]\u001b[0m Trial 14 finished with value: 0.792235801581596 and parameters: {'logreg_c': 1435210.5581720155}. Best is trial 3 with value: 0.792235801581596.\u001b[0m\n",
            "\u001b[32m[I 2023-04-08 18:47:06,646]\u001b[0m Trial 15 finished with value: 0.792235801581596 and parameters: {'logreg_c': 5886492009.326534}. Best is trial 3 with value: 0.792235801581596.\u001b[0m\n",
            "\u001b[32m[I 2023-04-08 18:47:06,762]\u001b[0m Trial 16 finished with value: 0.794392523364486 and parameters: {'logreg_c': 0.29671801344961174}. Best is trial 16 with value: 0.794392523364486.\u001b[0m\n",
            "\u001b[32m[I 2023-04-08 18:47:06,853]\u001b[0m Trial 17 finished with value: 0.7972681524083394 and parameters: {'logreg_c': 0.05979703561925059}. Best is trial 17 with value: 0.7972681524083394.\u001b[0m\n",
            "\u001b[32m[I 2023-04-08 18:47:06,929]\u001b[0m Trial 18 finished with value: 0.7979870596693026 and parameters: {'logreg_c': 0.04179241039372301}. Best is trial 18 with value: 0.7979870596693026.\u001b[0m\n",
            "\u001b[32m[I 2023-04-08 18:47:06,965]\u001b[0m Trial 19 finished with value: 0.7606038820992091 and parameters: {'logreg_c': 0.0011816161950538983}. Best is trial 18 with value: 0.7979870596693026.\u001b[0m\n",
            "\u001b[32m[I 2023-04-08 18:47:07,073]\u001b[0m Trial 20 finished with value: 0.794392523364486 and parameters: {'logreg_c': 0.09583157682786476}. Best is trial 18 with value: 0.7979870596693026.\u001b[0m\n",
            "\u001b[32m[I 2023-04-08 18:47:07,198]\u001b[0m Trial 21 finished with value: 0.792235801581596 and parameters: {'logreg_c': 1.2348953912439176}. Best is trial 18 with value: 0.7979870596693026.\u001b[0m\n",
            "\u001b[32m[I 2023-04-08 18:47:07,241]\u001b[0m Trial 22 finished with value: 0.7721063982746226 and parameters: {'logreg_c': 0.0029771508885305586}. Best is trial 18 with value: 0.7979870596693026.\u001b[0m\n",
            "\u001b[32m[I 2023-04-08 18:47:07,365]\u001b[0m Trial 23 finished with value: 0.792235801581596 and parameters: {'logreg_c': 37.05138741751185}. Best is trial 18 with value: 0.7979870596693026.\u001b[0m\n",
            "\u001b[32m[I 2023-04-08 18:47:07,418]\u001b[0m Trial 24 finished with value: 0.7505391804457225 and parameters: {'logreg_c': 0.00011664095028733523}. Best is trial 18 with value: 0.7979870596693026.\u001b[0m\n",
            "\u001b[32m[I 2023-04-08 18:47:07,503]\u001b[0m Trial 25 finished with value: 0.7936736161035226 and parameters: {'logreg_c': 0.1220619534078657}. Best is trial 18 with value: 0.7979870596693026.\u001b[0m\n",
            "\u001b[32m[I 2023-04-08 18:47:07,536]\u001b[0m Trial 26 finished with value: 0.7519769949676491 and parameters: {'logreg_c': 5.490098378079314e-05}. Best is trial 18 with value: 0.7979870596693026.\u001b[0m\n",
            "\u001b[32m[I 2023-04-08 18:47:07,601]\u001b[0m Trial 27 finished with value: 0.7979870596693026 and parameters: {'logreg_c': 0.037090365297484114}. Best is trial 18 with value: 0.7979870596693026.\u001b[0m\n",
            "\u001b[32m[I 2023-04-08 18:47:07,636]\u001b[0m Trial 28 finished with value: 0.4996405463695183 and parameters: {'logreg_c': 1.3596375108040872e-10}. Best is trial 18 with value: 0.7979870596693026.\u001b[0m\n",
            "\u001b[32m[I 2023-04-08 18:47:07,669]\u001b[0m Trial 29 finished with value: 0.5988497483824586 and parameters: {'logreg_c': 1.202458062116488e-05}. Best is trial 18 with value: 0.7979870596693026.\u001b[0m\n",
            "\u001b[32m[I 2023-04-08 18:47:07,723]\u001b[0m Trial 30 finished with value: 0.787922358015816 and parameters: {'logreg_c': 0.014306660866785316}. Best is trial 18 with value: 0.7979870596693026.\u001b[0m\n",
            "\u001b[32m[I 2023-04-08 18:47:07,861]\u001b[0m Trial 31 finished with value: 0.792235801581596 and parameters: {'logreg_c': 3.1834480982190927}. Best is trial 18 with value: 0.7979870596693026.\u001b[0m\n",
            "\u001b[32m[I 2023-04-08 18:47:07,921]\u001b[0m Trial 32 finished with value: 0.7972681524083394 and parameters: {'logreg_c': 0.03203962887425538}. Best is trial 18 with value: 0.7979870596693026.\u001b[0m\n",
            "\u001b[32m[I 2023-04-08 18:47:07,985]\u001b[0m Trial 33 finished with value: 0.787922358015816 and parameters: {'logreg_c': 0.014082489354461065}. Best is trial 18 with value: 0.7979870596693026.\u001b[0m\n",
            "\u001b[32m[I 2023-04-08 18:47:08,046]\u001b[0m Trial 34 finished with value: 0.7850467289719626 and parameters: {'logreg_c': 0.010582538087435145}. Best is trial 18 with value: 0.7979870596693026.\u001b[0m\n",
            "\u001b[32m[I 2023-04-08 18:47:08,078]\u001b[0m Trial 35 finished with value: 0.7519769949676491 and parameters: {'logreg_c': 0.00026912241506157523}. Best is trial 18 with value: 0.7979870596693026.\u001b[0m\n",
            "\u001b[32m[I 2023-04-08 18:47:08,118]\u001b[0m Trial 36 finished with value: 0.5147375988497483 and parameters: {'logreg_c': 8.315755971208456e-06}. Best is trial 18 with value: 0.7979870596693026.\u001b[0m\n",
            "\u001b[32m[I 2023-04-08 18:47:08,257]\u001b[0m Trial 37 finished with value: 0.792235801581596 and parameters: {'logreg_c': 7.372099984402018}. Best is trial 18 with value: 0.7979870596693026.\u001b[0m\n",
            "\u001b[32m[I 2023-04-08 18:47:08,377]\u001b[0m Trial 38 finished with value: 0.792235801581596 and parameters: {'logreg_c': 82.00557826607137}. Best is trial 18 with value: 0.7979870596693026.\u001b[0m\n",
            "\u001b[32m[I 2023-04-08 18:47:08,470]\u001b[0m Trial 39 finished with value: 0.794392523364486 and parameters: {'logreg_c': 0.10078014205925051}. Best is trial 18 with value: 0.7979870596693026.\u001b[0m\n",
            "\u001b[32m[I 2023-04-08 18:47:08,587]\u001b[0m Trial 40 finished with value: 0.792235801581596 and parameters: {'logreg_c': 306.2063176933603}. Best is trial 18 with value: 0.7979870596693026.\u001b[0m\n",
            "\u001b[32m[I 2023-04-08 18:47:08,703]\u001b[0m Trial 41 finished with value: 0.7936736161035226 and parameters: {'logreg_c': 0.22000915888407063}. Best is trial 18 with value: 0.7979870596693026.\u001b[0m\n",
            "\u001b[32m[I 2023-04-08 18:47:08,880]\u001b[0m Trial 42 finished with value: 0.7936736161035226 and parameters: {'logreg_c': 1.0282086299289788}. Best is trial 18 with value: 0.7979870596693026.\u001b[0m\n",
            "\u001b[32m[I 2023-04-08 18:47:08,958]\u001b[0m Trial 43 finished with value: 0.7721063982746226 and parameters: {'logreg_c': 0.002615836795199071}. Best is trial 18 with value: 0.7979870596693026.\u001b[0m\n",
            "\u001b[32m[I 2023-04-08 18:47:09,212]\u001b[0m Trial 44 finished with value: 0.794392523364486 and parameters: {'logreg_c': 0.43845752493839646}. Best is trial 18 with value: 0.7979870596693026.\u001b[0m\n",
            "\u001b[32m[I 2023-04-08 18:47:09,482]\u001b[0m Trial 45 finished with value: 0.792235801581596 and parameters: {'logreg_c': 7.317402921404261}. Best is trial 18 with value: 0.7979870596693026.\u001b[0m\n",
            "\u001b[32m[I 2023-04-08 18:47:09,599]\u001b[0m Trial 46 finished with value: 0.785765636232926 and parameters: {'logreg_c': 0.012565235928558563}. Best is trial 18 with value: 0.7979870596693026.\u001b[0m\n",
            "\u001b[32m[I 2023-04-08 18:47:09,649]\u001b[0m Trial 47 finished with value: 0.7591660675772826 and parameters: {'logreg_c': 0.0009674240072480491}. Best is trial 18 with value: 0.7979870596693026.\u001b[0m\n",
            "\u001b[32m[I 2023-04-08 18:47:09,884]\u001b[0m Trial 48 finished with value: 0.796549245147376 and parameters: {'logreg_c': 0.051679728781920765}. Best is trial 18 with value: 0.7979870596693026.\u001b[0m\n",
            "\u001b[32m[I 2023-04-08 18:47:10,093]\u001b[0m Trial 49 finished with value: 0.7972681524083394 and parameters: {'logreg_c': 0.031930195122218064}. Best is trial 18 with value: 0.7979870596693026.\u001b[0m\n",
            "\u001b[32m[I 2023-04-08 18:47:10,182]\u001b[0m Trial 50 finished with value: 0.7534148094895758 and parameters: {'logreg_c': 0.0004650773688056863}. Best is trial 18 with value: 0.7979870596693026.\u001b[0m\n",
            "\u001b[32m[I 2023-04-08 18:47:10,377]\u001b[0m Trial 51 finished with value: 0.7958303378864127 and parameters: {'logreg_c': 0.05565572596245896}. Best is trial 18 with value: 0.7979870596693026.\u001b[0m\n",
            "\u001b[32m[I 2023-04-08 18:47:10,511]\u001b[0m Trial 52 finished with value: 0.7814521926671459 and parameters: {'logreg_c': 0.004509986509594749}. Best is trial 18 with value: 0.7979870596693026.\u001b[0m\n",
            "\u001b[32m[I 2023-04-08 18:47:10,708]\u001b[0m Trial 53 finished with value: 0.7972681524083394 and parameters: {'logreg_c': 0.04016264868706063}. Best is trial 18 with value: 0.7979870596693026.\u001b[0m\n",
            "\u001b[32m[I 2023-04-08 18:47:11,233]\u001b[0m Trial 54 finished with value: 0.792235801581596 and parameters: {'logreg_c': 1.7229153461366788}. Best is trial 18 with value: 0.7979870596693026.\u001b[0m\n",
            "\u001b[32m[I 2023-04-08 18:47:11,663]\u001b[0m Trial 55 finished with value: 0.794392523364486 and parameters: {'logreg_c': 0.483717013607344}. Best is trial 18 with value: 0.7979870596693026.\u001b[0m\n",
            "\u001b[32m[I 2023-04-08 18:47:11,803]\u001b[0m Trial 56 finished with value: 0.7627606038820992 and parameters: {'logreg_c': 0.0012881257813385396}. Best is trial 18 with value: 0.7979870596693026.\u001b[0m\n",
            "\u001b[32m[I 2023-04-08 18:47:11,930]\u001b[0m Trial 57 finished with value: 0.7958303378864127 and parameters: {'logreg_c': 0.024917059066925006}. Best is trial 18 with value: 0.7979870596693026.\u001b[0m\n",
            "\u001b[32m[I 2023-04-08 18:47:12,029]\u001b[0m Trial 58 finished with value: 0.7505391804457225 and parameters: {'logreg_c': 0.00019232705170227585}. Best is trial 18 with value: 0.7979870596693026.\u001b[0m\n",
            "\u001b[32m[I 2023-04-08 18:47:12,169]\u001b[0m Trial 59 finished with value: 0.7735442127965493 and parameters: {'logreg_c': 0.0030496937158008114}. Best is trial 18 with value: 0.7979870596693026.\u001b[0m\n",
            "\u001b[32m[I 2023-04-08 18:47:12,489]\u001b[0m Trial 60 finished with value: 0.792235801581596 and parameters: {'logreg_c': 8.431466897082814}. Best is trial 18 with value: 0.7979870596693026.\u001b[0m\n",
            "\u001b[32m[I 2023-04-08 18:47:12,710]\u001b[0m Trial 61 finished with value: 0.796549245147376 and parameters: {'logreg_c': 0.05268178664934639}. Best is trial 18 with value: 0.7979870596693026.\u001b[0m\n",
            "\u001b[32m[I 2023-04-08 18:47:12,978]\u001b[0m Trial 62 finished with value: 0.796549245147376 and parameters: {'logreg_c': 0.057450654926343006}. Best is trial 18 with value: 0.7979870596693026.\u001b[0m\n",
            "\u001b[32m[I 2023-04-08 18:47:13,428]\u001b[0m Trial 63 finished with value: 0.794392523364486 and parameters: {'logreg_c': 0.3264192506273577}. Best is trial 18 with value: 0.7979870596693026.\u001b[0m\n",
            "\u001b[32m[I 2023-04-08 18:47:13,664]\u001b[0m Trial 64 finished with value: 0.798705966930266 and parameters: {'logreg_c': 0.046692080400102885}. Best is trial 64 with value: 0.798705966930266.\u001b[0m\n",
            "\u001b[32m[I 2023-04-08 18:47:13,795]\u001b[0m Trial 65 finished with value: 0.783608914450036 and parameters: {'logreg_c': 0.005381607266453682}. Best is trial 64 with value: 0.798705966930266.\u001b[0m\n",
            "\u001b[32m[I 2023-04-08 18:47:14,211]\u001b[0m Trial 66 finished with value: 0.792235801581596 and parameters: {'logreg_c': 2.0581994679097613}. Best is trial 64 with value: 0.798705966930266.\u001b[0m\n",
            "\u001b[32m[I 2023-04-08 18:47:14,465]\u001b[0m Trial 67 finished with value: 0.790079079798706 and parameters: {'logreg_c': 0.017545392691035257}. Best is trial 64 with value: 0.798705966930266.\u001b[0m\n",
            "\u001b[32m[I 2023-04-08 18:47:14,580]\u001b[0m Trial 68 finished with value: 0.7541337167505392 and parameters: {'logreg_c': 0.0006000010582396403}. Best is trial 64 with value: 0.798705966930266.\u001b[0m\n",
            "\u001b[32m[I 2023-04-08 18:47:14,680]\u001b[0m Trial 69 finished with value: 0.7519769949676491 and parameters: {'logreg_c': 6.976805515089878e-05}. Best is trial 64 with value: 0.798705966930266.\u001b[0m\n",
            "\u001b[32m[I 2023-04-08 18:47:14,979]\u001b[0m Trial 70 finished with value: 0.7929547088425594 and parameters: {'logreg_c': 0.1633696086417164}. Best is trial 64 with value: 0.798705966930266.\u001b[0m\n",
            "\u001b[32m[I 2023-04-08 18:47:15,132]\u001b[0m Trial 71 finished with value: 0.7979870596693026 and parameters: {'logreg_c': 0.0362396629797851}. Best is trial 64 with value: 0.798705966930266.\u001b[0m\n",
            "\u001b[32m[I 2023-04-08 18:47:15,449]\u001b[0m Trial 72 finished with value: 0.7951114306254493 and parameters: {'logreg_c': 0.7812974816494468}. Best is trial 64 with value: 0.798705966930266.\u001b[0m\n",
            "\u001b[32m[I 2023-04-08 18:47:15,561]\u001b[0m Trial 73 finished with value: 0.7821710999281093 and parameters: {'logreg_c': 0.005760191567472138}. Best is trial 64 with value: 0.798705966930266.\u001b[0m\n",
            "\u001b[32m[I 2023-04-08 18:47:15,732]\u001b[0m Trial 74 finished with value: 0.792235801581596 and parameters: {'logreg_c': 0.1454862960476175}. Best is trial 64 with value: 0.798705966930266.\u001b[0m\n",
            "\u001b[32m[I 2023-04-08 18:47:15,895]\u001b[0m Trial 75 finished with value: 0.792235801581596 and parameters: {'logreg_c': 0.019685382064843417}. Best is trial 64 with value: 0.798705966930266.\u001b[0m\n",
            "\u001b[32m[I 2023-04-08 18:47:16,003]\u001b[0m Trial 76 finished with value: 0.7677929547088426 and parameters: {'logreg_c': 0.0017533538696359937}. Best is trial 64 with value: 0.798705966930266.\u001b[0m\n",
            "\u001b[32m[I 2023-04-08 18:47:16,329]\u001b[0m Trial 77 finished with value: 0.794392523364486 and parameters: {'logreg_c': 0.32812516531671687}. Best is trial 64 with value: 0.798705966930266.\u001b[0m\n",
            "\u001b[32m[I 2023-04-08 18:47:16,552]\u001b[0m Trial 78 finished with value: 0.798705966930266 and parameters: {'logreg_c': 0.0445166477025466}. Best is trial 64 with value: 0.798705966930266.\u001b[0m\n",
            "\u001b[32m[I 2023-04-08 18:47:16,908]\u001b[0m Trial 79 finished with value: 0.792235801581596 and parameters: {'logreg_c': 3.2410761562352475}. Best is trial 64 with value: 0.798705966930266.\u001b[0m\n",
            "\u001b[32m[I 2023-04-08 18:47:17,015]\u001b[0m Trial 80 finished with value: 0.7850467289719626 and parameters: {'logreg_c': 0.007356247287148244}. Best is trial 64 with value: 0.798705966930266.\u001b[0m\n",
            "\u001b[32m[I 2023-04-08 18:47:17,234]\u001b[0m Trial 81 finished with value: 0.796549245147376 and parameters: {'logreg_c': 0.033086296348938726}. Best is trial 64 with value: 0.798705966930266.\u001b[0m\n",
            "\u001b[32m[I 2023-04-08 18:47:17,492]\u001b[0m Trial 82 finished with value: 0.7951114306254493 and parameters: {'logreg_c': 0.0713016352662035}. Best is trial 64 with value: 0.798705966930266.\u001b[0m\n",
            "\u001b[32m[I 2023-04-08 18:47:17,774]\u001b[0m Trial 83 finished with value: 0.794392523364486 and parameters: {'logreg_c': 0.46809672144996034}. Best is trial 64 with value: 0.798705966930266.\u001b[0m\n",
            "\u001b[32m[I 2023-04-08 18:47:17,830]\u001b[0m Trial 84 finished with value: 0.7555715312724659 and parameters: {'logreg_c': 0.0008256444752634713}. Best is trial 64 with value: 0.798705966930266.\u001b[0m\n",
            "\u001b[32m[I 2023-04-08 18:47:17,955]\u001b[0m Trial 85 finished with value: 0.7850467289719626 and parameters: {'logreg_c': 0.010444538332481643}. Best is trial 64 with value: 0.798705966930266.\u001b[0m\n",
            "\u001b[32m[I 2023-04-08 18:47:18,140]\u001b[0m Trial 86 finished with value: 0.792235801581596 and parameters: {'logreg_c': 0.1256251671399852}. Best is trial 64 with value: 0.798705966930266.\u001b[0m\n",
            "\u001b[32m[I 2023-04-08 18:47:18,222]\u001b[0m Trial 87 finished with value: 0.7713874910136592 and parameters: {'logreg_c': 0.002276525497908111}. Best is trial 64 with value: 0.798705966930266.\u001b[0m\n",
            "\u001b[32m[I 2023-04-08 18:47:18,366]\u001b[0m Trial 88 finished with value: 0.7979870596693026 and parameters: {'logreg_c': 0.03498635353851514}. Best is trial 64 with value: 0.798705966930266.\u001b[0m\n",
            "\u001b[32m[I 2023-04-08 18:47:18,437]\u001b[0m Trial 89 finished with value: 0.7505391804457225 and parameters: {'logreg_c': 0.00021990083516828536}. Best is trial 64 with value: 0.798705966930266.\u001b[0m\n",
            "\u001b[32m[I 2023-04-08 18:47:18,683]\u001b[0m Trial 90 finished with value: 0.792235801581596 and parameters: {'logreg_c': 1.0869674242007075}. Best is trial 64 with value: 0.798705966930266.\u001b[0m\n",
            "\u001b[32m[I 2023-04-08 18:47:18,815]\u001b[0m Trial 91 finished with value: 0.7979870596693026 and parameters: {'logreg_c': 0.030286256395803558}. Best is trial 64 with value: 0.798705966930266.\u001b[0m\n",
            "\u001b[32m[I 2023-04-08 18:47:18,984]\u001b[0m Trial 92 finished with value: 0.796549245147376 and parameters: {'logreg_c': 0.023344674870132753}. Best is trial 64 with value: 0.798705966930266.\u001b[0m\n",
            "\u001b[32m[I 2023-04-08 18:47:19,363]\u001b[0m Trial 93 finished with value: 0.7929547088425594 and parameters: {'logreg_c': 0.17162380464059687}. Best is trial 64 with value: 0.798705966930266.\u001b[0m\n",
            "\u001b[32m[I 2023-04-08 18:47:19,443]\u001b[0m Trial 94 finished with value: 0.7843278217109992 and parameters: {'logreg_c': 0.006985602503606058}. Best is trial 64 with value: 0.798705966930266.\u001b[0m\n",
            "\u001b[32m[I 2023-04-08 18:47:19,560]\u001b[0m Trial 95 finished with value: 0.7958303378864127 and parameters: {'logreg_c': 0.025166020581658104}. Best is trial 64 with value: 0.798705966930266.\u001b[0m\n",
            "\u001b[32m[I 2023-04-08 18:47:19,629]\u001b[0m Trial 96 finished with value: 0.7721063982746226 and parameters: {'logreg_c': 0.0023318573980961425}. Best is trial 64 with value: 0.798705966930266.\u001b[0m\n",
            "\u001b[32m[I 2023-04-08 18:47:19,854]\u001b[0m Trial 97 finished with value: 0.7951114306254493 and parameters: {'logreg_c': 0.08048849662217891}. Best is trial 64 with value: 0.798705966930266.\u001b[0m\n",
            "\u001b[32m[I 2023-04-08 18:47:20,175]\u001b[0m Trial 98 finished with value: 0.794392523364486 and parameters: {'logreg_c': 0.43574274878660746}. Best is trial 64 with value: 0.798705966930266.\u001b[0m\n",
            "\u001b[32m[I 2023-04-08 18:47:20,339]\u001b[0m Trial 99 finished with value: 0.7534148094895758 and parameters: {'logreg_c': 0.0004785220745796954}. Best is trial 64 with value: 0.798705966930266.\u001b[0m\n"
          ]
        },
        {
          "output_type": "stream",
          "name": "stdout",
          "text": [
            "\n",
            "==============================================\n",
            "Number of finished trials: 100\n",
            "Best trial:\n",
            "Value: 0.798705966930266\n",
            "  Params: \n",
            "    logreg_c: 0.046692080400102885\n",
            "==============================================\n",
            "\n",
            "Accuracy after tuning: 78.09085681426107%\n",
            "\n",
            "Classification report\n",
            "              precision    recall  f1-score   support\n",
            "\n",
            "       False       0.79      0.76      0.77       861\n",
            "        True       0.77      0.81      0.79       878\n",
            "\n",
            "    accuracy                           0.78      1739\n",
            "   macro avg       0.78      0.78      0.78      1739\n",
            "weighted avg       0.78      0.78      0.78      1739\n",
            "\n",
            "\n",
            "Confusion matrix\n",
            "[[651 210]\n",
            " [171 707]]\n",
            "==============================================\n",
            "\n",
            "All features number: 90, Selected features number: 30\n",
            "Selected_features:\n",
            "\n",
            "HomePlanet_Earth\n",
            "HomePlanet_Europa\n",
            "CryoSleep_False\n",
            "CryoSleep_True\n",
            "Cabin_deck_C\n",
            "Cabin_deck_G\n",
            "Cabin_side_S\n",
            "Cabin_num/100_3\n",
            "Cabin_num/100_4\n",
            "Cabin_num/100_8\n",
            "Cabin_num/100_9\n",
            "Cabin_num/100_10\n",
            "Cabin_num/100_11\n",
            "RService_deciles_1\n",
            "RService_deciles_7\n",
            "RService_deciles_8\n",
            "RService_deciles_10\n",
            "FCourt_deciles_8\n",
            "FCourt_deciles_10\n",
            "ShMall_deciles_8\n",
            "ShMall_deciles_10\n",
            "Spa_deciles_1\n",
            "Spa_deciles_7\n",
            "Spa_deciles_8\n",
            "Spa_deciles_9\n",
            "Spa_deciles_10\n",
            "VRD_deciles_1\n",
            "VRD_deciles_7\n",
            "VRD_deciles_8\n",
            "VRD_deciles_10\n"
          ]
        }
      ]
    },
    {
      "cell_type": "code",
      "source": [
        "X_train, X_val, X_test, y_train, y_val, y_test = get_subsets(df_te)\n",
        "params = model_optimization(100, objective)\n",
        "model = LogisticRegression(C=params['logreg_c'])\n",
        "result_te_tuned = test_tuned_model(model, X_train, y_train, X_test, y_test)"
      ],
      "metadata": {
        "colab": {
          "base_uri": "https://localhost:8080/"
        },
        "id": "6aksOw3eSGpP",
        "outputId": "98b7ddda-a768-4455-d3e3-a7098c86e1f3"
      },
      "execution_count": null,
      "outputs": [
        {
          "output_type": "stream",
          "name": "stderr",
          "text": [
            "\u001b[32m[I 2023-04-08 18:47:20,758]\u001b[0m A new study created in memory with name: no-name-08766225-3c88-4338-b6da-def67d67229f\u001b[0m\n",
            "\u001b[32m[I 2023-04-08 18:47:20,905]\u001b[0m Trial 0 finished with value: 0.7685118619698059 and parameters: {'logreg_c': 41.70161962126884}. Best is trial 0 with value: 0.7685118619698059.\u001b[0m\n",
            "\u001b[32m[I 2023-04-08 18:47:21,020]\u001b[0m Trial 1 finished with value: 0.7685118619698059 and parameters: {'logreg_c': 585517.877251529}. Best is trial 0 with value: 0.7685118619698059.\u001b[0m\n",
            "\u001b[32m[I 2023-04-08 18:47:21,060]\u001b[0m Trial 2 finished with value: 0.4996405463695183 and parameters: {'logreg_c': 9.911431912698235e-09}. Best is trial 0 with value: 0.7685118619698059.\u001b[0m\n",
            "\u001b[32m[I 2023-04-08 18:47:21,194]\u001b[0m Trial 3 finished with value: 0.7685118619698059 and parameters: {'logreg_c': 16533224.475058682}. Best is trial 0 with value: 0.7685118619698059.\u001b[0m\n",
            "\u001b[32m[I 2023-04-08 18:47:21,227]\u001b[0m Trial 4 finished with value: 0.4996405463695183 and parameters: {'logreg_c': 2.877676499783116e-10}. Best is trial 0 with value: 0.7685118619698059.\u001b[0m\n",
            "\u001b[32m[I 2023-04-08 18:47:21,364]\u001b[0m Trial 5 finished with value: 0.7692307692307693 and parameters: {'logreg_c': 9.16367532151257}. Best is trial 5 with value: 0.7692307692307693.\u001b[0m\n",
            "\u001b[32m[I 2023-04-08 18:47:21,575]\u001b[0m Trial 6 finished with value: 0.7685118619698059 and parameters: {'logreg_c': 1739098550.4939947}. Best is trial 5 with value: 0.7692307692307693.\u001b[0m\n",
            "\u001b[32m[I 2023-04-08 18:47:21,622]\u001b[0m Trial 7 finished with value: 0.4996405463695183 and parameters: {'logreg_c': 3.101463735278355e-08}. Best is trial 5 with value: 0.7692307692307693.\u001b[0m\n",
            "\u001b[32m[I 2023-04-08 18:47:21,698]\u001b[0m Trial 8 finished with value: 0.4996405463695183 and parameters: {'logreg_c': 5.39374775819889e-09}. Best is trial 5 with value: 0.7692307692307693.\u001b[0m\n",
            "\u001b[32m[I 2023-04-08 18:47:21,830]\u001b[0m Trial 9 finished with value: 0.7685118619698059 and parameters: {'logreg_c': 76.00149007401495}. Best is trial 5 with value: 0.7692307692307693.\u001b[0m\n",
            "\u001b[32m[I 2023-04-08 18:47:21,879]\u001b[0m Trial 10 finished with value: 0.7541337167505392 and parameters: {'logreg_c': 0.030111167721855278}. Best is trial 5 with value: 0.7692307692307693.\u001b[0m\n",
            "\u001b[32m[I 2023-04-08 18:47:22,055]\u001b[0m Trial 11 finished with value: 0.7699496764917325 and parameters: {'logreg_c': 4.605136611894777}. Best is trial 11 with value: 0.7699496764917325.\u001b[0m\n",
            "\u001b[32m[I 2023-04-08 18:47:22,167]\u001b[0m Trial 12 finished with value: 0.7476635514018691 and parameters: {'logreg_c': 0.013283704993391283}. Best is trial 11 with value: 0.7699496764917325.\u001b[0m\n",
            "\u001b[32m[I 2023-04-08 18:47:22,369]\u001b[0m Trial 13 finished with value: 0.7685118619698059 and parameters: {'logreg_c': 4736.4092587763125}. Best is trial 11 with value: 0.7699496764917325.\u001b[0m\n",
            "\u001b[32m[I 2023-04-08 18:47:22,406]\u001b[0m Trial 14 finished with value: 0.7570093457943925 and parameters: {'logreg_c': 0.0006309337471717657}. Best is trial 11 with value: 0.7699496764917325.\u001b[0m\n",
            "\u001b[32m[I 2023-04-08 18:47:22,529]\u001b[0m Trial 15 finished with value: 0.7692307692307693 and parameters: {'logreg_c': 16.928722638060986}. Best is trial 11 with value: 0.7699496764917325.\u001b[0m\n",
            "\u001b[32m[I 2023-04-08 18:47:22,645]\u001b[0m Trial 16 finished with value: 0.7685118619698059 and parameters: {'logreg_c': 9240.086834473286}. Best is trial 11 with value: 0.7699496764917325.\u001b[0m\n",
            "\u001b[32m[I 2023-04-08 18:47:22,668]\u001b[0m Trial 17 finished with value: 0.4996405463695183 and parameters: {'logreg_c': 1.0238969110568145e-05}. Best is trial 11 with value: 0.7699496764917325.\u001b[0m\n",
            "\u001b[32m[I 2023-04-08 18:47:22,711]\u001b[0m Trial 18 finished with value: 0.7728253055355859 and parameters: {'logreg_c': 0.992814554990874}. Best is trial 18 with value: 0.7728253055355859.\u001b[0m\n",
            "\u001b[32m[I 2023-04-08 18:47:22,753]\u001b[0m Trial 19 finished with value: 0.7721063982746226 and parameters: {'logreg_c': 0.45482870114704804}. Best is trial 18 with value: 0.7728253055355859.\u001b[0m\n",
            "\u001b[32m[I 2023-04-08 18:47:22,783]\u001b[0m Trial 20 finished with value: 0.7613227893601725 and parameters: {'logreg_c': 0.08223409405104813}. Best is trial 18 with value: 0.7728253055355859.\u001b[0m\n",
            "\u001b[32m[I 2023-04-08 18:47:22,831]\u001b[0m Trial 21 finished with value: 0.7721063982746226 and parameters: {'logreg_c': 0.4790657409713813}. Best is trial 18 with value: 0.7728253055355859.\u001b[0m\n",
            "\u001b[32m[I 2023-04-08 18:47:22,853]\u001b[0m Trial 22 finished with value: 0.7584471603163192 and parameters: {'logreg_c': 0.00020235042612332774}. Best is trial 18 with value: 0.7728253055355859.\u001b[0m\n",
            "\u001b[32m[I 2023-04-08 18:47:22,912]\u001b[0m Trial 23 finished with value: 0.7713874910136592 and parameters: {'logreg_c': 0.8222589827080492}. Best is trial 18 with value: 0.7728253055355859.\u001b[0m\n",
            "\u001b[32m[I 2023-04-08 18:47:22,949]\u001b[0m Trial 24 finished with value: 0.7699496764917325 and parameters: {'logreg_c': 0.257180409518973}. Best is trial 18 with value: 0.7728253055355859.\u001b[0m\n",
            "\u001b[32m[I 2023-04-08 18:47:22,970]\u001b[0m Trial 25 finished with value: 0.7462257368799425 and parameters: {'logreg_c': 0.0021192953154360434}. Best is trial 18 with value: 0.7728253055355859.\u001b[0m\n",
            "\u001b[32m[I 2023-04-08 18:47:22,992]\u001b[0m Trial 26 finished with value: 0.4996405463695183 and parameters: {'logreg_c': 1.1131281767702463e-05}. Best is trial 18 with value: 0.7728253055355859.\u001b[0m\n",
            "\u001b[32m[I 2023-04-08 18:47:23,064]\u001b[0m Trial 27 finished with value: 0.7685118619698059 and parameters: {'logreg_c': 421.87560487717855}. Best is trial 18 with value: 0.7728253055355859.\u001b[0m\n",
            "\u001b[32m[I 2023-04-08 18:47:23,105]\u001b[0m Trial 28 finished with value: 0.7713874910136592 and parameters: {'logreg_c': 0.7219565060370451}. Best is trial 18 with value: 0.7728253055355859.\u001b[0m\n",
            "\u001b[32m[I 2023-04-08 18:47:23,167]\u001b[0m Trial 29 finished with value: 0.7685118619698059 and parameters: {'logreg_c': 239.3018675049366}. Best is trial 18 with value: 0.7728253055355859.\u001b[0m\n",
            "\u001b[32m[I 2023-04-08 18:47:23,219]\u001b[0m Trial 30 finished with value: 0.7713874910136592 and parameters: {'logreg_c': 0.623224153593839}. Best is trial 18 with value: 0.7728253055355859.\u001b[0m\n",
            "\u001b[32m[I 2023-04-08 18:47:23,276]\u001b[0m Trial 31 finished with value: 0.7685118619698059 and parameters: {'logreg_c': 1.7022809776610273}. Best is trial 18 with value: 0.7728253055355859.\u001b[0m\n",
            "\u001b[32m[I 2023-04-08 18:47:23,302]\u001b[0m Trial 32 finished with value: 0.7498202731847592 and parameters: {'logreg_c': 0.022086726484409267}. Best is trial 18 with value: 0.7728253055355859.\u001b[0m\n",
            "\u001b[32m[I 2023-04-08 18:47:23,376]\u001b[0m Trial 33 finished with value: 0.7692307692307693 and parameters: {'logreg_c': 14.025951409103886}. Best is trial 18 with value: 0.7728253055355859.\u001b[0m\n",
            "\u001b[32m[I 2023-04-08 18:47:23,411]\u001b[0m Trial 34 finished with value: 0.7706685837526959 and parameters: {'logreg_c': 0.23897288400541994}. Best is trial 18 with value: 0.7728253055355859.\u001b[0m\n",
            "\u001b[32m[I 2023-04-08 18:47:23,435]\u001b[0m Trial 35 finished with value: 0.7469446441409058 and parameters: {'logreg_c': 0.00868202930574613}. Best is trial 18 with value: 0.7728253055355859.\u001b[0m\n",
            "\u001b[32m[I 2023-04-08 18:47:23,506]\u001b[0m Trial 36 finished with value: 0.7685118619698059 and parameters: {'logreg_c': 2699.7253960577664}. Best is trial 18 with value: 0.7728253055355859.\u001b[0m\n",
            "\u001b[32m[I 2023-04-08 18:47:23,565]\u001b[0m Trial 37 finished with value: 0.7685118619698059 and parameters: {'logreg_c': 218016.09430939934}. Best is trial 18 with value: 0.7728253055355859.\u001b[0m\n",
            "\u001b[32m[I 2023-04-08 18:47:23,610]\u001b[0m Trial 38 finished with value: 0.7699496764917325 and parameters: {'logreg_c': 4.328581631922213}. Best is trial 18 with value: 0.7728253055355859.\u001b[0m\n",
            "\u001b[32m[I 2023-04-08 18:47:23,671]\u001b[0m Trial 39 finished with value: 0.7685118619698059 and parameters: {'logreg_c': 94.07111159008703}. Best is trial 18 with value: 0.7728253055355859.\u001b[0m\n",
            "\u001b[32m[I 2023-04-08 18:47:23,701]\u001b[0m Trial 40 finished with value: 0.7670740474478792 and parameters: {'logreg_c': 0.1624523770379166}. Best is trial 18 with value: 0.7728253055355859.\u001b[0m\n",
            "\u001b[32m[I 2023-04-08 18:47:23,756]\u001b[0m Trial 41 finished with value: 0.7685118619698059 and parameters: {'logreg_c': 1.3801531957265962}. Best is trial 18 with value: 0.7728253055355859.\u001b[0m\n",
            "\u001b[32m[I 2023-04-08 18:47:23,834]\u001b[0m Trial 42 finished with value: 0.7721063982746226 and parameters: {'logreg_c': 0.9053396042649671}. Best is trial 18 with value: 0.7728253055355859.\u001b[0m\n",
            "\u001b[32m[I 2023-04-08 18:47:23,930]\u001b[0m Trial 43 finished with value: 0.7685118619698059 and parameters: {'logreg_c': 29.550601762225}. Best is trial 18 with value: 0.7728253055355859.\u001b[0m\n",
            "\u001b[32m[I 2023-04-08 18:47:24,036]\u001b[0m Trial 44 finished with value: 0.7699496764917325 and parameters: {'logreg_c': 3.756551909194593}. Best is trial 18 with value: 0.7728253055355859.\u001b[0m\n",
            "\u001b[32m[I 2023-04-08 18:47:24,099]\u001b[0m Trial 45 finished with value: 0.7570093457943925 and parameters: {'logreg_c': 0.05708105076196292}. Best is trial 18 with value: 0.7728253055355859.\u001b[0m\n",
            "\u001b[32m[I 2023-04-08 18:47:24,198]\u001b[0m Trial 46 finished with value: 0.7685118619698059 and parameters: {'logreg_c': 29.490983350710618}. Best is trial 18 with value: 0.7728253055355859.\u001b[0m\n",
            "\u001b[32m[I 2023-04-08 18:47:24,221]\u001b[0m Trial 47 finished with value: 0.7462257368799425 and parameters: {'logreg_c': 0.004374300266247102}. Best is trial 18 with value: 0.7728253055355859.\u001b[0m\n",
            "\u001b[32m[I 2023-04-08 18:47:24,259]\u001b[0m Trial 48 finished with value: 0.7713874910136592 and parameters: {'logreg_c': 0.7506300226189485}. Best is trial 18 with value: 0.7728253055355859.\u001b[0m\n",
            "\u001b[32m[I 2023-04-08 18:47:24,284]\u001b[0m Trial 49 finished with value: 0.7562904385334291 and parameters: {'logreg_c': 0.036930039308246114}. Best is trial 18 with value: 0.7728253055355859.\u001b[0m\n",
            "\u001b[32m[I 2023-04-08 18:47:24,332]\u001b[0m Trial 50 finished with value: 0.7685118619698059 and parameters: {'logreg_c': 7.246670186673049}. Best is trial 18 with value: 0.7728253055355859.\u001b[0m\n",
            "\u001b[32m[I 2023-04-08 18:47:24,371]\u001b[0m Trial 51 finished with value: 0.7677929547088426 and parameters: {'logreg_c': 0.1858850540184864}. Best is trial 18 with value: 0.7728253055355859.\u001b[0m\n",
            "\u001b[32m[I 2023-04-08 18:47:24,430]\u001b[0m Trial 52 finished with value: 0.7713874910136592 and parameters: {'logreg_c': 0.8197307819945009}. Best is trial 18 with value: 0.7728253055355859.\u001b[0m\n",
            "\u001b[32m[I 2023-04-08 18:47:24,481]\u001b[0m Trial 53 finished with value: 0.7685118619698059 and parameters: {'logreg_c': 220.7757395660069}. Best is trial 18 with value: 0.7728253055355859.\u001b[0m\n",
            "\u001b[32m[I 2023-04-08 18:47:24,501]\u001b[0m Trial 54 finished with value: 0.7469446441409058 and parameters: {'logreg_c': 0.0018118107307851994}. Best is trial 18 with value: 0.7728253055355859.\u001b[0m\n",
            "\u001b[32m[I 2023-04-08 18:47:24,564]\u001b[0m Trial 55 finished with value: 0.7699496764917325 and parameters: {'logreg_c': 2.173766616336114}. Best is trial 18 with value: 0.7728253055355859.\u001b[0m\n",
            "\u001b[32m[I 2023-04-08 18:47:24,589]\u001b[0m Trial 56 finished with value: 0.7562904385334291 and parameters: {'logreg_c': 0.0369703978898319}. Best is trial 18 with value: 0.7728253055355859.\u001b[0m\n",
            "\u001b[32m[I 2023-04-08 18:47:24,643]\u001b[0m Trial 57 finished with value: 0.7685118619698059 and parameters: {'logreg_c': 35.96367918273156}. Best is trial 18 with value: 0.7728253055355859.\u001b[0m\n",
            "\u001b[32m[I 2023-04-08 18:47:24,689]\u001b[0m Trial 58 finished with value: 0.7699496764917325 and parameters: {'logreg_c': 0.24961132298929237}. Best is trial 18 with value: 0.7728253055355859.\u001b[0m\n",
            "\u001b[32m[I 2023-04-08 18:47:24,709]\u001b[0m Trial 59 finished with value: 0.7606038820992091 and parameters: {'logreg_c': 0.0003511321558266001}. Best is trial 18 with value: 0.7728253055355859.\u001b[0m\n",
            "\u001b[32m[I 2023-04-08 18:47:24,759]\u001b[0m Trial 60 finished with value: 0.7685118619698059 and parameters: {'logreg_c': 4.981749220086016}. Best is trial 18 with value: 0.7728253055355859.\u001b[0m\n",
            "\u001b[32m[I 2023-04-08 18:47:24,832]\u001b[0m Trial 61 finished with value: 0.7721063982746226 and parameters: {'logreg_c': 0.6010431090373638}. Best is trial 18 with value: 0.7728253055355859.\u001b[0m\n",
            "\u001b[32m[I 2023-04-08 18:47:24,865]\u001b[0m Trial 62 finished with value: 0.7469446441409058 and parameters: {'logreg_c': 0.01110241701613968}. Best is trial 18 with value: 0.7728253055355859.\u001b[0m\n",
            "\u001b[32m[I 2023-04-08 18:47:24,920]\u001b[0m Trial 63 finished with value: 0.7728253055355859 and parameters: {'logreg_c': 1.0414640413558993}. Best is trial 18 with value: 0.7728253055355859.\u001b[0m\n",
            "\u001b[32m[I 2023-04-08 18:47:24,975]\u001b[0m Trial 64 finished with value: 0.7627606038820992 and parameters: {'logreg_c': 0.10484114086627665}. Best is trial 18 with value: 0.7728253055355859.\u001b[0m\n",
            "\u001b[32m[I 2023-04-08 18:47:25,098]\u001b[0m Trial 65 finished with value: 0.7699496764917325 and parameters: {'logreg_c': 13.197892786083996}. Best is trial 18 with value: 0.7728253055355859.\u001b[0m\n",
            "\u001b[32m[I 2023-04-08 18:47:25,167]\u001b[0m Trial 66 finished with value: 0.7721063982746226 and parameters: {'logreg_c': 0.44307678928029554}. Best is trial 18 with value: 0.7728253055355859.\u001b[0m\n",
            "\u001b[32m[I 2023-04-08 18:47:25,228]\u001b[0m Trial 67 finished with value: 0.7476635514018691 and parameters: {'logreg_c': 0.013042670018202758}. Best is trial 18 with value: 0.7728253055355859.\u001b[0m\n",
            "\u001b[32m[I 2023-04-08 18:47:25,289]\u001b[0m Trial 68 finished with value: 0.7598849748382459 and parameters: {'logreg_c': 0.07886073223470295}. Best is trial 18 with value: 0.7728253055355859.\u001b[0m\n",
            "\u001b[32m[I 2023-04-08 18:47:25,414]\u001b[0m Trial 69 finished with value: 0.7685118619698059 and parameters: {'logreg_c': 103.59585843930238}. Best is trial 18 with value: 0.7728253055355859.\u001b[0m\n",
            "\u001b[32m[I 2023-04-08 18:47:25,537]\u001b[0m Trial 70 finished with value: 0.7685118619698059 and parameters: {'logreg_c': 815.2015944641711}. Best is trial 18 with value: 0.7728253055355859.\u001b[0m\n",
            "\u001b[32m[I 2023-04-08 18:47:25,631]\u001b[0m Trial 71 finished with value: 0.7706685837526959 and parameters: {'logreg_c': 0.6514465126452654}. Best is trial 18 with value: 0.7728253055355859.\u001b[0m\n",
            "\u001b[32m[I 2023-04-08 18:47:25,731]\u001b[0m Trial 72 finished with value: 0.7699496764917325 and parameters: {'logreg_c': 2.0933960081346124}. Best is trial 18 with value: 0.7728253055355859.\u001b[0m\n",
            "\u001b[32m[I 2023-04-08 18:47:25,843]\u001b[0m Trial 73 finished with value: 0.7699496764917325 and parameters: {'logreg_c': 9.771860137392224}. Best is trial 18 with value: 0.7728253055355859.\u001b[0m\n",
            "\u001b[32m[I 2023-04-08 18:47:25,948]\u001b[0m Trial 74 finished with value: 0.7721063982746226 and parameters: {'logreg_c': 0.48026638129227456}. Best is trial 18 with value: 0.7728253055355859.\u001b[0m\n",
            "\u001b[32m[I 2023-04-08 18:47:26,017]\u001b[0m Trial 75 finished with value: 0.7685118619698059 and parameters: {'logreg_c': 0.20459850361431117}. Best is trial 18 with value: 0.7728253055355859.\u001b[0m\n",
            "\u001b[32m[I 2023-04-08 18:47:26,072]\u001b[0m Trial 76 finished with value: 0.7526959022286125 and parameters: {'logreg_c': 0.027094605426413634}. Best is trial 18 with value: 0.7728253055355859.\u001b[0m\n",
            "\u001b[32m[I 2023-04-08 18:47:26,150]\u001b[0m Trial 77 finished with value: 0.7728253055355859 and parameters: {'logreg_c': 0.40904311397445653}. Best is trial 18 with value: 0.7728253055355859.\u001b[0m\n",
            "\u001b[32m[I 2023-04-08 18:47:26,243]\u001b[0m Trial 78 finished with value: 0.7706685837526959 and parameters: {'logreg_c': 2.2724727923936263}. Best is trial 18 with value: 0.7728253055355859.\u001b[0m\n",
            "\u001b[32m[I 2023-04-08 18:47:26,441]\u001b[0m Trial 79 finished with value: 0.7685118619698059 and parameters: {'logreg_c': 60.741809601619906}. Best is trial 18 with value: 0.7728253055355859.\u001b[0m\n",
            "\u001b[32m[I 2023-04-08 18:47:26,580]\u001b[0m Trial 80 finished with value: 0.7620416966211359 and parameters: {'logreg_c': 0.09121118010944422}. Best is trial 18 with value: 0.7728253055355859.\u001b[0m\n",
            "\u001b[32m[I 2023-04-08 18:47:26,787]\u001b[0m Trial 81 finished with value: 0.7721063982746226 and parameters: {'logreg_c': 0.4809999015436521}. Best is trial 18 with value: 0.7728253055355859.\u001b[0m\n",
            "\u001b[32m[I 2023-04-08 18:47:26,957]\u001b[0m Trial 82 finished with value: 0.7699496764917325 and parameters: {'logreg_c': 3.906006616686706}. Best is trial 18 with value: 0.7728253055355859.\u001b[0m\n",
            "\u001b[32m[I 2023-04-08 18:47:27,105]\u001b[0m Trial 83 finished with value: 0.7721063982746226 and parameters: {'logreg_c': 0.5769750278581349}. Best is trial 18 with value: 0.7728253055355859.\u001b[0m\n",
            "\u001b[32m[I 2023-04-08 18:47:27,311]\u001b[0m Trial 84 finished with value: 0.7699496764917325 and parameters: {'logreg_c': 13.687654852872027}. Best is trial 18 with value: 0.7728253055355859.\u001b[0m\n",
            "\u001b[32m[I 2023-04-08 18:47:27,449]\u001b[0m Trial 85 finished with value: 0.7721063982746226 and parameters: {'logreg_c': 0.3107982696897368}. Best is trial 18 with value: 0.7728253055355859.\u001b[0m\n",
            "\u001b[32m[I 2023-04-08 18:47:27,536]\u001b[0m Trial 86 finished with value: 0.7469446441409058 and parameters: {'logreg_c': 0.00699476575470872}. Best is trial 18 with value: 0.7728253055355859.\u001b[0m\n",
            "\u001b[32m[I 2023-04-08 18:47:27,663]\u001b[0m Trial 87 finished with value: 0.7570093457943925 and parameters: {'logreg_c': 0.041092395113789947}. Best is trial 18 with value: 0.7728253055355859.\u001b[0m\n",
            "\u001b[32m[I 2023-04-08 18:47:27,793]\u001b[0m Trial 88 finished with value: 0.7728253055355859 and parameters: {'logreg_c': 0.9357381908183714}. Best is trial 18 with value: 0.7728253055355859.\u001b[0m\n",
            "\u001b[32m[I 2023-04-08 18:47:27,939]\u001b[0m Trial 89 finished with value: 0.7685118619698059 and parameters: {'logreg_c': 1.7032548929656341}. Best is trial 18 with value: 0.7728253055355859.\u001b[0m\n",
            "\u001b[32m[I 2023-04-08 18:47:28,082]\u001b[0m Trial 90 finished with value: 0.7692307692307693 and parameters: {'logreg_c': 9.34931214209404}. Best is trial 18 with value: 0.7728253055355859.\u001b[0m\n",
            "\u001b[32m[I 2023-04-08 18:47:28,251]\u001b[0m Trial 91 finished with value: 0.7713874910136592 and parameters: {'logreg_c': 1.125738027617995}. Best is trial 18 with value: 0.7728253055355859.\u001b[0m\n",
            "\u001b[32m[I 2023-04-08 18:47:28,366]\u001b[0m Trial 92 finished with value: 0.7649173256649893 and parameters: {'logreg_c': 0.12059595917358455}. Best is trial 18 with value: 0.7728253055355859.\u001b[0m\n",
            "\u001b[32m[I 2023-04-08 18:47:28,525]\u001b[0m Trial 93 finished with value: 0.7728253055355859 and parameters: {'logreg_c': 0.3695261132653084}. Best is trial 18 with value: 0.7728253055355859.\u001b[0m\n",
            "\u001b[32m[I 2023-04-08 18:47:28,708]\u001b[0m Trial 94 finished with value: 0.7699496764917325 and parameters: {'logreg_c': 3.8201082252800056}. Best is trial 18 with value: 0.7728253055355859.\u001b[0m\n",
            "\u001b[32m[I 2023-04-08 18:47:28,778]\u001b[0m Trial 95 finished with value: 0.7505391804457225 and parameters: {'logreg_c': 0.025449230825097677}. Best is trial 18 with value: 0.7728253055355859.\u001b[0m\n",
            "\u001b[32m[I 2023-04-08 18:47:28,838]\u001b[0m Trial 96 finished with value: 0.7462257368799425 and parameters: {'logreg_c': 0.0030532974934703193}. Best is trial 18 with value: 0.7728253055355859.\u001b[0m\n",
            "\u001b[32m[I 2023-04-08 18:47:28,978]\u001b[0m Trial 97 finished with value: 0.7706685837526959 and parameters: {'logreg_c': 0.2353436484770889}. Best is trial 18 with value: 0.7728253055355859.\u001b[0m\n",
            "\u001b[32m[I 2023-04-08 18:47:29,225]\u001b[0m Trial 98 finished with value: 0.7685118619698059 and parameters: {'logreg_c': 25.655017688053213}. Best is trial 18 with value: 0.7728253055355859.\u001b[0m\n",
            "\u001b[32m[I 2023-04-08 18:47:29,399]\u001b[0m Trial 99 finished with value: 0.7685118619698059 and parameters: {'logreg_c': 1.3782544957083567}. Best is trial 18 with value: 0.7728253055355859.\u001b[0m\n"
          ]
        },
        {
          "output_type": "stream",
          "name": "stdout",
          "text": [
            "\n",
            "==============================================\n",
            "Number of finished trials: 100\n",
            "Best trial:\n",
            "Value: 0.7728253055355859\n",
            "  Params: \n",
            "    logreg_c: 0.992814554990874\n",
            "==============================================\n",
            "\n",
            "Accuracy after tuning: 76.42323174238068%\n",
            "\n",
            "Classification report\n",
            "              precision    recall  f1-score   support\n",
            "\n",
            "       False       0.76      0.77      0.76       861\n",
            "        True       0.77      0.76      0.77       878\n",
            "\n",
            "    accuracy                           0.76      1739\n",
            "   macro avg       0.76      0.76      0.76      1739\n",
            "weighted avg       0.76      0.76      0.76      1739\n",
            "\n",
            "\n",
            "Confusion matrix\n",
            "[[661 200]\n",
            " [210 668]]\n",
            "==============================================\n",
            "\n",
            "All features number: 14, Selected features number: 7\n",
            "Selected_features:\n",
            "\n",
            "HomePlanet_transformed\n",
            "Destination_transformed\n",
            "Cabin_side_transformed\n",
            "Cabin_num/100_transformed\n",
            "RService_deciles_transformed\n",
            "Spa_deciles_transformed\n",
            "VRD_deciles_transformed\n"
          ]
        }
      ]
    },
    {
      "cell_type": "code",
      "source": [
        "X_train, X_val, X_test, y_train, y_val, y_test = get_subsets(df_looe)\n",
        "params = model_optimization(100, objective)\n",
        "model = LogisticRegression(C=params['logreg_c'])\n",
        "result_looe_tuned = test_tuned_model(model, X_train, y_train, X_test, y_test)"
      ],
      "metadata": {
        "colab": {
          "base_uri": "https://localhost:8080/"
        },
        "id": "guCNo3j-SJ2-",
        "outputId": "352524e0-9a4c-46e7-e62c-f96d84534a40"
      },
      "execution_count": null,
      "outputs": [
        {
          "output_type": "stream",
          "name": "stderr",
          "text": [
            "\u001b[32m[I 2023-04-08 18:47:29,741]\u001b[0m A new study created in memory with name: no-name-f7deecfb-103e-41bc-8bfe-c430f99a58bc\u001b[0m\n",
            "\u001b[32m[I 2023-04-08 18:47:29,811]\u001b[0m Trial 0 finished with value: 0.7649173256649893 and parameters: {'logreg_c': 1.2102964023319742}. Best is trial 0 with value: 0.7649173256649893.\u001b[0m\n",
            "\u001b[32m[I 2023-04-08 18:47:29,850]\u001b[0m Trial 1 finished with value: 0.4996405463695183 and parameters: {'logreg_c': 4.0549280246460917e-08}. Best is trial 0 with value: 0.7649173256649893.\u001b[0m\n",
            "\u001b[32m[I 2023-04-08 18:47:29,920]\u001b[0m Trial 2 finished with value: 0.7641984184040259 and parameters: {'logreg_c': 648769.1996250073}. Best is trial 0 with value: 0.7649173256649893.\u001b[0m\n",
            "\u001b[32m[I 2023-04-08 18:47:29,972]\u001b[0m Trial 3 finished with value: 0.7584471603163192 and parameters: {'logreg_c': 0.08384599666282412}. Best is trial 0 with value: 0.7649173256649893.\u001b[0m\n",
            "\u001b[32m[I 2023-04-08 18:47:30,001]\u001b[0m Trial 4 finished with value: 0.7476635514018691 and parameters: {'logreg_c': 0.0008212779576852106}. Best is trial 0 with value: 0.7649173256649893.\u001b[0m\n",
            "\u001b[32m[I 2023-04-08 18:47:30,100]\u001b[0m Trial 5 finished with value: 0.7641984184040259 and parameters: {'logreg_c': 101445017.96026358}. Best is trial 0 with value: 0.7649173256649893.\u001b[0m\n",
            "\u001b[32m[I 2023-04-08 18:47:30,188]\u001b[0m Trial 6 finished with value: 0.7641984184040259 and parameters: {'logreg_c': 2901.963859148099}. Best is trial 0 with value: 0.7649173256649893.\u001b[0m\n",
            "\u001b[32m[I 2023-04-08 18:47:30,285]\u001b[0m Trial 7 finished with value: 0.7649173256649893 and parameters: {'logreg_c': 0.6333689347334482}. Best is trial 0 with value: 0.7649173256649893.\u001b[0m\n",
            "\u001b[32m[I 2023-04-08 18:47:30,366]\u001b[0m Trial 8 finished with value: 0.4996405463695183 and parameters: {'logreg_c': 1.2817469194691278e-07}. Best is trial 0 with value: 0.7649173256649893.\u001b[0m\n",
            "\u001b[32m[I 2023-04-08 18:47:30,447]\u001b[0m Trial 9 finished with value: 0.7641984184040259 and parameters: {'logreg_c': 3057680110.9371543}. Best is trial 0 with value: 0.7649173256649893.\u001b[0m\n",
            "\u001b[32m[I 2023-04-08 18:47:30,562]\u001b[0m Trial 10 finished with value: 0.7641984184040259 and parameters: {'logreg_c': 65.19815274914137}. Best is trial 0 with value: 0.7649173256649893.\u001b[0m\n",
            "\u001b[32m[I 2023-04-08 18:47:30,643]\u001b[0m Trial 11 finished with value: 0.7541337167505392 and parameters: {'logreg_c': 0.05478888146565031}. Best is trial 0 with value: 0.7649173256649893.\u001b[0m\n",
            "\u001b[32m[I 2023-04-08 18:47:30,769]\u001b[0m Trial 12 finished with value: 0.7641984184040259 and parameters: {'logreg_c': 91.84877417460274}. Best is trial 0 with value: 0.7649173256649893.\u001b[0m\n",
            "\u001b[32m[I 2023-04-08 18:47:30,812]\u001b[0m Trial 13 finished with value: 0.7541337167505392 and parameters: {'logreg_c': 0.0006466944905241386}. Best is trial 0 with value: 0.7649173256649893.\u001b[0m\n",
            "\u001b[32m[I 2023-04-08 18:47:30,905]\u001b[0m Trial 14 finished with value: 0.7641984184040259 and parameters: {'logreg_c': 28209.433360741434}. Best is trial 0 with value: 0.7649173256649893.\u001b[0m\n",
            "\u001b[32m[I 2023-04-08 18:47:31,007]\u001b[0m Trial 15 finished with value: 0.7641984184040259 and parameters: {'logreg_c': 17.159603371442714}. Best is trial 0 with value: 0.7649173256649893.\u001b[0m\n",
            "\u001b[32m[I 2023-04-08 18:47:31,057]\u001b[0m Trial 16 finished with value: 0.4996405463695183 and parameters: {'logreg_c': 1.8204402753496074e-10}. Best is trial 0 with value: 0.7649173256649893.\u001b[0m\n",
            "\u001b[32m[I 2023-04-08 18:47:31,146]\u001b[0m Trial 17 finished with value: 0.7656362329259525 and parameters: {'logreg_c': 0.6041391891310322}. Best is trial 17 with value: 0.7656362329259525.\u001b[0m\n",
            "\u001b[32m[I 2023-04-08 18:47:31,222]\u001b[0m Trial 18 finished with value: 0.7641984184040259 and parameters: {'logreg_c': 1033384.0918281932}. Best is trial 17 with value: 0.7656362329259525.\u001b[0m\n",
            "\u001b[32m[I 2023-04-08 18:47:31,309]\u001b[0m Trial 19 finished with value: 0.7491013659237958 and parameters: {'logreg_c': 0.0008079500131906766}. Best is trial 17 with value: 0.7656362329259525.\u001b[0m\n",
            "\u001b[32m[I 2023-04-08 18:47:31,424]\u001b[0m Trial 20 finished with value: 0.7641984184040259 and parameters: {'logreg_c': 2287.206067373734}. Best is trial 17 with value: 0.7656362329259525.\u001b[0m\n",
            "\u001b[32m[I 2023-04-08 18:47:31,528]\u001b[0m Trial 21 finished with value: 0.7641984184040259 and parameters: {'logreg_c': 1.1808482079289129}. Best is trial 17 with value: 0.7656362329259525.\u001b[0m\n",
            "\u001b[32m[I 2023-04-08 18:47:31,650]\u001b[0m Trial 22 finished with value: 0.7634795111430626 and parameters: {'logreg_c': 1.705723078266561}. Best is trial 17 with value: 0.7656362329259525.\u001b[0m\n",
            "\u001b[32m[I 2023-04-08 18:47:31,703]\u001b[0m Trial 23 finished with value: 0.7512580877066858 and parameters: {'logreg_c': 0.036883846943166314}. Best is trial 17 with value: 0.7656362329259525.\u001b[0m\n",
            "\u001b[32m[I 2023-04-08 18:47:31,799]\u001b[0m Trial 24 finished with value: 0.7641984184040259 and parameters: {'logreg_c': 17.658198886296372}. Best is trial 17 with value: 0.7656362329259525.\u001b[0m\n",
            "\u001b[32m[I 2023-04-08 18:47:31,845]\u001b[0m Trial 25 finished with value: 0.7440690150970525 and parameters: {'logreg_c': 0.010876582105608462}. Best is trial 17 with value: 0.7656362329259525.\u001b[0m\n",
            "\u001b[32m[I 2023-04-08 18:47:31,883]\u001b[0m Trial 26 finished with value: 0.6556434219985622 and parameters: {'logreg_c': 0.0001320947718072552}. Best is trial 17 with value: 0.7656362329259525.\u001b[0m\n",
            "\u001b[32m[I 2023-04-08 18:47:32,005]\u001b[0m Trial 27 finished with value: 0.7641984184040259 and parameters: {'logreg_c': 398.32735312633463}. Best is trial 17 with value: 0.7656362329259525.\u001b[0m\n",
            "\u001b[32m[I 2023-04-08 18:47:32,107]\u001b[0m Trial 28 finished with value: 0.7656362329259525 and parameters: {'logreg_c': 6.109986945059355}. Best is trial 17 with value: 0.7656362329259525.\u001b[0m\n",
            "\u001b[32m[I 2023-04-08 18:47:32,157]\u001b[0m Trial 29 finished with value: 0.4996405463695183 and parameters: {'logreg_c': 1.3959637394716243e-05}. Best is trial 17 with value: 0.7656362329259525.\u001b[0m\n",
            "\u001b[32m[I 2023-04-08 18:47:32,246]\u001b[0m Trial 30 finished with value: 0.7649173256649893 and parameters: {'logreg_c': 4.825584492772092}. Best is trial 17 with value: 0.7656362329259525.\u001b[0m\n",
            "\u001b[32m[I 2023-04-08 18:47:32,349]\u001b[0m Trial 31 finished with value: 0.7634795111430626 and parameters: {'logreg_c': 1.6377984057494106}. Best is trial 17 with value: 0.7656362329259525.\u001b[0m\n",
            "\u001b[32m[I 2023-04-08 18:47:32,427]\u001b[0m Trial 32 finished with value: 0.7620416966211359 and parameters: {'logreg_c': 0.30634768295844117}. Best is trial 17 with value: 0.7656362329259525.\u001b[0m\n",
            "\u001b[32m[I 2023-04-08 18:47:32,514]\u001b[0m Trial 33 finished with value: 0.7627606038820992 and parameters: {'logreg_c': 0.40346313460856714}. Best is trial 17 with value: 0.7656362329259525.\u001b[0m\n",
            "\u001b[32m[I 2023-04-08 18:47:32,573]\u001b[0m Trial 34 finished with value: 0.7447879223580158 and parameters: {'logreg_c': 0.016987989978631702}. Best is trial 17 with value: 0.7656362329259525.\u001b[0m\n",
            "\u001b[32m[I 2023-04-08 18:47:32,677]\u001b[0m Trial 35 finished with value: 0.7641984184040259 and parameters: {'logreg_c': 30.795785010674045}. Best is trial 17 with value: 0.7656362329259525.\u001b[0m\n",
            "\u001b[32m[I 2023-04-08 18:47:32,768]\u001b[0m Trial 36 finished with value: 0.7641984184040259 and parameters: {'logreg_c': 451.3146327679026}. Best is trial 17 with value: 0.7656362329259525.\u001b[0m\n",
            "\u001b[32m[I 2023-04-08 18:47:32,880]\u001b[0m Trial 37 finished with value: 0.7613227893601725 and parameters: {'logreg_c': 0.22711830579365316}. Best is trial 17 with value: 0.7656362329259525.\u001b[0m\n",
            "\u001b[32m[I 2023-04-08 18:47:33,009]\u001b[0m Trial 38 finished with value: 0.7649173256649893 and parameters: {'logreg_c': 3.4496405733919677}. Best is trial 17 with value: 0.7656362329259525.\u001b[0m\n",
            "\u001b[32m[I 2023-04-08 18:47:33,087]\u001b[0m Trial 39 finished with value: 0.7440690150970525 and parameters: {'logreg_c': 0.011183785583803174}. Best is trial 17 with value: 0.7656362329259525.\u001b[0m\n",
            "\u001b[32m[I 2023-04-08 18:47:33,260]\u001b[0m Trial 40 finished with value: 0.7641984184040259 and parameters: {'logreg_c': 25590.713480142167}. Best is trial 17 with value: 0.7656362329259525.\u001b[0m\n",
            "\u001b[32m[I 2023-04-08 18:47:33,383]\u001b[0m Trial 41 finished with value: 0.7649173256649893 and parameters: {'logreg_c': 5.050684658201263}. Best is trial 17 with value: 0.7656362329259525.\u001b[0m\n",
            "\u001b[32m[I 2023-04-08 18:47:33,487]\u001b[0m Trial 42 finished with value: 0.7598849748382459 and parameters: {'logreg_c': 0.13336850569012945}. Best is trial 17 with value: 0.7656362329259525.\u001b[0m\n",
            "\u001b[32m[I 2023-04-08 18:47:33,621]\u001b[0m Trial 43 finished with value: 0.7641984184040259 and parameters: {'logreg_c': 10.335439434748366}. Best is trial 17 with value: 0.7656362329259525.\u001b[0m\n",
            "\u001b[32m[I 2023-04-08 18:47:33,750]\u001b[0m Trial 44 finished with value: 0.7641984184040259 and parameters: {'logreg_c': 82.1740112157109}. Best is trial 17 with value: 0.7656362329259525.\u001b[0m\n",
            "\u001b[32m[I 2023-04-08 18:47:33,809]\u001b[0m Trial 45 finished with value: 0.7419122933141624 and parameters: {'logreg_c': 0.0035031402943254747}. Best is trial 17 with value: 0.7656362329259525.\u001b[0m\n",
            "\u001b[32m[I 2023-04-08 18:47:33,929]\u001b[0m Trial 46 finished with value: 0.7634795111430626 and parameters: {'logreg_c': 0.39287990801296424}. Best is trial 17 with value: 0.7656362329259525.\u001b[0m\n",
            "\u001b[32m[I 2023-04-08 18:47:34,072]\u001b[0m Trial 47 finished with value: 0.7649173256649893 and parameters: {'logreg_c': 4.241187506014605}. Best is trial 17 with value: 0.7656362329259525.\u001b[0m\n",
            "\u001b[32m[I 2023-04-08 18:47:34,133]\u001b[0m Trial 48 finished with value: 0.7562904385334291 and parameters: {'logreg_c': 0.0676000139086811}. Best is trial 17 with value: 0.7656362329259525.\u001b[0m\n",
            "\u001b[32m[I 2023-04-08 18:47:34,266]\u001b[0m Trial 49 finished with value: 0.7641984184040259 and parameters: {'logreg_c': 21.109191885966357}. Best is trial 17 with value: 0.7656362329259525.\u001b[0m\n",
            "\u001b[32m[I 2023-04-08 18:47:34,373]\u001b[0m Trial 50 finished with value: 0.7641984184040259 and parameters: {'logreg_c': 84.69486249572714}. Best is trial 17 with value: 0.7656362329259525.\u001b[0m\n",
            "\u001b[32m[I 2023-04-08 18:47:34,531]\u001b[0m Trial 51 finished with value: 0.7634795111430626 and parameters: {'logreg_c': 2.246120546726491}. Best is trial 17 with value: 0.7656362329259525.\u001b[0m\n",
            "\u001b[32m[I 2023-04-08 18:47:34,619]\u001b[0m Trial 52 finished with value: 0.7656362329259525 and parameters: {'logreg_c': 1.0884425387129653}. Best is trial 17 with value: 0.7656362329259525.\u001b[0m\n",
            "\u001b[32m[I 2023-04-08 18:47:34,745]\u001b[0m Trial 53 finished with value: 0.7649173256649893 and parameters: {'logreg_c': 0.4904060377988363}. Best is trial 17 with value: 0.7656362329259525.\u001b[0m\n",
            "\u001b[32m[I 2023-04-08 18:47:34,813]\u001b[0m Trial 54 finished with value: 0.7577282530553558 and parameters: {'logreg_c': 0.07790552213701277}. Best is trial 17 with value: 0.7656362329259525.\u001b[0m\n",
            "\u001b[32m[I 2023-04-08 18:47:34,908]\u001b[0m Trial 55 finished with value: 0.7641984184040259 and parameters: {'logreg_c': 385.1306812242603}. Best is trial 17 with value: 0.7656362329259525.\u001b[0m\n",
            "\u001b[32m[I 2023-04-08 18:47:34,996]\u001b[0m Trial 56 finished with value: 0.7411933860531992 and parameters: {'logreg_c': 0.004330052721687066}. Best is trial 17 with value: 0.7656362329259525.\u001b[0m\n",
            "\u001b[32m[I 2023-04-08 18:47:35,123]\u001b[0m Trial 57 finished with value: 0.7649173256649893 and parameters: {'logreg_c': 11.198806716666649}. Best is trial 17 with value: 0.7656362329259525.\u001b[0m\n",
            "\u001b[32m[I 2023-04-08 18:47:35,242]\u001b[0m Trial 58 finished with value: 0.7641984184040259 and parameters: {'logreg_c': 0.5424632530154448}. Best is trial 17 with value: 0.7656362329259525.\u001b[0m\n",
            "\u001b[32m[I 2023-04-08 18:47:35,345]\u001b[0m Trial 59 finished with value: 0.7541337167505392 and parameters: {'logreg_c': 0.049509901289832056}. Best is trial 17 with value: 0.7656362329259525.\u001b[0m\n",
            "\u001b[32m[I 2023-04-08 18:47:35,508]\u001b[0m Trial 60 finished with value: 0.7641984184040259 and parameters: {'logreg_c': 1.8292113263843952}. Best is trial 17 with value: 0.7656362329259525.\u001b[0m\n",
            "\u001b[32m[I 2023-04-08 18:47:35,690]\u001b[0m Trial 61 finished with value: 0.7656362329259525 and parameters: {'logreg_c': 5.657452136045357}. Best is trial 17 with value: 0.7656362329259525.\u001b[0m\n",
            "\u001b[32m[I 2023-04-08 18:47:35,824]\u001b[0m Trial 62 finished with value: 0.7641984184040259 and parameters: {'logreg_c': 34.786232220764425}. Best is trial 17 with value: 0.7656362329259525.\u001b[0m\n",
            "\u001b[32m[I 2023-04-08 18:47:35,968]\u001b[0m Trial 63 finished with value: 0.7641984184040259 and parameters: {'logreg_c': 171.62005104546608}. Best is trial 17 with value: 0.7656362329259525.\u001b[0m\n",
            "\u001b[32m[I 2023-04-08 18:47:36,046]\u001b[0m Trial 64 finished with value: 0.7649173256649893 and parameters: {'logreg_c': 7.582866488504898}. Best is trial 17 with value: 0.7656362329259525.\u001b[0m\n",
            "\u001b[32m[I 2023-04-08 18:47:36,141]\u001b[0m Trial 65 finished with value: 0.7641984184040259 and parameters: {'logreg_c': 1.180134555509197}. Best is trial 17 with value: 0.7656362329259525.\u001b[0m\n",
            "\u001b[32m[I 2023-04-08 18:47:36,255]\u001b[0m Trial 66 finished with value: 0.7641984184040259 and parameters: {'logreg_c': 1460.9249283127742}. Best is trial 17 with value: 0.7656362329259525.\u001b[0m\n",
            "\u001b[32m[I 2023-04-08 18:47:36,318]\u001b[0m Trial 67 finished with value: 0.7591660675772826 and parameters: {'logreg_c': 0.09862232904589846}. Best is trial 17 with value: 0.7656362329259525.\u001b[0m\n",
            "\u001b[32m[I 2023-04-08 18:47:36,417]\u001b[0m Trial 68 finished with value: 0.7641984184040259 and parameters: {'logreg_c': 53.09037615223274}. Best is trial 17 with value: 0.7656362329259525.\u001b[0m\n",
            "\u001b[32m[I 2023-04-08 18:47:36,498]\u001b[0m Trial 69 finished with value: 0.7627606038820992 and parameters: {'logreg_c': 0.24107746476904177}. Best is trial 17 with value: 0.7656362329259525.\u001b[0m\n",
            "\u001b[32m[I 2023-04-08 18:47:36,607]\u001b[0m Trial 70 finished with value: 0.7469446441409058 and parameters: {'logreg_c': 0.023911046782697357}. Best is trial 17 with value: 0.7656362329259525.\u001b[0m\n",
            "\u001b[32m[I 2023-04-08 18:47:36,737]\u001b[0m Trial 71 finished with value: 0.7649173256649893 and parameters: {'logreg_c': 3.5998158275893397}. Best is trial 17 with value: 0.7656362329259525.\u001b[0m\n",
            "\u001b[32m[I 2023-04-08 18:47:36,817]\u001b[0m Trial 72 finished with value: 0.7634795111430626 and parameters: {'logreg_c': 1.042338894881209}. Best is trial 17 with value: 0.7656362329259525.\u001b[0m\n",
            "\u001b[32m[I 2023-04-08 18:47:36,934]\u001b[0m Trial 73 finished with value: 0.7649173256649893 and parameters: {'logreg_c': 13.715951832287725}. Best is trial 17 with value: 0.7656362329259525.\u001b[0m\n",
            "\u001b[32m[I 2023-04-08 18:47:37,076]\u001b[0m Trial 74 finished with value: 0.7656362329259525 and parameters: {'logreg_c': 5.603048568192202}. Best is trial 17 with value: 0.7656362329259525.\u001b[0m\n",
            "\u001b[32m[I 2023-04-08 18:47:37,213]\u001b[0m Trial 75 finished with value: 0.7641984184040259 and parameters: {'logreg_c': 155.71114365273218}. Best is trial 17 with value: 0.7656362329259525.\u001b[0m\n",
            "\u001b[32m[I 2023-04-08 18:47:37,344]\u001b[0m Trial 76 finished with value: 0.7641984184040259 and parameters: {'logreg_c': 0.8549406928580157}. Best is trial 17 with value: 0.7656362329259525.\u001b[0m\n",
            "\u001b[32m[I 2023-04-08 18:47:37,471]\u001b[0m Trial 77 finished with value: 0.7649173256649893 and parameters: {'logreg_c': 12.32937037681174}. Best is trial 17 with value: 0.7656362329259525.\u001b[0m\n",
            "\u001b[32m[I 2023-04-08 18:47:37,545]\u001b[0m Trial 78 finished with value: 0.7598849748382459 and parameters: {'logreg_c': 0.16125012513333947}. Best is trial 17 with value: 0.7656362329259525.\u001b[0m\n",
            "\u001b[32m[I 2023-04-08 18:47:37,666]\u001b[0m Trial 79 finished with value: 0.7649173256649893 and parameters: {'logreg_c': 4.418127987036018}. Best is trial 17 with value: 0.7656362329259525.\u001b[0m\n",
            "\u001b[32m[I 2023-04-08 18:47:37,732]\u001b[0m Trial 80 finished with value: 0.7440690150970525 and parameters: {'logreg_c': 0.018736875307353885}. Best is trial 17 with value: 0.7656362329259525.\u001b[0m\n",
            "\u001b[32m[I 2023-04-08 18:47:37,839]\u001b[0m Trial 81 finished with value: 0.7656362329259525 and parameters: {'logreg_c': 3.3342174585506186}. Best is trial 17 with value: 0.7656362329259525.\u001b[0m\n",
            "\u001b[32m[I 2023-04-08 18:47:38,037]\u001b[0m Trial 82 finished with value: 0.7641984184040259 and parameters: {'logreg_c': 27.18158664003331}. Best is trial 17 with value: 0.7656362329259525.\u001b[0m\n",
            "\u001b[32m[I 2023-04-08 18:47:38,192]\u001b[0m Trial 83 finished with value: 0.7641984184040259 and parameters: {'logreg_c': 0.808423190435152}. Best is trial 17 with value: 0.7656362329259525.\u001b[0m\n",
            "\u001b[32m[I 2023-04-08 18:47:38,316]\u001b[0m Trial 84 finished with value: 0.7641984184040259 and parameters: {'logreg_c': 2.82289729928743}. Best is trial 17 with value: 0.7656362329259525.\u001b[0m\n",
            "\u001b[32m[I 2023-04-08 18:47:38,421]\u001b[0m Trial 85 finished with value: 0.7613227893601725 and parameters: {'logreg_c': 0.2072860561329414}. Best is trial 17 with value: 0.7656362329259525.\u001b[0m\n",
            "\u001b[32m[I 2023-04-08 18:47:38,601]\u001b[0m Trial 86 finished with value: 0.7641984184040259 and parameters: {'logreg_c': 43.55644174699979}. Best is trial 17 with value: 0.7656362329259525.\u001b[0m\n",
            "\u001b[32m[I 2023-04-08 18:47:38,790]\u001b[0m Trial 87 finished with value: 0.7641984184040259 and parameters: {'logreg_c': 9.784866476609624}. Best is trial 17 with value: 0.7656362329259525.\u001b[0m\n",
            "\u001b[32m[I 2023-04-08 18:47:38,919]\u001b[0m Trial 88 finished with value: 0.7541337167505392 and parameters: {'logreg_c': 0.053590198195740964}. Best is trial 17 with value: 0.7656362329259525.\u001b[0m\n",
            "\u001b[32m[I 2023-04-08 18:47:39,037]\u001b[0m Trial 89 finished with value: 0.7641984184040259 and parameters: {'logreg_c': 1.894732605077746}. Best is trial 17 with value: 0.7656362329259525.\u001b[0m\n",
            "\u001b[32m[I 2023-04-08 18:47:39,186]\u001b[0m Trial 90 finished with value: 0.7627606038820992 and parameters: {'logreg_c': 0.2607567874208406}. Best is trial 17 with value: 0.7656362329259525.\u001b[0m\n",
            "\u001b[32m[I 2023-04-08 18:47:39,483]\u001b[0m Trial 91 finished with value: 0.7634795111430626 and parameters: {'logreg_c': 2.641632109840668}. Best is trial 17 with value: 0.7656362329259525.\u001b[0m\n",
            "\u001b[32m[I 2023-04-08 18:47:39,648]\u001b[0m Trial 92 finished with value: 0.7649173256649893 and parameters: {'logreg_c': 6.902271706463002}. Best is trial 17 with value: 0.7656362329259525.\u001b[0m\n",
            "\u001b[32m[I 2023-04-08 18:47:39,816]\u001b[0m Trial 93 finished with value: 0.7656362329259525 and parameters: {'logreg_c': 0.7655642725586661}. Best is trial 17 with value: 0.7656362329259525.\u001b[0m\n",
            "\u001b[32m[I 2023-04-08 18:47:40,131]\u001b[0m Trial 94 finished with value: 0.7634795111430626 and parameters: {'logreg_c': 1.0035172509053802}. Best is trial 17 with value: 0.7656362329259525.\u001b[0m\n",
            "\u001b[32m[I 2023-04-08 18:47:40,352]\u001b[0m Trial 95 finished with value: 0.7641984184040259 and parameters: {'logreg_c': 0.5255170276861694}. Best is trial 17 with value: 0.7656362329259525.\u001b[0m\n",
            "\u001b[32m[I 2023-04-08 18:47:40,654]\u001b[0m Trial 96 finished with value: 0.7641984184040259 and parameters: {'logreg_c': 92.02302820813541}. Best is trial 17 with value: 0.7656362329259525.\u001b[0m\n",
            "\u001b[32m[I 2023-04-08 18:47:40,772]\u001b[0m Trial 97 finished with value: 0.7598849748382459 and parameters: {'logreg_c': 0.1110871611572287}. Best is trial 17 with value: 0.7656362329259525.\u001b[0m\n",
            "\u001b[32m[I 2023-04-08 18:47:40,981]\u001b[0m Trial 98 finished with value: 0.7641984184040259 and parameters: {'logreg_c': 19.827838831565956}. Best is trial 17 with value: 0.7656362329259525.\u001b[0m\n",
            "\u001b[32m[I 2023-04-08 18:47:41,184]\u001b[0m Trial 99 finished with value: 0.7656362329259525 and parameters: {'logreg_c': 5.51205046893245}. Best is trial 17 with value: 0.7656362329259525.\u001b[0m\n"
          ]
        },
        {
          "output_type": "stream",
          "name": "stdout",
          "text": [
            "\n",
            "==============================================\n",
            "Number of finished trials: 100\n",
            "Best trial:\n",
            "Value: 0.7656362329259525\n",
            "  Params: \n",
            "    logreg_c: 0.6041391891310322\n",
            "==============================================\n",
            "\n",
            "Accuracy after tuning: 76.19321449108683%\n",
            "\n",
            "Classification report\n",
            "              precision    recall  f1-score   support\n",
            "\n",
            "       False       0.75      0.77      0.76       861\n",
            "        True       0.77      0.75      0.76       878\n",
            "\n",
            "    accuracy                           0.76      1739\n",
            "   macro avg       0.76      0.76      0.76      1739\n",
            "weighted avg       0.76      0.76      0.76      1739\n",
            "\n",
            "\n",
            "Confusion matrix\n",
            "[[665 196]\n",
            " [218 660]]\n",
            "==============================================\n",
            "\n",
            "All features number: 14, Selected features number: 7\n",
            "Selected_features:\n",
            "\n",
            "HomePlanet_transformed\n",
            "Destination_transformed\n",
            "Cabin_side_transformed\n",
            "Cabin_num/100_transformed\n",
            "RService_deciles_transformed\n",
            "Spa_deciles_transformed\n",
            "VRD_deciles_transformed\n"
          ]
        }
      ]
    },
    {
      "cell_type": "markdown",
      "source": [
        "# Save results"
      ],
      "metadata": {
        "id": "iesZ2BSqPSWk"
      }
    },
    {
      "cell_type": "code",
      "source": [
        "data = []\n",
        "data.append(['LogisticRegression', 'OHE', acc_ohe_ini, result_ohe_tuned[0], str(result_ohe_tuned[1])+\" / 90\"])\n",
        "data.append(['LogisticRegression', 'TE', acc_te_ini, result_te_tuned[0], str(result_te_tuned[1])+\" / 14\"])\n",
        "data.append(['LogisticRegression', 'LOOE', acc_looe_ini, result_looe_tuned[0], str(result_looe_tuned[1])+\" / 14\"])"
      ],
      "metadata": {
        "id": "CfBlYW2fLy14"
      },
      "execution_count": null,
      "outputs": []
    },
    {
      "cell_type": "code",
      "source": [
        "import csv\n",
        "from os.path import exists\n",
        "resfile = 'spaceship_results.csv'"
      ],
      "metadata": {
        "id": "zbQYL5hcL6U_"
      },
      "execution_count": null,
      "outputs": []
    },
    {
      "cell_type": "code",
      "source": [
        "if exists(resfile):\n",
        "  f = open(resfile, 'a')\n",
        "  writer = csv.writer(f)\n",
        "else:\n",
        "  header = ['Model', 'Categories_encoding', 'Initial_accuracy', 'Tuned_Accuracy', 'Important_Features']\n",
        "  f = open(resfile, 'w', newline='')\n",
        "  writer = csv.writer(f)\n",
        "  writer.writerow(header)\n",
        "\n",
        "writer.writerows(data)\n",
        "f.close()"
      ],
      "metadata": {
        "id": "ZE65yY0lL9D3"
      },
      "execution_count": null,
      "outputs": []
    }
  ]
}