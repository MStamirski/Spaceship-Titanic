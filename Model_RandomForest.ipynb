{
  "nbformat": 4,
  "nbformat_minor": 0,
  "metadata": {
    "colab": {
      "provenance": [],
      "toc_visible": true,
      "authorship_tag": "ABX9TyPGcxO7XKlU2IW7K1UHQcFV",
      "include_colab_link": true
    },
    "kernelspec": {
      "name": "python3",
      "display_name": "Python 3"
    },
    "language_info": {
      "name": "python"
    },
    "gpuClass": "standard",
    "accelerator": "GPU"
  },
  "cells": [
    {
      "cell_type": "markdown",
      "metadata": {
        "id": "view-in-github",
        "colab_type": "text"
      },
      "source": [
        "<a href=\"https://colab.research.google.com/github/MStamirski/Spaceship-Titanic/blob/main/Model_RandomForest.ipynb\" target=\"_parent\"><img src=\"https://colab.research.google.com/assets/colab-badge.svg\" alt=\"Open In Colab\"/></a>"
      ]
    },
    {
      "cell_type": "markdown",
      "source": [
        "# Preparation"
      ],
      "metadata": {
        "id": "fXZ2j2_EOOGs"
      }
    },
    {
      "cell_type": "code",
      "source": [
        "from google.colab import drive\n",
        "drive.mount(\"/content/drive\")\n",
        "%cd \"/content/drive/MyDrive/Colab_Notebooks/SDA_upskill/Spaceship\""
      ],
      "metadata": {
        "id": "Iag1nNbVX-i7"
      },
      "execution_count": null,
      "outputs": []
    },
    {
      "cell_type": "markdown",
      "source": [
        "# Model with parameters"
      ],
      "metadata": {
        "id": "S1NuaT-4OXUT"
      }
    },
    {
      "cell_type": "code",
      "source": [
        "from sklearn.ensemble import RandomForestClassifier\n",
        "from sklearn.metrics import accuracy_score"
      ],
      "metadata": {
        "id": "2TVsFi2W9Uma"
      },
      "execution_count": null,
      "outputs": []
    },
    {
      "cell_type": "code",
      "source": [
        "import warnings\n",
        "warnings.filterwarnings(\"ignore\")"
      ],
      "metadata": {
        "id": "LXmiPNeijuY5"
      },
      "execution_count": null,
      "outputs": []
    },
    {
      "cell_type": "code",
      "source": [
        "model = RandomForestClassifier()"
      ],
      "metadata": {
        "id": "WjLIgdT39bnz"
      },
      "execution_count": null,
      "outputs": []
    },
    {
      "cell_type": "code",
      "source": [
        "def objective(trial):\n",
        "\n",
        "  rf_max_depth = trial.suggest_int(\"rf_max_depth\", 2, 32, log=True)\n",
        "  rf_n_estimators = trial.suggest_int(\"rf_n_estimators\", 10, 1000)\n",
        "  rf_min_samples_leaf = trial.suggest_int(\"rf_min_samples_leaf\", 1, 50)\n",
        "  rf_max_features = trial.suggest_float(\"rf_max_features\", 0.1, 0.7)\n",
        "\n",
        "  optuna_model = RandomForestClassifier(\n",
        "      max_depth = rf_max_depth,\n",
        "      n_estimators = rf_n_estimators,\n",
        "      min_samples_leaf = rf_min_samples_leaf,\n",
        "      max_features = rf_max_features\n",
        "    )\n",
        "  optuna_model.fit(X_train, y_train)\n",
        "\n",
        "  y_pred = optuna_model.predict(X_val)\n",
        "  accuracy = accuracy_score(y_val, y_pred)\n",
        "\n",
        "  return accuracy"
      ],
      "metadata": {
        "id": "DGywz2Vy9eJ7"
      },
      "execution_count": null,
      "outputs": []
    },
    {
      "cell_type": "markdown",
      "source": [
        "# Features datasets"
      ],
      "metadata": {
        "id": "uikVcl7mOnNz"
      }
    },
    {
      "cell_type": "code",
      "source": [
        "!pip install import-ipynb"
      ],
      "metadata": {
        "id": "mV0iITmRYA_r"
      },
      "execution_count": null,
      "outputs": []
    },
    {
      "cell_type": "code",
      "source": [
        "import import_ipynb"
      ],
      "metadata": {
        "id": "NVkS0sr-W2B8"
      },
      "execution_count": null,
      "outputs": []
    },
    {
      "cell_type": "code",
      "source": [
        "from FeaturesEngineering import get_features, categories_one_hot_encoding, categories_target_encoding, categories_leave_one_out_encoding"
      ],
      "metadata": {
        "id": "QTP0FMcj8kZT"
      },
      "execution_count": null,
      "outputs": []
    },
    {
      "cell_type": "code",
      "source": [
        "df = get_features('train')\n",
        "df_ohe = categories_one_hot_encoding(df)\n",
        "df_te = categories_target_encoding(df)\n",
        "df_looe = categories_leave_one_out_encoding(df)"
      ],
      "metadata": {
        "id": "d0bCa6RVbJoX"
      },
      "execution_count": null,
      "outputs": []
    },
    {
      "cell_type": "markdown",
      "source": [
        "# Initial verification"
      ],
      "metadata": {
        "id": "h3H9fFXgOuOj"
      }
    },
    {
      "cell_type": "code",
      "source": [
        "from Optimization import verify_feature_dataset, get_subsets, model_optimization, test_tuned_model"
      ],
      "metadata": {
        "id": "djmNjVOt9oor"
      },
      "execution_count": null,
      "outputs": []
    },
    {
      "cell_type": "code",
      "source": [
        "acc_ohe_ini = verify_feature_dataset(df_ohe, model)"
      ],
      "metadata": {
        "colab": {
          "base_uri": "https://localhost:8080/"
        },
        "id": "pVj-AfkSmkqv",
        "outputId": "f9be9c29-81a6-42d8-c226-f644c4ddb606"
      },
      "execution_count": null,
      "outputs": [
        {
          "output_type": "stream",
          "name": "stdout",
          "text": [
            "Accuracy: 77.79907975460122%\n"
          ]
        }
      ]
    },
    {
      "cell_type": "code",
      "source": [
        "acc_te_ini = verify_feature_dataset(df_te, model)"
      ],
      "metadata": {
        "colab": {
          "base_uri": "https://localhost:8080/"
        },
        "id": "4OXZFQd4mtIH",
        "outputId": "3ad2c1ad-0cab-4960-93fe-65edaea0df2b"
      },
      "execution_count": null,
      "outputs": [
        {
          "output_type": "stream",
          "name": "stdout",
          "text": [
            "Accuracy: 77.99079754601227%\n"
          ]
        }
      ]
    },
    {
      "cell_type": "code",
      "source": [
        "acc_looe_ini = verify_feature_dataset(df_looe, model)"
      ],
      "metadata": {
        "colab": {
          "base_uri": "https://localhost:8080/"
        },
        "id": "kE1tf0yqmweP",
        "outputId": "e9975c93-6978-4dc2-e60d-5a58f782aa69"
      },
      "execution_count": null,
      "outputs": [
        {
          "output_type": "stream",
          "name": "stdout",
          "text": [
            "Accuracy: 77.60736196319019%\n"
          ]
        }
      ]
    },
    {
      "cell_type": "markdown",
      "source": [
        "# Parameters tuning"
      ],
      "metadata": {
        "id": "5Kwn4oYYO8c0"
      }
    },
    {
      "cell_type": "code",
      "source": [
        "X_train, X_val, X_test, y_train, y_val, y_test = get_subsets(df_ohe)\n",
        "params = model_optimization(20, objective)\n",
        "model = RandomForestClassifier(max_depth = params['rf_max_depth'], n_estimators = params['rf_n_estimators'], min_samples_leaf = params['rf_min_samples_leaf'], max_features = params['rf_max_features'])\n",
        "result_ohe_tuned = test_tuned_model(model, X_train, y_train, X_test, y_test)"
      ],
      "metadata": {
        "id": "wg4cmVW72h3X",
        "colab": {
          "base_uri": "https://localhost:8080/"
        },
        "outputId": "e09f89d3-40b2-421e-d1e8-957bbf026130"
      },
      "execution_count": null,
      "outputs": [
        {
          "output_type": "stream",
          "name": "stderr",
          "text": [
            "\u001b[32m[I 2023-04-08 18:54:41,290]\u001b[0m A new study created in memory with name: no-name-eb000096-6fe9-4191-8196-a6455cbf5df6\u001b[0m\n",
            "\u001b[32m[I 2023-04-08 18:54:45,183]\u001b[0m Trial 0 finished with value: 0.7260963335729691 and parameters: {'rf_max_depth': 2, 'rf_n_estimators': 630, 'rf_min_samples_leaf': 18, 'rf_max_features': 0.44137939248081737}. Best is trial 0 with value: 0.7260963335729691.\u001b[0m\n",
            "\u001b[32m[I 2023-04-08 18:54:52,991]\u001b[0m Trial 1 finished with value: 0.7246585190510424 and parameters: {'rf_max_depth': 2, 'rf_n_estimators': 859, 'rf_min_samples_leaf': 14, 'rf_max_features': 0.4603352926936495}. Best is trial 0 with value: 0.7260963335729691.\u001b[0m\n",
            "\u001b[32m[I 2023-04-08 18:55:02,365]\u001b[0m Trial 2 finished with value: 0.7728253055355859 and parameters: {'rf_max_depth': 5, 'rf_n_estimators': 937, 'rf_min_samples_leaf': 38, 'rf_max_features': 0.5545034243584891}. Best is trial 2 with value: 0.7728253055355859.\u001b[0m\n",
            "\u001b[32m[I 2023-04-08 18:55:11,227]\u001b[0m Trial 3 finished with value: 0.7936736161035226 and parameters: {'rf_max_depth': 10, 'rf_n_estimators': 962, 'rf_min_samples_leaf': 21, 'rf_max_features': 0.6183257409578162}. Best is trial 3 with value: 0.7936736161035226.\u001b[0m\n",
            "\u001b[32m[I 2023-04-08 18:55:19,735]\u001b[0m Trial 4 finished with value: 0.8015815959741194 and parameters: {'rf_max_depth': 23, 'rf_n_estimators': 739, 'rf_min_samples_leaf': 22, 'rf_max_features': 0.5840976928758141}. Best is trial 4 with value: 0.8015815959741194.\u001b[0m\n",
            "\u001b[32m[I 2023-04-08 18:55:22,499]\u001b[0m Trial 5 finished with value: 0.7253774263120057 and parameters: {'rf_max_depth': 2, 'rf_n_estimators': 805, 'rf_min_samples_leaf': 24, 'rf_max_features': 0.4095091975158571}. Best is trial 4 with value: 0.8015815959741194.\u001b[0m\n",
            "\u001b[32m[I 2023-04-08 18:55:22,735]\u001b[0m Trial 6 finished with value: 0.7253774263120057 and parameters: {'rf_max_depth': 2, 'rf_n_estimators': 59, 'rf_min_samples_leaf': 50, 'rf_max_features': 0.563495295463159}. Best is trial 4 with value: 0.8015815959741194.\u001b[0m\n",
            "\u001b[32m[I 2023-04-08 18:55:29,030]\u001b[0m Trial 7 finished with value: 0.7958303378864127 and parameters: {'rf_max_depth': 26, 'rf_n_estimators': 849, 'rf_min_samples_leaf': 41, 'rf_max_features': 0.4106414881486219}. Best is trial 4 with value: 0.8015815959741194.\u001b[0m\n",
            "\u001b[32m[I 2023-04-08 18:55:40,002]\u001b[0m Trial 8 finished with value: 0.798705966930266 and parameters: {'rf_max_depth': 15, 'rf_n_estimators': 946, 'rf_min_samples_leaf': 8, 'rf_max_features': 0.568618804434232}. Best is trial 4 with value: 0.8015815959741194.\u001b[0m\n",
            "\u001b[32m[I 2023-04-08 18:55:44,137]\u001b[0m Trial 9 finished with value: 0.7979870596693026 and parameters: {'rf_max_depth': 11, 'rf_n_estimators': 434, 'rf_min_samples_leaf': 46, 'rf_max_features': 0.4766827883933321}. Best is trial 4 with value: 0.8015815959741194.\u001b[0m\n",
            "\u001b[32m[I 2023-04-08 18:55:46,826]\u001b[0m Trial 10 finished with value: 0.7936736161035226 and parameters: {'rf_max_depth': 31, 'rf_n_estimators': 426, 'rf_min_samples_leaf': 33, 'rf_max_features': 0.24202352955407627}. Best is trial 4 with value: 0.8015815959741194.\u001b[0m\n",
            "\u001b[32m[I 2023-04-08 18:55:56,726]\u001b[0m Trial 11 finished with value: 0.8015815959741194 and parameters: {'rf_max_depth': 19, 'rf_n_estimators': 650, 'rf_min_samples_leaf': 2, 'rf_max_features': 0.6558159313065536}. Best is trial 4 with value: 0.8015815959741194.\u001b[0m\n",
            "\u001b[32m[I 2023-04-08 18:56:07,830]\u001b[0m Trial 12 finished with value: 0.803019410496046 and parameters: {'rf_max_depth': 19, 'rf_n_estimators': 648, 'rf_min_samples_leaf': 3, 'rf_max_features': 0.6811326914099033}. Best is trial 12 with value: 0.803019410496046.\u001b[0m\n",
            "\u001b[32m[I 2023-04-08 18:56:15,679]\u001b[0m Trial 13 finished with value: 0.7994248741912293 and parameters: {'rf_max_depth': 32, 'rf_n_estimators': 632, 'rf_min_samples_leaf': 30, 'rf_max_features': 0.6859289472734595}. Best is trial 12 with value: 0.803019410496046.\u001b[0m\n",
            "\u001b[32m[I 2023-04-08 18:56:18,526]\u001b[0m Trial 14 finished with value: 0.8037383177570093 and parameters: {'rf_max_depth': 20, 'rf_n_estimators': 185, 'rf_min_samples_leaf': 3, 'rf_max_features': 0.6921844980708455}. Best is trial 14 with value: 0.8037383177570093.\u001b[0m\n",
            "\u001b[32m[I 2023-04-08 18:56:22,050]\u001b[0m Trial 15 finished with value: 0.7929547088425594 and parameters: {'rf_max_depth': 17, 'rf_n_estimators': 218, 'rf_min_samples_leaf': 1, 'rf_max_features': 0.6927691723477533}. Best is trial 14 with value: 0.8037383177570093.\u001b[0m\n",
            "\u001b[32m[I 2023-04-08 18:56:24,839]\u001b[0m Trial 16 finished with value: 0.7979870596693026 and parameters: {'rf_max_depth': 15, 'rf_n_estimators': 214, 'rf_min_samples_leaf': 10, 'rf_max_features': 0.6943286116146322}. Best is trial 14 with value: 0.8037383177570093.\u001b[0m\n",
            "\u001b[32m[I 2023-04-08 18:56:27,185]\u001b[0m Trial 17 finished with value: 0.7936736161035226 and parameters: {'rf_max_depth': 7, 'rf_n_estimators': 268, 'rf_min_samples_leaf': 8, 'rf_max_features': 0.30578024523661773}. Best is trial 14 with value: 0.8037383177570093.\u001b[0m\n",
            "\u001b[32m[I 2023-04-08 18:56:28,344]\u001b[0m Trial 18 finished with value: 0.7979870596693026 and parameters: {'rf_max_depth': 21, 'rf_n_estimators': 75, 'rf_min_samples_leaf': 15, 'rf_max_features': 0.5154227888789029}. Best is trial 14 with value: 0.8037383177570093.\u001b[0m\n",
            "\u001b[32m[I 2023-04-08 18:56:34,972]\u001b[0m Trial 19 finished with value: 0.803019410496046 and parameters: {'rf_max_depth': 12, 'rf_n_estimators': 522, 'rf_min_samples_leaf': 5, 'rf_max_features': 0.6440700582679684}. Best is trial 14 with value: 0.8037383177570093.\u001b[0m\n"
          ]
        },
        {
          "output_type": "stream",
          "name": "stdout",
          "text": [
            "\n",
            "==============================================\n",
            "Number of finished trials: 20\n",
            "Best trial:\n",
            "Value: 0.8037383177570093\n",
            "  Params: \n",
            "    rf_max_depth: 20\n",
            "    rf_n_estimators: 185\n",
            "    rf_min_samples_leaf: 3\n",
            "    rf_max_features: 0.6921844980708455\n",
            "==============================================\n",
            "\n",
            "Accuracy after tuning: 77.80333525014376%\n",
            "\n",
            "Classification report\n",
            "              precision    recall  f1-score   support\n",
            "\n",
            "       False       0.77      0.78      0.78       861\n",
            "        True       0.78      0.77      0.78       878\n",
            "\n",
            "    accuracy                           0.78      1739\n",
            "   macro avg       0.78      0.78      0.78      1739\n",
            "weighted avg       0.78      0.78      0.78      1739\n",
            "\n",
            "\n",
            "Confusion matrix\n",
            "[[674 187]\n",
            " [199 679]]\n",
            "==============================================\n",
            "\n",
            "All features number: 90, Selected features number: 22\n",
            "Selected_features:\n",
            "\n",
            "HomePlanet_Earth\n",
            "HomePlanet_Europa\n",
            "CryoSleep_False\n",
            "CryoSleep_True\n",
            "Destination_TRAPPIST-1e\n",
            "Cabin_deck_E\n",
            "Cabin_deck_F\n",
            "Cabin_deck_G\n",
            "Cabin_side_P\n",
            "Cabin_side_S\n",
            "Cabin_persons_1\n",
            "RService_deciles_1\n",
            "RService_deciles_9\n",
            "RService_deciles_10\n",
            "FCourt_deciles_10\n",
            "ShMall_deciles_10\n",
            "Spa_deciles_1\n",
            "Spa_deciles_9\n",
            "Spa_deciles_10\n",
            "VRD_deciles_1\n",
            "VRD_deciles_9\n",
            "VRD_deciles_10\n"
          ]
        }
      ]
    },
    {
      "cell_type": "code",
      "source": [
        "X_train, X_val, X_test, y_train, y_val, y_test = get_subsets(df_te)\n",
        "params = model_optimization(20, objective)\n",
        "model = RandomForestClassifier(max_depth = params['rf_max_depth'], n_estimators = params['rf_n_estimators'], min_samples_leaf = params['rf_min_samples_leaf'], max_features = params['rf_max_features'])\n",
        "result_te_tuned = test_tuned_model(model, X_train, y_train, X_test, y_test)"
      ],
      "metadata": {
        "colab": {
          "base_uri": "https://localhost:8080/"
        },
        "id": "6aksOw3eSGpP",
        "outputId": "e0b5a3fe-fa2d-4771-fb40-a2f10e343a8b"
      },
      "execution_count": null,
      "outputs": [
        {
          "output_type": "stream",
          "name": "stderr",
          "text": [
            "\u001b[32m[I 2023-04-08 18:56:41,708]\u001b[0m A new study created in memory with name: no-name-42a5099e-04be-4465-b978-3d62d3ec7eba\u001b[0m\n",
            "\u001b[32m[I 2023-04-08 18:56:45,344]\u001b[0m Trial 0 finished with value: 0.7843278217109992 and parameters: {'rf_max_depth': 5, 'rf_n_estimators': 754, 'rf_min_samples_leaf': 16, 'rf_max_features': 0.4493803521918105}. Best is trial 0 with value: 0.7843278217109992.\u001b[0m\n",
            "\u001b[32m[I 2023-04-08 18:56:47,380]\u001b[0m Trial 1 finished with value: 0.7821710999281093 and parameters: {'rf_max_depth': 9, 'rf_n_estimators': 451, 'rf_min_samples_leaf': 44, 'rf_max_features': 0.5648373186664888}. Best is trial 0 with value: 0.7843278217109992.\u001b[0m\n",
            "\u001b[32m[I 2023-04-08 18:56:50,194]\u001b[0m Trial 2 finished with value: 0.7469446441409058 and parameters: {'rf_max_depth': 3, 'rf_n_estimators': 857, 'rf_min_samples_leaf': 17, 'rf_max_features': 0.5666431868424594}. Best is trial 0 with value: 0.7843278217109992.\u001b[0m\n",
            "\u001b[32m[I 2023-04-08 18:56:53,222]\u001b[0m Trial 3 finished with value: 0.7886412652767792 and parameters: {'rf_max_depth': 15, 'rf_n_estimators': 426, 'rf_min_samples_leaf': 3, 'rf_max_features': 0.6963319193138946}. Best is trial 3 with value: 0.7886412652767792.\u001b[0m\n",
            "\u001b[32m[I 2023-04-08 18:56:59,462]\u001b[0m Trial 4 finished with value: 0.7800143781452192 and parameters: {'rf_max_depth': 9, 'rf_n_estimators': 921, 'rf_min_samples_leaf': 50, 'rf_max_features': 0.6473372974657122}. Best is trial 3 with value: 0.7886412652767792.\u001b[0m\n",
            "\u001b[32m[I 2023-04-08 18:57:01,484]\u001b[0m Trial 5 finished with value: 0.7692307692307693 and parameters: {'rf_max_depth': 21, 'rf_n_estimators': 629, 'rf_min_samples_leaf': 27, 'rf_max_features': 0.2013871445499197}. Best is trial 3 with value: 0.7886412652767792.\u001b[0m\n",
            "\u001b[32m[I 2023-04-08 18:57:01,968]\u001b[0m Trial 6 finished with value: 0.7821710999281093 and parameters: {'rf_max_depth': 19, 'rf_n_estimators': 113, 'rf_min_samples_leaf': 35, 'rf_max_features': 0.43105041398951793}. Best is trial 3 with value: 0.7886412652767792.\u001b[0m\n",
            "\u001b[32m[I 2023-04-08 18:57:04,796]\u001b[0m Trial 7 finished with value: 0.787922358015816 and parameters: {'rf_max_depth': 6, 'rf_n_estimators': 766, 'rf_min_samples_leaf': 25, 'rf_max_features': 0.38202057272664036}. Best is trial 3 with value: 0.7886412652767792.\u001b[0m\n",
            "\u001b[32m[I 2023-04-08 18:57:06,108]\u001b[0m Trial 8 finished with value: 0.7253774263120057 and parameters: {'rf_max_depth': 2, 'rf_n_estimators': 435, 'rf_min_samples_leaf': 35, 'rf_max_features': 0.6075593718229776}. Best is trial 3 with value: 0.7886412652767792.\u001b[0m\n",
            "\u001b[32m[I 2023-04-08 18:57:07,559]\u001b[0m Trial 9 finished with value: 0.7390366642703091 and parameters: {'rf_max_depth': 2, 'rf_n_estimators': 517, 'rf_min_samples_leaf': 18, 'rf_max_features': 0.4951379801228988}. Best is trial 3 with value: 0.7886412652767792.\u001b[0m\n",
            "\u001b[32m[I 2023-04-08 18:57:09,007]\u001b[0m Trial 10 finished with value: 0.790079079798706 and parameters: {'rf_max_depth': 31, 'rf_n_estimators': 169, 'rf_min_samples_leaf': 1, 'rf_max_features': 0.658523206393159}. Best is trial 10 with value: 0.790079079798706.\u001b[0m\n",
            "\u001b[32m[I 2023-04-08 18:57:11,032]\u001b[0m Trial 11 finished with value: 0.7886412652767792 and parameters: {'rf_max_depth': 29, 'rf_n_estimators': 170, 'rf_min_samples_leaf': 2, 'rf_max_features': 0.6988605449022941}. Best is trial 10 with value: 0.790079079798706.\u001b[0m\n",
            "\u001b[32m[I 2023-04-08 18:57:13,955]\u001b[0m Trial 12 finished with value: 0.7907979870596693 and parameters: {'rf_max_depth': 14, 'rf_n_estimators': 279, 'rf_min_samples_leaf': 2, 'rf_max_features': 0.6667650792145927}. Best is trial 12 with value: 0.7907979870596693.\u001b[0m\n",
            "\u001b[32m[I 2023-04-08 18:57:15,763]\u001b[0m Trial 13 finished with value: 0.794392523364486 and parameters: {'rf_max_depth': 31, 'rf_n_estimators': 246, 'rf_min_samples_leaf': 9, 'rf_max_features': 0.6051349182387911}. Best is trial 13 with value: 0.794392523364486.\u001b[0m\n",
            "\u001b[32m[I 2023-04-08 18:57:17,321]\u001b[0m Trial 14 finished with value: 0.7915168943206327 and parameters: {'rf_max_depth': 13, 'rf_n_estimators': 283, 'rf_min_samples_leaf': 10, 'rf_max_features': 0.5478311311212963}. Best is trial 13 with value: 0.794392523364486.\u001b[0m\n",
            "\u001b[32m[I 2023-04-08 18:57:18,918]\u001b[0m Trial 15 finished with value: 0.798705966930266 and parameters: {'rf_max_depth': 12, 'rf_n_estimators': 289, 'rf_min_samples_leaf': 11, 'rf_max_features': 0.5328623603813379}. Best is trial 15 with value: 0.798705966930266.\u001b[0m\n",
            "\u001b[32m[I 2023-04-08 18:57:20,310]\u001b[0m Trial 16 finished with value: 0.7958303378864127 and parameters: {'rf_max_depth': 24, 'rf_n_estimators': 283, 'rf_min_samples_leaf': 10, 'rf_max_features': 0.3593858016880861}. Best is trial 15 with value: 0.798705966930266.\u001b[0m\n",
            "\u001b[32m[I 2023-04-08 18:57:21,937]\u001b[0m Trial 17 finished with value: 0.798705966930266 and parameters: {'rf_max_depth': 21, 'rf_n_estimators': 344, 'rf_min_samples_leaf': 8, 'rf_max_features': 0.3514005421159956}. Best is trial 15 with value: 0.798705966930266.\u001b[0m\n",
            "\u001b[32m[I 2023-04-08 18:57:22,128]\u001b[0m Trial 18 finished with value: 0.787922358015816 and parameters: {'rf_max_depth': 11, 'rf_n_estimators': 41, 'rf_min_samples_leaf': 23, 'rf_max_features': 0.2967802028053598}. Best is trial 15 with value: 0.798705966930266.\u001b[0m\n",
            "\u001b[32m[I 2023-04-08 18:57:25,710]\u001b[0m Trial 19 finished with value: 0.7915168943206327 and parameters: {'rf_max_depth': 19, 'rf_n_estimators': 548, 'rf_min_samples_leaf': 9, 'rf_max_features': 0.4991775985575892}. Best is trial 15 with value: 0.798705966930266.\u001b[0m\n"
          ]
        },
        {
          "output_type": "stream",
          "name": "stdout",
          "text": [
            "\n",
            "==============================================\n",
            "Number of finished trials: 20\n",
            "Best trial:\n",
            "Value: 0.798705966930266\n",
            "  Params: \n",
            "    rf_max_depth: 12\n",
            "    rf_n_estimators: 289\n",
            "    rf_min_samples_leaf: 11\n",
            "    rf_max_features: 0.5328623603813379\n",
            "==============================================\n",
            "\n",
            "Accuracy after tuning: 77.68832662449684%\n",
            "\n",
            "Classification report\n",
            "              precision    recall  f1-score   support\n",
            "\n",
            "       False       0.79      0.75      0.77       861\n",
            "        True       0.77      0.80      0.78       878\n",
            "\n",
            "    accuracy                           0.78      1739\n",
            "   macro avg       0.78      0.78      0.78      1739\n",
            "weighted avg       0.78      0.78      0.78      1739\n",
            "\n",
            "\n",
            "Confusion matrix\n",
            "[[645 216]\n",
            " [172 706]]\n",
            "==============================================\n",
            "\n",
            "All features number: 14, Selected features number: 6\n",
            "Selected_features:\n",
            "\n",
            "HomePlanet_transformed\n",
            "CryoSleep_transformed\n",
            "Cabin_num/100_transformed\n",
            "RService_deciles_transformed\n",
            "Spa_deciles_transformed\n",
            "VRD_deciles_transformed\n"
          ]
        }
      ]
    },
    {
      "cell_type": "code",
      "source": [
        "X_train, X_val, X_test, y_train, y_val, y_test = get_subsets(df_looe)\n",
        "params = model_optimization(20, objective)\n",
        "model = RandomForestClassifier(max_depth = params['rf_max_depth'], n_estimators = params['rf_n_estimators'], min_samples_leaf = params['rf_min_samples_leaf'], max_features = params['rf_max_features'])\n",
        "result_looe_tuned = test_tuned_model(model, X_train, y_train, X_test, y_test)"
      ],
      "metadata": {
        "colab": {
          "base_uri": "https://localhost:8080/"
        },
        "id": "guCNo3j-SJ2-",
        "outputId": "c8d2c21d-f836-42cb-a030-a6e6e90c29ea"
      },
      "execution_count": null,
      "outputs": [
        {
          "output_type": "stream",
          "name": "stderr",
          "text": [
            "\u001b[32m[I 2023-04-08 18:57:29,643]\u001b[0m A new study created in memory with name: no-name-90a4cd1d-08f4-4f46-ae6f-9821f2620c6a\u001b[0m\n",
            "\u001b[32m[I 2023-04-08 18:57:33,428]\u001b[0m Trial 0 finished with value: 0.7606038820992091 and parameters: {'rf_max_depth': 8, 'rf_n_estimators': 758, 'rf_min_samples_leaf': 35, 'rf_max_features': 0.13634492713555754}. Best is trial 0 with value: 0.7606038820992091.\u001b[0m\n",
            "\u001b[32m[I 2023-04-08 18:57:38,227]\u001b[0m Trial 1 finished with value: 0.7821710999281093 and parameters: {'rf_max_depth': 25, 'rf_n_estimators': 277, 'rf_min_samples_leaf': 41, 'rf_max_features': 0.48126744631041196}. Best is trial 1 with value: 0.7821710999281093.\u001b[0m\n",
            "\u001b[32m[I 2023-04-08 18:57:46,805]\u001b[0m Trial 2 finished with value: 0.7828900071890726 and parameters: {'rf_max_depth': 5, 'rf_n_estimators': 490, 'rf_min_samples_leaf': 6, 'rf_max_features': 0.48066951436709693}. Best is trial 2 with value: 0.7828900071890726.\u001b[0m\n",
            "\u001b[32m[I 2023-04-08 18:58:19,472]\u001b[0m Trial 3 finished with value: 0.7893601725377426 and parameters: {'rf_max_depth': 25, 'rf_n_estimators': 1000, 'rf_min_samples_leaf': 8, 'rf_max_features': 0.6369771273823448}. Best is trial 3 with value: 0.7893601725377426.\u001b[0m\n",
            "\u001b[32m[I 2023-04-08 18:58:20,499]\u001b[0m Trial 4 finished with value: 0.7505391804457225 and parameters: {'rf_max_depth': 2, 'rf_n_estimators': 252, 'rf_min_samples_leaf': 8, 'rf_max_features': 0.17575574168629282}. Best is trial 3 with value: 0.7893601725377426.\u001b[0m\n",
            "\u001b[32m[I 2023-04-08 18:58:24,679]\u001b[0m Trial 5 finished with value: 0.7440690150970525 and parameters: {'rf_max_depth': 3, 'rf_n_estimators': 247, 'rf_min_samples_leaf': 28, 'rf_max_features': 0.6923911579764596}. Best is trial 3 with value: 0.7893601725377426.\u001b[0m\n",
            "\u001b[32m[I 2023-04-08 18:58:28,650]\u001b[0m Trial 6 finished with value: 0.7735442127965493 and parameters: {'rf_max_depth': 6, 'rf_n_estimators': 369, 'rf_min_samples_leaf': 33, 'rf_max_features': 0.2312118534080054}. Best is trial 3 with value: 0.7893601725377426.\u001b[0m\n",
            "\u001b[32m[I 2023-04-08 18:58:34,563]\u001b[0m Trial 7 finished with value: 0.7476635514018691 and parameters: {'rf_max_depth': 3, 'rf_n_estimators': 972, 'rf_min_samples_leaf': 47, 'rf_max_features': 0.23948684812773186}. Best is trial 3 with value: 0.7893601725377426.\u001b[0m\n",
            "\u001b[32m[I 2023-04-08 18:58:48,440]\u001b[0m Trial 8 finished with value: 0.783608914450036 and parameters: {'rf_max_depth': 17, 'rf_n_estimators': 552, 'rf_min_samples_leaf': 4, 'rf_max_features': 0.3696908538474126}. Best is trial 3 with value: 0.7893601725377426.\u001b[0m\n",
            "\u001b[32m[I 2023-04-08 18:59:09,761]\u001b[0m Trial 9 finished with value: 0.7828900071890726 and parameters: {'rf_max_depth': 6, 'rf_n_estimators': 852, 'rf_min_samples_leaf': 48, 'rf_max_features': 0.6503482010211679}. Best is trial 3 with value: 0.7893601725377426.\u001b[0m\n",
            "\u001b[32m[I 2023-04-08 18:59:29,814]\u001b[0m Trial 10 finished with value: 0.7850467289719626 and parameters: {'rf_max_depth': 31, 'rf_n_estimators': 673, 'rf_min_samples_leaf': 17, 'rf_max_features': 0.5962632579379553}. Best is trial 3 with value: 0.7893601725377426.\u001b[0m\n",
            "\u001b[32m[I 2023-04-08 18:59:50,371]\u001b[0m Trial 11 finished with value: 0.787922358015816 and parameters: {'rf_max_depth': 31, 'rf_n_estimators': 715, 'rf_min_samples_leaf': 17, 'rf_max_features': 0.6112813177091131}. Best is trial 3 with value: 0.7893601725377426.\u001b[0m\n",
            "\u001b[32m[I 2023-04-08 18:59:50,956]\u001b[0m Trial 12 finished with value: 0.7785765636232926 and parameters: {'rf_max_depth': 17, 'rf_n_estimators': 14, 'rf_min_samples_leaf': 17, 'rf_max_features': 0.5927277681058791}. Best is trial 3 with value: 0.7893601725377426.\u001b[0m\n",
            "\u001b[32m[I 2023-04-08 19:00:24,047]\u001b[0m Trial 13 finished with value: 0.7864845434938893 and parameters: {'rf_max_depth': 30, 'rf_n_estimators': 983, 'rf_min_samples_leaf': 17, 'rf_max_features': 0.6847352631915188}. Best is trial 3 with value: 0.7893601725377426.\u001b[0m\n",
            "\u001b[32m[I 2023-04-08 19:00:46,280]\u001b[0m Trial 14 finished with value: 0.7864845434938893 and parameters: {'rf_max_depth': 15, 'rf_n_estimators': 813, 'rf_min_samples_leaf': 12, 'rf_max_features': 0.5338100225172548}. Best is trial 3 with value: 0.7893601725377426.\u001b[0m\n",
            "\u001b[32m[I 2023-04-08 19:01:03,234]\u001b[0m Trial 15 finished with value: 0.7800143781452192 and parameters: {'rf_max_depth': 22, 'rf_n_estimators': 626, 'rf_min_samples_leaf': 24, 'rf_max_features': 0.5948929384608193}. Best is trial 3 with value: 0.7893601725377426.\u001b[0m\n",
            "\u001b[32m[I 2023-04-08 19:01:25,033]\u001b[0m Trial 16 finished with value: 0.783608914450036 and parameters: {'rf_max_depth': 11, 'rf_n_estimators': 900, 'rf_min_samples_leaf': 1, 'rf_max_features': 0.40566660059721404}. Best is trial 3 with value: 0.7893601725377426.\u001b[0m\n",
            "\u001b[32m[I 2023-04-08 19:01:44,631]\u001b[0m Trial 17 finished with value: 0.7821710999281093 and parameters: {'rf_max_depth': 22, 'rf_n_estimators': 725, 'rf_min_samples_leaf': 22, 'rf_max_features': 0.6279917187266681}. Best is trial 3 with value: 0.7893601725377426.\u001b[0m\n",
            "\u001b[32m[I 2023-04-08 19:02:00,403]\u001b[0m Trial 18 finished with value: 0.7850467289719626 and parameters: {'rf_max_depth': 32, 'rf_n_estimators': 466, 'rf_min_samples_leaf': 14, 'rf_max_features': 0.6996276693874633}. Best is trial 3 with value: 0.7893601725377426.\u001b[0m\n",
            "\u001b[32m[I 2023-04-08 19:02:24,888]\u001b[0m Trial 19 finished with value: 0.7850467289719626 and parameters: {'rf_max_depth': 12, 'rf_n_estimators': 865, 'rf_min_samples_leaf': 11, 'rf_max_features': 0.5246187716001252}. Best is trial 3 with value: 0.7893601725377426.\u001b[0m\n"
          ]
        },
        {
          "output_type": "stream",
          "name": "stdout",
          "text": [
            "\n",
            "==============================================\n",
            "Number of finished trials: 20\n",
            "Best trial:\n",
            "Value: 0.7893601725377426\n",
            "  Params: \n",
            "    rf_max_depth: 25\n",
            "    rf_n_estimators: 1000\n",
            "    rf_min_samples_leaf: 8\n",
            "    rf_max_features: 0.6369771273823448\n",
            "==============================================\n",
            "\n",
            "Accuracy after tuning: 76.88326624496837%\n",
            "\n",
            "Classification report\n",
            "              precision    recall  f1-score   support\n",
            "\n",
            "       False       0.78      0.75      0.76       861\n",
            "        True       0.76      0.79      0.77       878\n",
            "\n",
            "    accuracy                           0.77      1739\n",
            "   macro avg       0.77      0.77      0.77      1739\n",
            "weighted avg       0.77      0.77      0.77      1739\n",
            "\n",
            "\n",
            "Confusion matrix\n",
            "[[645 216]\n",
            " [186 692]]\n",
            "==============================================\n",
            "\n",
            "All features number: 14, Selected features number: 5\n",
            "Selected_features:\n",
            "\n",
            "HomePlanet_transformed\n",
            "CryoSleep_transformed\n",
            "RService_deciles_transformed\n",
            "Spa_deciles_transformed\n",
            "VRD_deciles_transformed\n"
          ]
        }
      ]
    },
    {
      "cell_type": "markdown",
      "source": [
        "# Save results"
      ],
      "metadata": {
        "id": "iesZ2BSqPSWk"
      }
    },
    {
      "cell_type": "code",
      "source": [
        "data = []\n",
        "data.append(['RandomForestClassifier', 'OHE', acc_ohe_ini, result_ohe_tuned[0], str(result_ohe_tuned[1])+\" / 90\"])\n",
        "data.append(['RandomForestClassifier', 'TE', acc_te_ini, result_te_tuned[0], str(result_te_tuned[1])+\" / 14\"])\n",
        "data.append(['RandomForestClassifier', 'LOOE', acc_looe_ini, result_looe_tuned[0], str(result_looe_tuned[1])+\" / 14\"])"
      ],
      "metadata": {
        "id": "8Jm4AEgiNUr-"
      },
      "execution_count": null,
      "outputs": []
    },
    {
      "cell_type": "code",
      "source": [
        "import csv\n",
        "from os.path import exists\n",
        "resfile = 'spaceship_results.csv'"
      ],
      "metadata": {
        "id": "4XHlpz8rNi_-"
      },
      "execution_count": null,
      "outputs": []
    },
    {
      "cell_type": "code",
      "source": [
        "if exists(resfile):\n",
        "  f = open(resfile, 'a')\n",
        "  writer = csv.writer(f)\n",
        "else:\n",
        "  header = ['Model', 'Categories_encoding', 'Initial_accuracy', 'Tuned_Accuracy', 'Important_Features']\n",
        "  f = open(resfile, 'w', newline='')\n",
        "  writer = csv.writer(f)\n",
        "  writer.writerow(header)\n",
        "\n",
        "writer.writerows(data)\n",
        "f.close()"
      ],
      "metadata": {
        "id": "VB1K3IGdNm3G"
      },
      "execution_count": null,
      "outputs": []
    }
  ]
}