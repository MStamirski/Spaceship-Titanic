{
  "nbformat": 4,
  "nbformat_minor": 0,
  "metadata": {
    "colab": {
      "provenance": [],
      "toc_visible": true,
      "authorship_tag": "ABX9TyPQVwJOen3t7dlK0w//Q3qB",
      "include_colab_link": true
    },
    "kernelspec": {
      "name": "python3",
      "display_name": "Python 3"
    },
    "language_info": {
      "name": "python"
    },
    "gpuClass": "standard",
    "accelerator": "GPU"
  },
  "cells": [
    {
      "cell_type": "markdown",
      "metadata": {
        "id": "view-in-github",
        "colab_type": "text"
      },
      "source": [
        "<a href=\"https://colab.research.google.com/github/MStamirski/Spaceship-Titanic/blob/main/Model_Ridge.ipynb\" target=\"_parent\"><img src=\"https://colab.research.google.com/assets/colab-badge.svg\" alt=\"Open In Colab\"/></a>"
      ]
    },
    {
      "cell_type": "markdown",
      "source": [
        "# Preparation"
      ],
      "metadata": {
        "id": "fXZ2j2_EOOGs"
      }
    },
    {
      "cell_type": "code",
      "source": [
        "from google.colab import drive\n",
        "drive.mount(\"/content/drive\")\n",
        "%cd \"/content/drive/MyDrive/Colab_Notebooks/SDA_upskill/Spaceship\""
      ],
      "metadata": {
        "id": "Iag1nNbVX-i7"
      },
      "execution_count": null,
      "outputs": []
    },
    {
      "cell_type": "markdown",
      "source": [
        "# Model with parameters"
      ],
      "metadata": {
        "id": "S1NuaT-4OXUT"
      }
    },
    {
      "cell_type": "code",
      "source": [
        "from sklearn.linear_model import RidgeClassifier\n",
        "from sklearn.metrics import accuracy_score"
      ],
      "metadata": {
        "id": "2TVsFi2W9Uma"
      },
      "execution_count": null,
      "outputs": []
    },
    {
      "cell_type": "code",
      "source": [
        "import warnings\n",
        "warnings.filterwarnings(\"ignore\")"
      ],
      "metadata": {
        "id": "LXmiPNeijuY5"
      },
      "execution_count": null,
      "outputs": []
    },
    {
      "cell_type": "code",
      "source": [
        "model = RidgeClassifier()"
      ],
      "metadata": {
        "id": "WjLIgdT39bnz"
      },
      "execution_count": null,
      "outputs": []
    },
    {
      "cell_type": "code",
      "source": [
        "def objective(trial):\n",
        "\n",
        "  alpha = trial.suggest_float('alpha', 1e-10, 1e10, log=True)\n",
        "\n",
        "  optuna_model = RidgeClassifier(alpha=alpha)\n",
        "  optuna_model.fit(X_train, y_train)\n",
        "\n",
        "  y_pred = optuna_model.predict(X_val)\n",
        "  accuracy = accuracy_score(y_val, y_pred)\n",
        "\n",
        "  return accuracy"
      ],
      "metadata": {
        "id": "DGywz2Vy9eJ7"
      },
      "execution_count": null,
      "outputs": []
    },
    {
      "cell_type": "markdown",
      "source": [
        "# Features datasets"
      ],
      "metadata": {
        "id": "uikVcl7mOnNz"
      }
    },
    {
      "cell_type": "code",
      "source": [
        "!pip install import-ipynb"
      ],
      "metadata": {
        "id": "mV0iITmRYA_r"
      },
      "execution_count": null,
      "outputs": []
    },
    {
      "cell_type": "code",
      "source": [
        "import import_ipynb"
      ],
      "metadata": {
        "id": "NVkS0sr-W2B8"
      },
      "execution_count": null,
      "outputs": []
    },
    {
      "cell_type": "code",
      "source": [
        "from FeaturesEngineering import get_features, categories_one_hot_encoding, categories_target_encoding, categories_leave_one_out_encoding"
      ],
      "metadata": {
        "id": "QTP0FMcj8kZT"
      },
      "execution_count": null,
      "outputs": []
    },
    {
      "cell_type": "code",
      "source": [
        "df = get_features('train')\n",
        "df_ohe = categories_one_hot_encoding(df)\n",
        "df_te = categories_target_encoding(df)\n",
        "df_looe = categories_leave_one_out_encoding(df)"
      ],
      "metadata": {
        "id": "d0bCa6RVbJoX"
      },
      "execution_count": null,
      "outputs": []
    },
    {
      "cell_type": "markdown",
      "source": [
        "# Initial verification"
      ],
      "metadata": {
        "id": "h3H9fFXgOuOj"
      }
    },
    {
      "cell_type": "code",
      "source": [
        "from Optimization import verify_feature_dataset, get_subsets, model_optimization, test_tuned_model"
      ],
      "metadata": {
        "id": "djmNjVOt9oor"
      },
      "execution_count": null,
      "outputs": []
    },
    {
      "cell_type": "code",
      "source": [
        "acc_ohe_ini = verify_feature_dataset(df_ohe, model)"
      ],
      "metadata": {
        "colab": {
          "base_uri": "https://localhost:8080/"
        },
        "id": "pVj-AfkSmkqv",
        "outputId": "bb570abb-a0c5-4faf-a5ac-3e877777fcd9"
      },
      "execution_count": null,
      "outputs": [
        {
          "output_type": "stream",
          "name": "stdout",
          "text": [
            "Accuracy: 77.10889570552148%\n"
          ]
        }
      ]
    },
    {
      "cell_type": "code",
      "source": [
        "acc_te_ini = verify_feature_dataset(df_te, model)"
      ],
      "metadata": {
        "colab": {
          "base_uri": "https://localhost:8080/"
        },
        "id": "4OXZFQd4mtIH",
        "outputId": "67d88a35-5cdc-4f8a-b79c-760b2a31ae37"
      },
      "execution_count": null,
      "outputs": [
        {
          "output_type": "stream",
          "name": "stdout",
          "text": [
            "Accuracy: 76.22699386503068%\n"
          ]
        }
      ]
    },
    {
      "cell_type": "code",
      "source": [
        "acc_looe_ini = verify_feature_dataset(df_looe, model)"
      ],
      "metadata": {
        "colab": {
          "base_uri": "https://localhost:8080/"
        },
        "id": "kE1tf0yqmweP",
        "outputId": "87e145f0-e554-4719-e726-fcc266f88687"
      },
      "execution_count": null,
      "outputs": [
        {
          "output_type": "stream",
          "name": "stdout",
          "text": [
            "Accuracy: 75.920245398773%\n"
          ]
        }
      ]
    },
    {
      "cell_type": "markdown",
      "source": [
        "# Parameters tuning"
      ],
      "metadata": {
        "id": "5Kwn4oYYO8c0"
      }
    },
    {
      "cell_type": "code",
      "source": [
        "X_train, X_val, X_test, y_train, y_val, y_test = get_subsets(df_ohe)\n",
        "params = model_optimization(100, objective)\n",
        "model = RidgeClassifier(alpha=params['alpha'])\n",
        "result_ohe_tuned = test_tuned_model(model, X_train, y_train, X_test, y_test)"
      ],
      "metadata": {
        "id": "wg4cmVW72h3X",
        "colab": {
          "base_uri": "https://localhost:8080/"
        },
        "outputId": "88d6ceb4-ed57-4765-83d2-f8c24e819c82"
      },
      "execution_count": null,
      "outputs": [
        {
          "output_type": "stream",
          "name": "stderr",
          "text": [
            "\u001b[32m[I 2023-04-08 17:47:10,912]\u001b[0m A new study created in memory with name: no-name-9a5e2b82-6bf3-463e-9acb-bdef3b8c46d3\u001b[0m\n",
            "\u001b[32m[I 2023-04-08 17:47:10,965]\u001b[0m Trial 0 finished with value: 0.7951114306254493 and parameters: {'alpha': 103.95059686789087}. Best is trial 0 with value: 0.7951114306254493.\u001b[0m\n",
            "\u001b[32m[I 2023-04-08 17:47:11,015]\u001b[0m Trial 1 finished with value: 0.7929547088425594 and parameters: {'alpha': 0.0009969511333633512}. Best is trial 0 with value: 0.7951114306254493.\u001b[0m\n",
            "\u001b[32m[I 2023-04-08 17:47:11,071]\u001b[0m Trial 2 finished with value: 0.7929547088425594 and parameters: {'alpha': 8.225417746217222e-07}. Best is trial 0 with value: 0.7951114306254493.\u001b[0m\n",
            "\u001b[32m[I 2023-04-08 17:47:11,175]\u001b[0m Trial 3 finished with value: 0.5025161754133717 and parameters: {'alpha': 548309.992491433}. Best is trial 0 with value: 0.7951114306254493.\u001b[0m\n",
            "\u001b[32m[I 2023-04-08 17:47:11,232]\u001b[0m Trial 4 finished with value: 0.4996405463695183 and parameters: {'alpha': 1448349637.2650511}. Best is trial 0 with value: 0.7951114306254493.\u001b[0m\n",
            "\u001b[32m[I 2023-04-08 17:47:11,292]\u001b[0m Trial 5 finished with value: 0.7929547088425594 and parameters: {'alpha': 4.826928571147308e-06}. Best is trial 0 with value: 0.7951114306254493.\u001b[0m\n",
            "\u001b[32m[I 2023-04-08 17:47:11,373]\u001b[0m Trial 6 finished with value: 0.4996405463695183 and parameters: {'alpha': 4868382.804552741}. Best is trial 0 with value: 0.7951114306254493.\u001b[0m\n",
            "\u001b[32m[I 2023-04-08 17:47:11,434]\u001b[0m Trial 7 finished with value: 0.7936736161035226 and parameters: {'alpha': 6.431875143392745}. Best is trial 0 with value: 0.7951114306254493.\u001b[0m\n",
            "\u001b[32m[I 2023-04-08 17:47:11,506]\u001b[0m Trial 8 finished with value: 0.7929547088425594 and parameters: {'alpha': 0.002514039021051722}. Best is trial 0 with value: 0.7951114306254493.\u001b[0m\n",
            "\u001b[32m[I 2023-04-08 17:47:11,610]\u001b[0m Trial 9 finished with value: 0.7929547088425594 and parameters: {'alpha': 0.000791072130584032}. Best is trial 0 with value: 0.7951114306254493.\u001b[0m\n",
            "\u001b[32m[I 2023-04-08 17:47:11,691]\u001b[0m Trial 10 finished with value: 0.7929547088425594 and parameters: {'alpha': 1.498397882434327e-09}. Best is trial 0 with value: 0.7951114306254493.\u001b[0m\n",
            "\u001b[32m[I 2023-04-08 17:47:11,778]\u001b[0m Trial 11 finished with value: 0.792235801581596 and parameters: {'alpha': 310.09122919867156}. Best is trial 0 with value: 0.7951114306254493.\u001b[0m\n",
            "\u001b[32m[I 2023-04-08 17:47:11,923]\u001b[0m Trial 12 finished with value: 0.7936736161035226 and parameters: {'alpha': 20.314689637044324}. Best is trial 0 with value: 0.7951114306254493.\u001b[0m\n",
            "\u001b[32m[I 2023-04-08 17:47:11,998]\u001b[0m Trial 13 finished with value: 0.7915168943206327 and parameters: {'alpha': 257.45845110282244}. Best is trial 0 with value: 0.7951114306254493.\u001b[0m\n",
            "\u001b[32m[I 2023-04-08 17:47:12,087]\u001b[0m Trial 14 finished with value: 0.7929547088425594 and parameters: {'alpha': 0.4271883702997308}. Best is trial 0 with value: 0.7951114306254493.\u001b[0m\n",
            "\u001b[32m[I 2023-04-08 17:47:12,154]\u001b[0m Trial 15 finished with value: 0.7519769949676491 and parameters: {'alpha': 12082.49838714257}. Best is trial 0 with value: 0.7951114306254493.\u001b[0m\n",
            "\u001b[32m[I 2023-04-08 17:47:12,224]\u001b[0m Trial 16 finished with value: 0.7936736161035226 and parameters: {'alpha': 1.3948097204829564}. Best is trial 0 with value: 0.7951114306254493.\u001b[0m\n",
            "\u001b[32m[I 2023-04-08 17:47:12,291]\u001b[0m Trial 17 finished with value: 0.7505391804457225 and parameters: {'alpha': 20764.52406930721}. Best is trial 0 with value: 0.7951114306254493.\u001b[0m\n",
            "\u001b[32m[I 2023-04-08 17:47:12,379]\u001b[0m Trial 18 finished with value: 0.7929547088425594 and parameters: {'alpha': 0.10739804857019318}. Best is trial 0 with value: 0.7951114306254493.\u001b[0m\n",
            "\u001b[32m[I 2023-04-08 17:47:12,462]\u001b[0m Trial 19 finished with value: 0.7936736161035226 and parameters: {'alpha': 24.533269796547543}. Best is trial 0 with value: 0.7951114306254493.\u001b[0m\n",
            "\u001b[32m[I 2023-04-08 17:47:12,533]\u001b[0m Trial 20 finished with value: 0.7591660675772826 and parameters: {'alpha': 3585.806660287278}. Best is trial 0 with value: 0.7951114306254493.\u001b[0m\n",
            "\u001b[32m[I 2023-04-08 17:47:12,638]\u001b[0m Trial 21 finished with value: 0.7936736161035226 and parameters: {'alpha': 16.512977111813857}. Best is trial 0 with value: 0.7951114306254493.\u001b[0m\n",
            "\u001b[32m[I 2023-04-08 17:47:12,729]\u001b[0m Trial 22 finished with value: 0.7929547088425594 and parameters: {'alpha': 2.5382089338995932}. Best is trial 0 with value: 0.7951114306254493.\u001b[0m\n",
            "\u001b[32m[I 2023-04-08 17:47:12,762]\u001b[0m Trial 23 finished with value: 0.7958303378864127 and parameters: {'alpha': 104.80943403200614}. Best is trial 23 with value: 0.7958303378864127.\u001b[0m\n",
            "\u001b[32m[I 2023-04-08 17:47:12,818]\u001b[0m Trial 24 finished with value: 0.7929547088425594 and parameters: {'alpha': 0.03254303907805779}. Best is trial 23 with value: 0.7958303378864127.\u001b[0m\n",
            "\u001b[32m[I 2023-04-08 17:47:12,854]\u001b[0m Trial 25 finished with value: 0.7850467289719626 and parameters: {'alpha': 465.3099485479254}. Best is trial 23 with value: 0.7958303378864127.\u001b[0m\n",
            "\u001b[32m[I 2023-04-08 17:47:12,889]\u001b[0m Trial 26 finished with value: 0.5025161754133717 and parameters: {'alpha': 524906.8310812411}. Best is trial 23 with value: 0.7958303378864127.\u001b[0m\n",
            "\u001b[32m[I 2023-04-08 17:47:12,933]\u001b[0m Trial 27 finished with value: 0.7929547088425594 and parameters: {'alpha': 0.02184033396576267}. Best is trial 23 with value: 0.7958303378864127.\u001b[0m\n",
            "\u001b[32m[I 2023-04-08 17:47:12,994]\u001b[0m Trial 28 finished with value: 0.7936736161035226 and parameters: {'alpha': 2.181561921410543}. Best is trial 23 with value: 0.7958303378864127.\u001b[0m\n",
            "\u001b[32m[I 2023-04-08 17:47:13,054]\u001b[0m Trial 29 finished with value: 0.785765636232926 and parameters: {'alpha': 677.4793178434963}. Best is trial 23 with value: 0.7958303378864127.\u001b[0m\n",
            "\u001b[32m[I 2023-04-08 17:47:13,119]\u001b[0m Trial 30 finished with value: 0.7958303378864127 and parameters: {'alpha': 50.13418923932388}. Best is trial 23 with value: 0.7958303378864127.\u001b[0m\n",
            "\u001b[32m[I 2023-04-08 17:47:13,169]\u001b[0m Trial 31 finished with value: 0.7929547088425594 and parameters: {'alpha': 18.212907153431715}. Best is trial 23 with value: 0.7958303378864127.\u001b[0m\n",
            "\u001b[32m[I 2023-04-08 17:47:13,225]\u001b[0m Trial 32 finished with value: 0.7519769949676491 and parameters: {'alpha': 13054.818094285629}. Best is trial 23 with value: 0.7958303378864127.\u001b[0m\n",
            "\u001b[32m[I 2023-04-08 17:47:13,282]\u001b[0m Trial 33 finished with value: 0.7929547088425594 and parameters: {'alpha': 0.36618928718291993}. Best is trial 23 with value: 0.7958303378864127.\u001b[0m\n",
            "\u001b[32m[I 2023-04-08 17:47:13,342]\u001b[0m Trial 34 finished with value: 0.7972681524083394 and parameters: {'alpha': 72.22203058139098}. Best is trial 34 with value: 0.7972681524083394.\u001b[0m\n",
            "\u001b[32m[I 2023-04-08 17:47:13,379]\u001b[0m Trial 35 finished with value: 0.7332854061826024 and parameters: {'alpha': 156313.46154232998}. Best is trial 34 with value: 0.7972681524083394.\u001b[0m\n",
            "\u001b[32m[I 2023-04-08 17:47:13,436]\u001b[0m Trial 36 finished with value: 0.4996405463695183 and parameters: {'alpha': 4743438.17073075}. Best is trial 34 with value: 0.7972681524083394.\u001b[0m\n",
            "\u001b[32m[I 2023-04-08 17:47:13,495]\u001b[0m Trial 37 finished with value: 0.7951114306254493 and parameters: {'alpha': 189.11803369848795}. Best is trial 34 with value: 0.7972681524083394.\u001b[0m\n",
            "\u001b[32m[I 2023-04-08 17:47:13,552]\u001b[0m Trial 38 finished with value: 0.7634795111430626 and parameters: {'alpha': 3057.9752273710583}. Best is trial 34 with value: 0.7972681524083394.\u001b[0m\n",
            "\u001b[32m[I 2023-04-08 17:47:13,611]\u001b[0m Trial 39 finished with value: 0.4996405463695183 and parameters: {'alpha': 3527278666.4558263}. Best is trial 34 with value: 0.7972681524083394.\u001b[0m\n",
            "\u001b[32m[I 2023-04-08 17:47:13,651]\u001b[0m Trial 40 finished with value: 0.7526959022286125 and parameters: {'alpha': 75652.95414785747}. Best is trial 34 with value: 0.7972681524083394.\u001b[0m\n",
            "\u001b[32m[I 2023-04-08 17:47:13,706]\u001b[0m Trial 41 finished with value: 0.798705966930266 and parameters: {'alpha': 68.39732182952503}. Best is trial 41 with value: 0.798705966930266.\u001b[0m\n",
            "\u001b[32m[I 2023-04-08 17:47:13,743]\u001b[0m Trial 42 finished with value: 0.7929547088425594 and parameters: {'alpha': 252.0188930918922}. Best is trial 41 with value: 0.798705966930266.\u001b[0m\n",
            "\u001b[32m[I 2023-04-08 17:47:13,795]\u001b[0m Trial 43 finished with value: 0.794392523364486 and parameters: {'alpha': 33.81981364304192}. Best is trial 41 with value: 0.798705966930266.\u001b[0m\n",
            "\u001b[32m[I 2023-04-08 17:47:13,851]\u001b[0m Trial 44 finished with value: 0.7721063982746226 and parameters: {'alpha': 1919.5156710959695}. Best is trial 41 with value: 0.798705966930266.\u001b[0m\n",
            "\u001b[32m[I 2023-04-08 17:47:13,909]\u001b[0m Trial 45 finished with value: 0.794392523364486 and parameters: {'alpha': 101.52637771167691}. Best is trial 41 with value: 0.798705966930266.\u001b[0m\n",
            "\u001b[32m[I 2023-04-08 17:47:13,981]\u001b[0m Trial 46 finished with value: 0.7929547088425594 and parameters: {'alpha': 3.102754617764978}. Best is trial 41 with value: 0.798705966930266.\u001b[0m\n",
            "\u001b[32m[I 2023-04-08 17:47:14,044]\u001b[0m Trial 47 finished with value: 0.7994248741912293 and parameters: {'alpha': 63.52006286202853}. Best is trial 47 with value: 0.7994248741912293.\u001b[0m\n",
            "\u001b[32m[I 2023-04-08 17:47:14,102]\u001b[0m Trial 48 finished with value: 0.7958303378864127 and parameters: {'alpha': 47.56396820574183}. Best is trial 47 with value: 0.7994248741912293.\u001b[0m\n",
            "\u001b[32m[I 2023-04-08 17:47:14,160]\u001b[0m Trial 49 finished with value: 0.7807332854061826 and parameters: {'alpha': 947.7721209013755}. Best is trial 47 with value: 0.7994248741912293.\u001b[0m\n",
            "\u001b[32m[I 2023-04-08 17:47:14,221]\u001b[0m Trial 50 finished with value: 0.7929547088425594 and parameters: {'alpha': 0.3031846313390964}. Best is trial 47 with value: 0.7994248741912293.\u001b[0m\n",
            "\u001b[32m[I 2023-04-08 17:47:14,285]\u001b[0m Trial 51 finished with value: 0.798705966930266 and parameters: {'alpha': 69.72461840133927}. Best is trial 47 with value: 0.7994248741912293.\u001b[0m\n",
            "\u001b[32m[I 2023-04-08 17:47:14,350]\u001b[0m Trial 52 finished with value: 0.7936736161035226 and parameters: {'alpha': 5.146287984672069}. Best is trial 47 with value: 0.7994248741912293.\u001b[0m\n",
            "\u001b[32m[I 2023-04-08 17:47:14,415]\u001b[0m Trial 53 finished with value: 0.7958303378864127 and parameters: {'alpha': 49.69283183611123}. Best is trial 47 with value: 0.7994248741912293.\u001b[0m\n",
            "\u001b[32m[I 2023-04-08 17:47:14,479]\u001b[0m Trial 54 finished with value: 0.7634795111430626 and parameters: {'alpha': 2725.422177178764}. Best is trial 47 with value: 0.7994248741912293.\u001b[0m\n",
            "\u001b[32m[I 2023-04-08 17:47:14,538]\u001b[0m Trial 55 finished with value: 0.7936736161035226 and parameters: {'alpha': 8.583194864441106}. Best is trial 47 with value: 0.7994248741912293.\u001b[0m\n",
            "\u001b[32m[I 2023-04-08 17:47:14,597]\u001b[0m Trial 56 finished with value: 0.7958303378864127 and parameters: {'alpha': 112.13352757004202}. Best is trial 47 with value: 0.7994248741912293.\u001b[0m\n",
            "\u001b[32m[I 2023-04-08 17:47:14,657]\u001b[0m Trial 57 finished with value: 0.7929547088425594 and parameters: {'alpha': 0.5678016028214711}. Best is trial 47 with value: 0.7994248741912293.\u001b[0m\n",
            "\u001b[32m[I 2023-04-08 17:47:14,746]\u001b[0m Trial 58 finished with value: 0.7936736161035226 and parameters: {'alpha': 9.56201568087675}. Best is trial 47 with value: 0.7994248741912293.\u001b[0m\n",
            "\u001b[32m[I 2023-04-08 17:47:14,842]\u001b[0m Trial 59 finished with value: 0.7505391804457225 and parameters: {'alpha': 20731.682872461155}. Best is trial 47 with value: 0.7994248741912293.\u001b[0m\n",
            "\u001b[32m[I 2023-04-08 17:47:14,953]\u001b[0m Trial 60 finished with value: 0.785765636232926 and parameters: {'alpha': 713.8533685315123}. Best is trial 47 with value: 0.7994248741912293.\u001b[0m\n",
            "\u001b[32m[I 2023-04-08 17:47:15,055]\u001b[0m Trial 61 finished with value: 0.7958303378864127 and parameters: {'alpha': 48.94274966007631}. Best is trial 47 with value: 0.7994248741912293.\u001b[0m\n",
            "\u001b[32m[I 2023-04-08 17:47:15,131]\u001b[0m Trial 62 finished with value: 0.798705966930266 and parameters: {'alpha': 134.8786509008506}. Best is trial 47 with value: 0.7994248741912293.\u001b[0m\n",
            "\u001b[32m[I 2023-04-08 17:47:15,198]\u001b[0m Trial 63 finished with value: 0.792235801581596 and parameters: {'alpha': 339.84909576216796}. Best is trial 47 with value: 0.7994248741912293.\u001b[0m\n",
            "\u001b[32m[I 2023-04-08 17:47:15,282]\u001b[0m Trial 64 finished with value: 0.7936736161035226 and parameters: {'alpha': 1.694949439603858}. Best is trial 47 with value: 0.7994248741912293.\u001b[0m\n",
            "\u001b[32m[I 2023-04-08 17:47:15,344]\u001b[0m Trial 65 finished with value: 0.7534148094895758 and parameters: {'alpha': 6354.999314897472}. Best is trial 47 with value: 0.7994248741912293.\u001b[0m\n",
            "\u001b[32m[I 2023-04-08 17:47:15,381]\u001b[0m Trial 66 finished with value: 0.7936736161035226 and parameters: {'alpha': 8.652661135649751}. Best is trial 47 with value: 0.7994248741912293.\u001b[0m\n",
            "\u001b[32m[I 2023-04-08 17:47:15,414]\u001b[0m Trial 67 finished with value: 0.7807332854061826 and parameters: {'alpha': 986.7008717493128}. Best is trial 47 with value: 0.7994248741912293.\u001b[0m\n",
            "\u001b[32m[I 2023-04-08 17:47:15,468]\u001b[0m Trial 68 finished with value: 0.7951114306254493 and parameters: {'alpha': 77.17689226250573}. Best is trial 47 with value: 0.7994248741912293.\u001b[0m\n",
            "\u001b[32m[I 2023-04-08 17:47:15,532]\u001b[0m Trial 69 finished with value: 0.7929547088425594 and parameters: {'alpha': 0.0808666095099927}. Best is trial 47 with value: 0.7994248741912293.\u001b[0m\n",
            "\u001b[32m[I 2023-04-08 17:47:15,592]\u001b[0m Trial 70 finished with value: 0.7936736161035226 and parameters: {'alpha': 1.4206821459202508}. Best is trial 47 with value: 0.7994248741912293.\u001b[0m\n",
            "\u001b[32m[I 2023-04-08 17:47:15,651]\u001b[0m Trial 71 finished with value: 0.794392523364486 and parameters: {'alpha': 32.736212393820175}. Best is trial 47 with value: 0.7994248741912293.\u001b[0m\n",
            "\u001b[32m[I 2023-04-08 17:47:15,718]\u001b[0m Trial 72 finished with value: 0.798705966930266 and parameters: {'alpha': 129.9607405794322}. Best is trial 47 with value: 0.7994248741912293.\u001b[0m\n",
            "\u001b[32m[I 2023-04-08 17:47:15,776]\u001b[0m Trial 73 finished with value: 0.7936736161035226 and parameters: {'alpha': 206.82007673245047}. Best is trial 47 with value: 0.7994248741912293.\u001b[0m\n",
            "\u001b[32m[I 2023-04-08 17:47:15,850]\u001b[0m Trial 74 finished with value: 0.7742631200575126 and parameters: {'alpha': 1453.8865910909049}. Best is trial 47 with value: 0.7994248741912293.\u001b[0m\n",
            "\u001b[32m[I 2023-04-08 17:47:15,914]\u001b[0m Trial 75 finished with value: 0.7936736161035226 and parameters: {'alpha': 6.613580415697256}. Best is trial 47 with value: 0.7994248741912293.\u001b[0m\n",
            "\u001b[32m[I 2023-04-08 17:47:15,974]\u001b[0m Trial 76 finished with value: 0.7534148094895758 and parameters: {'alpha': 7574.551821602747}. Best is trial 47 with value: 0.7994248741912293.\u001b[0m\n",
            "\u001b[32m[I 2023-04-08 17:47:16,042]\u001b[0m Trial 77 finished with value: 0.792235801581596 and parameters: {'alpha': 309.3172317147847}. Best is trial 47 with value: 0.7994248741912293.\u001b[0m\n",
            "\u001b[32m[I 2023-04-08 17:47:16,101]\u001b[0m Trial 78 finished with value: 0.7512580877066858 and parameters: {'alpha': 45863.938108603084}. Best is trial 47 with value: 0.7994248741912293.\u001b[0m\n",
            "\u001b[32m[I 2023-04-08 17:47:16,159]\u001b[0m Trial 79 finished with value: 0.7936736161035226 and parameters: {'alpha': 14.44980970741467}. Best is trial 47 with value: 0.7994248741912293.\u001b[0m\n",
            "\u001b[32m[I 2023-04-08 17:47:16,216]\u001b[0m Trial 80 finished with value: 0.796549245147376 and parameters: {'alpha': 89.37214990793028}. Best is trial 47 with value: 0.7994248741912293.\u001b[0m\n",
            "\u001b[32m[I 2023-04-08 17:47:16,276]\u001b[0m Trial 81 finished with value: 0.7951114306254493 and parameters: {'alpha': 112.90585434962043}. Best is trial 47 with value: 0.7994248741912293.\u001b[0m\n",
            "\u001b[32m[I 2023-04-08 17:47:16,334]\u001b[0m Trial 82 finished with value: 0.7598849748382459 and parameters: {'alpha': 3265.5552237292704}. Best is trial 47 with value: 0.7994248741912293.\u001b[0m\n",
            "\u001b[32m[I 2023-04-08 17:47:16,392]\u001b[0m Trial 83 finished with value: 0.7951114306254493 and parameters: {'alpha': 37.634516749890565}. Best is trial 47 with value: 0.7994248741912293.\u001b[0m\n",
            "\u001b[32m[I 2023-04-08 17:47:16,455]\u001b[0m Trial 84 finished with value: 0.7872034507548527 and parameters: {'alpha': 572.2108057445984}. Best is trial 47 with value: 0.7994248741912293.\u001b[0m\n",
            "\u001b[32m[I 2023-04-08 17:47:16,520]\u001b[0m Trial 85 finished with value: 0.7929547088425594 and parameters: {'alpha': 2.3765191270778105}. Best is trial 47 with value: 0.7994248741912293.\u001b[0m\n",
            "\u001b[32m[I 2023-04-08 17:47:16,583]\u001b[0m Trial 86 finished with value: 0.798705966930266 and parameters: {'alpha': 135.64646181290362}. Best is trial 47 with value: 0.7994248741912293.\u001b[0m\n",
            "\u001b[32m[I 2023-04-08 17:47:16,640]\u001b[0m Trial 87 finished with value: 0.798705966930266 and parameters: {'alpha': 131.2165374696652}. Best is trial 47 with value: 0.7994248741912293.\u001b[0m\n",
            "\u001b[32m[I 2023-04-08 17:47:16,699]\u001b[0m Trial 88 finished with value: 0.7800143781452192 and parameters: {'alpha': 980.6897911001942}. Best is trial 47 with value: 0.7994248741912293.\u001b[0m\n",
            "\u001b[32m[I 2023-04-08 17:47:16,760]\u001b[0m Trial 89 finished with value: 0.7936736161035226 and parameters: {'alpha': 19.279479690467998}. Best is trial 47 with value: 0.7994248741912293.\u001b[0m\n",
            "\u001b[32m[I 2023-04-08 17:47:16,797]\u001b[0m Trial 90 finished with value: 0.7929547088425594 and parameters: {'alpha': 281.2212603576536}. Best is trial 47 with value: 0.7994248741912293.\u001b[0m\n",
            "\u001b[32m[I 2023-04-08 17:47:16,834]\u001b[0m Trial 91 finished with value: 0.798705966930266 and parameters: {'alpha': 136.0879132852761}. Best is trial 47 with value: 0.7994248741912293.\u001b[0m\n",
            "\u001b[32m[I 2023-04-08 17:47:16,872]\u001b[0m Trial 92 finished with value: 0.796549245147376 and parameters: {'alpha': 123.62407802371467}. Best is trial 47 with value: 0.7994248741912293.\u001b[0m\n",
            "\u001b[32m[I 2023-04-08 17:47:16,927]\u001b[0m Trial 93 finished with value: 0.7929547088425594 and parameters: {'alpha': 4.257496249784508}. Best is trial 47 with value: 0.7994248741912293.\u001b[0m\n",
            "\u001b[32m[I 2023-04-08 17:47:16,964]\u001b[0m Trial 94 finished with value: 0.7555715312724659 and parameters: {'alpha': 5190.971229731681}. Best is trial 47 with value: 0.7994248741912293.\u001b[0m\n",
            "\u001b[32m[I 2023-04-08 17:47:17,001]\u001b[0m Trial 95 finished with value: 0.7936736161035226 and parameters: {'alpha': 20.99649925075906}. Best is trial 47 with value: 0.7994248741912293.\u001b[0m\n",
            "\u001b[32m[I 2023-04-08 17:47:17,035]\u001b[0m Trial 96 finished with value: 0.7721063982746226 and parameters: {'alpha': 2099.6304322962765}. Best is trial 47 with value: 0.7994248741912293.\u001b[0m\n",
            "\u001b[32m[I 2023-04-08 17:47:17,070]\u001b[0m Trial 97 finished with value: 0.7929547088425594 and parameters: {'alpha': 0.8176781075499916}. Best is trial 47 with value: 0.7994248741912293.\u001b[0m\n",
            "\u001b[32m[I 2023-04-08 17:47:17,130]\u001b[0m Trial 98 finished with value: 0.7893601725377426 and parameters: {'alpha': 364.1242665233056}. Best is trial 47 with value: 0.7994248741912293.\u001b[0m\n",
            "\u001b[32m[I 2023-04-08 17:47:17,196]\u001b[0m Trial 99 finished with value: 0.7958303378864127 and parameters: {'alpha': 93.7524379802711}. Best is trial 47 with value: 0.7994248741912293.\u001b[0m\n"
          ]
        },
        {
          "output_type": "stream",
          "name": "stdout",
          "text": [
            "\n",
            "==============================================\n",
            "Number of finished trials: 100\n",
            "Best trial:\n",
            "Value: 0.7994248741912293\n",
            "  Params: \n",
            "    alpha: 63.52006286202853\n",
            "==============================================\n",
            "\n",
            "Accuracy after tuning: 77.51581368602645%\n",
            "\n",
            "Classification report\n",
            "              precision    recall  f1-score   support\n",
            "\n",
            "       False       0.79      0.74      0.77       861\n",
            "        True       0.76      0.81      0.78       878\n",
            "\n",
            "    accuracy                           0.78      1739\n",
            "   macro avg       0.78      0.77      0.77      1739\n",
            "weighted avg       0.78      0.78      0.77      1739\n",
            "\n",
            "\n",
            "Confusion matrix\n",
            "[[640 221]\n",
            " [170 708]]\n",
            "==============================================\n",
            "\n",
            "All features number: 90, Selected features number: 32\n",
            "Selected_features:\n",
            "\n",
            "HomePlanet_Earth\n",
            "HomePlanet_Europa\n",
            "CryoSleep_False\n",
            "CryoSleep_True\n",
            "Cabin_deck_C\n",
            "Cabin_deck_G\n",
            "Cabin_num/100_3\n",
            "Cabin_num/100_4\n",
            "Cabin_num/100_8\n",
            "Cabin_num/100_9\n",
            "Cabin_num/100_10\n",
            "Cabin_num/100_11\n",
            "Cabin_num/100_16\n",
            "RService_deciles_1\n",
            "RService_deciles_7\n",
            "RService_deciles_8\n",
            "RService_deciles_9\n",
            "RService_deciles_10\n",
            "FCourt_deciles_7\n",
            "FCourt_deciles_8\n",
            "FCourt_deciles_10\n",
            "ShMall_deciles_8\n",
            "ShMall_deciles_10\n",
            "Spa_deciles_1\n",
            "Spa_deciles_7\n",
            "Spa_deciles_8\n",
            "Spa_deciles_9\n",
            "Spa_deciles_10\n",
            "VRD_deciles_1\n",
            "VRD_deciles_7\n",
            "VRD_deciles_8\n",
            "VRD_deciles_10\n"
          ]
        }
      ]
    },
    {
      "cell_type": "code",
      "source": [
        "X_train, X_val, X_test, y_train, y_val, y_test = get_subsets(df_te)\n",
        "params = model_optimization(100, objective)\n",
        "model = RidgeClassifier(alpha=params['alpha'])\n",
        "result_te_tuned = test_tuned_model(model, X_train, y_train, X_test, y_test)"
      ],
      "metadata": {
        "colab": {
          "base_uri": "https://localhost:8080/"
        },
        "id": "6aksOw3eSGpP",
        "outputId": "997bcccd-6ca0-45a3-c022-9b9f99f5e5bc"
      },
      "execution_count": null,
      "outputs": [
        {
          "output_type": "stream",
          "name": "stderr",
          "text": [
            "\u001b[32m[I 2023-04-08 17:47:17,325]\u001b[0m A new study created in memory with name: no-name-8ad8120d-d2fe-4816-8f96-2e008db8b2dc\u001b[0m\n",
            "\u001b[32m[I 2023-04-08 17:47:17,351]\u001b[0m Trial 0 finished with value: 0.7721063982746226 and parameters: {'alpha': 6.525482387318574}. Best is trial 0 with value: 0.7721063982746226.\u001b[0m\n",
            "\u001b[32m[I 2023-04-08 17:47:17,364]\u001b[0m Trial 1 finished with value: 0.7742631200575126 and parameters: {'alpha': 0.00440047833072303}. Best is trial 1 with value: 0.7742631200575126.\u001b[0m\n",
            "\u001b[32m[I 2023-04-08 17:47:17,377]\u001b[0m Trial 2 finished with value: 0.4996405463695183 and parameters: {'alpha': 77675.88418365645}. Best is trial 1 with value: 0.7742631200575126.\u001b[0m\n",
            "\u001b[32m[I 2023-04-08 17:47:17,394]\u001b[0m Trial 3 finished with value: 0.7742631200575126 and parameters: {'alpha': 0.0003281677039116774}. Best is trial 1 with value: 0.7742631200575126.\u001b[0m\n",
            "\u001b[32m[I 2023-04-08 17:47:17,408]\u001b[0m Trial 4 finished with value: 0.4996405463695183 and parameters: {'alpha': 148681662.22158888}. Best is trial 1 with value: 0.7742631200575126.\u001b[0m\n",
            "\u001b[32m[I 2023-04-08 17:47:17,422]\u001b[0m Trial 5 finished with value: 0.7749820273184759 and parameters: {'alpha': 0.21896434524500266}. Best is trial 5 with value: 0.7749820273184759.\u001b[0m\n",
            "\u001b[32m[I 2023-04-08 17:47:17,435]\u001b[0m Trial 6 finished with value: 0.4996405463695183 and parameters: {'alpha': 75283.56360675147}. Best is trial 5 with value: 0.7749820273184759.\u001b[0m\n",
            "\u001b[32m[I 2023-04-08 17:47:17,448]\u001b[0m Trial 7 finished with value: 0.7742631200575126 and parameters: {'alpha': 9.341859172733484e-08}. Best is trial 5 with value: 0.7749820273184759.\u001b[0m\n",
            "\u001b[32m[I 2023-04-08 17:47:17,461]\u001b[0m Trial 8 finished with value: 0.4996405463695183 and parameters: {'alpha': 702900198.8530543}. Best is trial 5 with value: 0.7749820273184759.\u001b[0m\n",
            "\u001b[32m[I 2023-04-08 17:47:17,477]\u001b[0m Trial 9 finished with value: 0.7742631200575126 and parameters: {'alpha': 0.0006853541664967861}. Best is trial 5 with value: 0.7749820273184759.\u001b[0m\n",
            "\u001b[32m[I 2023-04-08 17:47:17,495]\u001b[0m Trial 10 finished with value: 0.7742631200575126 and parameters: {'alpha': 3.6029923766956327e-09}. Best is trial 5 with value: 0.7749820273184759.\u001b[0m\n",
            "\u001b[32m[I 2023-04-08 17:47:17,513]\u001b[0m Trial 11 finished with value: 0.7749820273184759 and parameters: {'alpha': 0.3299483119201575}. Best is trial 5 with value: 0.7749820273184759.\u001b[0m\n",
            "\u001b[32m[I 2023-04-08 17:47:17,531]\u001b[0m Trial 12 finished with value: 0.7721063982746226 and parameters: {'alpha': 3.4170312393396034}. Best is trial 5 with value: 0.7749820273184759.\u001b[0m\n",
            "\u001b[32m[I 2023-04-08 17:47:17,548]\u001b[0m Trial 13 finished with value: 0.7512580877066858 and parameters: {'alpha': 158.82183460620456}. Best is trial 5 with value: 0.7749820273184759.\u001b[0m\n",
            "\u001b[32m[I 2023-04-08 17:47:17,565]\u001b[0m Trial 14 finished with value: 0.7742631200575126 and parameters: {'alpha': 2.6861488317755487e-06}. Best is trial 5 with value: 0.7749820273184759.\u001b[0m\n",
            "\u001b[32m[I 2023-04-08 17:47:17,584]\u001b[0m Trial 15 finished with value: 0.7749820273184759 and parameters: {'alpha': 0.046807338822305186}. Best is trial 5 with value: 0.7749820273184759.\u001b[0m\n",
            "\u001b[32m[I 2023-04-08 17:47:17,601]\u001b[0m Trial 16 finished with value: 0.7742631200575126 and parameters: {'alpha': 3.065467083111089e-10}. Best is trial 5 with value: 0.7749820273184759.\u001b[0m\n",
            "\u001b[32m[I 2023-04-08 17:47:17,620]\u001b[0m Trial 17 finished with value: 0.7742631200575126 and parameters: {'alpha': 4.333194477082957e-05}. Best is trial 5 with value: 0.7749820273184759.\u001b[0m\n",
            "\u001b[32m[I 2023-04-08 17:47:17,644]\u001b[0m Trial 18 finished with value: 0.7749820273184759 and parameters: {'alpha': 0.0691392117046987}. Best is trial 5 with value: 0.7749820273184759.\u001b[0m\n",
            "\u001b[32m[I 2023-04-08 17:47:17,663]\u001b[0m Trial 19 finished with value: 0.7742631200575126 and parameters: {'alpha': 3.823849490402497e-06}. Best is trial 5 with value: 0.7749820273184759.\u001b[0m\n",
            "\u001b[32m[I 2023-04-08 17:47:17,682]\u001b[0m Trial 20 finished with value: 0.7491013659237958 and parameters: {'alpha': 219.752192683349}. Best is trial 5 with value: 0.7749820273184759.\u001b[0m\n",
            "\u001b[32m[I 2023-04-08 17:47:17,700]\u001b[0m Trial 21 finished with value: 0.7742631200575126 and parameters: {'alpha': 0.014281337749857887}. Best is trial 5 with value: 0.7749820273184759.\u001b[0m\n",
            "\u001b[32m[I 2023-04-08 17:47:17,718]\u001b[0m Trial 22 finished with value: 0.7749820273184759 and parameters: {'alpha': 0.4192395659509387}. Best is trial 5 with value: 0.7749820273184759.\u001b[0m\n",
            "\u001b[32m[I 2023-04-08 17:47:17,737]\u001b[0m Trial 23 finished with value: 0.7742631200575126 and parameters: {'alpha': 0.012455565596164602}. Best is trial 5 with value: 0.7749820273184759.\u001b[0m\n",
            "\u001b[32m[I 2023-04-08 17:47:17,755]\u001b[0m Trial 24 finished with value: 0.7749820273184759 and parameters: {'alpha': 0.3833368958418053}. Best is trial 5 with value: 0.7749820273184759.\u001b[0m\n",
            "\u001b[32m[I 2023-04-08 17:47:17,775]\u001b[0m Trial 25 finished with value: 0.7742631200575126 and parameters: {'alpha': 0.0004445033654660683}. Best is trial 5 with value: 0.7749820273184759.\u001b[0m\n",
            "\u001b[32m[I 2023-04-08 17:47:17,793]\u001b[0m Trial 26 finished with value: 0.7641984184040259 and parameters: {'alpha': 29.455993865763173}. Best is trial 5 with value: 0.7749820273184759.\u001b[0m\n",
            "\u001b[32m[I 2023-04-08 17:47:17,812]\u001b[0m Trial 27 finished with value: 0.7749820273184759 and parameters: {'alpha': 0.2594062736651132}. Best is trial 5 with value: 0.7749820273184759.\u001b[0m\n",
            "\u001b[32m[I 2023-04-08 17:47:17,833]\u001b[0m Trial 28 finished with value: 0.7749820273184759 and parameters: {'alpha': 0.03321721565452067}. Best is trial 5 with value: 0.7749820273184759.\u001b[0m\n",
            "\u001b[32m[I 2023-04-08 17:47:17,852]\u001b[0m Trial 29 finished with value: 0.7749820273184759 and parameters: {'alpha': 1.2597422864457328}. Best is trial 5 with value: 0.7749820273184759.\u001b[0m\n",
            "\u001b[32m[I 2023-04-08 17:47:17,874]\u001b[0m Trial 30 finished with value: 0.7685118619698059 and parameters: {'alpha': 13.588120427654948}. Best is trial 5 with value: 0.7749820273184759.\u001b[0m\n",
            "\u001b[32m[I 2023-04-08 17:47:17,892]\u001b[0m Trial 31 finished with value: 0.7742631200575126 and parameters: {'alpha': 0.003374509905148521}. Best is trial 5 with value: 0.7749820273184759.\u001b[0m\n",
            "\u001b[32m[I 2023-04-08 17:47:17,915]\u001b[0m Trial 32 finished with value: 0.7749820273184759 and parameters: {'alpha': 0.05179104208633096}. Best is trial 5 with value: 0.7749820273184759.\u001b[0m\n",
            "\u001b[32m[I 2023-04-08 17:47:17,945]\u001b[0m Trial 33 finished with value: 0.7706685837526959 and parameters: {'alpha': 7.3616428863202374}. Best is trial 5 with value: 0.7749820273184759.\u001b[0m\n",
            "\u001b[32m[I 2023-04-08 17:47:17,968]\u001b[0m Trial 34 finished with value: 0.7742631200575126 and parameters: {'alpha': 0.0021849525375029735}. Best is trial 5 with value: 0.7749820273184759.\u001b[0m\n",
            "\u001b[32m[I 2023-04-08 17:47:17,987]\u001b[0m Trial 35 finished with value: 0.7749820273184759 and parameters: {'alpha': 0.09336046367817483}. Best is trial 5 with value: 0.7749820273184759.\u001b[0m\n",
            "\u001b[32m[I 2023-04-08 17:47:18,007]\u001b[0m Trial 36 finished with value: 0.7742631200575126 and parameters: {'alpha': 9.266079563967742e-05}. Best is trial 5 with value: 0.7749820273184759.\u001b[0m\n",
            "\u001b[32m[I 2023-04-08 17:47:18,026]\u001b[0m Trial 37 finished with value: 0.7469446441409058 and parameters: {'alpha': 2143.143056664088}. Best is trial 5 with value: 0.7749820273184759.\u001b[0m\n",
            "\u001b[32m[I 2023-04-08 17:47:18,044]\u001b[0m Trial 38 finished with value: 0.7742631200575126 and parameters: {'alpha': 0.9028066893389849}. Best is trial 5 with value: 0.7749820273184759.\u001b[0m\n",
            "\u001b[32m[I 2023-04-08 17:47:18,062]\u001b[0m Trial 39 finished with value: 0.7742631200575126 and parameters: {'alpha': 0.014562525770433541}. Best is trial 5 with value: 0.7749820273184759.\u001b[0m\n",
            "\u001b[32m[I 2023-04-08 17:47:18,081]\u001b[0m Trial 40 finished with value: 0.7742631200575126 and parameters: {'alpha': 0.001582758534359036}. Best is trial 5 with value: 0.7749820273184759.\u001b[0m\n",
            "\u001b[32m[I 2023-04-08 17:47:18,099]\u001b[0m Trial 41 finished with value: 0.7749820273184759 and parameters: {'alpha': 0.3754929406253005}. Best is trial 5 with value: 0.7749820273184759.\u001b[0m\n",
            "\u001b[32m[I 2023-04-08 17:47:18,117]\u001b[0m Trial 42 finished with value: 0.7749820273184759 and parameters: {'alpha': 1.496195760210018}. Best is trial 5 with value: 0.7749820273184759.\u001b[0m\n",
            "\u001b[32m[I 2023-04-08 17:47:18,137]\u001b[0m Trial 43 finished with value: 0.7749820273184759 and parameters: {'alpha': 0.06859702721631067}. Best is trial 5 with value: 0.7749820273184759.\u001b[0m\n",
            "\u001b[32m[I 2023-04-08 17:47:18,155]\u001b[0m Trial 44 finished with value: 0.7656362329259525 and parameters: {'alpha': 24.85656482399967}. Best is trial 5 with value: 0.7749820273184759.\u001b[0m\n",
            "\u001b[32m[I 2023-04-08 17:47:18,176]\u001b[0m Trial 45 finished with value: 0.7742631200575126 and parameters: {'alpha': 0.004499497388546836}. Best is trial 5 with value: 0.7749820273184759.\u001b[0m\n",
            "\u001b[32m[I 2023-04-08 17:47:18,194]\u001b[0m Trial 46 finished with value: 0.7749820273184759 and parameters: {'alpha': 0.162108674522923}. Best is trial 5 with value: 0.7749820273184759.\u001b[0m\n",
            "\u001b[32m[I 2023-04-08 17:47:18,219]\u001b[0m Trial 47 finished with value: 0.7728253055355859 and parameters: {'alpha': 5.237431153959386}. Best is trial 5 with value: 0.7749820273184759.\u001b[0m\n",
            "\u001b[32m[I 2023-04-08 17:47:18,240]\u001b[0m Trial 48 finished with value: 0.7742631200575126 and parameters: {'alpha': 0.000296642522827169}. Best is trial 5 with value: 0.7749820273184759.\u001b[0m\n",
            "\u001b[32m[I 2023-04-08 17:47:18,262]\u001b[0m Trial 49 finished with value: 0.7462257368799425 and parameters: {'alpha': 906.9296316444281}. Best is trial 5 with value: 0.7749820273184759.\u001b[0m\n",
            "\u001b[32m[I 2023-04-08 17:47:18,293]\u001b[0m Trial 50 finished with value: 0.7735442127965493 and parameters: {'alpha': 1.8023681956878688}. Best is trial 5 with value: 0.7749820273184759.\u001b[0m\n",
            "\u001b[32m[I 2023-04-08 17:47:18,316]\u001b[0m Trial 51 finished with value: 0.7749820273184759 and parameters: {'alpha': 0.1377923409264952}. Best is trial 5 with value: 0.7749820273184759.\u001b[0m\n",
            "\u001b[32m[I 2023-04-08 17:47:18,358]\u001b[0m Trial 52 finished with value: 0.7749820273184759 and parameters: {'alpha': 0.44009922727861817}. Best is trial 5 with value: 0.7749820273184759.\u001b[0m\n",
            "\u001b[32m[I 2023-04-08 17:47:18,394]\u001b[0m Trial 53 finished with value: 0.7749820273184759 and parameters: {'alpha': 0.02377182753750853}. Best is trial 5 with value: 0.7749820273184759.\u001b[0m\n",
            "\u001b[32m[I 2023-04-08 17:47:18,430]\u001b[0m Trial 54 finished with value: 0.7620416966211359 and parameters: {'alpha': 33.87953007532085}. Best is trial 5 with value: 0.7749820273184759.\u001b[0m\n",
            "\u001b[32m[I 2023-04-08 17:47:18,462]\u001b[0m Trial 55 finished with value: 0.7742631200575126 and parameters: {'alpha': 0.010836605219467497}. Best is trial 5 with value: 0.7749820273184759.\u001b[0m\n",
            "\u001b[32m[I 2023-04-08 17:47:18,502]\u001b[0m Trial 56 finished with value: 0.7713874910136592 and parameters: {'alpha': 2.744645490119838}. Best is trial 5 with value: 0.7749820273184759.\u001b[0m\n",
            "\u001b[32m[I 2023-04-08 17:47:18,535]\u001b[0m Trial 57 finished with value: 0.7749820273184759 and parameters: {'alpha': 0.2886543487955891}. Best is trial 5 with value: 0.7749820273184759.\u001b[0m\n",
            "\u001b[32m[I 2023-04-08 17:47:18,575]\u001b[0m Trial 58 finished with value: 0.7742631200575126 and parameters: {'alpha': 0.0005410346017112263}. Best is trial 5 with value: 0.7749820273184759.\u001b[0m\n",
            "\u001b[32m[I 2023-04-08 17:47:18,614]\u001b[0m Trial 59 finished with value: 0.7541337167505392 and parameters: {'alpha': 122.57624485114846}. Best is trial 5 with value: 0.7749820273184759.\u001b[0m\n",
            "\u001b[32m[I 2023-04-08 17:47:18,646]\u001b[0m Trial 60 finished with value: 0.7742631200575126 and parameters: {'alpha': 0.003811236460501631}. Best is trial 5 with value: 0.7749820273184759.\u001b[0m\n",
            "\u001b[32m[I 2023-04-08 17:47:18,671]\u001b[0m Trial 61 finished with value: 0.7749820273184759 and parameters: {'alpha': 0.35790859083810883}. Best is trial 5 with value: 0.7749820273184759.\u001b[0m\n",
            "\u001b[32m[I 2023-04-08 17:47:18,694]\u001b[0m Trial 62 finished with value: 0.7749820273184759 and parameters: {'alpha': 0.05718863344748486}. Best is trial 5 with value: 0.7749820273184759.\u001b[0m\n",
            "\u001b[32m[I 2023-04-08 17:47:18,717]\u001b[0m Trial 63 finished with value: 0.7721063982746226 and parameters: {'alpha': 3.8134276280681068}. Best is trial 5 with value: 0.7749820273184759.\u001b[0m\n",
            "\u001b[32m[I 2023-04-08 17:47:18,747]\u001b[0m Trial 64 finished with value: 0.7749820273184759 and parameters: {'alpha': 0.4585569927772381}. Best is trial 5 with value: 0.7749820273184759.\u001b[0m\n",
            "\u001b[32m[I 2023-04-08 17:47:18,769]\u001b[0m Trial 65 finished with value: 0.7749820273184759 and parameters: {'alpha': 0.03201848800810976}. Best is trial 5 with value: 0.7749820273184759.\u001b[0m\n",
            "\u001b[32m[I 2023-04-08 17:47:18,805]\u001b[0m Trial 66 finished with value: 0.7742631200575126 and parameters: {'alpha': 0.008899387460795044}. Best is trial 5 with value: 0.7749820273184759.\u001b[0m\n",
            "\u001b[32m[I 2023-04-08 17:47:18,842]\u001b[0m Trial 67 finished with value: 0.7699496764917325 and parameters: {'alpha': 9.937401218503714}. Best is trial 5 with value: 0.7749820273184759.\u001b[0m\n",
            "\u001b[32m[I 2023-04-08 17:47:18,882]\u001b[0m Trial 68 finished with value: 0.7749820273184759 and parameters: {'alpha': 0.13066737396430886}. Best is trial 5 with value: 0.7749820273184759.\u001b[0m\n",
            "\u001b[32m[I 2023-04-08 17:47:18,920]\u001b[0m Trial 69 finished with value: 0.7749820273184759 and parameters: {'alpha': 1.278028277907246}. Best is trial 5 with value: 0.7749820273184759.\u001b[0m\n",
            "\u001b[32m[I 2023-04-08 17:47:18,956]\u001b[0m Trial 70 finished with value: 0.7742631200575126 and parameters: {'alpha': 0.013799806354477754}. Best is trial 5 with value: 0.7749820273184759.\u001b[0m\n",
            "\u001b[32m[I 2023-04-08 17:47:18,984]\u001b[0m Trial 71 finished with value: 0.7749820273184759 and parameters: {'alpha': 0.04684610029703653}. Best is trial 5 with value: 0.7749820273184759.\u001b[0m\n",
            "\u001b[32m[I 2023-04-08 17:47:19,023]\u001b[0m Trial 72 finished with value: 0.7742631200575126 and parameters: {'alpha': 0.002306345955496617}. Best is trial 5 with value: 0.7749820273184759.\u001b[0m\n",
            "\u001b[32m[I 2023-04-08 17:47:19,060]\u001b[0m Trial 73 finished with value: 0.7749820273184759 and parameters: {'alpha': 1.0023861985262839}. Best is trial 5 with value: 0.7749820273184759.\u001b[0m\n",
            "\u001b[32m[I 2023-04-08 17:47:19,091]\u001b[0m Trial 74 finished with value: 0.7749820273184759 and parameters: {'alpha': 0.08150799494697995}. Best is trial 5 with value: 0.7749820273184759.\u001b[0m\n",
            "\u001b[32m[I 2023-04-08 17:47:19,124]\u001b[0m Trial 75 finished with value: 0.7749820273184759 and parameters: {'alpha': 0.2924784462466904}. Best is trial 5 with value: 0.7749820273184759.\u001b[0m\n",
            "\u001b[32m[I 2023-04-08 17:47:19,158]\u001b[0m Trial 76 finished with value: 0.7735442127965493 and parameters: {'alpha': 4.861332186471481}. Best is trial 5 with value: 0.7749820273184759.\u001b[0m\n",
            "\u001b[32m[I 2023-04-08 17:47:19,190]\u001b[0m Trial 77 finished with value: 0.7742631200575126 and parameters: {'alpha': 0.0009544053562429194}. Best is trial 5 with value: 0.7749820273184759.\u001b[0m\n",
            "\u001b[32m[I 2023-04-08 17:47:19,221]\u001b[0m Trial 78 finished with value: 0.7749820273184759 and parameters: {'alpha': 0.02820564797777285}. Best is trial 5 with value: 0.7749820273184759.\u001b[0m\n",
            "\u001b[32m[I 2023-04-08 17:47:19,255]\u001b[0m Trial 79 finished with value: 0.7742631200575126 and parameters: {'alpha': 0.005533720596689337}. Best is trial 5 with value: 0.7749820273184759.\u001b[0m\n",
            "\u001b[32m[I 2023-04-08 17:47:19,287]\u001b[0m Trial 80 finished with value: 0.7742631200575126 and parameters: {'alpha': 0.00011093468851301561}. Best is trial 5 with value: 0.7749820273184759.\u001b[0m\n",
            "\u001b[32m[I 2023-04-08 17:47:19,321]\u001b[0m Trial 81 finished with value: 0.7749820273184759 and parameters: {'alpha': 1.5159615680084078}. Best is trial 5 with value: 0.7749820273184759.\u001b[0m\n",
            "\u001b[32m[I 2023-04-08 17:47:19,355]\u001b[0m Trial 82 finished with value: 0.7749820273184759 and parameters: {'alpha': 0.6063586740261567}. Best is trial 5 with value: 0.7749820273184759.\u001b[0m\n",
            "\u001b[32m[I 2023-04-08 17:47:19,390]\u001b[0m Trial 83 finished with value: 0.7749820273184759 and parameters: {'alpha': 0.1365382556554139}. Best is trial 5 with value: 0.7749820273184759.\u001b[0m\n",
            "\u001b[32m[I 2023-04-08 17:47:19,424]\u001b[0m Trial 84 finished with value: 0.7692307692307693 and parameters: {'alpha': 12.839281602418046}. Best is trial 5 with value: 0.7749820273184759.\u001b[0m\n",
            "\u001b[32m[I 2023-04-08 17:47:19,456]\u001b[0m Trial 85 finished with value: 0.7749820273184759 and parameters: {'alpha': 0.023620284354015836}. Best is trial 5 with value: 0.7749820273184759.\u001b[0m\n",
            "\u001b[32m[I 2023-04-08 17:47:19,489]\u001b[0m Trial 86 finished with value: 0.7742631200575126 and parameters: {'alpha': 0.9277506608757908}. Best is trial 5 with value: 0.7749820273184759.\u001b[0m\n",
            "\u001b[32m[I 2023-04-08 17:47:19,523]\u001b[0m Trial 87 finished with value: 0.7598849748382459 and parameters: {'alpha': 51.08347462986207}. Best is trial 5 with value: 0.7749820273184759.\u001b[0m\n",
            "\u001b[32m[I 2023-04-08 17:47:19,556]\u001b[0m Trial 88 finished with value: 0.7713874910136592 and parameters: {'alpha': 2.8443307640709645}. Best is trial 5 with value: 0.7749820273184759.\u001b[0m\n",
            "\u001b[32m[I 2023-04-08 17:47:19,589]\u001b[0m Trial 89 finished with value: 0.7749820273184759 and parameters: {'alpha': 0.1603910261968258}. Best is trial 5 with value: 0.7749820273184759.\u001b[0m\n",
            "\u001b[32m[I 2023-04-08 17:47:19,623]\u001b[0m Trial 90 finished with value: 0.7742631200575126 and parameters: {'alpha': 0.0018450266778832337}. Best is trial 5 with value: 0.7749820273184759.\u001b[0m\n",
            "\u001b[32m[I 2023-04-08 17:47:19,660]\u001b[0m Trial 91 finished with value: 0.7749820273184759 and parameters: {'alpha': 0.06218646991011316}. Best is trial 5 with value: 0.7749820273184759.\u001b[0m\n",
            "\u001b[32m[I 2023-04-08 17:47:19,695]\u001b[0m Trial 92 finished with value: 0.7742631200575126 and parameters: {'alpha': 0.00694877244466998}. Best is trial 5 with value: 0.7749820273184759.\u001b[0m\n",
            "\u001b[32m[I 2023-04-08 17:47:19,733]\u001b[0m Trial 93 finished with value: 0.7749820273184759 and parameters: {'alpha': 0.20735974374819519}. Best is trial 5 with value: 0.7749820273184759.\u001b[0m\n",
            "\u001b[32m[I 2023-04-08 17:47:19,770]\u001b[0m Trial 94 finished with value: 0.7749820273184759 and parameters: {'alpha': 0.02213189946865316}. Best is trial 5 with value: 0.7749820273184759.\u001b[0m\n",
            "\u001b[32m[I 2023-04-08 17:47:19,808]\u001b[0m Trial 95 finished with value: 0.7749820273184759 and parameters: {'alpha': 0.6341637948606511}. Best is trial 5 with value: 0.7749820273184759.\u001b[0m\n",
            "\u001b[32m[I 2023-04-08 17:47:19,849]\u001b[0m Trial 96 finished with value: 0.7713874910136592 and parameters: {'alpha': 7.011482614371696}. Best is trial 5 with value: 0.7749820273184759.\u001b[0m\n",
            "\u001b[32m[I 2023-04-08 17:47:19,888]\u001b[0m Trial 97 finished with value: 0.7749820273184759 and parameters: {'alpha': 0.056775112419318916}. Best is trial 5 with value: 0.7749820273184759.\u001b[0m\n",
            "\u001b[32m[I 2023-04-08 17:47:19,931]\u001b[0m Trial 98 finished with value: 0.7728253055355859 and parameters: {'alpha': 2.3237530206980455}. Best is trial 5 with value: 0.7749820273184759.\u001b[0m\n",
            "\u001b[32m[I 2023-04-08 17:47:19,967]\u001b[0m Trial 99 finished with value: 0.7749820273184759 and parameters: {'alpha': 0.2811902740786286}. Best is trial 5 with value: 0.7749820273184759.\u001b[0m\n"
          ]
        },
        {
          "output_type": "stream",
          "name": "stdout",
          "text": [
            "\n",
            "==============================================\n",
            "Number of finished trials: 100\n",
            "Best trial:\n",
            "Value: 0.7749820273184759\n",
            "  Params: \n",
            "    alpha: 0.21896434524500266\n",
            "==============================================\n",
            "\n",
            "Accuracy after tuning: 76.19321449108683%\n",
            "\n",
            "Classification report\n",
            "              precision    recall  f1-score   support\n",
            "\n",
            "       False       0.76      0.76      0.76       861\n",
            "        True       0.77      0.76      0.76       878\n",
            "\n",
            "    accuracy                           0.76      1739\n",
            "   macro avg       0.76      0.76      0.76      1739\n",
            "weighted avg       0.76      0.76      0.76      1739\n",
            "\n",
            "\n",
            "Confusion matrix\n",
            "[[658 203]\n",
            " [211 667]]\n",
            "==============================================\n",
            "\n",
            "All features number: 14, Selected features number: 8\n",
            "Selected_features:\n",
            "\n",
            "HomePlanet_transformed\n",
            "Destination_transformed\n",
            "VIP_transformed\n",
            "Cabin_side_transformed\n",
            "Cabin_num/100_transformed\n",
            "RService_deciles_transformed\n",
            "Spa_deciles_transformed\n",
            "VRD_deciles_transformed\n"
          ]
        }
      ]
    },
    {
      "cell_type": "code",
      "source": [
        "X_train, X_val, X_test, y_train, y_val, y_test = get_subsets(df_looe)\n",
        "params = model_optimization(100, objective)\n",
        "model = RidgeClassifier(alpha=params['alpha'])\n",
        "result_looe_tuned = test_tuned_model(model, X_train, y_train, X_test, y_test)"
      ],
      "metadata": {
        "colab": {
          "base_uri": "https://localhost:8080/"
        },
        "id": "guCNo3j-SJ2-",
        "outputId": "d88674f2-56ad-44c9-b627-003eed480738"
      },
      "execution_count": null,
      "outputs": [
        {
          "output_type": "stream",
          "name": "stderr",
          "text": [
            "\u001b[32m[I 2023-04-08 17:47:20,084]\u001b[0m A new study created in memory with name: no-name-a41bf1d3-e663-4675-b272-61d3a74c53b5\u001b[0m\n",
            "\u001b[32m[I 2023-04-08 17:47:20,110]\u001b[0m Trial 0 finished with value: 0.7634795111430626 and parameters: {'alpha': 0.0006453963396363557}. Best is trial 0 with value: 0.7634795111430626.\u001b[0m\n",
            "\u001b[32m[I 2023-04-08 17:47:20,134]\u001b[0m Trial 1 finished with value: 0.4996405463695183 and parameters: {'alpha': 1692759.2160461487}. Best is trial 0 with value: 0.7634795111430626.\u001b[0m\n",
            "\u001b[32m[I 2023-04-08 17:47:20,156]\u001b[0m Trial 2 finished with value: 0.5025161754133717 and parameters: {'alpha': 57451.643054182474}. Best is trial 0 with value: 0.7634795111430626.\u001b[0m\n",
            "\u001b[32m[I 2023-04-08 17:47:20,179]\u001b[0m Trial 3 finished with value: 0.7634795111430626 and parameters: {'alpha': 2.343006152766066}. Best is trial 0 with value: 0.7634795111430626.\u001b[0m\n",
            "\u001b[32m[I 2023-04-08 17:47:20,210]\u001b[0m Trial 4 finished with value: 0.7634795111430626 and parameters: {'alpha': 0.01829172493814857}. Best is trial 0 with value: 0.7634795111430626.\u001b[0m\n",
            "\u001b[32m[I 2023-04-08 17:47:20,238]\u001b[0m Trial 5 finished with value: 0.7512580877066858 and parameters: {'alpha': 4308.626238635028}. Best is trial 0 with value: 0.7634795111430626.\u001b[0m\n",
            "\u001b[32m[I 2023-04-08 17:47:20,262]\u001b[0m Trial 6 finished with value: 0.7462257368799425 and parameters: {'alpha': 1157.4582604576754}. Best is trial 0 with value: 0.7634795111430626.\u001b[0m\n",
            "\u001b[32m[I 2023-04-08 17:47:20,285]\u001b[0m Trial 7 finished with value: 0.7634795111430626 and parameters: {'alpha': 3.608546535991361e-07}. Best is trial 0 with value: 0.7634795111430626.\u001b[0m\n",
            "\u001b[32m[I 2023-04-08 17:47:20,309]\u001b[0m Trial 8 finished with value: 0.7634795111430626 and parameters: {'alpha': 5.299332357462242}. Best is trial 0 with value: 0.7634795111430626.\u001b[0m\n",
            "\u001b[32m[I 2023-04-08 17:47:20,336]\u001b[0m Trial 9 finished with value: 0.4996405463695183 and parameters: {'alpha': 49128109.215121076}. Best is trial 0 with value: 0.7634795111430626.\u001b[0m\n",
            "\u001b[32m[I 2023-04-08 17:47:20,372]\u001b[0m Trial 10 finished with value: 0.7634795111430626 and parameters: {'alpha': 1.2577628191356962e-10}. Best is trial 0 with value: 0.7634795111430626.\u001b[0m\n",
            "\u001b[32m[I 2023-04-08 17:47:20,409]\u001b[0m Trial 11 finished with value: 0.7634795111430626 and parameters: {'alpha': 0.03475770476568912}. Best is trial 0 with value: 0.7634795111430626.\u001b[0m\n",
            "\u001b[32m[I 2023-04-08 17:47:20,443]\u001b[0m Trial 12 finished with value: 0.7634795111430626 and parameters: {'alpha': 0.00025347139748705}. Best is trial 0 with value: 0.7634795111430626.\u001b[0m\n",
            "\u001b[32m[I 2023-04-08 17:47:20,478]\u001b[0m Trial 13 finished with value: 0.7641984184040259 and parameters: {'alpha': 15.20680601153408}. Best is trial 13 with value: 0.7641984184040259.\u001b[0m\n",
            "\u001b[32m[I 2023-04-08 17:47:20,512]\u001b[0m Trial 14 finished with value: 0.4996405463695183 and parameters: {'alpha': 234096268.47614303}. Best is trial 13 with value: 0.7641984184040259.\u001b[0m\n",
            "\u001b[32m[I 2023-04-08 17:47:20,544]\u001b[0m Trial 15 finished with value: 0.4996405463695183 and parameters: {'alpha': 4512648582.779396}. Best is trial 13 with value: 0.7641984184040259.\u001b[0m\n",
            "\u001b[32m[I 2023-04-08 17:47:20,578]\u001b[0m Trial 16 finished with value: 0.7634795111430626 and parameters: {'alpha': 0.00018592652785958254}. Best is trial 13 with value: 0.7641984184040259.\u001b[0m\n",
            "\u001b[32m[I 2023-04-08 17:47:20,610]\u001b[0m Trial 17 finished with value: 0.7620416966211359 and parameters: {'alpha': 33.23718705360863}. Best is trial 13 with value: 0.7641984184040259.\u001b[0m\n",
            "\u001b[32m[I 2023-04-08 17:47:20,644]\u001b[0m Trial 18 finished with value: 0.7512580877066858 and parameters: {'alpha': 180.21871771171817}. Best is trial 13 with value: 0.7641984184040259.\u001b[0m\n",
            "\u001b[32m[I 2023-04-08 17:47:20,678]\u001b[0m Trial 19 finished with value: 0.4996405463695183 and parameters: {'alpha': 96732.13171945079}. Best is trial 13 with value: 0.7641984184040259.\u001b[0m\n",
            "\u001b[32m[I 2023-04-08 17:47:20,703]\u001b[0m Trial 20 finished with value: 0.7634795111430626 and parameters: {'alpha': 0.09657029593527072}. Best is trial 13 with value: 0.7641984184040259.\u001b[0m\n",
            "\u001b[32m[I 2023-04-08 17:47:20,730]\u001b[0m Trial 21 finished with value: 0.7641984184040259 and parameters: {'alpha': 14.78123365501967}. Best is trial 13 with value: 0.7641984184040259.\u001b[0m\n",
            "\u001b[32m[I 2023-04-08 17:47:20,750]\u001b[0m Trial 22 finished with value: 0.7627606038820992 and parameters: {'alpha': 27.80743785523031}. Best is trial 13 with value: 0.7641984184040259.\u001b[0m\n",
            "\u001b[32m[I 2023-04-08 17:47:20,769]\u001b[0m Trial 23 finished with value: 0.7634795111430626 and parameters: {'alpha': 0.3319242691519061}. Best is trial 13 with value: 0.7641984184040259.\u001b[0m\n",
            "\u001b[32m[I 2023-04-08 17:47:20,787]\u001b[0m Trial 24 finished with value: 0.7498202731847592 and parameters: {'alpha': 212.46262074516116}. Best is trial 13 with value: 0.7641984184040259.\u001b[0m\n",
            "\u001b[32m[I 2023-04-08 17:47:20,822]\u001b[0m Trial 25 finished with value: 0.7634795111430626 and parameters: {'alpha': 0.004031229784683454}. Best is trial 13 with value: 0.7641984184040259.\u001b[0m\n",
            "\u001b[32m[I 2023-04-08 17:47:20,865]\u001b[0m Trial 26 finished with value: 0.7627606038820992 and parameters: {'alpha': 0.681019177268329}. Best is trial 13 with value: 0.7641984184040259.\u001b[0m\n",
            "\u001b[32m[I 2023-04-08 17:47:20,901]\u001b[0m Trial 27 finished with value: 0.7570093457943925 and parameters: {'alpha': 10330.539843489662}. Best is trial 13 with value: 0.7641984184040259.\u001b[0m\n",
            "\u001b[32m[I 2023-04-08 17:47:20,938]\u001b[0m Trial 28 finished with value: 0.7641984184040259 and parameters: {'alpha': 16.015315668070382}. Best is trial 13 with value: 0.7641984184040259.\u001b[0m\n",
            "\u001b[32m[I 2023-04-08 17:47:20,967]\u001b[0m Trial 29 finished with value: 0.7627606038820992 and parameters: {'alpha': 20.07180129517711}. Best is trial 13 with value: 0.7641984184040259.\u001b[0m\n",
            "\u001b[32m[I 2023-04-08 17:47:20,988]\u001b[0m Trial 30 finished with value: 0.7462257368799425 and parameters: {'alpha': 526.7549229829618}. Best is trial 13 with value: 0.7641984184040259.\u001b[0m\n",
            "\u001b[32m[I 2023-04-08 17:47:21,010]\u001b[0m Trial 31 finished with value: 0.4996405463695183 and parameters: {'alpha': 336228.45921871695}. Best is trial 13 with value: 0.7641984184040259.\u001b[0m\n",
            "\u001b[32m[I 2023-04-08 17:47:21,029]\u001b[0m Trial 32 finished with value: 0.7649173256649893 and parameters: {'alpha': 3.5859437153963456}. Best is trial 32 with value: 0.7649173256649893.\u001b[0m\n",
            "\u001b[32m[I 2023-04-08 17:47:21,056]\u001b[0m Trial 33 finished with value: 0.7641984184040259 and parameters: {'alpha': 3.173661755025348}. Best is trial 32 with value: 0.7649173256649893.\u001b[0m\n",
            "\u001b[32m[I 2023-04-08 17:47:21,083]\u001b[0m Trial 34 finished with value: 0.7397555715312725 and parameters: {'alpha': 20772.742708693975}. Best is trial 32 with value: 0.7649173256649893.\u001b[0m\n",
            "\u001b[32m[I 2023-04-08 17:47:21,101]\u001b[0m Trial 35 finished with value: 0.7469446441409058 and parameters: {'alpha': 1598.1840640322287}. Best is trial 32 with value: 0.7649173256649893.\u001b[0m\n",
            "\u001b[32m[I 2023-04-08 17:47:21,121]\u001b[0m Trial 36 finished with value: 0.7634795111430626 and parameters: {'alpha': 0.4167576819851629}. Best is trial 32 with value: 0.7649173256649893.\u001b[0m\n",
            "\u001b[32m[I 2023-04-08 17:47:21,158]\u001b[0m Trial 37 finished with value: 0.7584471603163192 and parameters: {'alpha': 80.2168872465}. Best is trial 32 with value: 0.7649173256649893.\u001b[0m\n",
            "\u001b[32m[I 2023-04-08 17:47:21,197]\u001b[0m Trial 38 finished with value: 0.7627606038820992 and parameters: {'alpha': 6.5717227440314865}. Best is trial 32 with value: 0.7649173256649893.\u001b[0m\n",
            "\u001b[32m[I 2023-04-08 17:47:21,227]\u001b[0m Trial 39 finished with value: 0.7483824586628325 and parameters: {'alpha': 2781.951338121705}. Best is trial 32 with value: 0.7649173256649893.\u001b[0m\n",
            "\u001b[32m[I 2023-04-08 17:47:21,251]\u001b[0m Trial 40 finished with value: 0.7634795111430626 and parameters: {'alpha': 0.007368754926628567}. Best is trial 32 with value: 0.7649173256649893.\u001b[0m\n",
            "\u001b[32m[I 2023-04-08 17:47:21,272]\u001b[0m Trial 41 finished with value: 0.7634795111430626 and parameters: {'alpha': 1.9374550327617643}. Best is trial 32 with value: 0.7649173256649893.\u001b[0m\n",
            "\u001b[32m[I 2023-04-08 17:47:21,294]\u001b[0m Trial 42 finished with value: 0.7641984184040259 and parameters: {'alpha': 4.291002883156803}. Best is trial 32 with value: 0.7649173256649893.\u001b[0m\n",
            "\u001b[32m[I 2023-04-08 17:47:21,316]\u001b[0m Trial 43 finished with value: 0.7512580877066858 and parameters: {'alpha': 194.86022129232288}. Best is trial 32 with value: 0.7649173256649893.\u001b[0m\n",
            "\u001b[32m[I 2023-04-08 17:47:21,337]\u001b[0m Trial 44 finished with value: 0.7634795111430626 and parameters: {'alpha': 0.11199309609465005}. Best is trial 32 with value: 0.7649173256649893.\u001b[0m\n",
            "\u001b[32m[I 2023-04-08 17:47:21,361]\u001b[0m Trial 45 finished with value: 0.7634795111430626 and parameters: {'alpha': 2.405748719905141}. Best is trial 32 with value: 0.7649173256649893.\u001b[0m\n",
            "\u001b[32m[I 2023-04-08 17:47:21,390]\u001b[0m Trial 46 finished with value: 0.7462257368799425 and parameters: {'alpha': 1167.1093241374135}. Best is trial 32 with value: 0.7649173256649893.\u001b[0m\n",
            "\u001b[32m[I 2023-04-08 17:47:21,423]\u001b[0m Trial 47 finished with value: 0.7649173256649893 and parameters: {'alpha': 16.806029839976468}. Best is trial 32 with value: 0.7649173256649893.\u001b[0m\n",
            "\u001b[32m[I 2023-04-08 17:47:21,458]\u001b[0m Trial 48 finished with value: 0.7620416966211359 and parameters: {'alpha': 37.46709568660112}. Best is trial 32 with value: 0.7649173256649893.\u001b[0m\n",
            "\u001b[32m[I 2023-04-08 17:47:21,500]\u001b[0m Trial 49 finished with value: 0.7627606038820992 and parameters: {'alpha': 12969.06810568386}. Best is trial 32 with value: 0.7649173256649893.\u001b[0m\n",
            "\u001b[32m[I 2023-04-08 17:47:21,541]\u001b[0m Trial 50 finished with value: 0.7634795111430626 and parameters: {'alpha': 0.05136922218995718}. Best is trial 32 with value: 0.7649173256649893.\u001b[0m\n",
            "\u001b[32m[I 2023-04-08 17:47:21,574]\u001b[0m Trial 51 finished with value: 0.7634795111430626 and parameters: {'alpha': 10.164741000241584}. Best is trial 32 with value: 0.7649173256649893.\u001b[0m\n",
            "\u001b[32m[I 2023-04-08 17:47:21,621]\u001b[0m Trial 52 finished with value: 0.7620416966211359 and parameters: {'alpha': 1.0499833585999776}. Best is trial 32 with value: 0.7649173256649893.\u001b[0m\n",
            "\u001b[32m[I 2023-04-08 17:47:21,671]\u001b[0m Trial 53 finished with value: 0.7498202731847592 and parameters: {'alpha': 225.68504176347835}. Best is trial 32 with value: 0.7649173256649893.\u001b[0m\n",
            "\u001b[32m[I 2023-04-08 17:47:21,722]\u001b[0m Trial 54 finished with value: 0.7634795111430626 and parameters: {'alpha': 18.770844713725243}. Best is trial 32 with value: 0.7649173256649893.\u001b[0m\n",
            "\u001b[32m[I 2023-04-08 17:47:21,771]\u001b[0m Trial 55 finished with value: 0.7634795111430626 and parameters: {'alpha': 0.19908202648704762}. Best is trial 32 with value: 0.7649173256649893.\u001b[0m\n",
            "\u001b[32m[I 2023-04-08 17:47:21,820]\u001b[0m Trial 56 finished with value: 0.7641984184040259 and parameters: {'alpha': 2.962413405319716}. Best is trial 32 with value: 0.7649173256649893.\u001b[0m\n",
            "\u001b[32m[I 2023-04-08 17:47:21,888]\u001b[0m Trial 57 finished with value: 0.7555715312724659 and parameters: {'alpha': 114.08554634569592}. Best is trial 32 with value: 0.7649173256649893.\u001b[0m\n",
            "\u001b[32m[I 2023-04-08 17:47:21,937]\u001b[0m Trial 58 finished with value: 0.7634795111430626 and parameters: {'alpha': 0.02792490522922476}. Best is trial 32 with value: 0.7649173256649893.\u001b[0m\n",
            "\u001b[32m[I 2023-04-08 17:47:21,993]\u001b[0m Trial 59 finished with value: 0.7462257368799425 and parameters: {'alpha': 755.7476129984747}. Best is trial 32 with value: 0.7649173256649893.\u001b[0m\n",
            "\u001b[32m[I 2023-04-08 17:47:22,055]\u001b[0m Trial 60 finished with value: 0.7634795111430626 and parameters: {'alpha': 0.5183906576022755}. Best is trial 32 with value: 0.7649173256649893.\u001b[0m\n",
            "\u001b[32m[I 2023-04-08 17:47:22,106]\u001b[0m Trial 61 finished with value: 0.7627606038820992 and parameters: {'alpha': 7.82238996370487}. Best is trial 32 with value: 0.7649173256649893.\u001b[0m\n",
            "\u001b[32m[I 2023-04-08 17:47:22,167]\u001b[0m Trial 62 finished with value: 0.7649173256649893 and parameters: {'alpha': 3.3716264380431653}. Best is trial 32 with value: 0.7649173256649893.\u001b[0m\n",
            "\u001b[32m[I 2023-04-08 17:47:22,219]\u001b[0m Trial 63 finished with value: 0.7598849748382459 and parameters: {'alpha': 40.03133676518776}. Best is trial 32 with value: 0.7649173256649893.\u001b[0m\n",
            "\u001b[32m[I 2023-04-08 17:47:22,278]\u001b[0m Trial 64 finished with value: 0.7627606038820992 and parameters: {'alpha': 1.7892060193389692}. Best is trial 32 with value: 0.7649173256649893.\u001b[0m\n",
            "\u001b[32m[I 2023-04-08 17:47:22,320]\u001b[0m Trial 65 finished with value: 0.7570093457943925 and parameters: {'alpha': 60.38593626200087}. Best is trial 32 with value: 0.7649173256649893.\u001b[0m\n",
            "\u001b[32m[I 2023-04-08 17:47:22,365]\u001b[0m Trial 66 finished with value: 0.7634795111430626 and parameters: {'alpha': 0.23524511979123663}. Best is trial 32 with value: 0.7649173256649893.\u001b[0m\n",
            "\u001b[32m[I 2023-04-08 17:47:22,412]\u001b[0m Trial 67 finished with value: 0.7476635514018691 and parameters: {'alpha': 405.50156480386835}. Best is trial 32 with value: 0.7649173256649893.\u001b[0m\n",
            "\u001b[32m[I 2023-04-08 17:47:22,451]\u001b[0m Trial 68 finished with value: 0.7641984184040259 and parameters: {'alpha': 14.450487762390287}. Best is trial 32 with value: 0.7649173256649893.\u001b[0m\n",
            "\u001b[32m[I 2023-04-08 17:47:22,490]\u001b[0m Trial 69 finished with value: 0.7491013659237958 and parameters: {'alpha': 3690.186281485882}. Best is trial 32 with value: 0.7649173256649893.\u001b[0m\n",
            "\u001b[32m[I 2023-04-08 17:47:22,528]\u001b[0m Trial 70 finished with value: 0.7634795111430626 and parameters: {'alpha': 0.5984514514312419}. Best is trial 32 with value: 0.7649173256649893.\u001b[0m\n",
            "\u001b[32m[I 2023-04-08 17:47:22,563]\u001b[0m Trial 71 finished with value: 0.7634795111430626 and parameters: {'alpha': 2.1360098165265735}. Best is trial 32 with value: 0.7649173256649893.\u001b[0m\n",
            "\u001b[32m[I 2023-04-08 17:47:22,597]\u001b[0m Trial 72 finished with value: 0.7627606038820992 and parameters: {'alpha': 5.629527339787972}. Best is trial 32 with value: 0.7649173256649893.\u001b[0m\n",
            "\u001b[32m[I 2023-04-08 17:47:22,630]\u001b[0m Trial 73 finished with value: 0.7570093457943925 and parameters: {'alpha': 98.25953184354226}. Best is trial 32 with value: 0.7649173256649893.\u001b[0m\n",
            "\u001b[32m[I 2023-04-08 17:47:22,668]\u001b[0m Trial 74 finished with value: 0.7649173256649893 and parameters: {'alpha': 13.075966848179526}. Best is trial 32 with value: 0.7649173256649893.\u001b[0m\n",
            "\u001b[32m[I 2023-04-08 17:47:22,697]\u001b[0m Trial 75 finished with value: 0.7634795111430626 and parameters: {'alpha': 0.09735484915736776}. Best is trial 32 with value: 0.7649173256649893.\u001b[0m\n",
            "\u001b[32m[I 2023-04-08 17:47:22,720]\u001b[0m Trial 76 finished with value: 0.7476635514018691 and parameters: {'alpha': 474.69574460276624}. Best is trial 32 with value: 0.7649173256649893.\u001b[0m\n",
            "\u001b[32m[I 2023-04-08 17:47:22,754]\u001b[0m Trial 77 finished with value: 0.7641984184040259 and parameters: {'alpha': 17.970168336385825}. Best is trial 32 with value: 0.7649173256649893.\u001b[0m\n",
            "\u001b[32m[I 2023-04-08 17:47:22,793]\u001b[0m Trial 78 finished with value: 0.7634795111430626 and parameters: {'alpha': 0.015293117867770161}. Best is trial 32 with value: 0.7649173256649893.\u001b[0m\n",
            "\u001b[32m[I 2023-04-08 17:47:22,813]\u001b[0m Trial 79 finished with value: 0.7620416966211359 and parameters: {'alpha': 0.7358350505042887}. Best is trial 32 with value: 0.7649173256649893.\u001b[0m\n",
            "\u001b[32m[I 2023-04-08 17:47:22,839]\u001b[0m Trial 80 finished with value: 0.7620416966211359 and parameters: {'alpha': 37.0999120308575}. Best is trial 32 with value: 0.7649173256649893.\u001b[0m\n",
            "\u001b[32m[I 2023-04-08 17:47:22,858]\u001b[0m Trial 81 finished with value: 0.7627606038820992 and parameters: {'alpha': 6.568789813520799}. Best is trial 32 with value: 0.7649173256649893.\u001b[0m\n",
            "\u001b[32m[I 2023-04-08 17:47:22,884]\u001b[0m Trial 82 finished with value: 0.7649173256649893 and parameters: {'alpha': 4.170090098609144}. Best is trial 32 with value: 0.7649173256649893.\u001b[0m\n",
            "\u001b[32m[I 2023-04-08 17:47:22,932]\u001b[0m Trial 83 finished with value: 0.7634795111430626 and parameters: {'alpha': 1.4201746418184535}. Best is trial 32 with value: 0.7649173256649893.\u001b[0m\n",
            "\u001b[32m[I 2023-04-08 17:47:22,974]\u001b[0m Trial 84 finished with value: 0.7541337167505392 and parameters: {'alpha': 129.32119169057873}. Best is trial 32 with value: 0.7649173256649893.\u001b[0m\n",
            "\u001b[32m[I 2023-04-08 17:47:23,008]\u001b[0m Trial 85 finished with value: 0.7649173256649893 and parameters: {'alpha': 12.660984692025796}. Best is trial 32 with value: 0.7649173256649893.\u001b[0m\n",
            "\u001b[32m[I 2023-04-08 17:47:23,043]\u001b[0m Trial 86 finished with value: 0.7641984184040259 and parameters: {'alpha': 14.19331698758642}. Best is trial 32 with value: 0.7649173256649893.\u001b[0m\n",
            "\u001b[32m[I 2023-04-08 17:47:23,077]\u001b[0m Trial 87 finished with value: 0.7469446441409058 and parameters: {'alpha': 1332.0196697990546}. Best is trial 32 with value: 0.7649173256649893.\u001b[0m\n",
            "\u001b[32m[I 2023-04-08 17:47:23,112]\u001b[0m Trial 88 finished with value: 0.7634795111430626 and parameters: {'alpha': 0.2625602206920888}. Best is trial 32 with value: 0.7649173256649893.\u001b[0m\n",
            "\u001b[32m[I 2023-04-08 17:47:23,149]\u001b[0m Trial 89 finished with value: 0.7491013659237958 and parameters: {'alpha': 322.30812152435743}. Best is trial 32 with value: 0.7649173256649893.\u001b[0m\n",
            "\u001b[32m[I 2023-04-08 17:47:23,183]\u001b[0m Trial 90 finished with value: 0.7606038820992091 and parameters: {'alpha': 42.3530056509112}. Best is trial 32 with value: 0.7649173256649893.\u001b[0m\n",
            "\u001b[32m[I 2023-04-08 17:47:23,216]\u001b[0m Trial 91 finished with value: 0.7641984184040259 and parameters: {'alpha': 3.2026023736064273}. Best is trial 32 with value: 0.7649173256649893.\u001b[0m\n",
            "\u001b[32m[I 2023-04-08 17:47:23,250]\u001b[0m Trial 92 finished with value: 0.7627606038820992 and parameters: {'alpha': 7.10663653519863}. Best is trial 32 with value: 0.7649173256649893.\u001b[0m\n",
            "\u001b[32m[I 2023-04-08 17:47:23,285]\u001b[0m Trial 93 finished with value: 0.7620416966211359 and parameters: {'alpha': 0.9159604108512989}. Best is trial 32 with value: 0.7649173256649893.\u001b[0m\n",
            "\u001b[32m[I 2023-04-08 17:47:23,318]\u001b[0m Trial 94 finished with value: 0.7577282530553558 and parameters: {'alpha': 62.71258676894627}. Best is trial 32 with value: 0.7649173256649893.\u001b[0m\n",
            "\u001b[32m[I 2023-04-08 17:47:23,352]\u001b[0m Trial 95 finished with value: 0.7620416966211359 and parameters: {'alpha': 23.030215171220068}. Best is trial 32 with value: 0.7649173256649893.\u001b[0m\n",
            "\u001b[32m[I 2023-04-08 17:47:23,378]\u001b[0m Trial 96 finished with value: 0.7634795111430626 and parameters: {'alpha': 0.07321708611224967}. Best is trial 32 with value: 0.7649173256649893.\u001b[0m\n",
            "\u001b[32m[I 2023-04-08 17:47:23,410]\u001b[0m Trial 97 finished with value: 0.7641984184040259 and parameters: {'alpha': 4.270161852140721}. Best is trial 32 with value: 0.7649173256649893.\u001b[0m\n",
            "\u001b[32m[I 2023-04-08 17:47:23,441]\u001b[0m Trial 98 finished with value: 0.7548526240115025 and parameters: {'alpha': 124.75305700616615}. Best is trial 32 with value: 0.7649173256649893.\u001b[0m\n",
            "\u001b[32m[I 2023-04-08 17:47:23,469]\u001b[0m Trial 99 finished with value: 0.7634795111430626 and parameters: {'alpha': 0.4514220837131862}. Best is trial 32 with value: 0.7649173256649893.\u001b[0m\n"
          ]
        },
        {
          "output_type": "stream",
          "name": "stdout",
          "text": [
            "\n",
            "==============================================\n",
            "Number of finished trials: 100\n",
            "Best trial:\n",
            "Value: 0.7649173256649893\n",
            "  Params: \n",
            "    alpha: 3.5859437153963456\n",
            "==============================================\n",
            "\n",
            "Accuracy after tuning: 75.56066705002875%\n",
            "\n",
            "Classification report\n",
            "              precision    recall  f1-score   support\n",
            "\n",
            "       False       0.75      0.77      0.76       861\n",
            "        True       0.77      0.74      0.75       878\n",
            "\n",
            "    accuracy                           0.76      1739\n",
            "   macro avg       0.76      0.76      0.76      1739\n",
            "weighted avg       0.76      0.76      0.76      1739\n",
            "\n",
            "\n",
            "Confusion matrix\n",
            "[[662 199]\n",
            " [226 652]]\n",
            "==============================================\n",
            "\n",
            "All features number: 14, Selected features number: 7\n",
            "Selected_features:\n",
            "\n",
            "HomePlanet_transformed\n",
            "Destination_transformed\n",
            "Cabin_side_transformed\n",
            "Cabin_num/100_transformed\n",
            "RService_deciles_transformed\n",
            "Spa_deciles_transformed\n",
            "VRD_deciles_transformed\n"
          ]
        }
      ]
    },
    {
      "cell_type": "markdown",
      "source": [
        "# Save results"
      ],
      "metadata": {
        "id": "ccBv66hY8lK_"
      }
    },
    {
      "cell_type": "code",
      "source": [
        "data = []\n",
        "data.append(['RidgeClassifier', 'OHE', acc_ohe_ini, result_ohe_tuned[0], str(result_ohe_tuned[1])+\" / 90\"])\n",
        "data.append(['RidgeClassifier', 'TE', acc_te_ini, result_te_tuned[0], str(result_te_tuned[1])+\" / 14\"])\n",
        "data.append(['RidgeClassifier', 'LOOE', acc_looe_ini, result_looe_tuned[0], str(result_looe_tuned[1])+\" / 14\"])"
      ],
      "metadata": {
        "id": "oVHGR87BCb0r"
      },
      "execution_count": null,
      "outputs": []
    },
    {
      "cell_type": "code",
      "source": [
        "import csv\n",
        "from os.path import exists\n",
        "resfile = 'spaceship_results.csv'"
      ],
      "metadata": {
        "id": "vnWSj60XCdUy"
      },
      "execution_count": null,
      "outputs": []
    },
    {
      "cell_type": "code",
      "source": [
        "if exists(resfile):\n",
        "  f = open(resfile, 'a')\n",
        "  writer = csv.writer(f)\n",
        "else:\n",
        "  header = ['Model', 'Categories_encoding', 'Initial_accuracy', 'Tuned_Accuracy', 'Important_Features']\n",
        "  f = open(resfile, 'w', newline='')\n",
        "  writer = csv.writer(f)\n",
        "  writer.writerow(header)\n",
        "\n",
        "writer.writerows(data)\n",
        "f.close()"
      ],
      "metadata": {
        "id": "PcAJKiTzCDE7"
      },
      "execution_count": null,
      "outputs": []
    }
  ]
}