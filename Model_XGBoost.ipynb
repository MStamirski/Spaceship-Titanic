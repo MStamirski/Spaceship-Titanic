{
  "nbformat": 4,
  "nbformat_minor": 0,
  "metadata": {
    "colab": {
      "provenance": [],
      "toc_visible": true,
      "authorship_tag": "ABX9TyO/qiWmOxJKjzizszpXowpT",
      "include_colab_link": true
    },
    "kernelspec": {
      "name": "python3",
      "display_name": "Python 3"
    },
    "language_info": {
      "name": "python"
    },
    "gpuClass": "standard",
    "accelerator": "GPU"
  },
  "cells": [
    {
      "cell_type": "markdown",
      "metadata": {
        "id": "view-in-github",
        "colab_type": "text"
      },
      "source": [
        "<a href=\"https://colab.research.google.com/github/MStamirski/Spaceship-Titanic/blob/main/Model_XGBoost.ipynb\" target=\"_parent\"><img src=\"https://colab.research.google.com/assets/colab-badge.svg\" alt=\"Open In Colab\"/></a>"
      ]
    },
    {
      "cell_type": "markdown",
      "source": [
        "# Preparation"
      ],
      "metadata": {
        "id": "fXZ2j2_EOOGs"
      }
    },
    {
      "cell_type": "code",
      "source": [
        "from google.colab import drive\n",
        "drive.mount(\"/content/drive\")\n",
        "%cd \"/content/drive/MyDrive/Colab_Notebooks/SDA_upskill/Spaceship\""
      ],
      "metadata": {
        "colab": {
          "base_uri": "https://localhost:8080/"
        },
        "id": "Iag1nNbVX-i7",
        "outputId": "844679e8-9035-40c0-a297-5323a19bf508"
      },
      "execution_count": null,
      "outputs": [
        {
          "output_type": "stream",
          "name": "stdout",
          "text": [
            "Mounted at /content/drive\n",
            "/content/drive/MyDrive/Colab_Notebooks/SDA_upskill/Spaceship\n"
          ]
        }
      ]
    },
    {
      "cell_type": "code",
      "source": [
        "!pip install xgboost"
      ],
      "metadata": {
        "colab": {
          "base_uri": "https://localhost:8080/"
        },
        "id": "lm6gsHBX9KL7",
        "outputId": "16197883-ba36-4531-87c0-5ab6d4dd5a6c"
      },
      "execution_count": null,
      "outputs": [
        {
          "output_type": "stream",
          "name": "stdout",
          "text": [
            "Looking in indexes: https://pypi.org/simple, https://us-python.pkg.dev/colab-wheels/public/simple/\n",
            "Requirement already satisfied: xgboost in /usr/local/lib/python3.9/dist-packages (1.7.5)\n",
            "Requirement already satisfied: numpy in /usr/local/lib/python3.9/dist-packages (from xgboost) (1.22.4)\n",
            "Requirement already satisfied: scipy in /usr/local/lib/python3.9/dist-packages (from xgboost) (1.10.1)\n"
          ]
        }
      ]
    },
    {
      "cell_type": "markdown",
      "source": [
        "# Model with parameters"
      ],
      "metadata": {
        "id": "S1NuaT-4OXUT"
      }
    },
    {
      "cell_type": "code",
      "source": [
        "from xgboost import XGBClassifier\n",
        "from sklearn.metrics import accuracy_score"
      ],
      "metadata": {
        "id": "2TVsFi2W9Uma"
      },
      "execution_count": null,
      "outputs": []
    },
    {
      "cell_type": "code",
      "source": [
        "model = XGBClassifier(eval_metric='logloss')"
      ],
      "metadata": {
        "id": "WjLIgdT39bnz"
      },
      "execution_count": null,
      "outputs": []
    },
    {
      "cell_type": "code",
      "source": [
        "def objective(trial):\n",
        "\n",
        "    params = {\n",
        "        'max_depth': trial.suggest_int('max_depth', 1, 9),\n",
        "        'learning_rate': trial.suggest_float('learning_rate', 0.01, 1.0),\n",
        "        'n_estimators': trial.suggest_int('n_estimators', 50, 500),\n",
        "        'min_child_weight': trial.suggest_int('min_child_weight', 1, 10),\n",
        "        'gamma': trial.suggest_float('gamma', 1e-8, 1.0),\n",
        "        'subsample': trial.suggest_float('subsample', 0.01, 1.0),\n",
        "        'colsample_bytree': trial.suggest_float('colsample_bytree', 0.01, 1.0),\n",
        "        'reg_alpha': trial.suggest_float('reg_alpha', 1e-8, 1.0),\n",
        "        'reg_lambda': trial.suggest_float('reg_lambda', 1e-8, 1.0),\n",
        "        'eval_metric': 'logloss'\n",
        "    }\n",
        "\n",
        "    optuna_model = XGBClassifier(**params)\n",
        "    optuna_model.fit(X_train, y_train)\n",
        "\n",
        "    y_pred = optuna_model.predict(X_val)\n",
        "    accuracy = accuracy_score(y_val, y_pred)\n",
        "\n",
        "    return accuracy"
      ],
      "metadata": {
        "id": "DGywz2Vy9eJ7"
      },
      "execution_count": null,
      "outputs": []
    },
    {
      "cell_type": "markdown",
      "source": [
        "# Features datasets"
      ],
      "metadata": {
        "id": "uikVcl7mOnNz"
      }
    },
    {
      "cell_type": "code",
      "source": [
        "!pip install import-ipynb"
      ],
      "metadata": {
        "colab": {
          "base_uri": "https://localhost:8080/"
        },
        "id": "mV0iITmRYA_r",
        "outputId": "00aabaa0-2252-4665-978a-dbcb803fc32f"
      },
      "execution_count": null,
      "outputs": [
        {
          "output_type": "stream",
          "name": "stdout",
          "text": [
            "Looking in indexes: https://pypi.org/simple, https://us-python.pkg.dev/colab-wheels/public/simple/\n",
            "Collecting import-ipynb\n",
            "  Downloading import_ipynb-0.1.4-py3-none-any.whl (4.1 kB)\n",
            "Requirement already satisfied: nbformat in /usr/local/lib/python3.9/dist-packages (from import-ipynb) (5.8.0)\n",
            "Requirement already satisfied: IPython in /usr/local/lib/python3.9/dist-packages (from import-ipynb) (7.34.0)\n",
            "Requirement already satisfied: setuptools>=18.5 in /usr/local/lib/python3.9/dist-packages (from IPython->import-ipynb) (67.6.1)\n",
            "Requirement already satisfied: prompt-toolkit!=3.0.0,!=3.0.1,<3.1.0,>=2.0.0 in /usr/local/lib/python3.9/dist-packages (from IPython->import-ipynb) (3.0.38)\n",
            "Requirement already satisfied: traitlets>=4.2 in /usr/local/lib/python3.9/dist-packages (from IPython->import-ipynb) (5.7.1)\n",
            "Requirement already satisfied: backcall in /usr/local/lib/python3.9/dist-packages (from IPython->import-ipynb) (0.2.0)\n",
            "Requirement already satisfied: pygments in /usr/local/lib/python3.9/dist-packages (from IPython->import-ipynb) (2.14.0)\n",
            "Requirement already satisfied: matplotlib-inline in /usr/local/lib/python3.9/dist-packages (from IPython->import-ipynb) (0.1.6)\n",
            "Collecting jedi>=0.16\n",
            "  Downloading jedi-0.18.2-py2.py3-none-any.whl (1.6 MB)\n",
            "\u001b[2K     \u001b[90m━━━━━━━━━━━━━━━━━━━━━━━━━━━━━━━━━━━━━━━━\u001b[0m \u001b[32m1.6/1.6 MB\u001b[0m \u001b[31m18.9 MB/s\u001b[0m eta \u001b[36m0:00:00\u001b[0m\n",
            "\u001b[?25hRequirement already satisfied: decorator in /usr/local/lib/python3.9/dist-packages (from IPython->import-ipynb) (4.4.2)\n",
            "Requirement already satisfied: pickleshare in /usr/local/lib/python3.9/dist-packages (from IPython->import-ipynb) (0.7.5)\n",
            "Requirement already satisfied: pexpect>4.3 in /usr/local/lib/python3.9/dist-packages (from IPython->import-ipynb) (4.8.0)\n",
            "Requirement already satisfied: jupyter-core in /usr/local/lib/python3.9/dist-packages (from nbformat->import-ipynb) (5.3.0)\n",
            "Requirement already satisfied: jsonschema>=2.6 in /usr/local/lib/python3.9/dist-packages (from nbformat->import-ipynb) (4.3.3)\n",
            "Requirement already satisfied: fastjsonschema in /usr/local/lib/python3.9/dist-packages (from nbformat->import-ipynb) (2.16.3)\n",
            "Requirement already satisfied: parso<0.9.0,>=0.8.0 in /usr/local/lib/python3.9/dist-packages (from jedi>=0.16->IPython->import-ipynb) (0.8.3)\n",
            "Requirement already satisfied: attrs>=17.4.0 in /usr/local/lib/python3.9/dist-packages (from jsonschema>=2.6->nbformat->import-ipynb) (22.2.0)\n",
            "Requirement already satisfied: pyrsistent!=0.17.0,!=0.17.1,!=0.17.2,>=0.14.0 in /usr/local/lib/python3.9/dist-packages (from jsonschema>=2.6->nbformat->import-ipynb) (0.19.3)\n",
            "Requirement already satisfied: ptyprocess>=0.5 in /usr/local/lib/python3.9/dist-packages (from pexpect>4.3->IPython->import-ipynb) (0.7.0)\n",
            "Requirement already satisfied: wcwidth in /usr/local/lib/python3.9/dist-packages (from prompt-toolkit!=3.0.0,!=3.0.1,<3.1.0,>=2.0.0->IPython->import-ipynb) (0.2.6)\n",
            "Requirement already satisfied: platformdirs>=2.5 in /usr/local/lib/python3.9/dist-packages (from jupyter-core->nbformat->import-ipynb) (3.2.0)\n",
            "Installing collected packages: jedi, import-ipynb\n",
            "Successfully installed import-ipynb-0.1.4 jedi-0.18.2\n"
          ]
        }
      ]
    },
    {
      "cell_type": "code",
      "source": [
        "import import_ipynb"
      ],
      "metadata": {
        "id": "NVkS0sr-W2B8"
      },
      "execution_count": null,
      "outputs": []
    },
    {
      "cell_type": "code",
      "source": [
        "from FeaturesEngineering import get_features, categories_one_hot_encoding, categories_target_encoding, categories_leave_one_out_encoding"
      ],
      "metadata": {
        "colab": {
          "base_uri": "https://localhost:8080/"
        },
        "id": "QTP0FMcj8kZT",
        "outputId": "c5bbba59-5cb5-45d6-8316-409307173d8f"
      },
      "execution_count": null,
      "outputs": [
        {
          "output_type": "stream",
          "name": "stdout",
          "text": [
            "importing Jupyter notebook from FeaturesEngineering.ipynb\n",
            "Looking in indexes: https://pypi.org/simple, https://us-python.pkg.dev/colab-wheels/public/simple/\n",
            "Collecting category_encoders\n",
            "  Downloading category_encoders-2.6.0-py2.py3-none-any.whl (81 kB)\n",
            "\u001b[2K     \u001b[90m━━━━━━━━━━━━━━━━━━━━━━━━━━━━━━━━━━━━━━━━\u001b[0m \u001b[32m81.2/81.2 KB\u001b[0m \u001b[31m3.4 MB/s\u001b[0m eta \u001b[36m0:00:00\u001b[0m\n",
            "\u001b[?25hRequirement already satisfied: scikit-learn>=0.20.0 in /usr/local/lib/python3.9/dist-packages (from category_encoders) (1.2.2)\n",
            "Requirement already satisfied: scipy>=1.0.0 in /usr/local/lib/python3.9/dist-packages (from category_encoders) (1.10.1)\n",
            "Requirement already satisfied: statsmodels>=0.9.0 in /usr/local/lib/python3.9/dist-packages (from category_encoders) (0.13.5)\n",
            "Requirement already satisfied: pandas>=1.0.5 in /usr/local/lib/python3.9/dist-packages (from category_encoders) (1.4.4)\n",
            "Requirement already satisfied: patsy>=0.5.1 in /usr/local/lib/python3.9/dist-packages (from category_encoders) (0.5.3)\n",
            "Requirement already satisfied: numpy>=1.14.0 in /usr/local/lib/python3.9/dist-packages (from category_encoders) (1.22.4)\n",
            "Requirement already satisfied: python-dateutil>=2.8.1 in /usr/local/lib/python3.9/dist-packages (from pandas>=1.0.5->category_encoders) (2.8.2)\n",
            "Requirement already satisfied: pytz>=2020.1 in /usr/local/lib/python3.9/dist-packages (from pandas>=1.0.5->category_encoders) (2022.7.1)\n",
            "Requirement already satisfied: six in /usr/local/lib/python3.9/dist-packages (from patsy>=0.5.1->category_encoders) (1.16.0)\n",
            "Requirement already satisfied: threadpoolctl>=2.0.0 in /usr/local/lib/python3.9/dist-packages (from scikit-learn>=0.20.0->category_encoders) (3.1.0)\n",
            "Requirement already satisfied: joblib>=1.1.1 in /usr/local/lib/python3.9/dist-packages (from scikit-learn>=0.20.0->category_encoders) (1.1.1)\n",
            "Requirement already satisfied: packaging>=21.3 in /usr/local/lib/python3.9/dist-packages (from statsmodels>=0.9.0->category_encoders) (23.0)\n",
            "Installing collected packages: category_encoders\n",
            "Successfully installed category_encoders-2.6.0\n"
          ]
        }
      ]
    },
    {
      "cell_type": "code",
      "source": [
        "df = get_features('train')\n",
        "df_ohe = categories_one_hot_encoding(df)\n",
        "df_te = categories_target_encoding(df)\n",
        "df_looe = categories_leave_one_out_encoding(df)"
      ],
      "metadata": {
        "id": "d0bCa6RVbJoX"
      },
      "execution_count": null,
      "outputs": []
    },
    {
      "cell_type": "markdown",
      "source": [
        "# Initial verification"
      ],
      "metadata": {
        "id": "h3H9fFXgOuOj"
      }
    },
    {
      "cell_type": "code",
      "source": [
        "from Optimization import verify_feature_dataset, get_subsets, model_optimization, test_tuned_model"
      ],
      "metadata": {
        "colab": {
          "base_uri": "https://localhost:8080/"
        },
        "id": "djmNjVOt9oor",
        "outputId": "6a30071e-5006-4083-dc26-6de42729969a"
      },
      "execution_count": null,
      "outputs": [
        {
          "output_type": "stream",
          "name": "stdout",
          "text": [
            "importing Jupyter notebook from Optimization.ipynb\n",
            "Looking in indexes: https://pypi.org/simple, https://us-python.pkg.dev/colab-wheels/public/simple/\n",
            "Collecting optuna\n",
            "  Downloading optuna-3.1.1-py3-none-any.whl (365 kB)\n",
            "\u001b[2K     \u001b[90m━━━━━━━━━━━━━━━━━━━━━━━━━━━━━━━━━━━━━━━\u001b[0m \u001b[32m365.7/365.7 KB\u001b[0m \u001b[31m7.4 MB/s\u001b[0m eta \u001b[36m0:00:00\u001b[0m\n",
            "\u001b[?25hRequirement already satisfied: tqdm in /usr/local/lib/python3.9/dist-packages (from optuna) (4.65.0)\n",
            "Requirement already satisfied: numpy in /usr/local/lib/python3.9/dist-packages (from optuna) (1.22.4)\n",
            "Requirement already satisfied: sqlalchemy>=1.3.0 in /usr/local/lib/python3.9/dist-packages (from optuna) (1.4.47)\n",
            "Collecting cmaes>=0.9.1\n",
            "  Downloading cmaes-0.9.1-py3-none-any.whl (21 kB)\n",
            "Requirement already satisfied: packaging>=20.0 in /usr/local/lib/python3.9/dist-packages (from optuna) (23.0)\n",
            "Requirement already satisfied: PyYAML in /usr/local/lib/python3.9/dist-packages (from optuna) (6.0)\n",
            "Collecting colorlog\n",
            "  Downloading colorlog-6.7.0-py2.py3-none-any.whl (11 kB)\n",
            "Collecting alembic>=1.5.0\n",
            "  Downloading alembic-1.10.3-py3-none-any.whl (212 kB)\n",
            "\u001b[2K     \u001b[90m━━━━━━━━━━━━━━━━━━━━━━━━━━━━━━━━━━━━━━\u001b[0m \u001b[32m212.3/212.3 KB\u001b[0m \u001b[31m13.4 MB/s\u001b[0m eta \u001b[36m0:00:00\u001b[0m\n",
            "\u001b[?25hCollecting Mako\n",
            "  Downloading Mako-1.2.4-py3-none-any.whl (78 kB)\n",
            "\u001b[2K     \u001b[90m━━━━━━━━━━━━━━━━━━━━━━━━━━━━━━━━━━━━━━━━\u001b[0m \u001b[32m78.7/78.7 KB\u001b[0m \u001b[31m11.2 MB/s\u001b[0m eta \u001b[36m0:00:00\u001b[0m\n",
            "\u001b[?25hRequirement already satisfied: typing-extensions>=4 in /usr/local/lib/python3.9/dist-packages (from alembic>=1.5.0->optuna) (4.5.0)\n",
            "Requirement already satisfied: greenlet!=0.4.17 in /usr/local/lib/python3.9/dist-packages (from sqlalchemy>=1.3.0->optuna) (2.0.2)\n",
            "Requirement already satisfied: MarkupSafe>=0.9.2 in /usr/local/lib/python3.9/dist-packages (from Mako->alembic>=1.5.0->optuna) (2.1.2)\n",
            "Installing collected packages: Mako, colorlog, cmaes, alembic, optuna\n",
            "Successfully installed Mako-1.2.4 alembic-1.10.3 cmaes-0.9.1 colorlog-6.7.0 optuna-3.1.1\n"
          ]
        }
      ]
    },
    {
      "cell_type": "code",
      "source": [
        "acc_ohe_ini = verify_feature_dataset(df_ohe, model)"
      ],
      "metadata": {
        "colab": {
          "base_uri": "https://localhost:8080/"
        },
        "id": "pVj-AfkSmkqv",
        "outputId": "493d1bc1-6f0f-47dd-d610-21229ba80a90"
      },
      "execution_count": null,
      "outputs": [
        {
          "output_type": "stream",
          "name": "stdout",
          "text": [
            "Accuracy: 78.02914110429448%\n"
          ]
        }
      ]
    },
    {
      "cell_type": "code",
      "source": [
        "acc_te_ini = verify_feature_dataset(df_te, model)"
      ],
      "metadata": {
        "colab": {
          "base_uri": "https://localhost:8080/"
        },
        "id": "4OXZFQd4mtIH",
        "outputId": "5ef1e105-0ebb-4868-c62c-07203a363f0a"
      },
      "execution_count": null,
      "outputs": [
        {
          "output_type": "stream",
          "name": "stdout",
          "text": [
            "Accuracy: 76.95552147239265%\n"
          ]
        }
      ]
    },
    {
      "cell_type": "code",
      "source": [
        "acc_looe_ini = verify_feature_dataset(df_looe, model)"
      ],
      "metadata": {
        "colab": {
          "base_uri": "https://localhost:8080/"
        },
        "id": "kE1tf0yqmweP",
        "outputId": "a195482e-201b-4e24-afeb-3c49031ca84b"
      },
      "execution_count": null,
      "outputs": [
        {
          "output_type": "stream",
          "name": "stdout",
          "text": [
            "Accuracy: 76.61042944785275%\n"
          ]
        }
      ]
    },
    {
      "cell_type": "markdown",
      "source": [
        "# Parameters tuning"
      ],
      "metadata": {
        "id": "5Kwn4oYYO8c0"
      }
    },
    {
      "cell_type": "code",
      "source": [
        "X_train, X_val, X_test, y_train, y_val, y_test = get_subsets(df_ohe)\n",
        "params = model_optimization(20, objective)\n",
        "model = XGBClassifier(**params)\n",
        "result_ohe_tuned = test_tuned_model(model, X_train, y_train, X_test, y_test)"
      ],
      "metadata": {
        "id": "wg4cmVW72h3X",
        "colab": {
          "base_uri": "https://localhost:8080/"
        },
        "outputId": "52a5dc3f-604e-4c40-82b8-be885ee5e595"
      },
      "execution_count": null,
      "outputs": [
        {
          "output_type": "stream",
          "name": "stderr",
          "text": [
            "\u001b[32m[I 2023-04-08 19:37:08,217]\u001b[0m A new study created in memory with name: no-name-b3d9cf16-a422-4829-9479-7a51337b006e\u001b[0m\n",
            "\u001b[32m[I 2023-04-08 19:37:12,996]\u001b[0m Trial 0 finished with value: 0.7821710999281093 and parameters: {'max_depth': 2, 'learning_rate': 0.8905989968335102, 'n_estimators': 462, 'min_child_weight': 4, 'gamma': 0.3162337168034115, 'subsample': 0.7858586596439272, 'colsample_bytree': 0.4012179959089981, 'reg_alpha': 0.9607783331972649, 'reg_lambda': 0.04585906047982418}. Best is trial 0 with value: 0.7821710999281093.\u001b[0m\n",
            "\u001b[32m[I 2023-04-08 19:37:25,205]\u001b[0m Trial 1 finished with value: 0.790079079798706 and parameters: {'max_depth': 5, 'learning_rate': 0.14929453888229932, 'n_estimators': 440, 'min_child_weight': 8, 'gamma': 0.007467049642029866, 'subsample': 0.9866137308282651, 'colsample_bytree': 0.8990280546355041, 'reg_alpha': 0.1630704647484143, 'reg_lambda': 0.3224200367213509}. Best is trial 1 with value: 0.790079079798706.\u001b[0m\n",
            "\u001b[32m[I 2023-04-08 19:37:30,106]\u001b[0m Trial 2 finished with value: 0.790079079798706 and parameters: {'max_depth': 4, 'learning_rate': 0.8065910670723048, 'n_estimators': 271, 'min_child_weight': 9, 'gamma': 0.7863553445503094, 'subsample': 0.7643967248614216, 'colsample_bytree': 0.5608859207240464, 'reg_alpha': 0.3003998304727717, 'reg_lambda': 0.9072740318415962}. Best is trial 1 with value: 0.790079079798706.\u001b[0m\n",
            "\u001b[32m[I 2023-04-08 19:37:31,668]\u001b[0m Trial 3 finished with value: 0.7936736161035226 and parameters: {'max_depth': 6, 'learning_rate': 0.4265001490241056, 'n_estimators': 80, 'min_child_weight': 4, 'gamma': 0.1463645186073486, 'subsample': 0.5477724342844648, 'colsample_bytree': 0.955768377459007, 'reg_alpha': 0.9867563907848348, 'reg_lambda': 0.5033516344738105}. Best is trial 3 with value: 0.7936736161035226.\u001b[0m\n",
            "\u001b[32m[I 2023-04-08 19:37:32,609]\u001b[0m Trial 4 finished with value: 0.7778576563623293 and parameters: {'max_depth': 8, 'learning_rate': 0.2946025361925741, 'n_estimators': 218, 'min_child_weight': 1, 'gamma': 0.08681818187165098, 'subsample': 0.12671665643651825, 'colsample_bytree': 0.13352728322606194, 'reg_alpha': 0.5026511213775571, 'reg_lambda': 0.7254632318811282}. Best is trial 3 with value: 0.7936736161035226.\u001b[0m\n",
            "\u001b[32m[I 2023-04-08 19:37:33,751]\u001b[0m Trial 5 finished with value: 0.7455068296189792 and parameters: {'max_depth': 9, 'learning_rate': 0.49418745955706556, 'n_estimators': 261, 'min_child_weight': 10, 'gamma': 0.31919399531793424, 'subsample': 0.07153510991534341, 'colsample_bytree': 0.5330612519420735, 'reg_alpha': 0.46279087647051304, 'reg_lambda': 0.16413131152456562}. Best is trial 3 with value: 0.7936736161035226.\u001b[0m\n",
            "\u001b[32m[I 2023-04-08 19:37:34,672]\u001b[0m Trial 6 finished with value: 0.7289719626168224 and parameters: {'max_depth': 8, 'learning_rate': 0.9372393559370015, 'n_estimators': 254, 'min_child_weight': 10, 'gamma': 0.1485480488229824, 'subsample': 0.044542434403840016, 'colsample_bytree': 0.5959672284498073, 'reg_alpha': 0.5883713243633327, 'reg_lambda': 0.8452297191853284}. Best is trial 3 with value: 0.7936736161035226.\u001b[0m\n",
            "\u001b[32m[I 2023-04-08 19:37:36,027]\u001b[0m Trial 7 finished with value: 0.7713874910136592 and parameters: {'max_depth': 4, 'learning_rate': 0.334630693151709, 'n_estimators': 216, 'min_child_weight': 3, 'gamma': 0.6675050664928819, 'subsample': 0.42860605156031956, 'colsample_bytree': 0.36402962077601797, 'reg_alpha': 0.1761002787218993, 'reg_lambda': 0.48793413668255436}. Best is trial 3 with value: 0.7936736161035226.\u001b[0m\n",
            "\u001b[32m[I 2023-04-08 19:37:36,761]\u001b[0m Trial 8 finished with value: 0.7850467289719626 and parameters: {'max_depth': 7, 'learning_rate': 0.9516315507549589, 'n_estimators': 323, 'min_child_weight': 6, 'gamma': 0.9016765572456281, 'subsample': 0.8403755233739162, 'colsample_bytree': 0.042190568592124916, 'reg_alpha': 0.42307128636707114, 'reg_lambda': 0.8011004361245456}. Best is trial 3 with value: 0.7936736161035226.\u001b[0m\n",
            "\u001b[32m[I 2023-04-08 19:37:43,462]\u001b[0m Trial 9 finished with value: 0.8023005032350827 and parameters: {'max_depth': 5, 'learning_rate': 0.06097859469487954, 'n_estimators': 421, 'min_child_weight': 4, 'gamma': 0.7961187336145249, 'subsample': 0.9367138526855647, 'colsample_bytree': 0.6044714495069935, 'reg_alpha': 0.922353866016537, 'reg_lambda': 0.06299178206876144}. Best is trial 9 with value: 0.8023005032350827.\u001b[0m\n",
            "\u001b[32m[I 2023-04-08 19:37:44,741]\u001b[0m Trial 10 finished with value: 0.7699496764917325 and parameters: {'max_depth': 1, 'learning_rate': 0.02156332477557238, 'n_estimators': 388, 'min_child_weight': 6, 'gamma': 0.9709878996636019, 'subsample': 0.9783224712185717, 'colsample_bytree': 0.74352135937486, 'reg_alpha': 0.8104507818904532, 'reg_lambda': 0.0017973281305152036}. Best is trial 9 with value: 0.8023005032350827.\u001b[0m\n",
            "\u001b[32m[I 2023-04-08 19:37:46,261]\u001b[0m Trial 11 finished with value: 0.7893601725377426 and parameters: {'max_depth': 5, 'learning_rate': 0.5366251629803778, 'n_estimators': 88, 'min_child_weight': 3, 'gamma': 0.5391889441933726, 'subsample': 0.5714127896172062, 'colsample_bytree': 0.9972631569109314, 'reg_alpha': 0.9998797212783878, 'reg_lambda': 0.45546700082346603}. Best is trial 9 with value: 0.8023005032350827.\u001b[0m\n",
            "\u001b[32m[I 2023-04-08 19:37:47,179]\u001b[0m Trial 12 finished with value: 0.792235801581596 and parameters: {'max_depth': 6, 'learning_rate': 0.02157151771319272, 'n_estimators': 50, 'min_child_weight': 4, 'gamma': 0.6288325395374291, 'subsample': 0.563018274356115, 'colsample_bytree': 0.7983289660083269, 'reg_alpha': 0.7705562860046742, 'reg_lambda': 0.6071694979494678}. Best is trial 9 with value: 0.8023005032350827.\u001b[0m\n",
            "\u001b[32m[I 2023-04-08 19:37:48,207]\u001b[0m Trial 13 finished with value: 0.7994248741912293 and parameters: {'max_depth': 3, 'learning_rate': 0.2051322117096738, 'n_estimators': 136, 'min_child_weight': 1, 'gamma': 0.3902543139509369, 'subsample': 0.3364460391713367, 'colsample_bytree': 0.7464357754514237, 'reg_alpha': 0.8601121286103369, 'reg_lambda': 0.3222335164743723}. Best is trial 9 with value: 0.8023005032350827.\u001b[0m\n",
            "\u001b[32m[I 2023-04-08 19:37:49,263]\u001b[0m Trial 14 finished with value: 0.8037383177570093 and parameters: {'max_depth': 3, 'learning_rate': 0.15927399426380992, 'n_estimators': 152, 'min_child_weight': 1, 'gamma': 0.431844649328444, 'subsample': 0.30444578560788965, 'colsample_bytree': 0.7034598322013939, 'reg_alpha': 0.7406149681220455, 'reg_lambda': 0.2114194879008008}. Best is trial 14 with value: 0.8037383177570093.\u001b[0m\n",
            "\u001b[32m[I 2023-04-08 19:37:51,482]\u001b[0m Trial 15 finished with value: 0.7936736161035226 and parameters: {'max_depth': 3, 'learning_rate': 0.12662469930908551, 'n_estimators': 366, 'min_child_weight': 2, 'gamma': 0.7865360760689271, 'subsample': 0.2746799029841257, 'colsample_bytree': 0.6555687115951344, 'reg_alpha': 0.7124941370855453, 'reg_lambda': 0.15942565386347846}. Best is trial 14 with value: 0.8037383177570093.\u001b[0m\n",
            "\u001b[32m[I 2023-04-08 19:37:54,484]\u001b[0m Trial 16 finished with value: 0.8087706685837527 and parameters: {'max_depth': 2, 'learning_rate': 0.2249183515613708, 'n_estimators': 156, 'min_child_weight': 7, 'gamma': 0.4746943129363165, 'subsample': 0.6623887722083284, 'colsample_bytree': 0.4398538866089201, 'reg_alpha': 0.6743198031982589, 'reg_lambda': 0.15214891425179072}. Best is trial 16 with value: 0.8087706685837527.\u001b[0m\n",
            "\u001b[32m[I 2023-04-08 19:37:55,232]\u001b[0m Trial 17 finished with value: 0.7936736161035226 and parameters: {'max_depth': 1, 'learning_rate': 0.22246473442877868, 'n_estimators': 143, 'min_child_weight': 8, 'gamma': 0.4541368864777687, 'subsample': 0.22263272513442087, 'colsample_bytree': 0.3951718534578867, 'reg_alpha': 0.6658451347347532, 'reg_lambda': 0.24233586083027725}. Best is trial 16 with value: 0.8087706685837527.\u001b[0m\n",
            "\u001b[32m[I 2023-04-08 19:37:56,008]\u001b[0m Trial 18 finished with value: 0.8109273903666427 and parameters: {'max_depth': 2, 'learning_rate': 0.28450184096326414, 'n_estimators': 161, 'min_child_weight': 7, 'gamma': 0.5290190005676925, 'subsample': 0.6522134718485615, 'colsample_bytree': 0.46660536604485203, 'reg_alpha': 0.6346725321572362, 'reg_lambda': 0.3319264198360406}. Best is trial 18 with value: 0.8109273903666427.\u001b[0m\n",
            "\u001b[32m[I 2023-04-08 19:37:56,908]\u001b[0m Trial 19 finished with value: 0.8023005032350827 and parameters: {'max_depth': 2, 'learning_rate': 0.3236751493818999, 'n_estimators': 184, 'min_child_weight': 7, 'gamma': 0.5911701319514201, 'subsample': 0.688000922647544, 'colsample_bytree': 0.4567949795516838, 'reg_alpha': 0.6068388171791008, 'reg_lambda': 0.3782903702210686}. Best is trial 18 with value: 0.8109273903666427.\u001b[0m\n"
          ]
        },
        {
          "output_type": "stream",
          "name": "stdout",
          "text": [
            "\n",
            "==============================================\n",
            "Number of finished trials: 20\n",
            "Best trial:\n",
            "Value: 0.8109273903666427\n",
            "  Params: \n",
            "    max_depth: 2\n",
            "    learning_rate: 0.28450184096326414\n",
            "    n_estimators: 161\n",
            "    min_child_weight: 7\n",
            "    gamma: 0.5290190005676925\n",
            "    subsample: 0.6522134718485615\n",
            "    colsample_bytree: 0.46660536604485203\n",
            "    reg_alpha: 0.6346725321572362\n",
            "    reg_lambda: 0.3319264198360406\n",
            "==============================================\n",
            "\n",
            "Accuracy after tuning: 78.953421506613%\n",
            "\n",
            "Classification report\n",
            "              precision    recall  f1-score   support\n",
            "\n",
            "       False       0.80      0.77      0.78       861\n",
            "        True       0.78      0.81      0.80       878\n",
            "\n",
            "    accuracy                           0.79      1739\n",
            "   macro avg       0.79      0.79      0.79      1739\n",
            "weighted avg       0.79      0.79      0.79      1739\n",
            "\n",
            "\n",
            "Confusion matrix\n",
            "[[661 200]\n",
            " [166 712]]\n",
            "==============================================\n",
            "\n",
            "All features number: 90, Selected features number: 23\n",
            "Selected_features:\n",
            "\n",
            "HomePlanet_Earth\n",
            "HomePlanet_Europa\n",
            "CryoSleep_False\n",
            "CryoSleep_True\n",
            "Destination_55 Cancri e\n",
            "Cabin_deck_E\n",
            "Cabin_deck_G\n",
            "Cabin_side_S\n",
            "Cabin_num/100_0\n",
            "Cabin_num/100_4\n",
            "Cabin_num/100_9\n",
            "Cabin_num/100_10\n",
            "RService_deciles_1\n",
            "RService_deciles_10\n",
            "FCourt_deciles_7\n",
            "FCourt_deciles_10\n",
            "ShMall_deciles_10\n",
            "Spa_deciles_1\n",
            "Spa_deciles_9\n",
            "Spa_deciles_10\n",
            "VRD_deciles_1\n",
            "VRD_deciles_8\n",
            "VRD_deciles_10\n"
          ]
        }
      ]
    },
    {
      "cell_type": "code",
      "source": [
        "X_train, X_val, X_test, y_train, y_val, y_test = get_subsets(df_te)\n",
        "params = model_optimization(20, objective)\n",
        "model = XGBClassifier(**params)\n",
        "result_te_tuned = test_tuned_model(model, X_train, y_train, X_test, y_test)"
      ],
      "metadata": {
        "colab": {
          "base_uri": "https://localhost:8080/"
        },
        "id": "6aksOw3eSGpP",
        "outputId": "6fd8c711-eade-4164-d46e-f10c863649e1"
      },
      "execution_count": null,
      "outputs": [
        {
          "output_type": "stream",
          "name": "stderr",
          "text": [
            "\u001b[32m[I 2023-04-08 19:37:58,422]\u001b[0m A new study created in memory with name: no-name-a868e30d-0d96-4a74-9b02-2e1bed9c16d3\u001b[0m\n",
            "\u001b[32m[I 2023-04-08 19:37:58,650]\u001b[0m Trial 0 finished with value: 0.7872034507548527 and parameters: {'max_depth': 1, 'learning_rate': 0.29714135153671983, 'n_estimators': 205, 'min_child_weight': 10, 'gamma': 0.9672194949767091, 'subsample': 0.49589333777477024, 'colsample_bytree': 0.4638997382743321, 'reg_alpha': 0.21262760910805198, 'reg_lambda': 0.5585324819475308}. Best is trial 0 with value: 0.7872034507548527.\u001b[0m\n",
            "\u001b[32m[I 2023-04-08 19:37:59,868]\u001b[0m Trial 1 finished with value: 0.7706685837526959 and parameters: {'max_depth': 5, 'learning_rate': 0.49112520704754525, 'n_estimators': 352, 'min_child_weight': 5, 'gamma': 0.08522749367424255, 'subsample': 0.6382301199562852, 'colsample_bytree': 0.7354035577585725, 'reg_alpha': 0.7711256491284718, 'reg_lambda': 0.22797610730392556}. Best is trial 0 with value: 0.7872034507548527.\u001b[0m\n",
            "\u001b[32m[I 2023-04-08 19:38:00,237]\u001b[0m Trial 2 finished with value: 0.7620416966211359 and parameters: {'max_depth': 9, 'learning_rate': 0.9236773136161242, 'n_estimators': 105, 'min_child_weight': 6, 'gamma': 0.7543287531401501, 'subsample': 0.7902538335763477, 'colsample_bytree': 0.34124010864146487, 'reg_alpha': 0.040058075327154746, 'reg_lambda': 0.3799674344415457}. Best is trial 0 with value: 0.7872034507548527.\u001b[0m\n",
            "\u001b[32m[I 2023-04-08 19:38:00,541]\u001b[0m Trial 3 finished with value: 0.7915168943206327 and parameters: {'max_depth': 1, 'learning_rate': 0.12444488544138256, 'n_estimators': 305, 'min_child_weight': 8, 'gamma': 0.3001143768214738, 'subsample': 0.1873005191060181, 'colsample_bytree': 0.8820590121672642, 'reg_alpha': 0.16662945863334264, 'reg_lambda': 0.5548447440948933}. Best is trial 3 with value: 0.7915168943206327.\u001b[0m\n",
            "\u001b[32m[I 2023-04-08 19:38:01,331]\u001b[0m Trial 4 finished with value: 0.8023005032350827 and parameters: {'max_depth': 8, 'learning_rate': 0.2970586427741798, 'n_estimators': 296, 'min_child_weight': 2, 'gamma': 0.2576939221821858, 'subsample': 0.9662874973813795, 'colsample_bytree': 0.28279804074495146, 'reg_alpha': 0.839829659044996, 'reg_lambda': 0.030383086941659615}. Best is trial 4 with value: 0.8023005032350827.\u001b[0m\n",
            "\u001b[32m[I 2023-04-08 19:38:01,833]\u001b[0m Trial 5 finished with value: 0.7994248741912293 and parameters: {'max_depth': 4, 'learning_rate': 0.12555688864038295, 'n_estimators': 414, 'min_child_weight': 9, 'gamma': 0.7131417135133884, 'subsample': 0.7282583515332475, 'colsample_bytree': 0.06216404225286126, 'reg_alpha': 0.41317471987827964, 'reg_lambda': 0.37257651310090645}. Best is trial 4 with value: 0.8023005032350827.\u001b[0m\n",
            "\u001b[32m[I 2023-04-08 19:38:02,436]\u001b[0m Trial 6 finished with value: 0.7843278217109992 and parameters: {'max_depth': 4, 'learning_rate': 0.43606175295222677, 'n_estimators': 250, 'min_child_weight': 10, 'gamma': 0.6168963379785878, 'subsample': 0.5760156398757559, 'colsample_bytree': 0.5943585510232584, 'reg_alpha': 0.7585576934684352, 'reg_lambda': 0.6444959715037198}. Best is trial 4 with value: 0.8023005032350827.\u001b[0m\n",
            "\u001b[32m[I 2023-04-08 19:38:03,097]\u001b[0m Trial 7 finished with value: 0.7864845434938893 and parameters: {'max_depth': 7, 'learning_rate': 0.7422288540482228, 'n_estimators': 162, 'min_child_weight': 5, 'gamma': 0.4859940446742578, 'subsample': 0.6929394881024815, 'colsample_bytree': 0.5620300611909831, 'reg_alpha': 0.2032426140824405, 'reg_lambda': 0.5057514685735747}. Best is trial 4 with value: 0.8023005032350827.\u001b[0m\n",
            "\u001b[32m[I 2023-04-08 19:38:03,808]\u001b[0m Trial 8 finished with value: 0.7872034507548527 and parameters: {'max_depth': 8, 'learning_rate': 0.33054910583893615, 'n_estimators': 243, 'min_child_weight': 6, 'gamma': 0.1765496231860154, 'subsample': 0.6247929243815434, 'colsample_bytree': 0.2146517494277532, 'reg_alpha': 0.2909584180466748, 'reg_lambda': 0.1583521383163225}. Best is trial 4 with value: 0.8023005032350827.\u001b[0m\n",
            "\u001b[32m[I 2023-04-08 19:38:04,488]\u001b[0m Trial 9 finished with value: 0.7512580877066858 and parameters: {'max_depth': 8, 'learning_rate': 0.6788221093930977, 'n_estimators': 230, 'min_child_weight': 5, 'gamma': 0.7453092276619925, 'subsample': 0.2443258300952287, 'colsample_bytree': 0.5552976855283527, 'reg_alpha': 0.5638441939928674, 'reg_lambda': 0.24228763247287602}. Best is trial 4 with value: 0.8023005032350827.\u001b[0m\n",
            "\u001b[32m[I 2023-04-08 19:38:05,088]\u001b[0m Trial 10 finished with value: 0.7886412652767792 and parameters: {'max_depth': 6, 'learning_rate': 0.0319817056340993, 'n_estimators': 473, 'min_child_weight': 1, 'gamma': 0.007105591530802202, 'subsample': 0.9891150133066527, 'colsample_bytree': 0.029754561880572072, 'reg_alpha': 0.9949028978124422, 'reg_lambda': 0.01703217373479988}. Best is trial 4 with value: 0.8023005032350827.\u001b[0m\n",
            "\u001b[32m[I 2023-04-08 19:38:08,200]\u001b[0m Trial 11 finished with value: 0.7936736161035226 and parameters: {'max_depth': 3, 'learning_rate': 0.1807558444320007, 'n_estimators': 409, 'min_child_weight': 1, 'gamma': 0.34884640815995227, 'subsample': 0.9813068779163876, 'colsample_bytree': 0.03123702900355324, 'reg_alpha': 0.44962591077002984, 'reg_lambda': 0.857537205113285}. Best is trial 4 with value: 0.8023005032350827.\u001b[0m\n",
            "\u001b[32m[I 2023-04-08 19:38:08,764]\u001b[0m Trial 12 finished with value: 0.7915168943206327 and parameters: {'max_depth': 3, 'learning_rate': 0.014113106426410282, 'n_estimators': 389, 'min_child_weight': 3, 'gamma': 0.4345017747520252, 'subsample': 0.8735280360824518, 'colsample_bytree': 0.23134924563777892, 'reg_alpha': 0.4383302848575863, 'reg_lambda': 0.004663451714871026}. Best is trial 4 with value: 0.8023005032350827.\u001b[0m\n",
            "\u001b[32m[I 2023-04-08 19:38:09,861]\u001b[0m Trial 13 finished with value: 0.792235801581596 and parameters: {'max_depth': 6, 'learning_rate': 0.23640652572492277, 'n_estimators': 476, 'min_child_weight': 8, 'gamma': 0.21317354373207087, 'subsample': 0.7840583715365842, 'colsample_bytree': 0.23730437825690487, 'reg_alpha': 0.6332424397246474, 'reg_lambda': 0.37418169936219126}. Best is trial 4 with value: 0.8023005032350827.\u001b[0m\n",
            "\u001b[32m[I 2023-04-08 19:38:10,261]\u001b[0m Trial 14 finished with value: 0.7951114306254493 and parameters: {'max_depth': 4, 'learning_rate': 0.37870456596148167, 'n_estimators': 320, 'min_child_weight': 3, 'gamma': 0.6310590152413516, 'subsample': 0.8662960296348166, 'colsample_bytree': 0.1194421706490264, 'reg_alpha': 0.4010347542763681, 'reg_lambda': 0.1266283035963565}. Best is trial 4 with value: 0.8023005032350827.\u001b[0m\n",
            "\u001b[32m[I 2023-04-08 19:38:11,410]\u001b[0m Trial 15 finished with value: 0.7872034507548527 and parameters: {'max_depth': 6, 'learning_rate': 0.1372151335092874, 'n_estimators': 411, 'min_child_weight': 8, 'gamma': 0.318071702015744, 'subsample': 0.4254643297301683, 'colsample_bytree': 0.3735873058502832, 'reg_alpha': 0.9518577506796586, 'reg_lambda': 0.32918424226867976}. Best is trial 4 with value: 0.8023005032350827.\u001b[0m\n",
            "\u001b[32m[I 2023-04-08 19:38:11,521]\u001b[0m Trial 16 finished with value: 0.7828900071890726 and parameters: {'max_depth': 9, 'learning_rate': 0.2552051115263634, 'n_estimators': 69, 'min_child_weight': 3, 'gamma': 0.41211536607335897, 'subsample': 0.05147939565324061, 'colsample_bytree': 0.1189525101399948, 'reg_alpha': 0.5982412585193314, 'reg_lambda': 0.09082591271346052}. Best is trial 4 with value: 0.8023005032350827.\u001b[0m\n",
            "\u001b[32m[I 2023-04-08 19:38:11,979]\u001b[0m Trial 17 finished with value: 0.7929547088425594 and parameters: {'max_depth': 2, 'learning_rate': 0.3967589747232274, 'n_estimators': 355, 'min_child_weight': 7, 'gamma': 0.5602785958815694, 'subsample': 0.7479728580304169, 'colsample_bytree': 0.34121921328197297, 'reg_alpha': 0.7414968246555497, 'reg_lambda': 0.2702259723655085}. Best is trial 4 with value: 0.8023005032350827.\u001b[0m\n",
            "\u001b[32m[I 2023-04-08 19:38:12,314]\u001b[0m Trial 18 finished with value: 0.798705966930266 and parameters: {'max_depth': 5, 'learning_rate': 0.17178646192328043, 'n_estimators': 170, 'min_child_weight': 2, 'gamma': 0.23923615998998582, 'subsample': 0.8918479298629609, 'colsample_bytree': 0.1615625190450354, 'reg_alpha': 0.36537882627678137, 'reg_lambda': 0.3867517552350687}. Best is trial 4 with value: 0.8023005032350827.\u001b[0m\n",
            "\u001b[32m[I 2023-04-08 19:38:12,922]\u001b[0m Trial 19 finished with value: 0.7951114306254493 and parameters: {'max_depth': 7, 'learning_rate': 0.5820640063313341, 'n_estimators': 494, 'min_child_weight': 4, 'gamma': 0.15108794711173731, 'subsample': 0.9975003392658233, 'colsample_bytree': 0.012223303467764068, 'reg_alpha': 0.5497496665635173, 'reg_lambda': 0.16431571400819867}. Best is trial 4 with value: 0.8023005032350827.\u001b[0m\n"
          ]
        },
        {
          "output_type": "stream",
          "name": "stdout",
          "text": [
            "\n",
            "==============================================\n",
            "Number of finished trials: 20\n",
            "Best trial:\n",
            "Value: 0.8023005032350827\n",
            "  Params: \n",
            "    max_depth: 8\n",
            "    learning_rate: 0.2970586427741798\n",
            "    n_estimators: 296\n",
            "    min_child_weight: 2\n",
            "    gamma: 0.2576939221821858\n",
            "    subsample: 0.9662874973813795\n",
            "    colsample_bytree: 0.28279804074495146\n",
            "    reg_alpha: 0.839829659044996\n",
            "    reg_lambda: 0.030383086941659615\n",
            "==============================================\n",
            "\n",
            "Accuracy after tuning: 78.205865439908%\n",
            "\n",
            "Classification report\n",
            "              precision    recall  f1-score   support\n",
            "\n",
            "       False       0.79      0.77      0.78       861\n",
            "        True       0.78      0.79      0.79       878\n",
            "\n",
            "    accuracy                           0.78      1739\n",
            "   macro avg       0.78      0.78      0.78      1739\n",
            "weighted avg       0.78      0.78      0.78      1739\n",
            "\n",
            "\n",
            "Confusion matrix\n",
            "[[663 198]\n",
            " [181 697]]\n",
            "==============================================\n",
            "\n",
            "All features number: 14, Selected features number: 3\n",
            "Selected_features:\n",
            "\n",
            "CryoSleep_transformed\n",
            "Spa_deciles_transformed\n",
            "VRD_deciles_transformed\n"
          ]
        }
      ]
    },
    {
      "cell_type": "code",
      "source": [
        "X_train, X_val, X_test, y_train, y_val, y_test = get_subsets(df_looe)\n",
        "params = model_optimization(20, objective)\n",
        "model = XGBClassifier(**params)\n",
        "result_looe_tuned = test_tuned_model(model, X_train, y_train, X_test, y_test)"
      ],
      "metadata": {
        "colab": {
          "base_uri": "https://localhost:8080/"
        },
        "id": "guCNo3j-SJ2-",
        "outputId": "d28af431-49b5-4ca7-a076-e2fcd6e38e44"
      },
      "execution_count": null,
      "outputs": [
        {
          "output_type": "stream",
          "name": "stderr",
          "text": [
            "\u001b[32m[I 2023-04-08 19:38:14,599]\u001b[0m A new study created in memory with name: no-name-9b9bdd6e-8583-439b-a7c0-04b018191c7b\u001b[0m\n",
            "\u001b[32m[I 2023-04-08 19:38:15,089]\u001b[0m Trial 0 finished with value: 0.7850467289719626 and parameters: {'max_depth': 3, 'learning_rate': 0.022467684809623318, 'n_estimators': 357, 'min_child_weight': 8, 'gamma': 0.24820713739772213, 'subsample': 0.12260223542264276, 'colsample_bytree': 0.24876926497909196, 'reg_alpha': 0.1545871134637757, 'reg_lambda': 0.5925837065290229}. Best is trial 0 with value: 0.7850467289719626.\u001b[0m\n",
            "\u001b[32m[I 2023-04-08 19:38:15,480]\u001b[0m Trial 1 finished with value: 0.6693026599568656 and parameters: {'max_depth': 8, 'learning_rate': 0.9980662026044518, 'n_estimators': 448, 'min_child_weight': 4, 'gamma': 0.7158447564982988, 'subsample': 0.03887408044917695, 'colsample_bytree': 0.040696465119759925, 'reg_alpha': 0.38530769529839737, 'reg_lambda': 0.824800719847644}. Best is trial 0 with value: 0.7850467289719626.\u001b[0m\n",
            "\u001b[32m[I 2023-04-08 19:38:18,242]\u001b[0m Trial 2 finished with value: 0.7692307692307693 and parameters: {'max_depth': 7, 'learning_rate': 0.2837600289884049, 'n_estimators': 351, 'min_child_weight': 7, 'gamma': 0.5582603477303508, 'subsample': 0.9344581904143042, 'colsample_bytree': 0.4572845294732377, 'reg_alpha': 0.852048874342425, 'reg_lambda': 0.7700251580998829}. Best is trial 0 with value: 0.7850467289719626.\u001b[0m\n",
            "\u001b[32m[I 2023-04-08 19:38:22,062]\u001b[0m Trial 3 finished with value: 0.7145938173975557 and parameters: {'max_depth': 9, 'learning_rate': 0.9347117179090049, 'n_estimators': 407, 'min_child_weight': 1, 'gamma': 0.3148322197542877, 'subsample': 0.24546018902612554, 'colsample_bytree': 0.714999176176824, 'reg_alpha': 0.7922516041297362, 'reg_lambda': 0.4354911805918034}. Best is trial 0 with value: 0.7850467289719626.\u001b[0m\n",
            "\u001b[32m[I 2023-04-08 19:38:23,498]\u001b[0m Trial 4 finished with value: 0.7656362329259525 and parameters: {'max_depth': 9, 'learning_rate': 0.15431068469348788, 'n_estimators': 351, 'min_child_weight': 4, 'gamma': 0.43677680781955547, 'subsample': 0.6196909591485815, 'colsample_bytree': 0.20930019310219095, 'reg_alpha': 0.2438651472203153, 'reg_lambda': 0.7967401052473536}. Best is trial 0 with value: 0.7850467289719626.\u001b[0m\n",
            "\u001b[32m[I 2023-04-08 19:38:25,142]\u001b[0m Trial 5 finished with value: 0.7742631200575126 and parameters: {'max_depth': 4, 'learning_rate': 0.15256110131841719, 'n_estimators': 436, 'min_child_weight': 3, 'gamma': 0.8277792853629551, 'subsample': 0.49230322739121907, 'colsample_bytree': 0.46863145232734926, 'reg_alpha': 0.26182721426045774, 'reg_lambda': 0.76891185616407}. Best is trial 0 with value: 0.7850467289719626.\u001b[0m\n",
            "\u001b[32m[I 2023-04-08 19:38:27,575]\u001b[0m Trial 6 finished with value: 0.7749820273184759 and parameters: {'max_depth': 9, 'learning_rate': 0.1071411943377793, 'n_estimators': 304, 'min_child_weight': 8, 'gamma': 0.9045082366602645, 'subsample': 0.5553995024709824, 'colsample_bytree': 0.5260065072416688, 'reg_alpha': 0.8546790703464958, 'reg_lambda': 0.9544007632371472}. Best is trial 0 with value: 0.7850467289719626.\u001b[0m\n",
            "\u001b[32m[I 2023-04-08 19:38:28,270]\u001b[0m Trial 7 finished with value: 0.698058950395399 and parameters: {'max_depth': 7, 'learning_rate': 0.41122030253244124, 'n_estimators': 350, 'min_child_weight': 1, 'gamma': 0.2694767259372675, 'subsample': 0.07177020362717043, 'colsample_bytree': 0.22547261447085643, 'reg_alpha': 0.09580632354098148, 'reg_lambda': 0.6715021523586739}. Best is trial 0 with value: 0.7850467289719626.\u001b[0m\n",
            "\u001b[32m[I 2023-04-08 19:38:30,140]\u001b[0m Trial 8 finished with value: 0.7649173256649893 and parameters: {'max_depth': 8, 'learning_rate': 0.6128360300796022, 'n_estimators': 294, 'min_child_weight': 5, 'gamma': 0.2220679606278088, 'subsample': 0.8521133326980733, 'colsample_bytree': 0.39616968361129945, 'reg_alpha': 0.7679316968149982, 'reg_lambda': 0.3812906602003054}. Best is trial 0 with value: 0.7850467289719626.\u001b[0m\n",
            "\u001b[32m[I 2023-04-08 19:38:34,511]\u001b[0m Trial 9 finished with value: 0.7275341480948958 and parameters: {'max_depth': 7, 'learning_rate': 0.45103179273593597, 'n_estimators': 404, 'min_child_weight': 3, 'gamma': 0.9769820808139994, 'subsample': 0.266817011679508, 'colsample_bytree': 0.5077601493375958, 'reg_alpha': 0.08417069685254074, 'reg_lambda': 0.3053762285161296}. Best is trial 0 with value: 0.7850467289719626.\u001b[0m\n",
            "\u001b[32m[I 2023-04-08 19:38:34,774]\u001b[0m Trial 10 finished with value: 0.7828900071890726 and parameters: {'max_depth': 1, 'learning_rate': 0.07156613815882373, 'n_estimators': 139, 'min_child_weight': 10, 'gamma': 0.004988687763363531, 'subsample': 0.255923566169618, 'colsample_bytree': 0.9447867955808815, 'reg_alpha': 0.013341932687408686, 'reg_lambda': 0.13062480110630542}. Best is trial 0 with value: 0.7850467289719626.\u001b[0m\n",
            "\u001b[32m[I 2023-04-08 19:38:35,080]\u001b[0m Trial 11 finished with value: 0.7541337167505392 and parameters: {'max_depth': 1, 'learning_rate': 0.022069844716692516, 'n_estimators': 148, 'min_child_weight': 10, 'gamma': 0.011701449959858707, 'subsample': 0.25011252882291746, 'colsample_bytree': 0.9970975615846109, 'reg_alpha': 0.013742005449806053, 'reg_lambda': 0.0450207102751598}. Best is trial 0 with value: 0.7850467289719626.\u001b[0m\n",
            "\u001b[32m[I 2023-04-08 19:38:35,334]\u001b[0m Trial 12 finished with value: 0.7368799424874192 and parameters: {'max_depth': 1, 'learning_rate': 0.01387365790261077, 'n_estimators': 158, 'min_child_weight': 10, 'gamma': 0.026363110496849335, 'subsample': 0.1613191774265997, 'colsample_bytree': 0.8861653990622922, 'reg_alpha': 0.011086715460966814, 'reg_lambda': 0.5743977324831311}. Best is trial 0 with value: 0.7850467289719626.\u001b[0m\n",
            "\u001b[32m[I 2023-04-08 19:38:35,635]\u001b[0m Trial 13 finished with value: 0.783608914450036 and parameters: {'max_depth': 3, 'learning_rate': 0.2611200421712958, 'n_estimators': 74, 'min_child_weight': 8, 'gamma': 0.12952996429254598, 'subsample': 0.35745417108868316, 'colsample_bytree': 0.7310540835125752, 'reg_alpha': 0.2134050210380128, 'reg_lambda': 0.2156586808002888}. Best is trial 0 with value: 0.7850467289719626.\u001b[0m\n",
            "\u001b[32m[I 2023-04-08 19:38:35,896]\u001b[0m Trial 14 finished with value: 0.7800143781452192 and parameters: {'max_depth': 3, 'learning_rate': 0.27804605784494313, 'n_estimators': 53, 'min_child_weight': 8, 'gamma': 0.13252276675604097, 'subsample': 0.4215863645193137, 'colsample_bytree': 0.7827236191398336, 'reg_alpha': 0.5210660462156853, 'reg_lambda': 0.24896390668623292}. Best is trial 0 with value: 0.7850467289719626.\u001b[0m\n",
            "\u001b[32m[I 2023-04-08 19:38:36,712]\u001b[0m Trial 15 finished with value: 0.7778576563623293 and parameters: {'max_depth': 3, 'learning_rate': 0.26466257034112317, 'n_estimators': 231, 'min_child_weight': 7, 'gamma': 0.39910021171899757, 'subsample': 0.38085320618369106, 'colsample_bytree': 0.6474460895200399, 'reg_alpha': 0.21114754086494208, 'reg_lambda': 0.532843765085456}. Best is trial 0 with value: 0.7850467289719626.\u001b[0m\n",
            "\u001b[32m[I 2023-04-08 19:38:37,431]\u001b[0m Trial 16 finished with value: 0.7447879223580158 and parameters: {'max_depth': 5, 'learning_rate': 0.17516833882886118, 'n_estimators': 499, 'min_child_weight': 8, 'gamma': 0.1254151258662934, 'subsample': 0.045503245715680915, 'colsample_bytree': 0.6184478213548829, 'reg_alpha': 0.39546331515668676, 'reg_lambda': 0.45659383617696336}. Best is trial 0 with value: 0.7850467289719626.\u001b[0m\n",
            "\u001b[32m[I 2023-04-08 19:38:38,245]\u001b[0m Trial 17 finished with value: 0.7728253055355859 and parameters: {'max_depth': 3, 'learning_rate': 0.36202456286183404, 'n_estimators': 217, 'min_child_weight': 6, 'gamma': 0.19039173436215018, 'subsample': 0.34517791128370534, 'colsample_bytree': 0.8072265248325132, 'reg_alpha': 0.17495816910652504, 'reg_lambda': 0.18469412092329957}. Best is trial 0 with value: 0.7850467289719626.\u001b[0m\n",
            "\u001b[32m[I 2023-04-08 19:38:38,456]\u001b[0m Trial 18 finished with value: 0.7634795111430626 and parameters: {'max_depth': 5, 'learning_rate': 0.20570020826136917, 'n_estimators': 84, 'min_child_weight': 9, 'gamma': 0.3407616056928146, 'subsample': 0.13756919903530015, 'colsample_bytree': 0.3513667358178107, 'reg_alpha': 0.357077711858408, 'reg_lambda': 0.3278881954564502}. Best is trial 0 with value: 0.7850467289719626.\u001b[0m\n",
            "\u001b[32m[I 2023-04-08 19:38:38,891]\u001b[0m Trial 19 finished with value: 0.7332854061826024 and parameters: {'max_depth': 2, 'learning_rate': 0.5192557065340904, 'n_estimators': 227, 'min_child_weight': 6, 'gamma': 0.48449478609383434, 'subsample': 0.14438795586977254, 'colsample_bytree': 0.8143648682552553, 'reg_alpha': 0.5191900818306064, 'reg_lambda': 0.5703407592573799}. Best is trial 0 with value: 0.7850467289719626.\u001b[0m\n"
          ]
        },
        {
          "output_type": "stream",
          "name": "stdout",
          "text": [
            "\n",
            "==============================================\n",
            "Number of finished trials: 20\n",
            "Best trial:\n",
            "Value: 0.7850467289719626\n",
            "  Params: \n",
            "    max_depth: 3\n",
            "    learning_rate: 0.022467684809623318\n",
            "    n_estimators: 357\n",
            "    min_child_weight: 8\n",
            "    gamma: 0.24820713739772213\n",
            "    subsample: 0.12260223542264276\n",
            "    colsample_bytree: 0.24876926497909196\n",
            "    reg_alpha: 0.1545871134637757\n",
            "    reg_lambda: 0.5925837065290229\n",
            "==============================================\n",
            "\n",
            "Accuracy after tuning: 77.17078780908568%\n",
            "\n",
            "Classification report\n",
            "              precision    recall  f1-score   support\n",
            "\n",
            "       False       0.77      0.77      0.77       861\n",
            "        True       0.77      0.77      0.77       878\n",
            "\n",
            "    accuracy                           0.77      1739\n",
            "   macro avg       0.77      0.77      0.77      1739\n",
            "weighted avg       0.77      0.77      0.77      1739\n",
            "\n",
            "\n",
            "Confusion matrix\n",
            "[[662 199]\n",
            " [198 680]]\n",
            "==============================================\n",
            "\n",
            "All features number: 14, Selected features number: 5\n",
            "Selected_features:\n",
            "\n",
            "CryoSleep_transformed\n",
            "RService_deciles_transformed\n",
            "ShMall_deciles_transformed\n",
            "Spa_deciles_transformed\n",
            "VRD_deciles_transformed\n"
          ]
        }
      ]
    },
    {
      "cell_type": "markdown",
      "source": [
        "# Save results"
      ],
      "metadata": {
        "id": "iesZ2BSqPSWk"
      }
    },
    {
      "cell_type": "code",
      "source": [
        "data = []\n",
        "data.append(['XGBoostClassifier', 'OHE', acc_ohe_ini, result_ohe_tuned[0], str(result_ohe_tuned[1])+\" / 90\"])\n",
        "data.append(['XGBoostClassifier', 'TE', acc_te_ini, result_te_tuned[0], str(result_te_tuned[1])+\" / 14\"])\n",
        "data.append(['XGBoostClassifier', 'LOOE', acc_looe_ini, result_looe_tuned[0], str(result_looe_tuned[1])+\" / 14\"])"
      ],
      "metadata": {
        "id": "lMWahdRkXEOJ"
      },
      "execution_count": null,
      "outputs": []
    },
    {
      "cell_type": "code",
      "source": [
        "import csv\n",
        "from os.path import exists\n",
        "resfile = 'spaceship_results.csv'"
      ],
      "metadata": {
        "id": "mt3MGfAmXOxJ"
      },
      "execution_count": null,
      "outputs": []
    },
    {
      "cell_type": "code",
      "source": [
        "if exists(resfile):\n",
        "  f = open(resfile, 'a')\n",
        "  writer = csv.writer(f)\n",
        "else:\n",
        "  header = ['Model', 'Categories_encoding', 'Initial_accuracy', 'Tuned_Accuracy', 'Important_Features']\n",
        "  f = open(resfile, 'w', newline='')\n",
        "  writer = csv.writer(f)\n",
        "  writer.writerow(header)\n",
        "\n",
        "writer.writerows(data)\n",
        "f.close()"
      ],
      "metadata": {
        "id": "Br5kFigfXRC6"
      },
      "execution_count": null,
      "outputs": []
    }
  ]
}