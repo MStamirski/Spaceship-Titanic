{
  "nbformat": 4,
  "nbformat_minor": 0,
  "metadata": {
    "colab": {
      "provenance": [],
      "authorship_tag": "ABX9TyNraGbaDsVIUSB8AOumpuIH",
      "include_colab_link": true
    },
    "kernelspec": {
      "name": "python3",
      "display_name": "Python 3"
    },
    "language_info": {
      "name": "python"
    },
    "gpuClass": "standard"
  },
  "cells": [
    {
      "cell_type": "markdown",
      "metadata": {
        "id": "view-in-github",
        "colab_type": "text"
      },
      "source": [
        "<a href=\"https://colab.research.google.com/github/MStamirski/Spaceship-Titanic/blob/main/Optimization.ipynb\" target=\"_parent\"><img src=\"https://colab.research.google.com/assets/colab-badge.svg\" alt=\"Open In Colab\"/></a>"
      ]
    },
    {
      "cell_type": "code",
      "source": [
        "from sklearn.model_selection import train_test_split\n",
        "from sklearn.metrics import accuracy_score, classification_report, confusion_matrix\n",
        "from sklearn.feature_selection import SelectFromModel"
      ],
      "metadata": {
        "id": "4PzCiWibdxpU"
      },
      "execution_count": null,
      "outputs": []
    },
    {
      "cell_type": "code",
      "source": [
        "!pip install optuna"
      ],
      "metadata": {
        "id": "gYTWssuKq9Ud"
      },
      "execution_count": null,
      "outputs": []
    },
    {
      "cell_type": "code",
      "source": [
        "import optuna"
      ],
      "metadata": {
        "id": "t4PucCcawNEj"
      },
      "execution_count": null,
      "outputs": []
    },
    {
      "cell_type": "code",
      "source": [
        "def verify_feature_dataset(dataset, model):\n",
        "  df = dataset.copy()\n",
        "  X = df.drop(columns=['PassengerId', 'Transported'])\n",
        "  y = df['Transported']\n",
        "  X_train, X_test, y_train, y_test = train_test_split(X, y, test_size = 0.3, random_state=42)\n",
        "  model.fit(X_train, y_train)\n",
        "  y_pred = model.predict(X_test)\n",
        "  accuracy = accuracy_score(y_test, y_pred)\n",
        "  print(f\"Accuracy: {accuracy*100}%\")\n",
        "  return accuracy"
      ],
      "metadata": {
        "id": "_-EUc7x6YXPI"
      },
      "execution_count": null,
      "outputs": []
    },
    {
      "cell_type": "code",
      "source": [
        "def get_subsets(dataset):\n",
        "  X = dataset.drop(columns=['PassengerId', 'Transported'])\n",
        "  y = dataset['Transported']\n",
        "  X_train, X_test, y_train, y_test = train_test_split(X, y, test_size = 0.2, random_state=42)\n",
        "  X_train, X_val, y_train, y_val = train_test_split(X_train, y_train, test_size = 0.2, random_state=43)\n",
        "  return X_train, X_val, X_test, y_train, y_val, y_test"
      ],
      "metadata": {
        "id": "KJYiSR6upSGW"
      },
      "execution_count": null,
      "outputs": []
    },
    {
      "cell_type": "code",
      "source": [
        "def best_parameters(study):\n",
        "  print(\"\\n==============================================\")\n",
        "  print(f\"Number of finished trials: {len(study.trials)}\")\n",
        "  print('Best trial:')\n",
        "  trial = study.best_trial\n",
        "  print(f\"Value: {trial.value}\")\n",
        "  print('  Params: ')\n",
        "  for key, value in trial.params.items():\n",
        "    print(f\"    {key}: {value}\")\n",
        "  print(\"==============================================\")\n",
        "  return trial.params"
      ],
      "metadata": {
        "id": "Zlo_UJ8a0Q5R"
      },
      "execution_count": null,
      "outputs": []
    },
    {
      "cell_type": "code",
      "source": [
        "def model_optimization(trials, objective, samp=None):\n",
        "  if samp!=None:\n",
        "    study = optuna.create_study(direction='maximize', sampler=samp)\n",
        "  else:\n",
        "    study = optuna.create_study(direction='maximize')\n",
        "  \n",
        "  study.optimize(objective, n_trials=trials)\n",
        "  params = best_parameters(study)\n",
        "  return params"
      ],
      "metadata": {
        "id": "VIdYWrljzgtx"
      },
      "execution_count": null,
      "outputs": []
    },
    {
      "cell_type": "code",
      "source": [
        "def test_tuned_model(model, X_train, y_train, X_test, y_test):\n",
        "  model.fit(X_train, y_train)\n",
        "  y_pred = model.predict(X_test)\n",
        "  accuracy = accuracy_score(y_test, y_pred)\n",
        "  print(f\"\\nAccuracy after tuning: {accuracy*100}%\")\n",
        "  print(\"\\nClassification report\")\n",
        "  print(classification_report(y_test, y_pred))\n",
        "  print(\"\\nConfusion matrix\")\n",
        "  print(confusion_matrix(y_test, y_pred))\n",
        "  print(\"==============================================\")\n",
        "\n",
        "  selector = SelectFromModel(model)\n",
        "  selector.fit(X_train, y_train)\n",
        "  status = selector.get_support()\n",
        "  all_features = X_train.columns\n",
        "  selected_features = X_train.columns[status].tolist()\n",
        "  print(f\"\\nAll features number: {len(all_features)}, Selected features number: {len(selected_features)}\")\n",
        "  print(\"Selected_features:\\n\")\n",
        "  for feature in selected_features:\n",
        "    print(feature)\n",
        "\n",
        "  return accuracy, len(selected_features)"
      ],
      "metadata": {
        "id": "gkoz-c_Az77A"
      },
      "execution_count": null,
      "outputs": []
    }
  ]
}